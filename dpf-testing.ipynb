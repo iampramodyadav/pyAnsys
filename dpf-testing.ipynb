{
 "cells": [
  {
   "cell_type": "code",
   "execution_count": 1,
   "id": "4de6dfff",
   "metadata": {
    "ExecuteTime": {
     "end_time": "2023-07-26T07:46:01.896371Z",
     "start_time": "2023-07-26T07:46:01.889368Z"
    },
    "editable": true,
    "slideshow": {
     "slide_type": ""
    },
    "tags": []
   },
   "outputs": [],
   "source": [
    "# from ansys.dpf import post\n",
    "# rstpath=r'K:\\Groups\\ONGDSGE1\\MDT\\TR01\\GR02\\MSBH\\Bond_Fmmin\\04a\\000PDP1G_LC6001\\MDT_000PDP1G_LC6001.rst'"
   ]
  },
  {
   "cell_type": "code",
   "execution_count": 2,
   "id": "50b2ff8c",
   "metadata": {
    "ExecuteTime": {
     "end_time": "2023-07-27T08:46:37.715857Z",
     "start_time": "2023-07-27T08:46:37.706852Z"
    },
    "editable": true,
    "slideshow": {
     "slide_type": ""
    },
    "tags": []
   },
   "outputs": [],
   "source": [
    "# examples.find_simple_bar()\n",
    "# 'C:\\\\Users\\\\pramod.kumar\\\\PythonEnv\\\\myenv\\\\lib\\\\site-packages\\\\ansys\\\\dpf\\\\core\\\\examples\\\\ASimpleBar.rst'"
   ]
  },
  {
   "cell_type": "markdown",
   "id": "f88a7d18-7ba5-4b0c-8e9d-487cb14f351c",
   "metadata": {},
   "source": [
    "## Example rst (core)"
   ]
  },
  {
   "cell_type": "code",
   "execution_count": 15,
   "id": "dbee4a9f",
   "metadata": {
    "ExecuteTime": {
     "end_time": "2023-07-27T08:58:43.466058Z",
     "start_time": "2023-07-27T08:58:43.431055Z"
    }
   },
   "outputs": [
    {
     "name": "stdout",
     "output_type": "stream",
     "text": [
      "DPF Model\n",
      "------------------------------\n",
      "Static analysis\n",
      "Unit system: MKS: m, kg, N, s, V, A, degC\n",
      "Physics Type: Mecanic\n",
      "Available results:\n",
      "     -  displacement: Nodal Displacement\n",
      "     -  element_nodal_forces: ElementalNodal Element nodal Forces\n",
      "     -  elemental_volume: Elemental Volume\n",
      "     -  stiffness_matrix_energy: Elemental Energy-stiffness matrix\n",
      "     -  artificial_hourglass_energy: Elemental Hourglass Energy\n",
      "     -  thermal_dissipation_energy: Elemental thermal dissipation energy\n",
      "     -  kinetic_energy: Elemental Kinetic Energy\n",
      "     -  co_energy: Elemental co-energy\n",
      "     -  incremental_energy: Elemental incremental energy\n",
      "     -  structural_temperature: ElementalNodal Temperature\n",
      "------------------------------\n",
      "DPF  Meshed Region: \n",
      "  3751 nodes \n",
      "  3000 elements \n",
      "  Unit: m \n",
      "  With solid (3D) elements\n",
      "------------------------------\n",
      "DPF  Time/Freq Support: \n",
      "  Number of sets: 1 \n",
      "Cumulative     Time (s)       LoadStep       Substep         \n",
      "1              1.000000       1              1               \n",
      "\n"
     ]
    }
   ],
   "source": [
    "from ansys.dpf import core as dpf\n",
    "# from ansys.dpf.core import examples\n",
    "# rstpath= examples.find_simple_bar() \n",
    "#'C:\\\\Users\\\\pramod.kumar\\\\PythonEnv\\\\myenv\\\\lib\\\\site-packages\\\\ansys\\\\dpf\\\\core\\\\examples\\\\ASimpleBar.rst'\n",
    "rstpath= r'C:\\Users\\pramod.kumar\\Desktop\\ASimpleBar.rst'\n",
    "model = dpf.Model(rstpath)\n",
    "print(model)"
   ]
  },
  {
   "cell_type": "code",
   "execution_count": 16,
   "id": "8aa2744e-4780-46bb-88b6-00626666afd7",
   "metadata": {},
   "outputs": [
    {
     "data": {
      "text/plain": [
       "'4.0'"
      ]
     },
     "execution_count": 16,
     "metadata": {},
     "output_type": "execute_result"
    }
   ],
   "source": [
    "model._server.version"
   ]
  },
  {
   "cell_type": "code",
   "execution_count": 17,
   "id": "1847bb53-e349-451c-8894-cc45b3ca81ec",
   "metadata": {},
   "outputs": [
    {
     "data": {
      "text/plain": [
       "{'server_ip': '',\n",
       " 'server_port': None,\n",
       " 'server_process_id': 3308,\n",
       " 'server_version': '4.0',\n",
       " 'os': 'nt'}"
      ]
     },
     "execution_count": 17,
     "metadata": {},
     "output_type": "execute_result"
    }
   ],
   "source": [
    "model._server.info"
   ]
  },
  {
   "cell_type": "code",
   "execution_count": null,
   "id": "4e502d08-790c-4317-98cd-e6b70d1bcf79",
   "metadata": {},
   "outputs": [],
   "source": []
  },
  {
   "cell_type": "code",
   "execution_count": null,
   "id": "59be530b-3030-4bdc-bdd9-bd83db533671",
   "metadata": {},
   "outputs": [],
   "source": []
  },
  {
   "cell_type": "code",
   "execution_count": null,
   "id": "857139b7-481a-4929-95e1-79762a9dc829",
   "metadata": {},
   "outputs": [],
   "source": []
  },
  {
   "cell_type": "markdown",
   "id": "a75d56fc-e209-4cb1-8ea5-d5d6a07c6794",
   "metadata": {},
   "source": [
    "## Work rst (core)"
   ]
  },
  {
   "cell_type": "code",
   "execution_count": 4,
   "id": "232e9ad9",
   "metadata": {
    "ExecuteTime": {
     "end_time": "2023-07-27T08:53:03.132643Z",
     "start_time": "2023-07-27T08:53:02.882639Z"
    }
   },
   "outputs": [
    {
     "ename": "TypeError",
     "evalue": "'tuple' object is not callable",
     "output_type": "error",
     "traceback": [
      "\u001b[1;31m---------------------------------------------------------------------------\u001b[0m",
      "\u001b[1;31mDPFServerException\u001b[0m                        Traceback (most recent call last)",
      "File \u001b[1;32m~\\PythonEnv\\myenv\\lib\\site-packages\\ansys\\dpf\\core\\model.py:416\u001b[0m, in \u001b[0;36mMetadata._load_result_info\u001b[1;34m(self)\u001b[0m\n\u001b[0;32m    415\u001b[0m \u001b[38;5;28;01mtry\u001b[39;00m:\n\u001b[1;32m--> 416\u001b[0m     result_info \u001b[38;5;241m=\u001b[39m \u001b[43mop\u001b[49m\u001b[38;5;241;43m.\u001b[39;49m\u001b[43mget_output\u001b[49m\u001b[43m(\u001b[49m\u001b[38;5;241;43m0\u001b[39;49m\u001b[43m,\u001b[49m\u001b[43m \u001b[49m\u001b[43mtypes\u001b[49m\u001b[38;5;241;43m.\u001b[39;49m\u001b[43mresult_info\u001b[49m\u001b[43m)\u001b[49m\n\u001b[0;32m    417\u001b[0m \u001b[38;5;28;01mexcept\u001b[39;00m \u001b[38;5;167;01mException\u001b[39;00m \u001b[38;5;28;01mas\u001b[39;00m e:\n\u001b[0;32m    418\u001b[0m     \u001b[38;5;66;03m# give the user a more helpful error\u001b[39;00m\n",
      "File \u001b[1;32m~\\PythonEnv\\myenv\\lib\\site-packages\\ansys\\dpf\\core\\dpf_operator.py:457\u001b[0m, in \u001b[0;36mOperator.get_output\u001b[1;34m(self, pin, output_type)\u001b[0m\n\u001b[0;32m    456\u001b[0m \u001b[38;5;28;01mif\u001b[39;00m \u001b[38;5;28misinstance\u001b[39m(type_tuple[\u001b[38;5;241m2\u001b[39m], \u001b[38;5;28mstr\u001b[39m):\n\u001b[1;32m--> 457\u001b[0m     parameters \u001b[38;5;241m=\u001b[39m {type_tuple[\u001b[38;5;241m2\u001b[39m]: \u001b[43mtype_tuple\u001b[49m\u001b[43m[\u001b[49m\u001b[38;5;241;43m1\u001b[39;49m\u001b[43m]\u001b[49m\u001b[43m(\u001b[49m\u001b[38;5;28;43mself\u001b[39;49m\u001b[43m,\u001b[49m\u001b[43m \u001b[49m\u001b[43mpin\u001b[49m\u001b[43m)\u001b[49m}\n\u001b[0;32m    458\u001b[0m     out \u001b[38;5;241m=\u001b[39m output_type(\u001b[38;5;241m*\u001b[39m\u001b[38;5;241m*\u001b[39mparameters, server\u001b[38;5;241m=\u001b[39m\u001b[38;5;28mself\u001b[39m\u001b[38;5;241m.\u001b[39m_server)\n",
      "File \u001b[1;32m~\\PythonEnv\\myenv\\lib\\site-packages\\ansys\\dpf\\gate\\generated\\operator_capi.py:552\u001b[0m, in \u001b[0;36mOperatorCAPI.operator_getoutput_result_info\u001b[1;34m(op, iOutput)\u001b[0m\n\u001b[0;32m    551\u001b[0m \u001b[38;5;28;01mif\u001b[39;00m errorSize\u001b[38;5;241m.\u001b[39mvalue \u001b[38;5;241m!=\u001b[39m \u001b[38;5;241m0\u001b[39m:\n\u001b[1;32m--> 552\u001b[0m \t\u001b[38;5;28;01mraise\u001b[39;00m errors\u001b[38;5;241m.\u001b[39mDPFServerException(sError\u001b[38;5;241m.\u001b[39mvalue)\n\u001b[0;32m    553\u001b[0m \u001b[38;5;28;01mreturn\u001b[39;00m res\n",
      "\u001b[1;31mDPFServerException\u001b[0m: ResultInfoProvider:26<-mapdl::rst::ResultInfoProvider:27<-mapdl::rst::ResultInfoProvider<-TimeFreqSupportProvider:28<-mapdl::rst::TimeFreqSupportProvider:29<-mapdl::rst::TimeFreqSupportProvider<-Unknown exception occurred. Failed to read time and frequencies support., failed to read inputs of provider operator",
      "\nDuring handling of the above exception, another exception occurred:\n",
      "\u001b[1;31mTypeError\u001b[0m                                 Traceback (most recent call last)",
      "Cell \u001b[1;32mIn[4], line 4\u001b[0m\n\u001b[0;32m      2\u001b[0m rstpath\u001b[38;5;241m=\u001b[39m \u001b[38;5;124m'\u001b[39m\u001b[38;5;124mC:\u001b[39m\u001b[38;5;130;01m\\\\\u001b[39;00m\u001b[38;5;124mUsers\u001b[39m\u001b[38;5;130;01m\\\\\u001b[39;00m\u001b[38;5;124mpramod.kumar\u001b[39m\u001b[38;5;130;01m\\\\\u001b[39;00m\u001b[38;5;124mDesktop\u001b[39m\u001b[38;5;130;01m\\\\\u001b[39;00m\u001b[38;5;124mMDT_000PDP1G.rst\u001b[39m\u001b[38;5;124m'\u001b[39m\n\u001b[0;32m      3\u001b[0m model \u001b[38;5;241m=\u001b[39m dpf\u001b[38;5;241m.\u001b[39mModel(rstpath)\n\u001b[1;32m----> 4\u001b[0m \u001b[38;5;28;43mprint\u001b[39;49m\u001b[43m(\u001b[49m\u001b[43mmodel\u001b[49m\u001b[43m)\u001b[49m\n",
      "File \u001b[1;32m~\\PythonEnv\\myenv\\lib\\site-packages\\ansys\\dpf\\core\\model.py:202\u001b[0m, in \u001b[0;36mModel.__str__\u001b[1;34m(self)\u001b[0m\n\u001b[0;32m    200\u001b[0m txt \u001b[38;5;241m=\u001b[39m \u001b[38;5;124m\"\u001b[39m\u001b[38;5;124mDPF Model\u001b[39m\u001b[38;5;130;01m\\n\u001b[39;00m\u001b[38;5;124m\"\u001b[39m\n\u001b[0;32m    201\u001b[0m txt \u001b[38;5;241m+\u001b[39m\u001b[38;5;241m=\u001b[39m \u001b[38;5;124m\"\u001b[39m\u001b[38;5;124m-\u001b[39m\u001b[38;5;124m\"\u001b[39m \u001b[38;5;241m*\u001b[39m \u001b[38;5;241m30\u001b[39m \u001b[38;5;241m+\u001b[39m \u001b[38;5;124m\"\u001b[39m\u001b[38;5;130;01m\\n\u001b[39;00m\u001b[38;5;124m\"\u001b[39m\n\u001b[1;32m--> 202\u001b[0m txt \u001b[38;5;241m+\u001b[39m\u001b[38;5;241m=\u001b[39m \u001b[38;5;28mstr\u001b[39m(\u001b[38;5;28;43mself\u001b[39;49m\u001b[38;5;241;43m.\u001b[39;49m\u001b[43mresults\u001b[49m)\n\u001b[0;32m    203\u001b[0m txt \u001b[38;5;241m+\u001b[39m\u001b[38;5;241m=\u001b[39m \u001b[38;5;124m\"\u001b[39m\u001b[38;5;124m-\u001b[39m\u001b[38;5;124m\"\u001b[39m \u001b[38;5;241m*\u001b[39m \u001b[38;5;241m30\u001b[39m \u001b[38;5;241m+\u001b[39m \u001b[38;5;124m\"\u001b[39m\u001b[38;5;130;01m\\n\u001b[39;00m\u001b[38;5;124m\"\u001b[39m\n\u001b[0;32m    204\u001b[0m txt \u001b[38;5;241m+\u001b[39m\u001b[38;5;241m=\u001b[39m \u001b[38;5;28mstr\u001b[39m(\u001b[38;5;28mself\u001b[39m\u001b[38;5;241m.\u001b[39mmetadata\u001b[38;5;241m.\u001b[39mmeshed_region)\n",
      "File \u001b[1;32m~\\PythonEnv\\myenv\\lib\\site-packages\\ansys\\dpf\\core\\model.py:156\u001b[0m, in \u001b[0;36mModel.results\u001b[1;34m(self)\u001b[0m\n\u001b[0;32m    110\u001b[0m \u001b[38;5;250m\u001b[39m\u001b[38;5;124;03m\"\"\"Available results of the model.\u001b[39;00m\n\u001b[0;32m    111\u001b[0m \n\u001b[0;32m    112\u001b[0m \u001b[38;5;124;03mOrganizes the results from DPF into accessible methods. All the available\u001b[39;00m\n\u001b[1;32m   (...)\u001b[0m\n\u001b[0;32m    151\u001b[0m \n\u001b[0;32m    152\u001b[0m \u001b[38;5;124;03m\"\"\"\u001b[39;00m\n\u001b[0;32m    153\u001b[0m \u001b[38;5;28;01mif\u001b[39;00m \u001b[38;5;129;01mnot\u001b[39;00m \u001b[38;5;28mself\u001b[39m\u001b[38;5;241m.\u001b[39m_results:\n\u001b[0;32m    154\u001b[0m     args \u001b[38;5;241m=\u001b[39m [\n\u001b[0;32m    155\u001b[0m         \u001b[38;5;28mself\u001b[39m\u001b[38;5;241m.\u001b[39mmetadata\u001b[38;5;241m.\u001b[39m_build_connector(),\n\u001b[1;32m--> 156\u001b[0m         \u001b[38;5;28;43mself\u001b[39;49m\u001b[38;5;241;43m.\u001b[39;49m\u001b[43mmetadata\u001b[49m\u001b[38;5;241;43m.\u001b[39;49m\u001b[43mresult_info\u001b[49m,\n\u001b[0;32m    157\u001b[0m         \u001b[38;5;28mself\u001b[39m\u001b[38;5;241m.\u001b[39mmesh_by_default,\n\u001b[0;32m    158\u001b[0m         \u001b[38;5;28mself\u001b[39m\u001b[38;5;241m.\u001b[39m_server,\n\u001b[0;32m    159\u001b[0m     ]\n\u001b[0;32m    160\u001b[0m     \u001b[38;5;28;01mif\u001b[39;00m misc\u001b[38;5;241m.\u001b[39mDYNAMIC_RESULTS:\n\u001b[0;32m    161\u001b[0m         \u001b[38;5;28;01mtry\u001b[39;00m:\n",
      "File \u001b[1;32m~\\PythonEnv\\myenv\\lib\\site-packages\\ansys\\dpf\\core\\errors.py:101\u001b[0m, in \u001b[0;36mprotect_source_op_not_found.<locals>.wrapper\u001b[1;34m(*args, **kwargs)\u001b[0m\n\u001b[0;32m     99\u001b[0m \u001b[38;5;250m\u001b[39m\u001b[38;5;124;03m\"\"\"Capture DPF's Server exceptions.\"\"\"\u001b[39;00m\n\u001b[0;32m    100\u001b[0m \u001b[38;5;28;01mtry\u001b[39;00m:\n\u001b[1;32m--> 101\u001b[0m     out \u001b[38;5;241m=\u001b[39m \u001b[43mfunc\u001b[49m\u001b[43m(\u001b[49m\u001b[38;5;241;43m*\u001b[39;49m\u001b[43margs\u001b[49m\u001b[43m,\u001b[49m\u001b[43m \u001b[49m\u001b[38;5;241;43m*\u001b[39;49m\u001b[38;5;241;43m*\u001b[39;49m\u001b[43mkwargs\u001b[49m\u001b[43m)\u001b[49m\n\u001b[0;32m    102\u001b[0m \u001b[38;5;28;01mexcept\u001b[39;00m DPFServerException \u001b[38;5;28;01mas\u001b[39;00m error:\n\u001b[0;32m    103\u001b[0m     details \u001b[38;5;241m=\u001b[39m \u001b[38;5;28mstr\u001b[39m(error)\n",
      "File \u001b[1;32m~\\PythonEnv\\myenv\\lib\\site-packages\\ansys\\dpf\\core\\model.py:481\u001b[0m, in \u001b[0;36mMetadata.result_info\u001b[1;34m(self)\u001b[0m\n\u001b[0;32m    472\u001b[0m \u001b[38;5;129m@property\u001b[39m\n\u001b[0;32m    473\u001b[0m \u001b[38;5;129m@protect_source_op_not_found\u001b[39m\n\u001b[0;32m    474\u001b[0m \u001b[38;5;28;01mdef\u001b[39;00m \u001b[38;5;21mresult_info\u001b[39m(\u001b[38;5;28mself\u001b[39m):\n\u001b[0;32m    475\u001b[0m \u001b[38;5;250m    \u001b[39m\u001b[38;5;124;03m\"\"\"Result Info instance.\u001b[39;00m\n\u001b[0;32m    476\u001b[0m \n\u001b[0;32m    477\u001b[0m \u001b[38;5;124;03m    Returns\u001b[39;00m\n\u001b[0;32m    478\u001b[0m \u001b[38;5;124;03m    -------\u001b[39;00m\n\u001b[0;32m    479\u001b[0m \u001b[38;5;124;03m    result_info : :class:`ansys.dpf.core.result_info.ResultInfo`\u001b[39;00m\n\u001b[0;32m    480\u001b[0m \u001b[38;5;124;03m    \"\"\"\u001b[39;00m\n\u001b[1;32m--> 481\u001b[0m     \u001b[38;5;28;43mself\u001b[39;49m\u001b[38;5;241;43m.\u001b[39;49m\u001b[43m_cache_result_info\u001b[49m\u001b[43m(\u001b[49m\u001b[43m)\u001b[49m\n\u001b[0;32m    483\u001b[0m     \u001b[38;5;28;01mreturn\u001b[39;00m \u001b[38;5;28mself\u001b[39m\u001b[38;5;241m.\u001b[39m_result_info\n",
      "File \u001b[1;32m~\\PythonEnv\\myenv\\lib\\site-packages\\ansys\\dpf\\core\\model.py:280\u001b[0m, in \u001b[0;36mMetadata._cache_result_info\u001b[1;34m(self)\u001b[0m\n\u001b[0;32m    278\u001b[0m \u001b[38;5;250m\u001b[39m\u001b[38;5;124;03m\"\"\"Store result information.\"\"\"\u001b[39;00m\n\u001b[0;32m    279\u001b[0m \u001b[38;5;28;01mif\u001b[39;00m \u001b[38;5;129;01mnot\u001b[39;00m \u001b[38;5;28mself\u001b[39m\u001b[38;5;241m.\u001b[39m_result_info:\n\u001b[1;32m--> 280\u001b[0m     \u001b[38;5;28mself\u001b[39m\u001b[38;5;241m.\u001b[39m_result_info \u001b[38;5;241m=\u001b[39m \u001b[38;5;28;43mself\u001b[39;49m\u001b[38;5;241;43m.\u001b[39;49m\u001b[43m_load_result_info\u001b[49m\u001b[43m(\u001b[49m\u001b[43m)\u001b[49m\n",
      "File \u001b[1;32m~\\PythonEnv\\myenv\\lib\\site-packages\\ansys\\dpf\\core\\model.py:419\u001b[0m, in \u001b[0;36mMetadata._load_result_info\u001b[1;34m(self)\u001b[0m\n\u001b[0;32m    416\u001b[0m     result_info \u001b[38;5;241m=\u001b[39m op\u001b[38;5;241m.\u001b[39mget_output(\u001b[38;5;241m0\u001b[39m, types\u001b[38;5;241m.\u001b[39mresult_info)\n\u001b[0;32m    417\u001b[0m \u001b[38;5;28;01mexcept\u001b[39;00m \u001b[38;5;167;01mException\u001b[39;00m \u001b[38;5;28;01mas\u001b[39;00m e:\n\u001b[0;32m    418\u001b[0m     \u001b[38;5;66;03m# give the user a more helpful error\u001b[39;00m\n\u001b[1;32m--> 419\u001b[0m     \u001b[38;5;28;01mif\u001b[39;00m \u001b[38;5;124m\"\u001b[39m\u001b[38;5;124mresults file is not defined in the Data sources\u001b[39m\u001b[38;5;124m\"\u001b[39m \u001b[38;5;129;01min\u001b[39;00m \u001b[43me\u001b[49m\u001b[38;5;241;43m.\u001b[39;49m\u001b[43margs\u001b[49m\u001b[43m(\u001b[49m\u001b[43m)\u001b[49m:\n\u001b[0;32m    420\u001b[0m         \u001b[38;5;28;01mraise\u001b[39;00m \u001b[38;5;167;01mRuntimeError\u001b[39;00m(\u001b[38;5;124m\"\u001b[39m\u001b[38;5;124mUnable to open result file\u001b[39m\u001b[38;5;124m\"\u001b[39m) \u001b[38;5;28;01mfrom\u001b[39;00m \u001b[38;5;28;01mNone\u001b[39;00m\n\u001b[0;32m    421\u001b[0m     \u001b[38;5;28;01melse\u001b[39;00m:\n",
      "\u001b[1;31mTypeError\u001b[0m: 'tuple' object is not callable"
     ]
    }
   ],
   "source": [
    "from ansys.dpf import core as dpf\n",
    "rstpath= 'C:\\\\Users\\\\pramod.kumar\\\\Desktop\\\\MDT_000PDP1G.rst'\n",
    "model = dpf.Model(rstpath)\n",
    "print(model)"
   ]
  },
  {
   "cell_type": "markdown",
   "id": "448cc988-0b87-454c-89f0-59affaa7a316",
   "metadata": {
    "ExecuteTime": {
     "end_time": "2023-07-27T08:52:50.940273Z",
     "start_time": "2023-07-27T08:52:50.932270Z"
    }
   },
   "source": [
    "## Example rst (post)"
   ]
  },
  {
   "cell_type": "code",
   "execution_count": 13,
   "id": "711a3ff0-72f7-47fa-b86d-2900fbf20a7a",
   "metadata": {},
   "outputs": [
    {
     "name": "stdout",
     "output_type": "stream",
     "text": [
      "Static Mechanical Simulation.\n",
      "\n",
      "\n",
      "Data Sources\n",
      "------------------------------\n",
      "DPF  DataSources: \n",
      "  Result files:\n",
      "     result key: rst and path: C:\\Users\\pramod.kumar\\Desktop\\ASimpleBar.rst \n",
      "  Secondary files:\n",
      "\n",
      "\n",
      "DPF Model\n",
      "------------------------------\n",
      "Static analysis\n",
      "Unit system: MKS: m, kg, N, s, V, A, degC\n",
      "Physics Type: Mecanic\n",
      "Available results:\n",
      "     -  displacement: Nodal Displacement\n",
      "     -  element_nodal_forces: ElementalNodal Element nodal Forces\n",
      "     -  elemental_volume: Elemental Volume\n",
      "     -  stiffness_matrix_energy: Elemental Energy-stiffness matrix\n",
      "     -  artificial_hourglass_energy: Elemental Hourglass Energy\n",
      "     -  thermal_dissipation_energy: Elemental thermal dissipation energy\n",
      "     -  kinetic_energy: Elemental Kinetic Energy\n",
      "     -  co_energy: Elemental co-energy\n",
      "     -  incremental_energy: Elemental incremental energy\n",
      "     -  structural_temperature: ElementalNodal Temperature\n",
      "------------------------------\n",
      "DPF  Meshed Region: \n",
      "  3751 nodes \n",
      "  3000 elements \n",
      "  Unit: m \n",
      "  With solid (3D) elements\n",
      "------------------------------\n",
      "DPF  Time/Freq Support: \n",
      "  Number of sets: 1 \n",
      "Cumulative     Time (s)       LoadStep       Substep         \n",
      "1              1.000000       1              1               \n",
      "\n"
     ]
    }
   ],
   "source": [
    "from ansys.dpf import post\n",
    "rstpath= 'C:\\\\Users\\\\pramod.kumar\\\\Desktop\\\\ASimpleBar.rst'\n",
    "simulation = post.load_simulation(rstpath)\n",
    "print(simulation)"
   ]
  },
  {
   "cell_type": "markdown",
   "id": "58b24ff0-38df-4a1d-94bd-725286a1da88",
   "metadata": {},
   "source": [
    "## work rst (post)"
   ]
  },
  {
   "cell_type": "code",
   "execution_count": 10,
   "id": "a31e7196",
   "metadata": {
    "ExecuteTime": {
     "end_time": "2023-07-27T08:50:54.854682Z",
     "start_time": "2023-07-27T08:50:53.935652Z"
    }
   },
   "outputs": [
    {
     "ename": "DPFServerException",
     "evalue": "TimeFreqSupportProvider:82<-mapdl::rst::TimeFreqSupportProvider:83<-mapdl::rst::TimeFreqSupportProvider<-Unknown exception occurred. Failed to read time and frequencies support.",
     "output_type": "error",
     "traceback": [
      "\u001b[1;31m---------------------------------------------------------------------------\u001b[0m",
      "\u001b[1;31mDPFServerException\u001b[0m                        Traceback (most recent call last)",
      "File \u001b[1;32m~\\PythonEnv\\myenv\\lib\\site-packages\\ansys\\dpf\\core\\errors.py:101\u001b[0m, in \u001b[0;36mprotect_source_op_not_found.<locals>.wrapper\u001b[1;34m(*args, **kwargs)\u001b[0m\n\u001b[0;32m    100\u001b[0m \u001b[38;5;28;01mtry\u001b[39;00m:\n\u001b[1;32m--> 101\u001b[0m     out \u001b[38;5;241m=\u001b[39m \u001b[43mfunc\u001b[49m\u001b[43m(\u001b[49m\u001b[38;5;241;43m*\u001b[39;49m\u001b[43margs\u001b[49m\u001b[43m,\u001b[49m\u001b[43m \u001b[49m\u001b[38;5;241;43m*\u001b[39;49m\u001b[38;5;241;43m*\u001b[39;49m\u001b[43mkwargs\u001b[49m\u001b[43m)\u001b[49m\n\u001b[0;32m    102\u001b[0m \u001b[38;5;28;01mexcept\u001b[39;00m DPFServerException \u001b[38;5;28;01mas\u001b[39;00m error:\n",
      "File \u001b[1;32m~\\PythonEnv\\myenv\\lib\\site-packages\\ansys\\dpf\\core\\model.py:345\u001b[0m, in \u001b[0;36mMetadata.time_freq_support\u001b[1;34m(self)\u001b[0m\n\u001b[0;32m    344\u001b[0m         timeProvider\u001b[38;5;241m.\u001b[39minputs\u001b[38;5;241m.\u001b[39mconnect(\u001b[38;5;28mself\u001b[39m\u001b[38;5;241m.\u001b[39mdata_sources)\n\u001b[1;32m--> 345\u001b[0m     \u001b[38;5;28mself\u001b[39m\u001b[38;5;241m.\u001b[39m_time_freq_support \u001b[38;5;241m=\u001b[39m \u001b[43mtimeProvider\u001b[49m\u001b[38;5;241;43m.\u001b[39;49m\u001b[43mget_output\u001b[49m\u001b[43m(\u001b[49m\u001b[38;5;241;43m0\u001b[39;49m\u001b[43m,\u001b[49m\u001b[43m \u001b[49m\u001b[43mtypes\u001b[49m\u001b[38;5;241;43m.\u001b[39;49m\u001b[43mtime_freq_support\u001b[49m\u001b[43m)\u001b[49m\n\u001b[0;32m    346\u001b[0m \u001b[38;5;28;01mreturn\u001b[39;00m \u001b[38;5;28mself\u001b[39m\u001b[38;5;241m.\u001b[39m_time_freq_support\n",
      "File \u001b[1;32m~\\PythonEnv\\myenv\\lib\\site-packages\\ansys\\dpf\\core\\dpf_operator.py:457\u001b[0m, in \u001b[0;36mOperator.get_output\u001b[1;34m(self, pin, output_type)\u001b[0m\n\u001b[0;32m    456\u001b[0m \u001b[38;5;28;01mif\u001b[39;00m \u001b[38;5;28misinstance\u001b[39m(type_tuple[\u001b[38;5;241m2\u001b[39m], \u001b[38;5;28mstr\u001b[39m):\n\u001b[1;32m--> 457\u001b[0m     parameters \u001b[38;5;241m=\u001b[39m {type_tuple[\u001b[38;5;241m2\u001b[39m]: \u001b[43mtype_tuple\u001b[49m\u001b[43m[\u001b[49m\u001b[38;5;241;43m1\u001b[39;49m\u001b[43m]\u001b[49m\u001b[43m(\u001b[49m\u001b[38;5;28;43mself\u001b[39;49m\u001b[43m,\u001b[49m\u001b[43m \u001b[49m\u001b[43mpin\u001b[49m\u001b[43m)\u001b[49m}\n\u001b[0;32m    458\u001b[0m     out \u001b[38;5;241m=\u001b[39m output_type(\u001b[38;5;241m*\u001b[39m\u001b[38;5;241m*\u001b[39mparameters, server\u001b[38;5;241m=\u001b[39m\u001b[38;5;28mself\u001b[39m\u001b[38;5;241m.\u001b[39m_server)\n",
      "File \u001b[1;32m~\\PythonEnv\\myenv\\lib\\site-packages\\ansys\\dpf\\gate\\generated\\operator_capi.py:534\u001b[0m, in \u001b[0;36mOperatorCAPI.operator_getoutput_time_freq_support\u001b[1;34m(op, iOutput)\u001b[0m\n\u001b[0;32m    533\u001b[0m \u001b[38;5;28;01mif\u001b[39;00m errorSize\u001b[38;5;241m.\u001b[39mvalue \u001b[38;5;241m!=\u001b[39m \u001b[38;5;241m0\u001b[39m:\n\u001b[1;32m--> 534\u001b[0m \t\u001b[38;5;28;01mraise\u001b[39;00m errors\u001b[38;5;241m.\u001b[39mDPFServerException(sError\u001b[38;5;241m.\u001b[39mvalue)\n\u001b[0;32m    535\u001b[0m \u001b[38;5;28;01mreturn\u001b[39;00m res\n",
      "\u001b[1;31mDPFServerException\u001b[0m: TimeFreqSupportProvider:82<-mapdl::rst::TimeFreqSupportProvider:83<-mapdl::rst::TimeFreqSupportProvider<-Unknown exception occurred. Failed to read time and frequencies support.",
      "\nDuring handling of the above exception, another exception occurred:\n",
      "\u001b[1;31mDPFServerException\u001b[0m                        Traceback (most recent call last)",
      "Cell \u001b[1;32mIn[10], line 3\u001b[0m\n\u001b[0;32m      1\u001b[0m \u001b[38;5;28;01mfrom\u001b[39;00m \u001b[38;5;21;01mansys\u001b[39;00m\u001b[38;5;21;01m.\u001b[39;00m\u001b[38;5;21;01mdpf\u001b[39;00m \u001b[38;5;28;01mimport\u001b[39;00m post\n\u001b[0;32m      2\u001b[0m rstpath\u001b[38;5;241m=\u001b[39m \u001b[38;5;124m'\u001b[39m\u001b[38;5;124mC:\u001b[39m\u001b[38;5;130;01m\\\\\u001b[39;00m\u001b[38;5;124mUsers\u001b[39m\u001b[38;5;130;01m\\\\\u001b[39;00m\u001b[38;5;124mpramod.kumar\u001b[39m\u001b[38;5;130;01m\\\\\u001b[39;00m\u001b[38;5;124mDesktop\u001b[39m\u001b[38;5;130;01m\\\\\u001b[39;00m\u001b[38;5;124mMDT_000PDP1G.rst\u001b[39m\u001b[38;5;124m'\u001b[39m\n\u001b[1;32m----> 3\u001b[0m simulation \u001b[38;5;241m=\u001b[39m \u001b[43mpost\u001b[49m\u001b[38;5;241;43m.\u001b[39;49m\u001b[43mload_simulation\u001b[49m\u001b[43m(\u001b[49m\u001b[43mrstpath\u001b[49m\u001b[43m)\u001b[49m\n\u001b[0;32m      4\u001b[0m \u001b[38;5;28mprint\u001b[39m(simulation)\n",
      "File \u001b[1;32m~\\PythonEnv\\myenv\\lib\\site-packages\\ansys\\dpf\\post\\post_utility.py:221\u001b[0m, in \u001b[0;36mload_simulation\u001b[1;34m(data_sources, simulation_type)\u001b[0m\n\u001b[0;32m    216\u001b[0m         \u001b[38;5;28;01mraise\u001b[39;00m \u001b[38;5;167;01mValueError\u001b[39;00m(\u001b[38;5;124mf\u001b[39m\u001b[38;5;124m\"\u001b[39m\u001b[38;5;124mUnknown physics type \u001b[39m\u001b[38;5;124m'\u001b[39m\u001b[38;5;132;01m{\u001b[39;00mphysics_type\u001b[38;5;132;01m}\u001b[39;00m\u001b[38;5;124m.\u001b[39m\u001b[38;5;124m\"\u001b[39m)\n\u001b[0;32m    218\u001b[0m \u001b[38;5;28;01mif\u001b[39;00m simulation_type \u001b[38;5;129;01min\u001b[39;00m [\n\u001b[0;32m    219\u001b[0m     \u001b[38;5;28mgetattr\u001b[39m(AvailableSimulationTypes, x) \u001b[38;5;28;01mfor\u001b[39;00m x \u001b[38;5;129;01min\u001b[39;00m \u001b[38;5;28mvars\u001b[39m(AvailableSimulationTypes)\n\u001b[0;32m    220\u001b[0m ]:\n\u001b[1;32m--> 221\u001b[0m     \u001b[38;5;28;01mreturn\u001b[39;00m \u001b[43msimulation_type_str_to_class\u001b[49m\u001b[43m[\u001b[49m\u001b[43msimulation_type\u001b[49m\u001b[43m]\u001b[49m\u001b[43m(\u001b[49m\u001b[43mdata_sources\u001b[49m\u001b[43m)\u001b[49m\n\u001b[0;32m    222\u001b[0m \u001b[38;5;28;01melse\u001b[39;00m:\n\u001b[0;32m    223\u001b[0m     \u001b[38;5;28;01mraise\u001b[39;00m \u001b[38;5;167;01mValueError\u001b[39;00m(\n\u001b[0;32m    224\u001b[0m         \u001b[38;5;124mf\u001b[39m\u001b[38;5;124m\"\u001b[39m\u001b[38;5;124mSimulation type \u001b[39m\u001b[38;5;124m'\u001b[39m\u001b[38;5;132;01m{\u001b[39;00msimulation_type\u001b[38;5;132;01m}\u001b[39;00m\u001b[38;5;124m'\u001b[39m\u001b[38;5;124m is not a recognized simulation type.\u001b[39m\u001b[38;5;124m\"\u001b[39m\n\u001b[0;32m    225\u001b[0m         \u001b[38;5;124mf\u001b[39m\u001b[38;5;124m\"\u001b[39m\u001b[38;5;124m Please use ansys.dpf.post.common.AvailableSimulationTypes or instantiate one of the\u001b[39m\u001b[38;5;124m\"\u001b[39m\n\u001b[0;32m    226\u001b[0m         \u001b[38;5;124mf\u001b[39m\u001b[38;5;124m\"\u001b[39m\u001b[38;5;124m available Simulation sub-classes directly.\u001b[39m\u001b[38;5;124m\"\u001b[39m\n\u001b[0;32m    227\u001b[0m     )\n",
      "File \u001b[1;32m~\\PythonEnv\\myenv\\lib\\site-packages\\ansys\\dpf\\post\\simulation.py:647\u001b[0m, in \u001b[0;36mMechanicalSimulation.__init__\u001b[1;34m(self, result_file)\u001b[0m\n\u001b[0;32m    645\u001b[0m model \u001b[38;5;241m=\u001b[39m dpf\u001b[38;5;241m.\u001b[39mModel(result_file)\n\u001b[0;32m    646\u001b[0m data_sources \u001b[38;5;241m=\u001b[39m model\u001b[38;5;241m.\u001b[39mmetadata\u001b[38;5;241m.\u001b[39mdata_sources\n\u001b[1;32m--> 647\u001b[0m \u001b[38;5;28;43msuper\u001b[39;49m\u001b[43m(\u001b[49m\u001b[43m)\u001b[49m\u001b[38;5;241;43m.\u001b[39;49m\u001b[38;5;21;43m__init__\u001b[39;49m\u001b[43m(\u001b[49m\u001b[43mdata_sources\u001b[49m\u001b[38;5;241;43m=\u001b[39;49m\u001b[43mdata_sources\u001b[49m\u001b[43m,\u001b[49m\u001b[43m \u001b[49m\u001b[43mmodel\u001b[49m\u001b[38;5;241;43m=\u001b[39;49m\u001b[43mmodel\u001b[49m\u001b[43m)\u001b[49m\n",
      "File \u001b[1;32m~\\PythonEnv\\myenv\\lib\\site-packages\\ansys\\dpf\\post\\simulation.py:83\u001b[0m, in \u001b[0;36mSimulation.__init__\u001b[1;34m(self, data_sources, model)\u001b[0m\n\u001b[0;32m     80\u001b[0m \u001b[38;5;28mself\u001b[39m\u001b[38;5;241m.\u001b[39m_named_selections \u001b[38;5;241m=\u001b[39m \u001b[38;5;28;01mNone\u001b[39;00m\n\u001b[0;32m     81\u001b[0m \u001b[38;5;28mself\u001b[39m\u001b[38;5;241m.\u001b[39m_mesh \u001b[38;5;241m=\u001b[39m \u001b[38;5;28;01mNone\u001b[39;00m\n\u001b[0;32m     82\u001b[0m \u001b[38;5;28mself\u001b[39m\u001b[38;5;241m.\u001b[39m_units \u001b[38;5;241m=\u001b[39m {\n\u001b[1;32m---> 83\u001b[0m     \u001b[38;5;124m\"\u001b[39m\u001b[38;5;124mtime/frequency\u001b[39m\u001b[38;5;124m\"\u001b[39m: \u001b[38;5;28;43mself\u001b[39;49m\u001b[38;5;241;43m.\u001b[39;49m\u001b[43mtime_freq_support\u001b[49m\u001b[38;5;241m.\u001b[39mtime_frequencies\u001b[38;5;241m.\u001b[39munit,\n\u001b[0;32m     84\u001b[0m     \u001b[38;5;124m\"\u001b[39m\u001b[38;5;124mdistance\u001b[39m\u001b[38;5;124m\"\u001b[39m: \u001b[38;5;28mself\u001b[39m\u001b[38;5;241m.\u001b[39m_model\u001b[38;5;241m.\u001b[39mmetadata\u001b[38;5;241m.\u001b[39mmeshed_region\u001b[38;5;241m.\u001b[39munit,\n\u001b[0;32m     85\u001b[0m }\n\u001b[0;32m     86\u001b[0m \u001b[38;5;28mself\u001b[39m\u001b[38;5;241m.\u001b[39m_time_freq_precision \u001b[38;5;241m=\u001b[39m \u001b[38;5;28;01mNone\u001b[39;00m\n",
      "File \u001b[1;32m~\\PythonEnv\\myenv\\lib\\site-packages\\ansys\\dpf\\post\\simulation.py:322\u001b[0m, in \u001b[0;36mSimulation.time_freq_support\u001b[1;34m(self)\u001b[0m\n\u001b[0;32m    319\u001b[0m \u001b[38;5;129m@property\u001b[39m\n\u001b[0;32m    320\u001b[0m \u001b[38;5;28;01mdef\u001b[39;00m \u001b[38;5;21mtime_freq_support\u001b[39m(\u001b[38;5;28mself\u001b[39m) \u001b[38;5;241m-\u001b[39m\u001b[38;5;241m>\u001b[39m TimeFreqSupport:\n\u001b[0;32m    321\u001b[0m \u001b[38;5;250m    \u001b[39m\u001b[38;5;124;03m\"\"\"Description of the temporal/frequency analysis of the model.\"\"\"\u001b[39;00m\n\u001b[1;32m--> 322\u001b[0m     \u001b[38;5;28;01mreturn\u001b[39;00m \u001b[38;5;28;43mself\u001b[39;49m\u001b[38;5;241;43m.\u001b[39;49m\u001b[43m_time_frequencies\u001b[49m\n",
      "File \u001b[1;32m~\\PythonEnv\\myenv\\lib\\site-packages\\ansys\\dpf\\post\\simulation.py:307\u001b[0m, in \u001b[0;36mSimulation._time_frequencies\u001b[1;34m(self)\u001b[0m\n\u001b[0;32m    304\u001b[0m \u001b[38;5;129m@property\u001b[39m\n\u001b[0;32m    305\u001b[0m \u001b[38;5;28;01mdef\u001b[39;00m \u001b[38;5;21m_time_frequencies\u001b[39m(\u001b[38;5;28mself\u001b[39m):\n\u001b[0;32m    306\u001b[0m \u001b[38;5;250m    \u001b[39m\u001b[38;5;124;03m\"\"\"Description of the temporal/frequency analysis of the model.\"\"\"\u001b[39;00m\n\u001b[1;32m--> 307\u001b[0m     \u001b[38;5;28;01mreturn\u001b[39;00m \u001b[38;5;28;43mself\u001b[39;49m\u001b[38;5;241;43m.\u001b[39;49m\u001b[43m_model\u001b[49m\u001b[38;5;241;43m.\u001b[39;49m\u001b[43mmetadata\u001b[49m\u001b[38;5;241;43m.\u001b[39;49m\u001b[43mtime_freq_support\u001b[49m\n",
      "File \u001b[1;32m~\\PythonEnv\\myenv\\lib\\site-packages\\ansys\\dpf\\core\\errors.py:106\u001b[0m, in \u001b[0;36mprotect_source_op_not_found.<locals>.wrapper\u001b[1;34m(*args, **kwargs)\u001b[0m\n\u001b[0;32m    104\u001b[0m     \u001b[38;5;28;01mif\u001b[39;00m \u001b[38;5;124m\"\u001b[39m\u001b[38;5;124msource operator not found\u001b[39m\u001b[38;5;124m\"\u001b[39m \u001b[38;5;129;01min\u001b[39;00m details:\n\u001b[0;32m    105\u001b[0m         \u001b[38;5;28;01mreturn\u001b[39;00m \u001b[38;5;28;01mNone\u001b[39;00m\n\u001b[1;32m--> 106\u001b[0m     \u001b[38;5;28;01mraise\u001b[39;00m DPFServerException(details)\n\u001b[0;32m    108\u001b[0m \u001b[38;5;28;01mreturn\u001b[39;00m out\n",
      "\u001b[1;31mDPFServerException\u001b[0m: TimeFreqSupportProvider:82<-mapdl::rst::TimeFreqSupportProvider:83<-mapdl::rst::TimeFreqSupportProvider<-Unknown exception occurred. Failed to read time and frequencies support."
     ]
    }
   ],
   "source": [
    "from ansys.dpf import post\n",
    "rstpath= 'C:\\\\Users\\\\pramod.kumar\\\\Desktop\\\\MDT_000PDP1G.rst'\n",
    "simulation = post.load_simulation(rstpath)\n",
    "print(simulation)"
   ]
  },
  {
   "cell_type": "code",
   "execution_count": 14,
   "id": "47c9f749-f891-4b2c-88a4-7d6af4dcca31",
   "metadata": {},
   "outputs": [
    {
     "name": "stdout",
     "output_type": "stream",
     "text": [
      "Package                               Version\n",
      "------------------------------------- --------\n",
      "aiohttp                               3.8.4\n",
      "aiosignal                             1.3.1\n",
      "ansi2html                             1.8.0\n",
      "ansys-api-mapdl                       0.5.1\n",
      "ansys-api-platform-instancemanagement 1.0.0b3\n",
      "ansys-corba                           0.1.1\n",
      "ansys-dpf-core                        0.8.1\n",
      "ansys-dpf-gate                        0.3.1\n",
      "ansys-dpf-gatebin                     0.3.1\n",
      "ansys-dpf-post                        0.4.0\n",
      "ansys-grpc-dpf                        0.7.1\n",
      "ansys-mapdl-core                      0.64.1\n",
      "ansys-mapdl-reader                    0.52.13\n",
      "ansys-platform-instancemanagement     1.1.1\n",
      "anyio                                 3.6.2\n",
      "appdirs                               1.4.4\n",
      "argon2-cffi                           21.3.0\n",
      "argon2-cffi-bindings                  21.2.0\n",
      "arrow                                 1.2.3\n",
      "asttokens                             2.2.1\n",
      "async-lru                             2.0.4\n",
      "async-timeout                         4.0.2\n",
      "attrs                                 23.1.0\n",
      "autobahn                              23.1.2\n",
      "Automat                               22.10.0\n",
      "Babel                                 2.12.1\n",
      "backcall                              0.2.0\n",
      "beautifulsoup4                        4.12.2\n",
      "bleach                                6.0.0\n",
      "blinker                               1.6.2\n",
      "cachetools                            5.3.0\n",
      "certifi                               2023.5.7\n",
      "cffi                                  1.15.1\n",
      "charset-normalizer                    3.1.0\n",
      "click                                 8.1.3\n",
      "colorama                              0.4.6\n",
      "comm                                  0.1.3\n",
      "constantly                            15.1.0\n",
      "contourpy                             1.0.7\n",
      "cryptography                          40.0.2\n",
      "cycler                                0.11.0\n",
      "dash                                  2.9.3\n",
      "dash-core-components                  2.0.0\n",
      "dash-html-components                  2.0.0\n",
      "dash-table                            5.0.0\n",
      "debugpy                               1.6.7\n",
      "decorator                             5.1.1\n",
      "defusedxml                            0.7.1\n",
      "et-xmlfile                            1.1.0\n",
      "executing                             1.2.0\n",
      "fastjsonschema                        2.16.3\n",
      "Flask                                 2.3.2\n",
      "fonttools                             4.39.4\n",
      "fqdn                                  1.5.1\n",
      "freetype-py                           2.4.0\n",
      "frozenlist                            1.3.3\n",
      "geomdl                                5.3.1\n",
      "google-api-core                       2.11.0\n",
      "google-api-python-client              2.86.0\n",
      "google-auth                           2.18.1\n",
      "google-auth-httplib2                  0.1.0\n",
      "googleapis-common-protos              1.59.0\n",
      "grpcio                                1.54.2\n",
      "httplib2                              0.22.0\n",
      "hyperlink                             21.0.0\n",
      "idna                                  3.4\n",
      "imageio                               2.28.1\n",
      "importlib-metadata                    6.6.0\n",
      "importlib-resources                   5.12.0\n",
      "incremental                           22.10.0\n",
      "ipykernel                             6.23.1\n",
      "ipympl                                0.9.3\n",
      "ipython                               8.12.2\n",
      "ipython-genutils                      0.2.0\n",
      "ipywidgets                            8.0.6\n",
      "isoduration                           20.11.0\n",
      "itsdangerous                          2.1.2\n",
      "jedi                                  0.18.2\n",
      "Jinja2                                3.1.2\n",
      "json5                                 0.9.14\n",
      "jsonpointer                           2.3\n",
      "jsonschema                            4.17.3\n",
      "jupyter_client                        8.2.0\n",
      "jupyter-contrib-core                  0.4.2\n",
      "jupyter-contrib-nbextensions          0.7.0\n",
      "jupyter_core                          5.3.0\n",
      "jupyter-dash                          0.4.2\n",
      "jupyter-events                        0.6.3\n",
      "jupyter-highlight-selected-word       0.2.0\n",
      "jupyter-lsp                           2.2.0\n",
      "jupyter-nbextensions-configurator     0.6.3\n",
      "jupyter_server                        2.5.0\n",
      "jupyter_server_terminals              0.4.4\n",
      "jupyterlab                            4.0.3\n",
      "jupyterlab-pygments                   0.2.2\n",
      "jupyterlab_server                     2.24.0\n",
      "jupyterlab-widgets                    3.0.7\n",
      "kiwisolver                            1.4.4\n",
      "lxml                                  4.9.2\n",
      "MarkupSafe                            2.1.2\n",
      "matplotlib                            3.7.1\n",
      "matplotlib-inline                     0.1.6\n",
      "mistune                               2.0.5\n",
      "multidict                             6.0.4\n",
      "nbclassic                             1.0.0\n",
      "nbclient                              0.7.4\n",
      "nbconvert                             7.4.0\n",
      "nbformat                              5.8.0\n",
      "nest-asyncio                          1.5.6\n",
      "networkx                              3.1\n",
      "notebook                              6.5.4\n",
      "notebook_shim                         0.2.3\n",
      "numpy                                 1.24.3\n",
      "openpyxl                              3.1.2\n",
      "packaging                             23.1\n",
      "pandas                                2.0.1\n",
      "pandocfilters                         1.5.0\n",
      "parso                                 0.8.3\n",
      "pickleshare                           0.7.5\n",
      "Pillow                                9.5.0\n",
      "pip                                   23.1.2\n",
      "pkgutil_resolve_name                  1.3.10\n",
      "platformdirs                          3.5.1\n",
      "plotly                                5.14.1\n",
      "pooch                                 1.7.0\n",
      "prometheus-client                     0.16.0\n",
      "prompt-toolkit                        3.0.38\n",
      "protobuf                              3.20.3\n",
      "protoc-gen-swagger                    0.1.0\n",
      "psutil                                5.9.5\n",
      "pure-eval                             0.2.2\n",
      "pyansys-tools-versioning              0.3.3\n",
      "pyasn1                                0.5.0\n",
      "pyasn1-modules                        0.3.0\n",
      "pycparser                             2.21\n",
      "pyglet                                2.0.7\n",
      "Pygments                              2.15.1\n",
      "pyiges                                0.2.1\n",
      "PyOpenGL                              3.1.0\n",
      "pyparsing                             3.0.9\n",
      "pyrender                              0.1.45\n",
      "pyrsistent                            0.19.3\n",
      "python-dateutil                       2.8.2\n",
      "python-json-logger                    2.0.7\n",
      "pytz                                  2023.3\n",
      "pyvista                               0.38.5\n",
      "pywin32                               306\n",
      "pywinpty                              2.0.10\n",
      "PyYAML                                6.0\n",
      "pyzmq                                 25.0.2\n",
      "requests                              2.30.0\n",
      "retrying                              1.3.4\n",
      "rfc3339-validator                     0.1.4\n",
      "rfc3986-validator                     0.1.1\n",
      "rsa                                   4.9\n",
      "scipy                                 1.10.1\n",
      "scooby                                0.7.2\n",
      "Send2Trash                            1.8.2\n",
      "setuptools                            67.7.2\n",
      "six                                   1.16.0\n",
      "sniffio                               1.3.0\n",
      "soupsieve                             2.4.1\n",
      "stack-data                            0.6.2\n",
      "tenacity                              8.2.2\n",
      "terminado                             0.17.1\n",
      "tinycss2                              1.2.1\n",
      "tomli                                 2.0.1\n",
      "tornado                               6.3.2\n",
      "tqdm                                  4.65.0\n",
      "traitlets                             5.9.0\n",
      "trame                                 2.5.0\n",
      "trame-client                          2.7.7\n",
      "trame-components                      2.1.1\n",
      "trame-deckgl                          2.0.2\n",
      "trame-markdown                        2.0.2\n",
      "trame-matplotlib                      2.0.2\n",
      "trame-plotly                          2.1.1\n",
      "trame-rca                             0.3.1\n",
      "trame-router                          2.0.2\n",
      "trame-server                          2.11.0\n",
      "trame-simput                          2.3.1\n",
      "trame-vega                            2.0.3\n",
      "trame-vtk                             2.4.4\n",
      "trame-vuetify                         2.2.4\n",
      "trimesh                               3.21.7\n",
      "Twisted                               22.10.0\n",
      "twisted-iocpsupport                   1.0.3\n",
      "txaio                                 23.1.1\n",
      "typing_extensions                     4.5.0\n",
      "tzdata                                2023.3\n",
      "uri-template                          1.2.0\n",
      "uritemplate                           4.1.1\n",
      "urllib3                               1.26.15\n",
      "vtk                                   9.2.6\n",
      "wcwidth                               0.2.6\n",
      "webcolors                             1.13\n",
      "webencodings                          0.5.1\n",
      "websocket-client                      1.5.1\n",
      "Werkzeug                              2.3.4\n",
      "wheel                                 0.40.0\n",
      "widgetsnbextension                    4.0.7\n",
      "wslink                                1.10.2\n",
      "yarl                                  1.9.2\n",
      "zipp                                  3.15.0\n",
      "zope.interface                        6.0\n"
     ]
    },
    {
     "name": "stderr",
     "output_type": "stream",
     "text": [
      "\n",
      "[notice] A new release of pip is available: 23.1.2 -> 23.2.1\n",
      "[notice] To update, run: python.exe -m pip install --upgrade pip\n"
     ]
    }
   ],
   "source": [
    "!pip list"
   ]
  },
  {
   "cell_type": "code",
   "execution_count": 8,
   "id": "fa3e3cab",
   "metadata": {
    "ExecuteTime": {
     "end_time": "2023-07-26T07:42:17.747467Z",
     "start_time": "2023-07-26T07:42:17.719464Z"
    }
   },
   "outputs": [
    {
     "ename": "NameError",
     "evalue": "name 'simulation' is not defined",
     "output_type": "error",
     "traceback": [
      "\u001b[1;31m---------------------------------------------------------------------------\u001b[0m",
      "\u001b[1;31mNameError\u001b[0m                                 Traceback (most recent call last)",
      "Cell \u001b[1;32mIn[8], line 1\u001b[0m\n\u001b[1;32m----> 1\u001b[0m \u001b[38;5;28mprint\u001b[39m(\u001b[43msimulation\u001b[49m\u001b[38;5;241m.\u001b[39mresult_info)\n",
      "\u001b[1;31mNameError\u001b[0m: name 'simulation' is not defined"
     ]
    }
   ],
   "source": [
    "print(simulation.result_info)"
   ]
  },
  {
   "cell_type": "code",
   "execution_count": 33,
   "id": "af7f6b5d",
   "metadata": {
    "ExecuteTime": {
     "end_time": "2023-07-26T09:02:52.324112Z",
     "start_time": "2023-07-26T09:02:52.105116Z"
    }
   },
   "outputs": [],
   "source": [
    "from ansys.dpf import post\n",
    "rstpath='K:\\\\Groups\\\\ONGDSGE1\\\\MDT\\\\TR01\\\\GR02\\\\MSBH\\\\Bond_Fmmin\\\\04a\\\\000PDP1G_LC6001\\\\MDT_000PDP1G_LC6001.rst'\n",
    "solution = post.load_solution(rstpath)\n",
    "displacement_result = solution.displacement()\n",
    "displacement = displacement_result.vector\n",
    "# print(solution)"
   ]
  },
  {
   "cell_type": "code",
   "execution_count": 34,
   "id": "baf6b2c3",
   "metadata": {
    "ExecuteTime": {
     "end_time": "2023-07-26T09:03:19.314405Z",
     "start_time": "2023-07-26T09:03:19.005402Z"
    }
   },
   "outputs": [
    {
     "ename": "DPFServerException",
     "evalue": "U:254<-mapdl::rst::U:255<-TimeFreqSupportProvider:258<-mapdl::rst::TimeFreqSupportProvider:259<-mapdl::rst::TimeFreqSupportProvider<-Unknown exception occurred. Failed to read time and frequencies support., failed to read inputs of provider operator, failed to read displacements from rst file. ",
     "output_type": "error",
     "traceback": [
      "\u001b[1;31m---------------------------------------------------------------------------\u001b[0m",
      "\u001b[1;31mDPFServerException\u001b[0m                        Traceback (most recent call last)",
      "Cell \u001b[1;32mIn[34], line 1\u001b[0m\n\u001b[1;32m----> 1\u001b[0m \u001b[43mdisplacement\u001b[49m\u001b[38;5;241;43m.\u001b[39;49m\u001b[43mnum_fields\u001b[49m\n\u001b[0;32m      2\u001b[0m disp_data \u001b[38;5;241m=\u001b[39m displacement\u001b[38;5;241m.\u001b[39mget_data_at_field(\u001b[38;5;241m0\u001b[39m)\n\u001b[0;32m      3\u001b[0m \u001b[38;5;28mlen\u001b[39m(disp_data)\n",
      "File \u001b[1;32m~\\PythonEnv\\myenv\\lib\\site-packages\\ansys\\dpf\\post\\result_data.py:154\u001b[0m, in \u001b[0;36mResultData.num_fields\u001b[1;34m(self)\u001b[0m\n\u001b[0;32m    151\u001b[0m \u001b[38;5;129m@property\u001b[39m\n\u001b[0;32m    152\u001b[0m \u001b[38;5;28;01mdef\u001b[39;00m \u001b[38;5;21mnum_fields\u001b[39m(\u001b[38;5;28mself\u001b[39m):\n\u001b[0;32m    153\u001b[0m \u001b[38;5;250m    \u001b[39m\u001b[38;5;124;03m\"\"\"Number of fields contained in the result.\"\"\"\u001b[39;00m\n\u001b[1;32m--> 154\u001b[0m     \u001b[38;5;28;43mself\u001b[39;49m\u001b[38;5;241;43m.\u001b[39;49m\u001b[43m_evaluate_result\u001b[49m\u001b[43m(\u001b[49m\u001b[43m)\u001b[49m\n\u001b[0;32m    155\u001b[0m     \u001b[38;5;28;01mreturn\u001b[39;00m \u001b[38;5;28mlen\u001b[39m(\u001b[38;5;28mself\u001b[39m\u001b[38;5;241m.\u001b[39mresult_fields_container)\n",
      "File \u001b[1;32m~\\PythonEnv\\myenv\\lib\\site-packages\\ansys\\dpf\\post\\result_data.py:127\u001b[0m, in \u001b[0;36mResultData._evaluate_result\u001b[1;34m(self)\u001b[0m\n\u001b[0;32m    125\u001b[0m \u001b[38;5;250m\u001b[39m\u001b[38;5;124;03m\"\"\"Evaluate the result for the first time.\"\"\"\u001b[39;00m\n\u001b[0;32m    126\u001b[0m \u001b[38;5;28;01mif\u001b[39;00m \u001b[38;5;28mself\u001b[39m\u001b[38;5;241m.\u001b[39m_result_fields_container \u001b[38;5;129;01mis\u001b[39;00m \u001b[38;5;28;01mNone\u001b[39;00m:\n\u001b[1;32m--> 127\u001b[0m     \u001b[38;5;28mself\u001b[39m\u001b[38;5;241m.\u001b[39m_result_fields_container \u001b[38;5;241m=\u001b[39m \u001b[38;5;28;43mself\u001b[39;49m\u001b[38;5;241;43m.\u001b[39;49m\u001b[43m_evaluator\u001b[49m\u001b[38;5;241;43m.\u001b[39;49m\u001b[43mevaluate_result\u001b[49m\u001b[43m(\u001b[49m\u001b[43m)\u001b[49m\n",
      "File \u001b[1;32m~\\PythonEnv\\myenv\\lib\\site-packages\\ansys\\dpf\\post\\result_evaluation.py:325\u001b[0m, in \u001b[0;36mResultEvaluator.evaluate_result\u001b[1;34m(self)\u001b[0m\n\u001b[0;32m    323\u001b[0m \u001b[38;5;28;01mdef\u001b[39;00m \u001b[38;5;21mevaluate_result\u001b[39m(\u001b[38;5;28mself\u001b[39m):\n\u001b[0;32m    324\u001b[0m \u001b[38;5;250m    \u001b[39m\u001b[38;5;124;03m\"\"\"Re-evaluation of the result.\"\"\"\u001b[39;00m\n\u001b[1;32m--> 325\u001b[0m     result_fc \u001b[38;5;241m=\u001b[39m \u001b[38;5;28;43mself\u001b[39;49m\u001b[38;5;241;43m.\u001b[39;49m\u001b[43m_result_operator\u001b[49m\u001b[38;5;241;43m.\u001b[39;49m\u001b[43mget_output\u001b[49m\u001b[43m(\u001b[49m\u001b[38;5;241;43m0\u001b[39;49m\u001b[43m,\u001b[49m\u001b[43m \u001b[49m\u001b[43mtypes\u001b[49m\u001b[38;5;241;43m.\u001b[39;49m\u001b[43mfields_container\u001b[49m\u001b[43m)\u001b[49m\n\u001b[0;32m    326\u001b[0m     \u001b[38;5;28;01mreturn\u001b[39;00m result_fc\n",
      "File \u001b[1;32m~\\PythonEnv\\myenv\\lib\\site-packages\\ansys\\dpf\\core\\dpf_operator.py:457\u001b[0m, in \u001b[0;36mOperator.get_output\u001b[1;34m(self, pin, output_type)\u001b[0m\n\u001b[0;32m    455\u001b[0m \u001b[38;5;28;01mif\u001b[39;00m \u001b[38;5;28mlen\u001b[39m(type_tuple) \u001b[38;5;241m>\u001b[39m\u001b[38;5;241m=\u001b[39m \u001b[38;5;241m3\u001b[39m:\n\u001b[0;32m    456\u001b[0m     \u001b[38;5;28;01mif\u001b[39;00m \u001b[38;5;28misinstance\u001b[39m(type_tuple[\u001b[38;5;241m2\u001b[39m], \u001b[38;5;28mstr\u001b[39m):\n\u001b[1;32m--> 457\u001b[0m         parameters \u001b[38;5;241m=\u001b[39m {type_tuple[\u001b[38;5;241m2\u001b[39m]: \u001b[43mtype_tuple\u001b[49m\u001b[43m[\u001b[49m\u001b[38;5;241;43m1\u001b[39;49m\u001b[43m]\u001b[49m\u001b[43m(\u001b[49m\u001b[38;5;28;43mself\u001b[39;49m\u001b[43m,\u001b[49m\u001b[43m \u001b[49m\u001b[43mpin\u001b[49m\u001b[43m)\u001b[49m}\n\u001b[0;32m    458\u001b[0m         out \u001b[38;5;241m=\u001b[39m output_type(\u001b[38;5;241m*\u001b[39m\u001b[38;5;241m*\u001b[39mparameters, server\u001b[38;5;241m=\u001b[39m\u001b[38;5;28mself\u001b[39m\u001b[38;5;241m.\u001b[39m_server)\n\u001b[0;32m    459\u001b[0m     \u001b[38;5;28;01melse\u001b[39;00m:\n",
      "File \u001b[1;32m~\\PythonEnv\\myenv\\lib\\site-packages\\ansys\\dpf\\gate\\generated\\operator_capi.py:386\u001b[0m, in \u001b[0;36mOperatorCAPI.operator_getoutput_fields_container\u001b[1;34m(op, iOutput)\u001b[0m\n\u001b[0;32m    384\u001b[0m res \u001b[38;5;241m=\u001b[39m capi\u001b[38;5;241m.\u001b[39mdll\u001b[38;5;241m.\u001b[39mOperator_getoutput_FieldsContainer(op\u001b[38;5;241m.\u001b[39m_internal_obj \u001b[38;5;28;01mif\u001b[39;00m op \u001b[38;5;129;01mis\u001b[39;00m \u001b[38;5;129;01mnot\u001b[39;00m \u001b[38;5;28;01mNone\u001b[39;00m \u001b[38;5;28;01melse\u001b[39;00m \u001b[38;5;28;01mNone\u001b[39;00m, utils\u001b[38;5;241m.\u001b[39mto_int32(iOutput), ctypes\u001b[38;5;241m.\u001b[39mbyref(utils\u001b[38;5;241m.\u001b[39mto_int32(errorSize)), ctypes\u001b[38;5;241m.\u001b[39mbyref(sError))\n\u001b[0;32m    385\u001b[0m \u001b[38;5;28;01mif\u001b[39;00m errorSize\u001b[38;5;241m.\u001b[39mvalue \u001b[38;5;241m!=\u001b[39m \u001b[38;5;241m0\u001b[39m:\n\u001b[1;32m--> 386\u001b[0m \t\u001b[38;5;28;01mraise\u001b[39;00m errors\u001b[38;5;241m.\u001b[39mDPFServerException(sError\u001b[38;5;241m.\u001b[39mvalue)\n\u001b[0;32m    387\u001b[0m \u001b[38;5;28;01mreturn\u001b[39;00m res\n",
      "\u001b[1;31mDPFServerException\u001b[0m: U:254<-mapdl::rst::U:255<-TimeFreqSupportProvider:258<-mapdl::rst::TimeFreqSupportProvider:259<-mapdl::rst::TimeFreqSupportProvider<-Unknown exception occurred. Failed to read time and frequencies support., failed to read inputs of provider operator, failed to read displacements from rst file. "
     ]
    }
   ],
   "source": [
    "displacement.num_fields\n",
    "disp_data = displacement.get_data_at_field(0)\n",
    "len(disp_data)\n",
    "\n",
    "disp_data[1]\n",
    "\n",
    "displacement.max_data\n",
    "displacement.get_max_data_at_field(0)\n",
    "\n",
    "displacement.min_data"
   ]
  },
  {
   "cell_type": "code",
   "execution_count": 16,
   "id": "1ed5fcf0",
   "metadata": {
    "ExecuteTime": {
     "end_time": "2023-07-26T05:02:05.364701Z",
     "start_time": "2023-07-26T05:02:05.014685Z"
    }
   },
   "outputs": [
    {
     "ename": "DPFServerException",
     "evalue": "U:98<-mapdl::rst::U:99<-TimeFreqSupportProvider:102<-mapdl::rst::TimeFreqSupportProvider:103<-mapdl::rst::TimeFreqSupportProvider<-Unknown exception occurred. Failed to read time and frequencies support., failed to read inputs of provider operator, failed to read displacements from rst file. ",
     "output_type": "error",
     "traceback": [
      "\u001b[1;31m---------------------------------------------------------------------------\u001b[0m",
      "\u001b[1;31mDPFServerException\u001b[0m                        Traceback (most recent call last)",
      "Cell \u001b[1;32mIn[16], line 3\u001b[0m\n\u001b[0;32m      1\u001b[0m disp_result \u001b[38;5;241m=\u001b[39m solution\u001b[38;5;241m.\u001b[39mdisplacement()\n\u001b[0;32m      2\u001b[0m disp \u001b[38;5;241m=\u001b[39m disp_result\u001b[38;5;241m.\u001b[39mvector\n\u001b[1;32m----> 3\u001b[0m \u001b[38;5;28;43mprint\u001b[39;49m\u001b[43m(\u001b[49m\u001b[43mdisp\u001b[49m\u001b[43m)\u001b[49m\n",
      "File \u001b[1;32m~\\PythonEnv\\myenv\\lib\\site-packages\\ansys\\dpf\\post\\result_data.py:107\u001b[0m, in \u001b[0;36mResultData.__str__\u001b[1;34m(self)\u001b[0m\n\u001b[0;32m    105\u001b[0m \u001b[38;5;28;01mdef\u001b[39;00m \u001b[38;5;21m__str__\u001b[39m(\u001b[38;5;28mself\u001b[39m):\n\u001b[0;32m    106\u001b[0m \u001b[38;5;250m    \u001b[39m\u001b[38;5;124;03m\"\"\"Return the string representation of this class.\"\"\"\u001b[39;00m\n\u001b[1;32m--> 107\u001b[0m     \u001b[38;5;28;43mself\u001b[39;49m\u001b[38;5;241;43m.\u001b[39;49m\u001b[43m_evaluate_result\u001b[49m\u001b[43m(\u001b[49m\u001b[43m)\u001b[49m\n\u001b[0;32m    108\u001b[0m     name \u001b[38;5;241m=\u001b[39m \u001b[38;5;28mself\u001b[39m\u001b[38;5;241m.\u001b[39mresult_fields_container[\u001b[38;5;241m0\u001b[39m]\u001b[38;5;241m.\u001b[39mname\u001b[38;5;241m.\u001b[39msplit(\u001b[38;5;124m\"\u001b[39m\u001b[38;5;124m_\u001b[39m\u001b[38;5;124m\"\u001b[39m)\n\u001b[0;32m    109\u001b[0m     txt \u001b[38;5;241m=\u001b[39m \u001b[38;5;124m\"\u001b[39m\u001b[38;5;132;01m%s\u001b[39;00m\u001b[38;5;124m result.\u001b[39m\u001b[38;5;130;01m\\n\u001b[39;00m\u001b[38;5;124m\"\u001b[39m \u001b[38;5;241m%\u001b[39m name[\u001b[38;5;241m0\u001b[39m]\u001b[38;5;241m.\u001b[39mcapitalize()\n",
      "File \u001b[1;32m~\\PythonEnv\\myenv\\lib\\site-packages\\ansys\\dpf\\post\\result_data.py:127\u001b[0m, in \u001b[0;36mResultData._evaluate_result\u001b[1;34m(self)\u001b[0m\n\u001b[0;32m    125\u001b[0m \u001b[38;5;250m\u001b[39m\u001b[38;5;124;03m\"\"\"Evaluate the result for the first time.\"\"\"\u001b[39;00m\n\u001b[0;32m    126\u001b[0m \u001b[38;5;28;01mif\u001b[39;00m \u001b[38;5;28mself\u001b[39m\u001b[38;5;241m.\u001b[39m_result_fields_container \u001b[38;5;129;01mis\u001b[39;00m \u001b[38;5;28;01mNone\u001b[39;00m:\n\u001b[1;32m--> 127\u001b[0m     \u001b[38;5;28mself\u001b[39m\u001b[38;5;241m.\u001b[39m_result_fields_container \u001b[38;5;241m=\u001b[39m \u001b[38;5;28;43mself\u001b[39;49m\u001b[38;5;241;43m.\u001b[39;49m\u001b[43m_evaluator\u001b[49m\u001b[38;5;241;43m.\u001b[39;49m\u001b[43mevaluate_result\u001b[49m\u001b[43m(\u001b[49m\u001b[43m)\u001b[49m\n",
      "File \u001b[1;32m~\\PythonEnv\\myenv\\lib\\site-packages\\ansys\\dpf\\post\\result_evaluation.py:325\u001b[0m, in \u001b[0;36mResultEvaluator.evaluate_result\u001b[1;34m(self)\u001b[0m\n\u001b[0;32m    323\u001b[0m \u001b[38;5;28;01mdef\u001b[39;00m \u001b[38;5;21mevaluate_result\u001b[39m(\u001b[38;5;28mself\u001b[39m):\n\u001b[0;32m    324\u001b[0m \u001b[38;5;250m    \u001b[39m\u001b[38;5;124;03m\"\"\"Re-evaluation of the result.\"\"\"\u001b[39;00m\n\u001b[1;32m--> 325\u001b[0m     result_fc \u001b[38;5;241m=\u001b[39m \u001b[38;5;28;43mself\u001b[39;49m\u001b[38;5;241;43m.\u001b[39;49m\u001b[43m_result_operator\u001b[49m\u001b[38;5;241;43m.\u001b[39;49m\u001b[43mget_output\u001b[49m\u001b[43m(\u001b[49m\u001b[38;5;241;43m0\u001b[39;49m\u001b[43m,\u001b[49m\u001b[43m \u001b[49m\u001b[43mtypes\u001b[49m\u001b[38;5;241;43m.\u001b[39;49m\u001b[43mfields_container\u001b[49m\u001b[43m)\u001b[49m\n\u001b[0;32m    326\u001b[0m     \u001b[38;5;28;01mreturn\u001b[39;00m result_fc\n",
      "File \u001b[1;32m~\\PythonEnv\\myenv\\lib\\site-packages\\ansys\\dpf\\core\\dpf_operator.py:457\u001b[0m, in \u001b[0;36mOperator.get_output\u001b[1;34m(self, pin, output_type)\u001b[0m\n\u001b[0;32m    455\u001b[0m \u001b[38;5;28;01mif\u001b[39;00m \u001b[38;5;28mlen\u001b[39m(type_tuple) \u001b[38;5;241m>\u001b[39m\u001b[38;5;241m=\u001b[39m \u001b[38;5;241m3\u001b[39m:\n\u001b[0;32m    456\u001b[0m     \u001b[38;5;28;01mif\u001b[39;00m \u001b[38;5;28misinstance\u001b[39m(type_tuple[\u001b[38;5;241m2\u001b[39m], \u001b[38;5;28mstr\u001b[39m):\n\u001b[1;32m--> 457\u001b[0m         parameters \u001b[38;5;241m=\u001b[39m {type_tuple[\u001b[38;5;241m2\u001b[39m]: \u001b[43mtype_tuple\u001b[49m\u001b[43m[\u001b[49m\u001b[38;5;241;43m1\u001b[39;49m\u001b[43m]\u001b[49m\u001b[43m(\u001b[49m\u001b[38;5;28;43mself\u001b[39;49m\u001b[43m,\u001b[49m\u001b[43m \u001b[49m\u001b[43mpin\u001b[49m\u001b[43m)\u001b[49m}\n\u001b[0;32m    458\u001b[0m         out \u001b[38;5;241m=\u001b[39m output_type(\u001b[38;5;241m*\u001b[39m\u001b[38;5;241m*\u001b[39mparameters, server\u001b[38;5;241m=\u001b[39m\u001b[38;5;28mself\u001b[39m\u001b[38;5;241m.\u001b[39m_server)\n\u001b[0;32m    459\u001b[0m     \u001b[38;5;28;01melse\u001b[39;00m:\n",
      "File \u001b[1;32m~\\PythonEnv\\myenv\\lib\\site-packages\\ansys\\dpf\\gate\\generated\\operator_capi.py:386\u001b[0m, in \u001b[0;36mOperatorCAPI.operator_getoutput_fields_container\u001b[1;34m(op, iOutput)\u001b[0m\n\u001b[0;32m    384\u001b[0m res \u001b[38;5;241m=\u001b[39m capi\u001b[38;5;241m.\u001b[39mdll\u001b[38;5;241m.\u001b[39mOperator_getoutput_FieldsContainer(op\u001b[38;5;241m.\u001b[39m_internal_obj \u001b[38;5;28;01mif\u001b[39;00m op \u001b[38;5;129;01mis\u001b[39;00m \u001b[38;5;129;01mnot\u001b[39;00m \u001b[38;5;28;01mNone\u001b[39;00m \u001b[38;5;28;01melse\u001b[39;00m \u001b[38;5;28;01mNone\u001b[39;00m, utils\u001b[38;5;241m.\u001b[39mto_int32(iOutput), ctypes\u001b[38;5;241m.\u001b[39mbyref(utils\u001b[38;5;241m.\u001b[39mto_int32(errorSize)), ctypes\u001b[38;5;241m.\u001b[39mbyref(sError))\n\u001b[0;32m    385\u001b[0m \u001b[38;5;28;01mif\u001b[39;00m errorSize\u001b[38;5;241m.\u001b[39mvalue \u001b[38;5;241m!=\u001b[39m \u001b[38;5;241m0\u001b[39m:\n\u001b[1;32m--> 386\u001b[0m \t\u001b[38;5;28;01mraise\u001b[39;00m errors\u001b[38;5;241m.\u001b[39mDPFServerException(sError\u001b[38;5;241m.\u001b[39mvalue)\n\u001b[0;32m    387\u001b[0m \u001b[38;5;28;01mreturn\u001b[39;00m res\n",
      "\u001b[1;31mDPFServerException\u001b[0m: U:98<-mapdl::rst::U:99<-TimeFreqSupportProvider:102<-mapdl::rst::TimeFreqSupportProvider:103<-mapdl::rst::TimeFreqSupportProvider<-Unknown exception occurred. Failed to read time and frequencies support., failed to read inputs of provider operator, failed to read displacements from rst file. "
     ]
    }
   ],
   "source": [
    "disp_result = solution.displacement()\n",
    "disp = disp_result.vector\n",
    "print(disp)"
   ]
  },
  {
   "cell_type": "code",
   "execution_count": null,
   "id": "4f502617",
   "metadata": {},
   "outputs": [],
   "source": []
  }
 ],
 "metadata": {
  "kernelspec": {
   "display_name": "Python 3 (ipykernel)",
   "language": "python",
   "name": "python3"
  },
  "language_info": {
   "codemirror_mode": {
    "name": "ipython",
    "version": 3
   },
   "file_extension": ".py",
   "mimetype": "text/x-python",
   "name": "python",
   "nbconvert_exporter": "python",
   "pygments_lexer": "ipython3",
   "version": "3.9.1"
  },
  "toc": {
   "base_numbering": 1,
   "nav_menu": {},
   "number_sections": true,
   "sideBar": true,
   "skip_h1_title": false,
   "title_cell": "Table of Contents",
   "title_sidebar": "Contents",
   "toc_cell": false,
   "toc_position": {},
   "toc_section_display": true,
   "toc_window_display": false
  }
 },
 "nbformat": 4,
 "nbformat_minor": 5
}
