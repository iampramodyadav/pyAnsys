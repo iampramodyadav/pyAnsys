{
 "cells": [
  {
   "cell_type": "markdown",
   "id": "73dc668d-b462-40ea-b12d-a90725c3c96b",
   "metadata": {},
   "source": [
    "# Contact detect"
   ]
  },
  {
   "cell_type": "markdown",
   "id": "2af80872-95f8-4bde-85eb-2a0a2e1c9faa",
   "metadata": {},
   "source": [
    "## Importing Library and module"
   ]
  },
  {
   "cell_type": "code",
   "execution_count": 1,
   "id": "d0637384-2666-49d2-a4fc-f5db019de4a1",
   "metadata": {
    "execution": {
     "iopub.execute_input": "2023-09-04T12:59:05.405530Z",
     "iopub.status.busy": "2023-09-04T12:59:05.405530Z",
     "iopub.status.idle": "2023-09-04T12:59:05.559911Z",
     "shell.execute_reply": "2023-09-04T12:59:05.558561Z",
     "shell.execute_reply.started": "2023-09-04T12:59:05.405530Z"
    }
   },
   "outputs": [],
   "source": [
    "import sys\n",
    "import numpy as np"
   ]
  },
  {
   "cell_type": "code",
   "execution_count": 2,
   "id": "875d903e-b1e6-4fa3-8f40-a3cdaf0e7bbf",
   "metadata": {
    "execution": {
     "iopub.execute_input": "2023-09-04T12:59:05.583495Z",
     "iopub.status.busy": "2023-09-04T12:59:05.582995Z",
     "iopub.status.idle": "2023-09-04T12:59:19.595278Z",
     "shell.execute_reply": "2023-09-04T12:59:19.594277Z",
     "shell.execute_reply.started": "2023-09-04T12:59:05.583495Z"
    }
   },
   "outputs": [
    {
     "name": "stdout",
     "output_type": "stream",
     "text": [
      "PyMAPDL is taking longer than expected to connect to an MAPDL session.\n",
      "Checking if there are any available licenses...\n",
      "Product:             Ansys Mechanical Enterprise\n",
      "MAPDL Version:       22.2\n",
      "ansys.mapdl Version: 0.65.2\n",
      "\n"
     ]
    }
   ],
   "source": [
    "PYTHONTOOLSDIR = r\"C:\\Users\\pramod.kumar\\OneDrive - SIEMENSGAMESA\\Work\\ProjectPyAnsys\"\n",
    "\n",
    "sys.path.append(PYTHONTOOLSDIR)\n",
    "\n",
    "import py_apdl_pre as pre"
   ]
  },
  {
   "cell_type": "code",
   "execution_count": 3,
   "id": "e069e978-ffbf-4ca6-8b42-b75d10a02134",
   "metadata": {
    "execution": {
     "iopub.execute_input": "2023-09-04T12:59:19.596332Z",
     "iopub.status.busy": "2023-09-04T12:59:19.596332Z",
     "iopub.status.idle": "2023-09-04T12:59:19.610909Z",
     "shell.execute_reply": "2023-09-04T12:59:19.610410Z",
     "shell.execute_reply.started": "2023-09-04T12:59:19.596332Z"
    }
   },
   "outputs": [],
   "source": [
    "PYTHONTOOLSDIR = r\"C:\\Users\\pramod.kumar\\OneDrive - SIEMENSGAMESA\\Work\\ContactDetect\"\n",
    "sys.path.append(PYTHONTOOLSDIR)\n",
    "import ContactDetection as cd"
   ]
  },
  {
   "cell_type": "code",
   "execution_count": 4,
   "id": "7fc2e2e5-2cfe-411b-95bf-8796cb118f9a",
   "metadata": {
    "execution": {
     "iopub.execute_input": "2023-09-04T12:59:19.613255Z",
     "iopub.status.busy": "2023-09-04T12:59:19.612916Z",
     "iopub.status.idle": "2023-09-04T12:59:19.627491Z",
     "shell.execute_reply": "2023-09-04T12:59:19.626474Z",
     "shell.execute_reply.started": "2023-09-04T12:59:19.613255Z"
    }
   },
   "outputs": [
    {
     "data": {
      "text/plain": [
       "['__builtins__',\n",
       " '__cached__',\n",
       " '__doc__',\n",
       " '__file__',\n",
       " '__loader__',\n",
       " '__name__',\n",
       " '__package__',\n",
       " '__spec__',\n",
       " 'check_collinear',\n",
       " 'check_coplaner',\n",
       " 'check_normal',\n",
       " 'circle_center_radius',\n",
       " 'coordinate_dcm',\n",
       " 'dcm2angleZXY',\n",
       " 'dcv',\n",
       " 'np',\n",
       " 'perpendicular_vector',\n",
       " 'vector_spred',\n",
       " 'vectors_angle_3d']"
      ]
     },
     "execution_count": 4,
     "metadata": {},
     "output_type": "execute_result"
    }
   ],
   "source": [
    "dir(cd)"
   ]
  },
  {
   "cell_type": "code",
   "execution_count": 5,
   "id": "d324b78e-4e5a-4c96-b3dc-e54dc256264c",
   "metadata": {
    "execution": {
     "iopub.execute_input": "2023-09-04T12:59:19.629569Z",
     "iopub.status.busy": "2023-09-04T12:59:19.628557Z",
     "iopub.status.idle": "2023-09-04T12:59:19.642684Z",
     "shell.execute_reply": "2023-09-04T12:59:19.642185Z",
     "shell.execute_reply.started": "2023-09-04T12:59:19.629569Z"
    }
   },
   "outputs": [
    {
     "data": {
      "text/plain": [
       "['PYTHONTOOLSDIR',\n",
       " '__builtins__',\n",
       " '__cached__',\n",
       " '__doc__',\n",
       " '__file__',\n",
       " '__loader__',\n",
       " '__name__',\n",
       " '__package__',\n",
       " '__spec__',\n",
       " 'area21_kp_vector',\n",
       " 'area_cent',\n",
       " 'cd',\n",
       " 'check_overlap',\n",
       " 'clocal_area',\n",
       " 'contact_between_cm',\n",
       " 'launch_mapdl',\n",
       " 'mapdl',\n",
       " 'np',\n",
       " 'paraimport',\n",
       " 'pd',\n",
       " 'pv',\n",
       " 'sys']"
      ]
     },
     "execution_count": 5,
     "metadata": {},
     "output_type": "execute_result"
    }
   ],
   "source": [
    "dir(pre)"
   ]
  },
  {
   "cell_type": "code",
   "execution_count": 6,
   "id": "89d9b547-8f2d-4039-b215-38a83f9dc38b",
   "metadata": {
    "execution": {
     "iopub.execute_input": "2023-09-04T12:59:19.644700Z",
     "iopub.status.busy": "2023-09-04T12:59:19.644700Z",
     "iopub.status.idle": "2023-09-04T12:59:19.661055Z",
     "shell.execute_reply": "2023-09-04T12:59:19.659057Z",
     "shell.execute_reply.started": "2023-09-04T12:59:19.644700Z"
    }
   },
   "outputs": [],
   "source": [
    "# help(cd)"
   ]
  },
  {
   "cell_type": "code",
   "execution_count": 7,
   "id": "091cfe2c-1cf2-4bb4-b62f-43aa3c451f31",
   "metadata": {
    "execution": {
     "iopub.execute_input": "2023-09-04T12:59:19.724466Z",
     "iopub.status.busy": "2023-09-04T12:59:19.724466Z",
     "iopub.status.idle": "2023-09-04T12:59:19.765339Z",
     "shell.execute_reply": "2023-09-04T12:59:19.763948Z",
     "shell.execute_reply.started": "2023-09-04T12:59:19.724466Z"
    }
   },
   "outputs": [
    {
     "name": "stdout",
     "output_type": "stream",
     "text": [
      "Import a parametric solid into a APDL and create component.\n",
      "\n",
      "    Args:\n",
      "        paraname (str): The name of the parametric solid.\n",
      "        parapath (str): The path to the parametric solid file.\n",
      "        cmname (str): The name of the component to create in the APDL\n",
      "\n",
      "    Returns:\n",
      "        None.\n",
      "\n",
      "    \n"
     ]
    }
   ],
   "source": [
    "print(pre.paraimport.__doc__)"
   ]
  },
  {
   "cell_type": "code",
   "execution_count": 8,
   "id": "94066ce7-0ed0-4c83-a04f-c6ec0fda057c",
   "metadata": {
    "execution": {
     "iopub.execute_input": "2023-09-04T12:59:19.771117Z",
     "iopub.status.busy": "2023-09-04T12:59:19.770890Z",
     "iopub.status.idle": "2023-09-04T12:59:19.782485Z",
     "shell.execute_reply": "2023-09-04T12:59:19.780410Z",
     "shell.execute_reply.started": "2023-09-04T12:59:19.771117Z"
    }
   },
   "outputs": [
    {
     "name": "stdout",
     "output_type": "stream",
     "text": [
      "This function takes a list of area numbers as input and returns the centroid of the areas and area val.\n",
      "\n",
      "    The centroid is calculated by first summing the x, y, and z coordinates of all the areas in the list.\n",
      "    The average of these sums is then returned as the centroid.\n",
      "\n",
      "    Args:\n",
      "        a_num (list):list of area numbers\n",
      "\n",
      "    Returns:\n",
      "        List of the centroid coordinate x, y, and z \n",
      "\n",
      "    \n"
     ]
    }
   ],
   "source": [
    "print(pre.area_cent.__doc__)"
   ]
  },
  {
   "cell_type": "code",
   "execution_count": 9,
   "id": "d5a084ad-77c0-4569-9c14-6407b08d7484",
   "metadata": {
    "execution": {
     "iopub.execute_input": "2023-09-04T12:59:19.784485Z",
     "iopub.status.busy": "2023-09-04T12:59:19.783985Z",
     "iopub.status.idle": "2023-09-04T12:59:19.798976Z",
     "shell.execute_reply": "2023-09-04T12:59:19.797067Z",
     "shell.execute_reply.started": "2023-09-04T12:59:19.784485Z"
    }
   },
   "outputs": [],
   "source": [
    "mapdl = pre.mapdl"
   ]
  },
  {
   "cell_type": "markdown",
   "id": "f961f35d-7aab-43d7-b074-84e4d62a71d4",
   "metadata": {},
   "source": [
    "## Setting working directory and jobname"
   ]
  },
  {
   "cell_type": "code",
   "execution_count": 10,
   "id": "547f58da-0fc6-4acd-8c9c-c655b11af784",
   "metadata": {
    "execution": {
     "iopub.execute_input": "2023-09-04T12:59:19.808309Z",
     "iopub.status.busy": "2023-09-04T12:59:19.807804Z",
     "iopub.status.idle": "2023-09-04T12:59:19.904168Z",
     "shell.execute_reply": "2023-09-04T12:59:19.903089Z",
     "shell.execute_reply.started": "2023-09-04T12:59:19.808309Z"
    }
   },
   "outputs": [
    {
     "data": {
      "text/plain": [
       "CLEAR MAPDL DATABASE AND RESTART\n",
       "\n",
       " Ansys Mechanical Enterprise"
      ]
     },
     "execution_count": 10,
     "metadata": {},
     "output_type": "execute_result"
    }
   ],
   "source": [
    "mapdl.db.clear()"
   ]
  },
  {
   "cell_type": "code",
   "execution_count": 11,
   "id": "5d9620cf-45b4-4f26-9558-928d0ced5165",
   "metadata": {
    "execution": {
     "iopub.execute_input": "2023-09-04T12:59:19.905180Z",
     "iopub.status.busy": "2023-09-04T12:59:19.904168Z",
     "iopub.status.idle": "2023-09-04T12:59:20.731194Z",
     "shell.execute_reply": "2023-09-04T12:59:20.729194Z",
     "shell.execute_reply.started": "2023-09-04T12:59:19.905180Z"
    }
   },
   "outputs": [
    {
     "data": {
      "text/plain": [
       "CURRENT JOBNAME REDEFINED AS MDT\n",
       "     Opening new LOG, ERROR, LOCK and PAGE FILES"
      ]
     },
     "execution_count": 11,
     "metadata": {},
     "output_type": "execute_result"
    }
   ],
   "source": [
    "# dirpath=\"K:\\\\Users\\\\pramod.kumar\\\\Sandbox\\\\PyAnsys\\\\01\"\n",
    "dirpath = r\"C:\\Users\\pramod.kumar\\Music\\contct_detect\"\n",
    "jobname = \"MDT\"\n",
    "pre.mapdl.cwd(dirpath=dirpath)\n",
    "pre.mapdl.filname(fname=jobname, key=1)"
   ]
  },
  {
   "cell_type": "code",
   "execution_count": 12,
   "id": "72584723-675c-4a20-8e2f-39075596e5a5",
   "metadata": {
    "execution": {
     "iopub.execute_input": "2023-09-04T12:59:20.732963Z",
     "iopub.status.busy": "2023-09-04T12:59:20.732208Z",
     "iopub.status.idle": "2023-09-04T12:59:20.745918Z",
     "shell.execute_reply": "2023-09-04T12:59:20.744262Z",
     "shell.execute_reply.started": "2023-09-04T12:59:20.732963Z"
    }
   },
   "outputs": [],
   "source": [
    "# q = mapdl.queries\n",
    "# q.vsel(v1)\n",
    "# mapdl.vsel('NONE')\n",
    "# q.vsel(v1)\n",
    "# q.vsel(0)"
   ]
  },
  {
   "cell_type": "code",
   "execution_count": 13,
   "id": "57d12a1e-3239-4176-bc6a-73792a1d93f2",
   "metadata": {
    "execution": {
     "iopub.execute_input": "2023-09-04T12:59:20.748419Z",
     "iopub.status.busy": "2023-09-04T12:59:20.748419Z",
     "iopub.status.idle": "2023-09-04T12:59:20.777193Z",
     "shell.execute_reply": "2023-09-04T12:59:20.775933Z",
     "shell.execute_reply.started": "2023-09-04T12:59:20.748419Z"
    }
   },
   "outputs": [
    {
     "data": {
      "text/plain": [
       "TITLE= \n",
       " Contact Detect Trial"
      ]
     },
     "execution_count": 13,
     "metadata": {},
     "output_type": "execute_result"
    }
   ],
   "source": [
    "mapdl.title(title=\"Contact Detect Trial\")"
   ]
  },
  {
   "cell_type": "code",
   "execution_count": 14,
   "id": "dd74eef5-4c4e-48c0-b58e-df630c102ce0",
   "metadata": {
    "execution": {
     "iopub.execute_input": "2023-09-04T12:59:20.778221Z",
     "iopub.status.busy": "2023-09-04T12:59:20.778221Z",
     "iopub.status.idle": "2023-09-04T12:59:20.792325Z",
     "shell.execute_reply": "2023-09-04T12:59:20.791804Z",
     "shell.execute_reply.started": "2023-09-04T12:59:20.778221Z"
    }
   },
   "outputs": [],
   "source": [
    "# mapdl.stitle(nline=1, title='Detect')"
   ]
  },
  {
   "cell_type": "code",
   "execution_count": 15,
   "id": "ed7a3f42-594f-4444-bc72-664982a323c2",
   "metadata": {
    "execution": {
     "iopub.execute_input": "2023-09-04T12:59:20.795004Z",
     "iopub.status.busy": "2023-09-04T12:59:20.795004Z",
     "iopub.status.idle": "2023-09-04T12:59:20.808988Z",
     "shell.execute_reply": "2023-09-04T12:59:20.807522Z",
     "shell.execute_reply.started": "2023-09-04T12:59:20.795004Z"
    }
   },
   "outputs": [],
   "source": [
    "# mapdl.stitle(nline='2', title='Test')"
   ]
  },
  {
   "cell_type": "code",
   "execution_count": 16,
   "id": "24019c64-e908-4d09-88d1-6b1b9f634bbd",
   "metadata": {
    "execution": {
     "iopub.execute_input": "2023-09-04T12:59:20.810908Z",
     "iopub.status.busy": "2023-09-04T12:59:20.809986Z",
     "iopub.status.idle": "2023-09-04T12:59:20.823425Z",
     "shell.execute_reply": "2023-09-04T12:59:20.822925Z",
     "shell.execute_reply.started": "2023-09-04T12:59:20.810908Z"
    }
   },
   "outputs": [],
   "source": [
    "# mapdl.stitle(nline='3', title='Trial')"
   ]
  },
  {
   "cell_type": "code",
   "execution_count": 17,
   "id": "1b2407aa-3621-440a-a5c7-d8147442e673",
   "metadata": {
    "execution": {
     "iopub.execute_input": "2023-09-04T12:59:20.827508Z",
     "iopub.status.busy": "2023-09-04T12:59:20.825876Z",
     "iopub.status.idle": "2023-09-04T12:59:20.855077Z",
     "shell.execute_reply": "2023-09-04T12:59:20.854350Z",
     "shell.execute_reply.started": "2023-09-04T12:59:20.827508Z"
    }
   },
   "outputs": [
    {
     "data": {
      "text/plain": [
       "*** MAPDL - ENGINEERING ANALYSIS SYSTEM  RELEASE 2022 R2          22.2     ***\n",
       " Ansys Mechanical Enterprise                       \n",
       " 00000000  VERSION=WINDOWS x64   18:29:20  SEP 04, 2023 CP=      0.641\n",
       "\n",
       " Contact Detect Trial                                                          \n",
       "\n",
       "\n",
       "\n",
       "          ***** MAPDL ANALYSIS DEFINITION (PREP7) *****"
      ]
     },
     "execution_count": 17,
     "metadata": {},
     "output_type": "execute_result"
    }
   ],
   "source": [
    "mapdl.prep7()"
   ]
  },
  {
   "cell_type": "code",
   "execution_count": 18,
   "id": "9c8699b6-6c61-40b2-b612-6227b771af3c",
   "metadata": {
    "execution": {
     "iopub.execute_input": "2023-09-04T12:59:20.857090Z",
     "iopub.status.busy": "2023-09-04T12:59:20.856087Z",
     "iopub.status.idle": "2023-09-04T12:59:20.870582Z",
     "shell.execute_reply": "2023-09-04T12:59:20.869894Z",
     "shell.execute_reply.started": "2023-09-04T12:59:20.857090Z"
    }
   },
   "outputs": [
    {
     "name": "stdout",
     "output_type": "stream",
     "text": [
      "22.2\n",
      "C:/Users/pramod.kumar/Music/contct_detect\n",
      "MDT\n"
     ]
    }
   ],
   "source": [
    "print(mapdl.version)\n",
    "print(mapdl.directory)\n",
    "print(mapdl.jobname)"
   ]
  },
  {
   "cell_type": "markdown",
   "id": "7071483d-1746-42a9-b1a6-c130f72f6d71",
   "metadata": {},
   "source": [
    "## Imprting parasolid and creating cm"
   ]
  },
  {
   "cell_type": "code",
   "execution_count": 19,
   "id": "9c5625b8-0198-4464-b6b1-a51440801017",
   "metadata": {
    "execution": {
     "iopub.execute_input": "2023-09-04T12:59:58.782536Z",
     "iopub.status.busy": "2023-09-04T12:59:58.782055Z",
     "iopub.status.idle": "2023-09-04T13:00:02.239165Z",
     "shell.execute_reply": "2023-09-04T13:00:02.238666Z",
     "shell.execute_reply.started": "2023-09-04T12:59:58.782536Z"
    }
   },
   "outputs": [
    {
     "name": "stdout",
     "output_type": "stream",
     "text": [
      "Body1 imported as component part1 with vlum num [1]\n"
     ]
    }
   ],
   "source": [
    "cmname = \"part1\"\n",
    "paraname = \"Body1\"\n",
    "parapath = (\n",
    "    r\"C:\\Users\\pramod.kumar\\OneDrive - SIEMENSGAMESA\\Work\\ContactDetect\\pyAnsysMAPDL\"\n",
    ")\n",
    "pre.paraimport(paraname, parapath, cmname)"
   ]
  },
  {
   "cell_type": "code",
   "execution_count": 20,
   "id": "6bba2c16-0745-466f-b341-53122eff5720",
   "metadata": {
    "execution": {
     "iopub.execute_input": "2023-09-04T13:00:02.240180Z",
     "iopub.status.busy": "2023-09-04T13:00:02.240180Z",
     "iopub.status.idle": "2023-09-04T13:00:05.634754Z",
     "shell.execute_reply": "2023-09-04T13:00:05.633753Z",
     "shell.execute_reply.started": "2023-09-04T13:00:02.240180Z"
    }
   },
   "outputs": [
    {
     "name": "stdout",
     "output_type": "stream",
     "text": [
      "Body2 imported as component part2 with vlum num [2]\n"
     ]
    }
   ],
   "source": [
    "cmname = \"part2\"\n",
    "paraname = \"Body2\"\n",
    "parapath = (\n",
    "    r\"C:\\Users\\pramod.kumar\\OneDrive - SIEMENSGAMESA\\Work\\ContactDetect\\pyAnsysMAPDL\"\n",
    ")\n",
    "pre.paraimport(paraname, parapath, cmname)"
   ]
  },
  {
   "cell_type": "code",
   "execution_count": 21,
   "id": "a62b53a4-723e-40fd-9bc4-923acae7373d",
   "metadata": {
    "execution": {
     "iopub.execute_input": "2023-09-04T13:00:05.636294Z",
     "iopub.status.busy": "2023-09-04T13:00:05.635471Z",
     "iopub.status.idle": "2023-09-04T13:00:08.973896Z",
     "shell.execute_reply": "2023-09-04T13:00:08.971536Z",
     "shell.execute_reply.started": "2023-09-04T13:00:05.636294Z"
    }
   },
   "outputs": [
    {
     "name": "stdout",
     "output_type": "stream",
     "text": [
      "Body3 imported as component part3 with vlum num [3]\n"
     ]
    }
   ],
   "source": [
    "cmname = \"part3\"\n",
    "paraname = \"Body3\"\n",
    "parapath = (\n",
    "    r\"C:\\Users\\pramod.kumar\\OneDrive - SIEMENSGAMESA\\Work\\ContactDetect\\pyAnsysMAPDL\"\n",
    ")\n",
    "pre.paraimport(paraname, parapath, cmname)"
   ]
  },
  {
   "cell_type": "code",
   "execution_count": 22,
   "id": "6d1b3d12-b5a3-4b54-bc76-d3cf3835cb9c",
   "metadata": {
    "execution": {
     "iopub.execute_input": "2023-09-04T13:00:08.981365Z",
     "iopub.status.busy": "2023-09-04T13:00:08.980882Z",
     "iopub.status.idle": "2023-09-04T13:00:12.311392Z",
     "shell.execute_reply": "2023-09-04T13:00:12.309848Z",
     "shell.execute_reply.started": "2023-09-04T13:00:08.981365Z"
    }
   },
   "outputs": [
    {
     "name": "stdout",
     "output_type": "stream",
     "text": [
      "Body4 imported as component part4 with vlum num [4]\n"
     ]
    }
   ],
   "source": [
    "cmname = \"part4\"\n",
    "paraname = \"Body4\"\n",
    "parapathath = (\n",
    "    r\"C:\\Users\\pramod.kumar\\OneDrive - SIEMENSGAMESA\\Work\\ContactDetect\\pyAnsysMAPDL\"\n",
    ")\n",
    "pre.paraimport(paraname, parapath, cmname)"
   ]
  },
  {
   "cell_type": "code",
   "execution_count": 23,
   "id": "98db39d8-9ba5-4eb6-bd94-44ecc4d2b0ea",
   "metadata": {
    "execution": {
     "iopub.execute_input": "2023-09-04T13:00:12.313533Z",
     "iopub.status.busy": "2023-09-04T13:00:12.313533Z",
     "iopub.status.idle": "2023-09-04T13:00:15.704693Z",
     "shell.execute_reply": "2023-09-04T13:00:15.703688Z",
     "shell.execute_reply.started": "2023-09-04T13:00:12.313533Z"
    }
   },
   "outputs": [
    {
     "name": "stdout",
     "output_type": "stream",
     "text": [
      "Body5 imported as component part5 with vlum num [5]\n"
     ]
    }
   ],
   "source": [
    "cmname = \"part5\"\n",
    "paraname = \"Body5\"\n",
    "parapath = (\n",
    "    r\"C:\\Users\\pramod.kumar\\OneDrive - SIEMENSGAMESA\\Work\\ContactDetect\\pyAnsysMAPDL\"\n",
    ")\n",
    "pre.paraimport(paraname, parapath, cmname)"
   ]
  },
  {
   "cell_type": "code",
   "execution_count": 24,
   "id": "b3504aff-f01a-4e5b-a071-90f21615efc7",
   "metadata": {
    "execution": {
     "iopub.execute_input": "2023-09-04T13:00:15.706009Z",
     "iopub.status.busy": "2023-09-04T13:00:15.705849Z",
     "iopub.status.idle": "2023-09-04T13:00:19.506146Z",
     "shell.execute_reply": "2023-09-04T13:00:19.505600Z",
     "shell.execute_reply.started": "2023-09-04T13:00:15.706009Z"
    }
   },
   "outputs": [
    {
     "name": "stdout",
     "output_type": "stream",
     "text": [
      "Body6 imported as component part6 with vlum num [6]\n"
     ]
    }
   ],
   "source": [
    "cmname = \"part6\"\n",
    "paraname = \"Body6\"\n",
    "parapath = (\n",
    "    r\"C:\\Users\\pramod.kumar\\OneDrive - SIEMENSGAMESA\\Work\\ContactDetect\\pyAnsysMAPDL\"\n",
    ")\n",
    "pre.paraimport(paraname, parapath, cmname)"
   ]
  },
  {
   "cell_type": "code",
   "execution_count": 25,
   "id": "638ddd37-e324-4d3d-8bbc-675b73d496c1",
   "metadata": {
    "execution": {
     "iopub.execute_input": "2023-09-04T13:00:19.508611Z",
     "iopub.status.busy": "2023-09-04T13:00:19.507985Z",
     "iopub.status.idle": "2023-09-04T13:00:19.522610Z",
     "shell.execute_reply": "2023-09-04T13:00:19.521577Z",
     "shell.execute_reply.started": "2023-09-04T13:00:19.508611Z"
    }
   },
   "outputs": [
    {
     "data": {
      "text/plain": [
       "PLOTTING DEFAULTS RESET"
      ]
     },
     "execution_count": 25,
     "metadata": {},
     "output_type": "execute_result"
    }
   ],
   "source": [
    "mapdl.reset()"
   ]
  },
  {
   "cell_type": "code",
   "execution_count": 26,
   "id": "f9c96408-bb16-4004-91e0-da36b4003f5f",
   "metadata": {
    "execution": {
     "iopub.execute_input": "2023-09-04T13:00:19.523786Z",
     "iopub.status.busy": "2023-09-04T13:00:19.522610Z",
     "iopub.status.idle": "2023-09-04T13:00:19.538090Z",
     "shell.execute_reply": "2023-09-04T13:00:19.536930Z",
     "shell.execute_reply.started": "2023-09-04T13:00:19.523786Z"
    }
   },
   "outputs": [
    {
     "data": {
      "text/plain": [
       "*** NOTE *** Display device has not yet been specified with the /SHOW command.  Display commands ignored."
      ]
     },
     "execution_count": 26,
     "metadata": {},
     "output_type": "execute_result"
    }
   ],
   "source": [
    "mapdl.replot()"
   ]
  },
  {
   "cell_type": "code",
   "execution_count": 27,
   "id": "fbe58f52-4467-49a0-8c5f-b12583f749be",
   "metadata": {
    "execution": {
     "iopub.execute_input": "2023-09-04T13:00:19.539095Z",
     "iopub.status.busy": "2023-09-04T13:00:19.539095Z",
     "iopub.status.idle": "2023-09-04T13:00:19.553949Z",
     "shell.execute_reply": "2023-09-04T13:00:19.552947Z",
     "shell.execute_reply.started": "2023-09-04T13:00:19.539095Z"
    }
   },
   "outputs": [
    {
     "data": {
      "text/plain": [
       "You have already entered the general preprocessor (PREP7)."
      ]
     },
     "execution_count": 27,
     "metadata": {},
     "output_type": "execute_result"
    }
   ],
   "source": [
    "mapdl.prep7()"
   ]
  },
  {
   "cell_type": "code",
   "execution_count": 28,
   "id": "074dbafc-03e3-47fc-a76c-62e5120c34bd",
   "metadata": {
    "execution": {
     "iopub.execute_input": "2023-09-04T13:00:19.555270Z",
     "iopub.status.busy": "2023-09-04T13:00:19.554970Z",
     "iopub.status.idle": "2023-09-04T13:00:19.601337Z",
     "shell.execute_reply": "2023-09-04T13:00:19.599841Z",
     "shell.execute_reply.started": "2023-09-04T13:00:19.555270Z"
    }
   },
   "outputs": [
    {
     "data": {
      "text/plain": [
       "SAVE ALL MODEL, SOLUTION AND POST DATA.\n",
       "\n",
       " ALL CURRENT MAPDL DATA WRITTEN TO FILE NAME= EOF_import.db\n",
       "  FOR POSSIBLE RESUME FROM THIS POINT"
      ]
     },
     "execution_count": 28,
     "metadata": {},
     "output_type": "execute_result"
    }
   ],
   "source": [
    "mapdl.db.save(\"EOF_import.db\")"
   ]
  },
  {
   "cell_type": "markdown",
   "id": "e29c7464-492d-48b7-90c4-fa5e9374266a",
   "metadata": {},
   "source": [
    "## Volume, area, line and keypoint selection from cm"
   ]
  },
  {
   "cell_type": "markdown",
   "id": "0dd3d847-04c9-4938-91b4-ac40a854c3d1",
   "metadata": {},
   "source": [
    "### cmlist all and cm"
   ]
  },
  {
   "cell_type": "markdown",
   "id": "e26dfb09-439f-4efe-bf31-d62713149d67",
   "metadata": {},
   "source": [
    "**All component**"
   ]
  },
  {
   "cell_type": "code",
   "execution_count": 29,
   "id": "f5abe0b0-e341-48b6-b74a-435704d5f220",
   "metadata": {
    "execution": {
     "iopub.execute_input": "2023-09-04T13:00:19.611997Z",
     "iopub.status.busy": "2023-09-04T13:00:19.611484Z",
     "iopub.status.idle": "2023-09-04T13:00:19.632735Z",
     "shell.execute_reply": "2023-09-04T13:00:19.630152Z",
     "shell.execute_reply.started": "2023-09-04T13:00:19.611997Z"
    }
   },
   "outputs": [
    {
     "data": {
      "text/plain": [
       "LIST SELECTED COMPONENTS\n",
       " ENTITY TYPE = VOLU\n",
       "\n",
       " *** MAPDL - ENGINEERING ANALYSIS SYSTEM  RELEASE 2022 R2          22.2     ***\n",
       " Ansys Mechanical Enterprise                       \n",
       " 00000000  VERSION=WINDOWS x64   18:30:19  SEP 04, 2023 CP=      2.875\n",
       "\n",
       "  File: C:\\Users\\pramod.kumar\\OneDrive - SIEMENSGAMESA\\Work\\ContactDetect\\pyAns\n",
       "\n",
       "\n",
       "\n",
       "    NAME                            SELE TYPE      SUBCOMPONENTS\n",
       "\n",
       "  PART1                             NO   VOLU\n",
       "                                               1\n",
       "  PART2                             NO   VOLU\n",
       "                                               2\n",
       "  PART3                             NO   VOLU\n",
       "                                               3\n",
       "  PART4                             NO   VOLU\n",
       "                                               4\n",
       "  PART5                             NO   VOLU\n",
       "                                               5\n",
       "  PART6                             YES  VOLU\n",
       "                                               6"
      ]
     },
     "execution_count": 29,
     "metadata": {},
     "output_type": "execute_result"
    }
   ],
   "source": [
    "mapdl.cmlist(name=\"ALL\", key=1, entity=\"VOLU\")"
   ]
  },
  {
   "cell_type": "markdown",
   "id": "c093ad79-f752-44c3-bafb-6bca98d25b15",
   "metadata": {},
   "source": [
    "**Active component**"
   ]
  },
  {
   "cell_type": "code",
   "execution_count": 30,
   "id": "0da3ec2e-cd6f-4acd-a357-0773deab540d",
   "metadata": {
    "execution": {
     "iopub.execute_input": "2023-09-04T13:00:19.634578Z",
     "iopub.status.busy": "2023-09-04T13:00:19.634235Z",
     "iopub.status.idle": "2023-09-04T13:00:19.646440Z",
     "shell.execute_reply": "2023-09-04T13:00:19.645940Z",
     "shell.execute_reply.started": "2023-09-04T13:00:19.634578Z"
    }
   },
   "outputs": [
    {
     "data": {
      "text/plain": [
       "LIST SELECTED COMPONENTS\n",
       " ENTITY TYPE = VOLU\n",
       "\n",
       " *** MAPDL - ENGINEERING ANALYSIS SYSTEM  RELEASE 2022 R2          22.2     ***\n",
       " Ansys Mechanical Enterprise                       \n",
       " 00000000  VERSION=WINDOWS x64   18:30:19  SEP 04, 2023 CP=      2.906\n",
       "\n",
       "  File: C:\\Users\\pramod.kumar\\OneDrive - SIEMENSGAMESA\\Work\\ContactDetect\\pyAns\n",
       "\n",
       "\n",
       "\n",
       "    NAME                            TYPE      SUBCOMPONENTS\n",
       "\n",
       "  PART6                             VOLU\n",
       "                                          6"
      ]
     },
     "execution_count": 30,
     "metadata": {},
     "output_type": "execute_result"
    }
   ],
   "source": [
    "mapdl.cmlist(name=\"\", key=1, entity=\"VOLU\")"
   ]
  },
  {
   "cell_type": "code",
   "execution_count": 31,
   "id": "db49e265-fd56-48bc-add4-fabd5414f5e1",
   "metadata": {
    "execution": {
     "iopub.execute_input": "2023-09-04T13:00:19.647954Z",
     "iopub.status.busy": "2023-09-04T13:00:19.646940Z",
     "iopub.status.idle": "2023-09-04T13:00:19.661696Z",
     "shell.execute_reply": "2023-09-04T13:00:19.660641Z",
     "shell.execute_reply.started": "2023-09-04T13:00:19.647954Z"
    }
   },
   "outputs": [
    {
     "name": "stdout",
     "output_type": "stream",
     "text": [
      "[6]\n"
     ]
    }
   ],
   "source": [
    "vlist = mapdl.geometry.vnum\n",
    "print(vlist)"
   ]
  },
  {
   "cell_type": "markdown",
   "id": "d5112fda-b660-4c1c-aee8-c3e5d19afb0d",
   "metadata": {},
   "source": [
    "---"
   ]
  },
  {
   "cell_type": "markdown",
   "id": "b062a929-64c6-447e-8f78-281b813282a0",
   "metadata": {},
   "source": [
    "### component selection"
   ]
  },
  {
   "cell_type": "code",
   "execution_count": 32,
   "id": "21f705b4-bd92-4de5-97e2-01bcbe2bad07",
   "metadata": {
    "execution": {
     "iopub.execute_input": "2023-09-04T11:11:19.226714Z",
     "iopub.status.busy": "2023-09-04T11:11:19.225714Z",
     "iopub.status.idle": "2023-09-04T11:11:19.252825Z",
     "shell.execute_reply": "2023-09-04T11:11:19.252324Z",
     "shell.execute_reply.started": "2023-09-04T11:11:19.226714Z"
    }
   },
   "outputs": [
    {
     "data": {
      "text/plain": [
       "LIST SELECTED COMPONENTS\n",
       " ENTITY TYPE = VOLU\n",
       "\n",
       " *** MAPDL - ENGINEERING ANALYSIS SYSTEM  RELEASE 2022 R2          22.2     ***\n",
       " Ansys Mechanical Enterprise                       \n",
       " 00000000  VERSION=WINDOWS x64   16:41:19  SEP 04, 2023 CP=      2.922\n",
       "\n",
       "  File: C:\\Users\\pramod.kumar\\OneDrive - SIEMENSGAMESA\\Work\\ContactDetect\\pyAns\n",
       "\n",
       "\n",
       "\n",
       "    NAME                            TYPE      SUBCOMPONENTS\n",
       "\n",
       "  PART1                             VOLU\n",
       "                                          1"
      ]
     },
     "execution_count": 32,
     "metadata": {},
     "output_type": "execute_result"
    }
   ],
   "source": [
    "mapdl.cmsel(type_=\"S\", name=\"PART1\", entity=\"VOLU\")\n",
    "mapdl.cmlist(name=\"\", key=1, entity=\"VOLU\")"
   ]
  },
  {
   "cell_type": "code",
   "execution_count": 33,
   "id": "2a722e60-d102-45a9-8890-3918c7782ea6",
   "metadata": {
    "execution": {
     "iopub.execute_input": "2023-09-04T11:11:19.254690Z",
     "iopub.status.busy": "2023-09-04T11:11:19.254002Z",
     "iopub.status.idle": "2023-09-04T11:11:19.268299Z",
     "shell.execute_reply": "2023-09-04T11:11:19.267300Z",
     "shell.execute_reply.started": "2023-09-04T11:11:19.254690Z"
    }
   },
   "outputs": [
    {
     "name": "stdout",
     "output_type": "stream",
     "text": [
      "[1]\n"
     ]
    }
   ],
   "source": [
    "vlist = mapdl.geometry.vnum\n",
    "print(vlist)"
   ]
  },
  {
   "cell_type": "markdown",
   "id": "21c67dee-08b7-4da5-ad96-f6d6df646383",
   "metadata": {},
   "source": [
    "---"
   ]
  },
  {
   "cell_type": "markdown",
   "id": "d4691338-2291-49d1-9bca-146271fed35e",
   "metadata": {},
   "source": [
    "### allsel"
   ]
  },
  {
   "cell_type": "code",
   "execution_count": 34,
   "id": "3d63e94c-e07c-4d59-8a33-79b30732d9e3",
   "metadata": {
    "execution": {
     "iopub.execute_input": "2023-09-04T11:11:19.269379Z",
     "iopub.status.busy": "2023-09-04T11:11:19.269379Z",
     "iopub.status.idle": "2023-09-04T11:11:19.284184Z",
     "shell.execute_reply": "2023-09-04T11:11:19.283684Z",
     "shell.execute_reply.started": "2023-09-04T11:11:19.269379Z"
    }
   },
   "outputs": [
    {
     "data": {
      "text/plain": [
       "ALSO SELECT ALL COMPONENTS"
      ]
     },
     "execution_count": 34,
     "metadata": {},
     "output_type": "execute_result"
    }
   ],
   "source": [
    "mapdl.cmsel(\"ALL\")"
   ]
  },
  {
   "cell_type": "code",
   "execution_count": 35,
   "id": "2ab56ea1-66f1-4714-a9ee-d0acff23dc92",
   "metadata": {
    "execution": {
     "iopub.execute_input": "2023-09-04T11:11:33.722299Z",
     "iopub.status.busy": "2023-09-04T11:11:33.721280Z",
     "iopub.status.idle": "2023-09-04T11:11:33.745968Z",
     "shell.execute_reply": "2023-09-04T11:11:33.744467Z",
     "shell.execute_reply.started": "2023-09-04T11:11:33.721280Z"
    }
   },
   "outputs": [
    {
     "name": "stdout",
     "output_type": "stream",
     "text": [
      "[1 2 3 4 5 6]\n"
     ]
    }
   ],
   "source": [
    "vlist = mapdl.geometry.vnum\n",
    "print(vlist)"
   ]
  },
  {
   "cell_type": "markdown",
   "id": "0cb2ca32-8ecd-4333-91cd-b21c6514042d",
   "metadata": {},
   "source": [
    "---"
   ]
  },
  {
   "cell_type": "code",
   "execution_count": 36,
   "id": "b8af7a05-b69d-4cda-88ee-c452cef256b2",
   "metadata": {
    "execution": {
     "iopub.execute_input": "2023-09-04T11:11:35.993646Z",
     "iopub.status.busy": "2023-09-04T11:11:35.992487Z",
     "iopub.status.idle": "2023-09-04T11:11:36.008847Z",
     "shell.execute_reply": "2023-09-04T11:11:36.008847Z",
     "shell.execute_reply.started": "2023-09-04T11:11:35.993646Z"
    }
   },
   "outputs": [
    {
     "data": {
      "text/plain": [
       "SELECT ALL ENTITIES OF TYPE= ALL  AND BELOW"
      ]
     },
     "execution_count": 36,
     "metadata": {},
     "output_type": "execute_result"
    }
   ],
   "source": [
    "mapdl.allsel(labt=\"ALL\", entity=\"ALL\")"
   ]
  },
  {
   "cell_type": "code",
   "execution_count": 37,
   "id": "66876f8e-0950-4332-b2fb-35125cbc7629",
   "metadata": {
    "execution": {
     "iopub.execute_input": "2023-09-04T11:11:39.634931Z",
     "iopub.status.busy": "2023-09-04T11:11:39.633920Z",
     "iopub.status.idle": "2023-09-04T11:11:39.652309Z",
     "shell.execute_reply": "2023-09-04T11:11:39.651383Z",
     "shell.execute_reply.started": "2023-09-04T11:11:39.634931Z"
    }
   },
   "outputs": [
    {
     "name": "stdout",
     "output_type": "stream",
     "text": [
      "[1 2 3 4 5 6]\n"
     ]
    }
   ],
   "source": [
    "vlist = mapdl.geometry.vnum\n",
    "print(vlist)"
   ]
  },
  {
   "cell_type": "code",
   "execution_count": 38,
   "id": "0e0138c1-1672-451c-993e-2b7893ee83dd",
   "metadata": {
    "execution": {
     "iopub.execute_input": "2023-09-04T11:11:40.502124Z",
     "iopub.status.busy": "2023-09-04T11:11:40.502124Z",
     "iopub.status.idle": "2023-09-04T11:11:40.517525Z",
     "shell.execute_reply": "2023-09-04T11:11:40.517261Z",
     "shell.execute_reply.started": "2023-09-04T11:11:40.502124Z"
    }
   },
   "outputs": [
    {
     "data": {
      "text/plain": [
       "6"
      ]
     },
     "execution_count": 38,
     "metadata": {},
     "output_type": "execute_result"
    }
   ],
   "source": [
    "vlist.max()"
   ]
  },
  {
   "cell_type": "markdown",
   "id": "c521dae0-652f-44ba-9f4a-710416fa21f3",
   "metadata": {},
   "source": [
    "---"
   ]
  },
  {
   "cell_type": "code",
   "execution_count": 39,
   "id": "0e1d43ed-ed14-4c16-8c32-581a2c21e236",
   "metadata": {
    "execution": {
     "iopub.execute_input": "2023-09-04T11:11:41.419848Z",
     "iopub.status.busy": "2023-09-04T11:11:41.418812Z",
     "iopub.status.idle": "2023-09-04T11:11:41.434293Z",
     "shell.execute_reply": "2023-09-04T11:11:41.432623Z",
     "shell.execute_reply.started": "2023-09-04T11:11:41.419848Z"
    }
   },
   "outputs": [
    {
     "data": {
      "text/plain": [
       "SELECT      COMPONENT PART1"
      ]
     },
     "execution_count": 39,
     "metadata": {},
     "output_type": "execute_result"
    }
   ],
   "source": [
    "mapdl.cmsel(type_=\"S\", name=\"PART1\", entity=\"VOLU\")"
   ]
  },
  {
   "cell_type": "code",
   "execution_count": 40,
   "id": "7f88b11f-ee60-48e3-a323-73f93716c350",
   "metadata": {
    "execution": {
     "iopub.execute_input": "2023-09-04T11:11:42.174920Z",
     "iopub.status.busy": "2023-09-04T11:11:42.173869Z",
     "iopub.status.idle": "2023-09-04T11:11:42.192266Z",
     "shell.execute_reply": "2023-09-04T11:11:42.191595Z",
     "shell.execute_reply.started": "2023-09-04T11:11:42.174920Z"
    }
   },
   "outputs": [],
   "source": [
    "# mapdl.vplot()"
   ]
  },
  {
   "cell_type": "code",
   "execution_count": 41,
   "id": "97ac47ba-0e06-4f58-a9fe-65980442ff3d",
   "metadata": {
    "execution": {
     "iopub.execute_input": "2023-09-04T11:11:42.591109Z",
     "iopub.status.busy": "2023-09-04T11:11:42.591109Z",
     "iopub.status.idle": "2023-09-04T11:11:42.610138Z",
     "shell.execute_reply": "2023-09-04T11:11:42.608663Z",
     "shell.execute_reply.started": "2023-09-04T11:11:42.591109Z"
    }
   },
   "outputs": [],
   "source": [
    "# mapdl.cmplot(label='PART2', entity='VOLU', keyword='') #not working"
   ]
  },
  {
   "cell_type": "code",
   "execution_count": 42,
   "id": "9c33d736-d4ee-4b25-a75c-a069b6fa4cb4",
   "metadata": {
    "execution": {
     "iopub.execute_input": "2023-09-04T11:11:42.836653Z",
     "iopub.status.busy": "2023-09-04T11:11:42.835585Z",
     "iopub.status.idle": "2023-09-04T11:11:42.855601Z",
     "shell.execute_reply": "2023-09-04T11:11:42.854601Z",
     "shell.execute_reply.started": "2023-09-04T11:11:42.836653Z"
    }
   },
   "outputs": [
    {
     "data": {
      "text/plain": [
       "SELECT      COMPONENT PART1"
      ]
     },
     "execution_count": 42,
     "metadata": {},
     "output_type": "execute_result"
    }
   ],
   "source": [
    "mapdl.cmsel(type_=\"S\", name=\"PART1\", entity=\"VOLU\")"
   ]
  },
  {
   "cell_type": "code",
   "execution_count": 28,
   "id": "f0500bbe-c981-46ae-9588-6eea9502ba8e",
   "metadata": {
    "execution": {
     "iopub.execute_input": "2023-08-25T19:01:48.450214Z",
     "iopub.status.busy": "2023-08-25T19:01:48.450214Z",
     "iopub.status.idle": "2023-08-25T19:01:48.459827Z",
     "shell.execute_reply": "2023-08-25T19:01:48.459182Z",
     "shell.execute_reply.started": "2023-08-25T19:01:48.450214Z"
    }
   },
   "outputs": [],
   "source": [
    "# mapdl.alist(\"ALL\")"
   ]
  },
  {
   "cell_type": "code",
   "execution_count": 29,
   "id": "9d047f56-21f9-4ce7-9414-b12c5a599ab6",
   "metadata": {
    "execution": {
     "iopub.execute_input": "2023-08-25T19:01:48.981898Z",
     "iopub.status.busy": "2023-08-25T19:01:48.980944Z",
     "iopub.status.idle": "2023-08-25T19:01:49.004312Z",
     "shell.execute_reply": "2023-08-25T19:01:49.002789Z",
     "shell.execute_reply.started": "2023-08-25T19:01:48.981898Z"
    }
   },
   "outputs": [
    {
     "data": {
      "text/plain": [
       "SELECT ALL ENTITIES ASSOCIATED WITH TYPE= AREA\n",
       "\n",
       " SELECT      LINES ASSOCIATED WITH SELECTED AREAS\n",
       "\n",
       "       72  LINES (OF       72  DEFINED) SELECTED FROM\n",
       "       37 SELECTED AREAS BY  LSLA  COMMAND.\n",
       "\n",
       " SELECT      ALL KEYPOINTS ON ANY LINE IN LINE SET.\n",
       "\n",
       "       50  KEYPOINTS (OF       50  DEFINED) SELECTED FROM \n",
       "       72 SELECTED LINES BY  KSLL  COMMAND.\n",
       "\n",
       " SELECT      ELEMENTS CREATED FROM SELECTED AREAS.\n",
       "\n",
       "          0  ELEMENTS (OF          0  DEFINED) SELECTED FROM\n",
       "       37 SELECTED AREAS BY  ESLA  COMMAND.\n",
       "\n",
       " ALSO SELECT ELEMENTS CREATED FROM SELECTED LINES.\n",
       "\n",
       "          0  ELEMENTS (OF          0  DEFINED) SELECTED FROM       72 SELECTED LINES\n",
       "         BY  ESLL  COMMAND.\n",
       "\n",
       " ALSO SELECT ELEMENTS CREATED FROM SELECTED KEYPOINTS.\n",
       "\n",
       "          0  ELEMENTS (OF          0  DEFINED) SELECTED FROM       50 SELECTED KPTS\n",
       "         BY  ESLK  COMMAND.\n",
       "\n",
       "          0 NODES (OF          0  DEFINED) SELECTED FROM\n",
       "        0 SELECTED ELEMENTS BY NSLE COMMAND."
      ]
     },
     "execution_count": 29,
     "metadata": {},
     "output_type": "execute_result"
    }
   ],
   "source": [
    "mapdl.allsel(labt=\"ALL \", entity=\"AREA\")\n",
    "mapdl.allsel(labt=\"BELOW \", entity=\"AREA\")"
   ]
  },
  {
   "cell_type": "markdown",
   "id": "9a1abcf6-a6d7-4aa2-b3c9-13d90e1aead5",
   "metadata": {},
   "source": [
    "---"
   ]
  },
  {
   "cell_type": "markdown",
   "id": "fe93e8fa-23f3-42a9-8b45-2de36ac4fe96",
   "metadata": {},
   "source": [
    "### Volume selection from component"
   ]
  },
  {
   "cell_type": "code",
   "execution_count": 30,
   "id": "e6b05a04-bb66-4448-a100-d48b54e8ff98",
   "metadata": {
    "execution": {
     "iopub.execute_input": "2023-08-25T19:01:50.196632Z",
     "iopub.status.busy": "2023-08-25T19:01:50.195636Z",
     "iopub.status.idle": "2023-08-25T19:01:50.231060Z",
     "shell.execute_reply": "2023-08-25T19:01:50.230398Z",
     "shell.execute_reply.started": "2023-08-25T19:01:50.196632Z"
    }
   },
   "outputs": [
    {
     "data": {
      "text/plain": [
       "array([1])"
      ]
     },
     "execution_count": 30,
     "metadata": {},
     "output_type": "execute_result"
    }
   ],
   "source": [
    "mapdl.cmsel(type_=\"S\", name=\"PART1\", entity=\"VOLU\")\n",
    "mapdl.allsel(labt=\"BELOW \", entity=\"VOLU\")\n",
    "vlist = mapdl.geometry.vnum\n",
    "vlist"
   ]
  },
  {
   "cell_type": "code",
   "execution_count": 31,
   "id": "69af3d44-5af1-445e-8562-df19df7b6960",
   "metadata": {
    "execution": {
     "iopub.execute_input": "2023-08-25T19:01:50.747675Z",
     "iopub.status.busy": "2023-08-25T19:01:50.746680Z",
     "iopub.status.idle": "2023-08-25T19:01:50.769736Z",
     "shell.execute_reply": "2023-08-25T19:01:50.769736Z",
     "shell.execute_reply.started": "2023-08-25T19:01:50.747675Z"
    }
   },
   "outputs": [
    {
     "data": {
      "text/plain": [
       "array([2])"
      ]
     },
     "execution_count": 31,
     "metadata": {},
     "output_type": "execute_result"
    }
   ],
   "source": [
    "mapdl.cmsel(type_=\"S\", name=\"PART2\", entity=\"VOLU\")\n",
    "mapdl.allsel(labt=\"BELOW \", entity=\"VOLU\")\n",
    "alist = mapdl.geometry.vnum\n",
    "alist"
   ]
  },
  {
   "cell_type": "code",
   "execution_count": 32,
   "id": "360cf7fd-0ab8-4847-926f-851928ba57b4",
   "metadata": {
    "execution": {
     "iopub.execute_input": "2023-08-25T19:01:51.250745Z",
     "iopub.status.busy": "2023-08-25T19:01:51.250745Z",
     "iopub.status.idle": "2023-08-25T19:01:51.277787Z",
     "shell.execute_reply": "2023-08-25T19:01:51.277787Z",
     "shell.execute_reply.started": "2023-08-25T19:01:51.250745Z"
    }
   },
   "outputs": [
    {
     "data": {
      "text/plain": [
       "array([3])"
      ]
     },
     "execution_count": 32,
     "metadata": {},
     "output_type": "execute_result"
    }
   ],
   "source": [
    "mapdl.cmsel(type_=\"S\", name=\"PART3\", entity=\"VOLU\")\n",
    "mapdl.allsel(labt=\"BELOW \", entity=\"VOLU\")\n",
    "vlist = mapdl.geometry.vnum\n",
    "vlist"
   ]
  },
  {
   "cell_type": "markdown",
   "id": "8f4e101d-6178-46bf-bb5d-80a7825adfa0",
   "metadata": {},
   "source": [
    "---"
   ]
  },
  {
   "cell_type": "markdown",
   "id": "7a0d53db-7e90-4010-b780-506be90c1341",
   "metadata": {},
   "source": [
    "### area from component"
   ]
  },
  {
   "cell_type": "code",
   "execution_count": 23,
   "id": "c03bf2a4-468a-49cb-a361-6451f7a970de",
   "metadata": {
    "execution": {
     "iopub.execute_input": "2023-08-26T17:51:10.396931Z",
     "iopub.status.busy": "2023-08-26T17:51:10.395934Z",
     "iopub.status.idle": "2023-08-26T17:51:10.424113Z",
     "shell.execute_reply": "2023-08-26T17:51:10.423454Z",
     "shell.execute_reply.started": "2023-08-26T17:51:10.396931Z"
    }
   },
   "outputs": [
    {
     "data": {
      "text/plain": [
       "array([1, 2, 3, 4])"
      ]
     },
     "execution_count": 23,
     "metadata": {},
     "output_type": "execute_result"
    }
   ],
   "source": [
    "mapdl.cmsel(type_=\"S\", name=\"PART1\", entity=\"VOLU\")\n",
    "mapdl.allsel(labt=\"BELOW \", entity=\"VOLU\")\n",
    "mapdl.allsel(labt=\"BELOW \", entity=\"AREA\")\n",
    "alist = mapdl.geometry.anum\n",
    "alist"
   ]
  },
  {
   "cell_type": "code",
   "execution_count": 24,
   "id": "ec44404f-5ee8-4f19-ba30-661a6d88dad8",
   "metadata": {
    "execution": {
     "iopub.execute_input": "2023-08-26T17:51:11.668163Z",
     "iopub.status.busy": "2023-08-26T17:51:11.667135Z",
     "iopub.status.idle": "2023-08-26T17:51:11.694599Z",
     "shell.execute_reply": "2023-08-26T17:51:11.694391Z",
     "shell.execute_reply.started": "2023-08-26T17:51:11.668163Z"
    }
   },
   "outputs": [
    {
     "data": {
      "text/plain": [
       "array([ 5,  6,  7,  8,  9, 10, 11])"
      ]
     },
     "execution_count": 24,
     "metadata": {},
     "output_type": "execute_result"
    }
   ],
   "source": [
    "mapdl.cmsel(type_=\"S\", name=\"PART2\", entity=\"VOLU\")\n",
    "mapdl.allsel(labt=\"BELOW \", entity=\"VOLU\")\n",
    "mapdl.allsel(labt=\"BELOW \", entity=\"AREA\")\n",
    "alist = mapdl.geometry.anum\n",
    "alist"
   ]
  },
  {
   "cell_type": "code",
   "execution_count": 35,
   "id": "7cbd003b-3393-451f-ba59-c1a17e7a13f2",
   "metadata": {
    "execution": {
     "iopub.execute_input": "2023-08-25T19:01:53.780488Z",
     "iopub.status.busy": "2023-08-25T19:01:53.780488Z",
     "iopub.status.idle": "2023-08-25T19:01:53.820408Z",
     "shell.execute_reply": "2023-08-25T19:01:53.819213Z",
     "shell.execute_reply.started": "2023-08-25T19:01:53.780488Z"
    }
   },
   "outputs": [
    {
     "data": {
      "text/plain": [
       "array([12, 13, 14, 15, 16, 17])"
      ]
     },
     "execution_count": 35,
     "metadata": {},
     "output_type": "execute_result"
    }
   ],
   "source": [
    "mapdl.cmsel(type_=\"S\", name=\"PART3\", entity=\"VOLU\")\n",
    "mapdl.allsel(labt=\"BELOW \", entity=\"VOLU\")\n",
    "mapdl.allsel(labt=\"BELOW \", entity=\"AREA\")\n",
    "alist = mapdl.geometry.anum\n",
    "alist"
   ]
  },
  {
   "cell_type": "markdown",
   "id": "903c9a08-b31e-476b-b6cc-90c641d70f88",
   "metadata": {},
   "source": [
    "---"
   ]
  },
  {
   "cell_type": "markdown",
   "id": "81d9a681-6f30-4178-abc6-5ce14a0b503b",
   "metadata": {},
   "source": [
    "### line selection from component"
   ]
  },
  {
   "cell_type": "code",
   "execution_count": 36,
   "id": "6a5326c4-3797-483e-a51c-4e642948d906",
   "metadata": {
    "execution": {
     "iopub.execute_input": "2023-08-25T19:01:54.988789Z",
     "iopub.status.busy": "2023-08-25T19:01:54.987791Z",
     "iopub.status.idle": "2023-08-25T19:01:55.028159Z",
     "shell.execute_reply": "2023-08-25T19:01:55.024429Z",
     "shell.execute_reply.started": "2023-08-25T19:01:54.988789Z"
    }
   },
   "outputs": [
    {
     "data": {
      "text/plain": [
       "array([1, 2, 3, 4, 5, 6])"
      ]
     },
     "execution_count": 36,
     "metadata": {},
     "output_type": "execute_result"
    }
   ],
   "source": [
    "mapdl.cmsel(type_=\"S\", name=\"PART1\", entity=\"VOLU\")\n",
    "mapdl.allsel(labt=\"BELOW \", entity=\"VOLU\")\n",
    "mapdl.allsel(labt=\"BELOW \", entity=\"AREA\")\n",
    "mapdl.allsel(labt=\"BELOW \", entity=\"LINE\")\n",
    "llist = mapdl.geometry.lnum\n",
    "llist"
   ]
  },
  {
   "cell_type": "code",
   "execution_count": 37,
   "id": "718eafcb-0516-45c2-83bc-039a6cff54fd",
   "metadata": {
    "execution": {
     "iopub.execute_input": "2023-08-25T19:01:55.355991Z",
     "iopub.status.busy": "2023-08-25T19:01:55.354559Z",
     "iopub.status.idle": "2023-08-25T19:01:55.397166Z",
     "shell.execute_reply": "2023-08-25T19:01:55.397166Z",
     "shell.execute_reply.started": "2023-08-25T19:01:55.355991Z"
    }
   },
   "outputs": [
    {
     "data": {
      "text/plain": [
       "array([ 7,  8,  9, 10, 11, 12, 13, 14, 15, 16, 17, 18, 19, 20])"
      ]
     },
     "execution_count": 37,
     "metadata": {},
     "output_type": "execute_result"
    }
   ],
   "source": [
    "mapdl.cmsel(type_=\"S\", name=\"PART2\", entity=\"VOLU\")\n",
    "mapdl.allsel(labt=\"BELOW \", entity=\"VOLU\")\n",
    "mapdl.allsel(labt=\"BELOW \", entity=\"AREA\")\n",
    "mapdl.allsel(labt=\"BELOW \", entity=\"LINE\")\n",
    "llist = mapdl.geometry.lnum\n",
    "llist"
   ]
  },
  {
   "cell_type": "code",
   "execution_count": 38,
   "id": "fcda0ab9-dd2d-4f78-8741-9f13ae5b5fbd",
   "metadata": {
    "execution": {
     "iopub.execute_input": "2023-08-25T19:01:55.597085Z",
     "iopub.status.busy": "2023-08-25T19:01:55.596027Z",
     "iopub.status.idle": "2023-08-25T19:01:55.646695Z",
     "shell.execute_reply": "2023-08-25T19:01:55.645696Z",
     "shell.execute_reply.started": "2023-08-25T19:01:55.597085Z"
    }
   },
   "outputs": [
    {
     "data": {
      "text/plain": [
       "array([21, 22, 23, 24, 25, 26, 27, 28, 29, 30, 31, 32])"
      ]
     },
     "execution_count": 38,
     "metadata": {},
     "output_type": "execute_result"
    }
   ],
   "source": [
    "mapdl.cmsel(type_=\"S\", name=\"PART3\", entity=\"VOLU\")\n",
    "mapdl.allsel(labt=\"BELOW \", entity=\"VOLU\")\n",
    "mapdl.allsel(labt=\"BELOW \", entity=\"AREA\")\n",
    "mapdl.allsel(labt=\"BELOW \", entity=\"LINE\")\n",
    "llist = mapdl.geometry.lnum\n",
    "llist"
   ]
  },
  {
   "cell_type": "markdown",
   "id": "410154ef-339c-4575-a14c-1e964674caa9",
   "metadata": {},
   "source": [
    "---"
   ]
  },
  {
   "cell_type": "markdown",
   "id": "0730b05c-dd14-41ba-a0c1-a85ca92d205e",
   "metadata": {},
   "source": [
    "### kp selection from component"
   ]
  },
  {
   "cell_type": "code",
   "execution_count": 14,
   "id": "a086cc20-dfad-44be-8680-a9b016ade1dd",
   "metadata": {
    "execution": {
     "iopub.execute_input": "2023-08-26T13:18:56.315647Z",
     "iopub.status.busy": "2023-08-26T13:18:56.314650Z",
     "iopub.status.idle": "2023-08-26T13:18:56.358068Z",
     "shell.execute_reply": "2023-08-26T13:18:56.356875Z",
     "shell.execute_reply.started": "2023-08-26T13:18:56.315647Z"
    }
   },
   "outputs": [
    {
     "data": {
      "text/plain": [
       "array([1, 2, 3, 4])"
      ]
     },
     "execution_count": 14,
     "metadata": {},
     "output_type": "execute_result"
    }
   ],
   "source": [
    "mapdl.cmsel(type_=\"S\", name=\"PART1\", entity=\"VOLU\")\n",
    "mapdl.allsel(labt=\"BELOW \", entity=\"VOLU\")\n",
    "mapdl.allsel(labt=\"BELOW \", entity=\"AREA\")\n",
    "mapdl.allsel(labt=\"BELOW \", entity=\"LINE\")\n",
    "mapdl.allsel(labt=\"BELOW \", entity=\"KP\")\n",
    "klist = mapdl.geometry.knum\n",
    "klist"
   ]
  },
  {
   "cell_type": "code",
   "execution_count": 40,
   "id": "5d197a3b-6462-464c-80a7-32e395df3bc8",
   "metadata": {
    "execution": {
     "iopub.execute_input": "2023-08-25T19:02:22.788152Z",
     "iopub.status.busy": "2023-08-25T19:02:22.787156Z",
     "iopub.status.idle": "2023-08-25T19:02:22.834132Z",
     "shell.execute_reply": "2023-08-25T19:02:22.830860Z",
     "shell.execute_reply.started": "2023-08-25T19:02:22.788152Z"
    }
   },
   "outputs": [
    {
     "data": {
      "text/plain": [
       "array([ 5,  6,  7,  8,  9, 10, 11, 12, 13, 14])"
      ]
     },
     "execution_count": 40,
     "metadata": {},
     "output_type": "execute_result"
    }
   ],
   "source": [
    "mapdl.cmsel(type_=\"S\", name=\"PART2\", entity=\"VOLU\")\n",
    "mapdl.allsel(labt=\"BELOW \", entity=\"VOLU\")\n",
    "mapdl.allsel(labt=\"BELOW \", entity=\"AREA\")\n",
    "mapdl.allsel(labt=\"BELOW \", entity=\"LINE\")\n",
    "mapdl.allsel(labt=\"BELOW \", entity=\"KP\")\n",
    "klist = mapdl.geometry.knum\n",
    "klist"
   ]
  },
  {
   "cell_type": "code",
   "execution_count": 41,
   "id": "5ad5b5bf-887a-42ba-ac4e-a9bb75df13f8",
   "metadata": {
    "execution": {
     "iopub.execute_input": "2023-08-25T19:02:23.329983Z",
     "iopub.status.busy": "2023-08-25T19:02:23.329983Z",
     "iopub.status.idle": "2023-08-25T19:02:23.373308Z",
     "shell.execute_reply": "2023-08-25T19:02:23.372810Z",
     "shell.execute_reply.started": "2023-08-25T19:02:23.329983Z"
    }
   },
   "outputs": [
    {
     "data": {
      "text/plain": [
       "array([15, 16, 17, 18, 19, 20, 21, 22])"
      ]
     },
     "execution_count": 41,
     "metadata": {},
     "output_type": "execute_result"
    }
   ],
   "source": [
    "mapdl.cmsel(type_=\"S\", name=\"PART3\", entity=\"VOLU\")\n",
    "mapdl.allsel(labt=\"BELOW \", entity=\"VOLU\")\n",
    "mapdl.allsel(labt=\"BELOW \", entity=\"AREA\")\n",
    "mapdl.allsel(labt=\"BELOW \", entity=\"LINE\")\n",
    "mapdl.allsel(labt=\"BELOW \", entity=\"KP\")\n",
    "klist = mapdl.geometry.knum\n",
    "klist"
   ]
  },
  {
   "cell_type": "markdown",
   "id": "ba533c86-914b-4bd2-9a2c-bb6d53348246",
   "metadata": {},
   "source": [
    "### vol component to kp location"
   ]
  },
  {
   "cell_type": "code",
   "execution_count": 42,
   "id": "66f092a3-dfb3-4813-851c-ec3636782051",
   "metadata": {
    "execution": {
     "iopub.execute_input": "2023-08-25T19:02:24.396395Z",
     "iopub.status.busy": "2023-08-25T19:02:24.396395Z",
     "iopub.status.idle": "2023-08-25T19:02:24.441583Z",
     "shell.execute_reply": "2023-08-25T19:02:24.440574Z",
     "shell.execute_reply.started": "2023-08-25T19:02:24.396395Z"
    }
   },
   "outputs": [
    {
     "data": {
      "text/plain": [
       "array([ 5,  6,  7,  8,  9, 10, 11, 12, 13, 14])"
      ]
     },
     "execution_count": 42,
     "metadata": {},
     "output_type": "execute_result"
    }
   ],
   "source": [
    "mapdl.cmsel(type_=\"S\", name=\"PART2\", entity=\"VOLU\")\n",
    "mapdl.allsel(labt=\"BELOW \", entity=\"VOLU\")\n",
    "mapdl.allsel(labt=\"BELOW \", entity=\"AREA\")\n",
    "mapdl.allsel(labt=\"BELOW \", entity=\"LINE\")\n",
    "mapdl.allsel(labt=\"BELOW \", entity=\"KP\")\n",
    "klist = mapdl.geometry.knum\n",
    "klist"
   ]
  },
  {
   "cell_type": "code",
   "execution_count": 43,
   "id": "fdae435f-a17b-4db8-a9be-39c0c18d9fa3",
   "metadata": {
    "execution": {
     "iopub.execute_input": "2023-08-25T19:02:24.874004Z",
     "iopub.status.busy": "2023-08-25T19:02:24.874004Z",
     "iopub.status.idle": "2023-08-25T19:02:24.891270Z",
     "shell.execute_reply": "2023-08-25T19:02:24.890275Z",
     "shell.execute_reply.started": "2023-08-25T19:02:24.874004Z"
    }
   },
   "outputs": [
    {
     "data": {
      "text/plain": [
       "LIST ALL SELECTED KEYPOINTS.   DSYS=      0\n",
       "\n",
       " *** MAPDL - ENGINEERING ANALYSIS SYSTEM  RELEASE 2022 R2          22.2     ***\n",
       " Ansys Mechanical Enterprise                       \n",
       " 00000000  VERSION=WINDOWS x64   00:32:24  AUG 26, 2023 CP=      3.547\n",
       "\n",
       "  File: C:\\Users\\pramod.kumar\\OneDrive - SIEMENSGAMESA\\Work\\ContactDetect\\pyAns\n",
       "\n",
       "\n",
       "\n",
       "    NO. X,Y,Z LOCATION                   KESIZE     NODE  ELEM MAT REAL TYP ESYS\n",
       "     5 -0.125E-01  0.230E-17  0.220       0.00         0     0   0    0   0    0\n",
       "     6  0.125E-01  0.765E-18  0.220       0.00         0     0   0    0   0    0\n",
       "     7  0.100      0.250E-01  0.220       0.00         0     0   0    0   0    0\n",
       "     8  0.100     -0.250E-01  0.220       0.00         0     0   0    0   0    0\n",
       "     9 -0.100     -0.250E-01  0.220       0.00         0     0   0    0   0    0\n",
       "    10 -0.100      0.250E-01  0.220       0.00         0     0   0    0   0    0\n",
       "    11  0.100      0.250E-01  0.200       0.00         0     0   0    0   0    0\n",
       "    12  0.100     -0.250E-01  0.200       0.00         0     0   0    0   0    0\n",
       "    13 -0.100     -0.250E-01  0.200       0.00         0     0   0    0   0    0\n",
       "    14 -0.100      0.250E-01  0.200       0.00         0     0   0    0   0    0"
      ]
     },
     "execution_count": 43,
     "metadata": {},
     "output_type": "execute_result"
    }
   ],
   "source": [
    "mapdl.klist()"
   ]
  },
  {
   "cell_type": "code",
   "execution_count": 44,
   "id": "cb76bfca-f66e-4c96-a6d7-6dba7c141032",
   "metadata": {
    "execution": {
     "iopub.execute_input": "2023-08-25T19:02:25.532668Z",
     "iopub.status.busy": "2023-08-25T19:02:25.531671Z",
     "iopub.status.idle": "2023-08-25T19:02:25.556212Z",
     "shell.execute_reply": "2023-08-25T19:02:25.555010Z",
     "shell.execute_reply.started": "2023-08-25T19:02:25.532668Z"
    }
   },
   "outputs": [
    {
     "name": "stdout",
     "output_type": "stream",
     "text": [
      "[-0.0125, 2.2962127484012883e-18, 0.22000000000000003]\n"
     ]
    }
   ],
   "source": [
    "k_x = mapdl.queries.kx(klist[0])\n",
    "k_y = mapdl.queries.ky(klist[0])\n",
    "k_z = mapdl.queries.kz(klist[0])\n",
    "print([k_x, k_y, k_z])"
   ]
  },
  {
   "cell_type": "code",
   "execution_count": 45,
   "id": "f8a1222a-5761-495e-9501-2195729b02a3",
   "metadata": {
    "execution": {
     "iopub.execute_input": "2023-08-25T19:02:26.295841Z",
     "iopub.status.busy": "2023-08-25T19:02:26.295841Z",
     "iopub.status.idle": "2023-08-25T19:02:26.320209Z",
     "shell.execute_reply": "2023-08-25T19:02:26.319047Z",
     "shell.execute_reply.started": "2023-08-25T19:02:26.295841Z"
    }
   },
   "outputs": [
    {
     "name": "stdout",
     "output_type": "stream",
     "text": [
      "[0.0125, 7.654042494670961e-19, 0.22000000000000003]\n"
     ]
    }
   ],
   "source": [
    "k_x = mapdl.queries.kx(klist[1])\n",
    "k_y = mapdl.queries.ky(klist[1])\n",
    "k_z = mapdl.queries.kz(klist[1])\n",
    "print([k_x, k_y, k_z])"
   ]
  },
  {
   "cell_type": "code",
   "execution_count": 46,
   "id": "5c3a0eea-1caa-4097-8121-a087993a31cf",
   "metadata": {
    "execution": {
     "iopub.execute_input": "2023-08-25T19:02:28.397773Z",
     "iopub.status.busy": "2023-08-25T19:02:28.396698Z",
     "iopub.status.idle": "2023-08-25T19:02:28.423029Z",
     "shell.execute_reply": "2023-08-25T19:02:28.421460Z",
     "shell.execute_reply.started": "2023-08-25T19:02:28.397773Z"
    }
   },
   "outputs": [
    {
     "name": "stdout",
     "output_type": "stream",
     "text": [
      "[0.1, 0.025, 0.22000000000000003]\n"
     ]
    }
   ],
   "source": [
    "k_x = mapdl.queries.kx(klist[2])\n",
    "k_y = mapdl.queries.ky(klist[2])\n",
    "k_z = mapdl.queries.kz(klist[2])\n",
    "print([k_x, k_y, k_z])"
   ]
  },
  {
   "cell_type": "code",
   "execution_count": 41,
   "id": "37bb1639-cf01-4436-b063-2bed040a9cef",
   "metadata": {
    "execution": {
     "iopub.execute_input": "2023-09-04T11:07:36.066325Z",
     "iopub.status.busy": "2023-09-04T11:07:36.066325Z",
     "iopub.status.idle": "2023-09-04T11:07:36.088742Z",
     "shell.execute_reply": "2023-09-04T11:07:36.087243Z",
     "shell.execute_reply.started": "2023-09-04T11:07:36.066325Z"
    }
   },
   "outputs": [],
   "source": [
    "def area_cent(a_num):\n",
    "    \"\"\"This function takes a list of area numbers as input and returns the centroid of the areas.\n",
    "\n",
    "    The centroid is calculated by first summing the x, y, and z coordinates of all the areas in the list.\n",
    "    The average of these sums is then returned as the centroid.\n",
    "\n",
    "    Args:\n",
    "        a_num (list):list of area numbers\n",
    "\n",
    "    Returns:\n",
    "        List of the centroid coordinate x, y, and z \n",
    "\n",
    "    \"\"\"\n",
    "    for i in range(len(a_num)):\n",
    "        if i==0:\n",
    "            mapdl.asel('S','AREA', '', a_num[i])\n",
    "        else:\n",
    "            mapdl.asel('A','AREA', '', a_num[i])\n",
    "\n",
    "    mapdl.asum()\n",
    "    \n",
    "    cent_x = mapdl.get(entity='AREA', item1='CENT', it1num='X')\n",
    "    cent_y = mapdl.get(entity='AREA', item1='CENT', it1num='Y')\n",
    "    cent_z = mapdl.get(entity='AREA', item1='CENT', it1num='Z')\n",
    "\n",
    "    area_val = mapdl.get(entity='AREA', item1='AREA')\n",
    "    \n",
    "    return np.array([cent_x,cent_y,cent_z]), area_val"
   ]
  },
  {
   "cell_type": "code",
   "execution_count": 44,
   "id": "99ea1e55-4777-4a2c-ac75-b97e2c6a790d",
   "metadata": {
    "execution": {
     "iopub.execute_input": "2023-09-04T11:08:08.493992Z",
     "iopub.status.busy": "2023-09-04T11:08:08.492923Z",
     "iopub.status.idle": "2023-09-04T11:08:08.547669Z",
     "shell.execute_reply": "2023-09-04T11:08:08.546091Z",
     "shell.execute_reply.started": "2023-09-04T11:08:08.493992Z"
    }
   },
   "outputs": [
    {
     "data": {
      "text/plain": [
       "array([-1.50837926e-12,  3.99106989e-11,  2.20000000e-01])"
      ]
     },
     "execution_count": 44,
     "metadata": {},
     "output_type": "execute_result"
    }
   ],
   "source": [
    "area_cent([5])[0]"
   ]
  },
  {
   "cell_type": "markdown",
   "id": "88cb60d6-cbca-492e-9d02-7f46895b510c",
   "metadata": {},
   "source": [
    "## ASUM and centroid"
   ]
  },
  {
   "cell_type": "markdown",
   "id": "60f4a724-c227-4658-a61b-908cc2c620e9",
   "metadata": {},
   "source": [
    "at asum centroid we will place the centroid"
   ]
  },
  {
   "cell_type": "code",
   "execution_count": 43,
   "id": "ca032a26-64fc-4103-b9da-4690b8eeac77",
   "metadata": {
    "execution": {
     "iopub.execute_input": "2023-09-04T11:11:55.159435Z",
     "iopub.status.busy": "2023-09-04T11:11:55.158302Z",
     "iopub.status.idle": "2023-09-04T11:11:55.166802Z",
     "shell.execute_reply": "2023-09-04T11:11:55.165803Z",
     "shell.execute_reply.started": "2023-09-04T11:11:55.159435Z"
    }
   },
   "outputs": [],
   "source": [
    "# mapdl.asel('S','AREA', '', 3)\n",
    "# mapdl.asel('A','AREA', '', 4)\n",
    "# mapdl.asel('A','AREA', '', 1)\n",
    "# mapdl.asum()\n",
    "# cent_x = mapdl.get(entity='AREA', item1='CENT', it1num='X')\n",
    "# cent_y = mapdl.get(entity='AREA', item1='CENT', it1num='Y')\n",
    "# cent_z = mapdl.get(entity='AREA', item1='CENT', it1num='Z')\n",
    "# print([cent_x,cent_y,cent_z])"
   ]
  },
  {
   "cell_type": "code",
   "execution_count": 45,
   "id": "252b17b6-51b4-4939-89ad-833bba1fa081",
   "metadata": {
    "execution": {
     "iopub.execute_input": "2023-09-04T11:12:12.603542Z",
     "iopub.status.busy": "2023-09-04T11:12:12.603184Z",
     "iopub.status.idle": "2023-09-04T11:12:12.642711Z",
     "shell.execute_reply": "2023-09-04T11:12:12.641874Z",
     "shell.execute_reply.started": "2023-09-04T11:12:12.603542Z"
    }
   },
   "outputs": [
    {
     "data": {
      "text/plain": [
       "array([1.46593541e-08, 7.95843126e-03, 2.30000086e-01])"
      ]
     },
     "execution_count": 45,
     "metadata": {},
     "output_type": "execute_result"
    }
   ],
   "source": [
    "anum = [1]\n",
    "pre.area_cent(anum)[0]"
   ]
  },
  {
   "cell_type": "code",
   "execution_count": 47,
   "id": "a94c9cf6-ce27-47f8-b86c-ebf6f7273b73",
   "metadata": {
    "execution": {
     "iopub.execute_input": "2023-09-04T11:12:46.513270Z",
     "iopub.status.busy": "2023-09-04T11:12:46.511918Z",
     "iopub.status.idle": "2023-09-04T11:12:46.552777Z",
     "shell.execute_reply": "2023-09-04T11:12:46.551975Z",
     "shell.execute_reply.started": "2023-09-04T11:12:46.513270Z"
    }
   },
   "outputs": [
    {
     "data": {
      "text/plain": [
       "0.00078546263"
      ]
     },
     "execution_count": 47,
     "metadata": {},
     "output_type": "execute_result"
    }
   ],
   "source": [
    "anum = [1]\n",
    "pre.area_cent(anum)[1]"
   ]
  },
  {
   "cell_type": "code",
   "execution_count": 48,
   "id": "3d222dea-9c7b-4a1d-a2f1-2a0ea7603702",
   "metadata": {
    "execution": {
     "iopub.execute_input": "2023-09-04T11:12:47.799513Z",
     "iopub.status.busy": "2023-09-04T11:12:47.799513Z",
     "iopub.status.idle": "2023-09-04T11:12:47.860197Z",
     "shell.execute_reply": "2023-09-04T11:12:47.857331Z",
     "shell.execute_reply.started": "2023-09-04T11:12:47.799513Z"
    }
   },
   "outputs": [
    {
     "data": {
      "text/plain": [
       "0.000785462589"
      ]
     },
     "execution_count": 48,
     "metadata": {},
     "output_type": "execute_result"
    }
   ],
   "source": [
    "anum = [2]\n",
    "pre.area_cent(anum)[1]"
   ]
  },
  {
   "cell_type": "code",
   "execution_count": 49,
   "id": "acb82c23-5b4d-488e-9cde-9d2332c5d189",
   "metadata": {
    "execution": {
     "iopub.execute_input": "2023-09-04T11:12:48.945958Z",
     "iopub.status.busy": "2023-09-04T11:12:48.944958Z",
     "iopub.status.idle": "2023-09-04T11:12:49.000915Z",
     "shell.execute_reply": "2023-09-04T11:12:48.999982Z",
     "shell.execute_reply.started": "2023-09-04T11:12:48.945958Z"
    }
   },
   "outputs": [
    {
     "data": {
      "text/plain": [
       "0.00157092522"
      ]
     },
     "execution_count": 49,
     "metadata": {},
     "output_type": "execute_result"
    }
   ],
   "source": [
    "anum = [1, 2]\n",
    "pre.area_cent(anum)[1]"
   ]
  },
  {
   "cell_type": "code",
   "execution_count": 51,
   "id": "85e1163b-3c92-4969-b95a-488f950f0625",
   "metadata": {
    "execution": {
     "iopub.execute_input": "2023-08-25T19:07:10.185753Z",
     "iopub.status.busy": "2023-08-25T19:07:10.184746Z",
     "iopub.status.idle": "2023-08-25T19:07:10.254850Z",
     "shell.execute_reply": "2023-08-25T19:07:10.253676Z",
     "shell.execute_reply.started": "2023-08-25T19:07:10.185753Z"
    }
   },
   "outputs": [
    {
     "data": {
      "text/plain": [
       "[6.5147278e-09, 0.00353724196, 0.230000038]"
      ]
     },
     "execution_count": 51,
     "metadata": {},
     "output_type": "execute_result"
    }
   ],
   "source": [
    "anum = [3, 4, 1]\n",
    "pre.area_cent(anum)"
   ]
  },
  {
   "cell_type": "code",
   "execution_count": 52,
   "id": "f0023970-bfae-4a9d-af1c-0865c00304e4",
   "metadata": {
    "execution": {
     "iopub.execute_input": "2023-08-25T19:07:11.350869Z",
     "iopub.status.busy": "2023-08-25T19:07:11.350869Z",
     "iopub.status.idle": "2023-08-25T19:07:11.372400Z",
     "shell.execute_reply": "2023-08-25T19:07:11.371868Z",
     "shell.execute_reply.started": "2023-08-25T19:07:11.350869Z"
    }
   },
   "outputs": [
    {
     "data": {
      "text/plain": [
       "SELECT ALL ENTITIES OF TYPE= AREA AND BELOW"
      ]
     },
     "execution_count": 52,
     "metadata": {},
     "output_type": "execute_result"
    }
   ],
   "source": [
    "mapdl.allsel(labt=\"ALL \", entity=\"AREA\")"
   ]
  },
  {
   "cell_type": "code",
   "execution_count": 55,
   "id": "b06d39d3-b12d-4efb-bc41-9b1963831df9",
   "metadata": {
    "execution": {
     "iopub.execute_input": "2023-08-26T05:51:06.758491Z",
     "iopub.status.busy": "2023-08-26T05:51:06.758491Z",
     "iopub.status.idle": "2023-08-26T05:51:06.779191Z",
     "shell.execute_reply": "2023-08-26T05:51:06.779191Z",
     "shell.execute_reply.started": "2023-08-26T05:51:06.758491Z"
    }
   },
   "outputs": [
    {
     "data": {
      "text/plain": [
       "array([ 1,  2,  3,  4,  5,  6,  7,  8,  9, 10, 11, 12, 13, 14, 15, 16, 17,\n",
       "       18, 19, 20, 21, 22, 23, 24, 25, 26, 27, 28, 29, 30, 31, 32, 33, 34,\n",
       "       35, 36, 37])"
      ]
     },
     "execution_count": 55,
     "metadata": {},
     "output_type": "execute_result"
    }
   ],
   "source": [
    "alist = mapdl.geometry.anum\n",
    "alist"
   ]
  },
  {
   "cell_type": "code",
   "execution_count": 54,
   "id": "878ea62f-54da-4fc1-9ee2-1e8e28e6a655",
   "metadata": {
    "execution": {
     "iopub.execute_input": "2023-08-25T19:13:19.194078Z",
     "iopub.status.busy": "2023-08-25T19:13:19.192114Z",
     "iopub.status.idle": "2023-08-25T19:13:19.214356Z",
     "shell.execute_reply": "2023-08-25T19:13:19.210411Z",
     "shell.execute_reply.started": "2023-08-25T19:13:19.194078Z"
    }
   },
   "outputs": [],
   "source": [
    "# mapdl.alist(\"ALL\")"
   ]
  },
  {
   "cell_type": "code",
   "execution_count": null,
   "id": "49d70e5f-e79b-4bec-bcf8-bfeca7027627",
   "metadata": {},
   "outputs": [],
   "source": [
    "area_val = mapdl.get(entity='AREA', item1='AREA')"
   ]
  },
  {
   "cell_type": "code",
   "execution_count": null,
   "id": "04f52db3-e813-463f-b9d6-0aff2d9e5a15",
   "metadata": {},
   "outputs": [],
   "source": [
    "Mapdl.get(par='__floatparameter__', entity='', entnum='', item1='', it1num='', item2='', it2num='', item3='', it3num='', item4='', it4num='', **kwargs)[source]\n"
   ]
  },
  {
   "cell_type": "markdown",
   "id": "eae35327-ac05-4917-8afd-4d4a157199e2",
   "metadata": {},
   "source": [
    "## AREA to three non linear kp"
   ]
  },
  {
   "cell_type": "markdown",
   "id": "f7323ccc-422c-4576-953d-aeae7628368c",
   "metadata": {},
   "source": [
    "Before line division"
   ]
  },
  {
   "cell_type": "code",
   "execution_count": 29,
   "id": "ed538340-8936-46ba-ab8f-7c96e355222a",
   "metadata": {
    "execution": {
     "iopub.execute_input": "2023-09-04T04:18:59.115322Z",
     "iopub.status.busy": "2023-09-04T04:18:59.115322Z",
     "iopub.status.idle": "2023-09-04T04:18:59.147775Z",
     "shell.execute_reply": "2023-09-04T04:18:59.147726Z",
     "shell.execute_reply.started": "2023-09-04T04:18:59.115322Z"
    }
   },
   "outputs": [
    {
     "data": {
      "text/plain": [
       "array([5, 6])"
      ]
     },
     "execution_count": 29,
     "metadata": {},
     "output_type": "execute_result"
    }
   ],
   "source": [
    "a_nu = 5\n",
    "mapdl.asel(\"S\", \"AREA\", \"\", a_nu)\n",
    "mapdl.allsel(labt=\"BELOW \", entity=\"AREA\")\n",
    "mapdl.allsel(labt=\"BELOW \", entity=\"LINE\")\n",
    "mapdl.allsel(labt=\"BELOW \", entity=\"KP\")\n",
    "klist = mapdl.geometry.knum\n",
    "klist"
   ]
  },
  {
   "cell_type": "code",
   "execution_count": 60,
   "id": "27ee28be-54f0-4c8a-be81-594199b97bcb",
   "metadata": {
    "execution": {
     "iopub.execute_input": "2023-08-26T06:36:15.829943Z",
     "iopub.status.busy": "2023-08-26T06:36:15.829943Z",
     "iopub.status.idle": "2023-08-26T06:36:15.890212Z",
     "shell.execute_reply": "2023-08-26T06:36:15.889216Z",
     "shell.execute_reply.started": "2023-08-26T06:36:15.829943Z"
    }
   },
   "outputs": [
    {
     "name": "stdout",
     "output_type": "stream",
     "text": [
      "[-0.1, -0.025, 0.22000000000000003]\n",
      "[-0.1, 0.025, 0.22000000000000003]\n",
      "[-0.1, -0.025, 0.2]\n",
      "[-0.1, 0.025, 0.2]\n"
     ]
    }
   ],
   "source": [
    "for knum in klist:\n",
    "    k_x = mapdl.queries.kx(knum)\n",
    "    k_y = mapdl.queries.ky(knum)\n",
    "    k_z = mapdl.queries.kz(knum)\n",
    "    printf(f\"{knum}:{k_x}, {k_y}, {k_z}\")"
   ]
  },
  {
   "cell_type": "markdown",
   "id": "cb08a84d-cd65-44d3-9954-1f21419f8caf",
   "metadata": {},
   "source": [
    "---"
   ]
  },
  {
   "cell_type": "markdown",
   "id": "976aa926-daed-4f98-8bdc-64092f17d5c4",
   "metadata": {},
   "source": [
    "**Line Division**"
   ]
  },
  {
   "cell_type": "code",
   "execution_count": 70,
   "id": "01ce28ab-db95-428e-8074-901ecaf07b86",
   "metadata": {
    "execution": {
     "iopub.execute_input": "2023-08-26T06:54:29.177019Z",
     "iopub.status.busy": "2023-08-26T06:54:29.176023Z",
     "iopub.status.idle": "2023-08-26T06:54:29.217650Z",
     "shell.execute_reply": "2023-08-26T06:54:29.215661Z",
     "shell.execute_reply.started": "2023-08-26T06:54:29.177019Z"
    }
   },
   "outputs": [
    {
     "data": {
      "text/plain": [
       "array([ 9, 12, 16, 20, 73, 74, 75, 76, 77, 78, 79, 80, 81, 82, 83, 84, 85,\n",
       "       86, 87, 88])"
      ]
     },
     "execution_count": 70,
     "metadata": {},
     "output_type": "execute_result"
    }
   ],
   "source": [
    "a_nu = 6\n",
    "mapdl.asel(\"S\", \"AREA\", \"\", a_nu)\n",
    "mapdl.allsel(labt=\"BELOW \", entity=\"AREA\")\n",
    "mapdl.allsel(labt=\"BELOW \", entity=\"LINE\")\n",
    "# mapdl.allsel(labt=\"BELOW \", entity=\"KP\")\n",
    "llist = mapdl.geometry.lnum\n",
    "llist"
   ]
  },
  {
   "cell_type": "code",
   "execution_count": 63,
   "id": "ec1d5614-ca6b-4de1-9b48-1c3b29531179",
   "metadata": {
    "execution": {
     "iopub.execute_input": "2023-08-26T06:41:55.296317Z",
     "iopub.status.busy": "2023-08-26T06:41:55.296317Z",
     "iopub.status.idle": "2023-08-26T06:41:55.318449Z",
     "shell.execute_reply": "2023-08-26T06:41:55.317952Z",
     "shell.execute_reply.started": "2023-08-26T06:41:55.296317Z"
    }
   },
   "outputs": [],
   "source": [
    "for lnum in llist:\n",
    "    mapdl.ldiv(lnum, ndiv=5)"
   ]
  },
  {
   "cell_type": "code",
   "execution_count": 64,
   "id": "9851a745-9aae-4cab-9e74-edc30918e1f0",
   "metadata": {
    "execution": {
     "iopub.execute_input": "2023-08-26T06:42:20.945241Z",
     "iopub.status.busy": "2023-08-26T06:42:20.944245Z",
     "iopub.status.idle": "2023-08-26T06:42:20.987699Z",
     "shell.execute_reply": "2023-08-26T06:42:20.986107Z",
     "shell.execute_reply.started": "2023-08-26T06:42:20.945241Z"
    }
   },
   "outputs": [
    {
     "data": {
      "text/plain": [
       "array([ 9, 12, 16, 20, 73, 74, 75, 76, 77, 78, 79, 80, 81, 82, 83, 84, 85,\n",
       "       86, 87, 88])"
      ]
     },
     "execution_count": 64,
     "metadata": {},
     "output_type": "execute_result"
    }
   ],
   "source": [
    "a_nu = 6\n",
    "mapdl.asel(\"S\", \"AREA\", \"\", a_nu)\n",
    "mapdl.allsel(labt=\"BELOW \", entity=\"AREA\")\n",
    "mapdl.allsel(labt=\"BELOW \", entity=\"LINE\")\n",
    "llist = mapdl.geometry.lnum\n",
    "llist"
   ]
  },
  {
   "cell_type": "code",
   "execution_count": 65,
   "id": "b5680371-e2f0-4c5e-b2b5-20570bd51dcc",
   "metadata": {
    "execution": {
     "iopub.execute_input": "2023-08-26T06:42:42.615967Z",
     "iopub.status.busy": "2023-08-26T06:42:42.614974Z",
     "iopub.status.idle": "2023-08-26T06:42:42.642379Z",
     "shell.execute_reply": "2023-08-26T06:42:42.641881Z",
     "shell.execute_reply.started": "2023-08-26T06:42:42.615967Z"
    }
   },
   "outputs": [
    {
     "data": {
      "text/plain": [
       "array([ 9, 10, 13, 14, 51, 52, 53, 54, 55, 56, 57, 58, 59, 60, 61, 62, 63,\n",
       "       64, 65, 66])"
      ]
     },
     "execution_count": 65,
     "metadata": {},
     "output_type": "execute_result"
    }
   ],
   "source": [
    "a_nu = 6\n",
    "mapdl.asel(\"S\", \"AREA\", \"\", a_nu)\n",
    "mapdl.allsel(labt=\"BELOW \", entity=\"AREA\")\n",
    "mapdl.allsel(labt=\"BELOW \", entity=\"LINE\")\n",
    "mapdl.allsel(labt=\"BELOW \", entity=\"KP\")\n",
    "klist = mapdl.geometry.knum\n",
    "klist"
   ]
  },
  {
   "cell_type": "code",
   "execution_count": 67,
   "id": "cae91151-d8d0-4fac-a7fb-c9cddded2826",
   "metadata": {
    "execution": {
     "iopub.execute_input": "2023-08-26T06:46:34.406768Z",
     "iopub.status.busy": "2023-08-26T06:46:34.406768Z",
     "iopub.status.idle": "2023-08-26T06:46:34.595478Z",
     "shell.execute_reply": "2023-08-26T06:46:34.594132Z",
     "shell.execute_reply.started": "2023-08-26T06:46:34.406768Z"
    }
   },
   "outputs": [
    {
     "name": "stdout",
     "output_type": "stream",
     "text": [
      "9:-0.1, -0.025, 0.22000000000000003\n",
      "10:-0.1, 0.025, 0.22000000000000003\n",
      "13:-0.1, -0.025, 0.2\n",
      "14:-0.1, 0.025, 0.2\n",
      "51:-0.10000000000000002, -0.025000000000000005, 0.21600000000000003\n",
      "52:-0.10000000000000002, -0.025000000000000005, 0.21200000000000002\n",
      "53:-0.1, -0.025, 0.20800000000000002\n",
      "54:-0.1, -0.025, 0.20400000000000001\n",
      "55:-0.10000000000000002, 0.025000000000000005, 0.21600000000000003\n",
      "56:-0.10000000000000002, 0.025000000000000005, 0.21200000000000002\n",
      "57:-0.1, 0.025, 0.20800000000000002\n",
      "58:-0.1, 0.025, 0.20400000000000001\n",
      "59:-0.1, 0.015000000000000001, 0.22000000000000003\n",
      "60:-0.09999999999999999, 0.005000000000000002, 0.22000000000000003\n",
      "61:-0.09999999999999999, -0.0049999999999999975, 0.22000000000000003\n",
      "62:-0.09999999999999998, -0.015, 0.22000000000000003\n",
      "63:-0.1, 0.015000000000000001, 0.20000000000000004\n",
      "64:-0.09999999999999999, 0.005000000000000002, 0.20000000000000004\n",
      "65:-0.09999999999999999, -0.0049999999999999975, 0.2\n",
      "66:-0.09999999999999998, -0.015, 0.2\n"
     ]
    }
   ],
   "source": [
    "for knum in klist:\n",
    "    k_x = mapdl.queries.kx(knum)\n",
    "    k_y = mapdl.queries.ky(knum)\n",
    "    k_z = mapdl.queries.kz(knum)\n",
    "    print(f\"{knum}:{k_x}, {k_y}, {k_z}\")"
   ]
  },
  {
   "cell_type": "markdown",
   "id": "e76488ff-a753-4564-9e2c-72a03c70bc47",
   "metadata": {},
   "source": [
    "---"
   ]
  },
  {
   "cell_type": "markdown",
   "id": "fc3d9a25-bfb2-491d-bd34-392bd063ae9b",
   "metadata": {},
   "source": [
    "### normal to area vector"
   ]
  },
  {
   "cell_type": "code",
   "execution_count": 96,
   "id": "cc8be49d-1549-418e-8a72-e46207478164",
   "metadata": {
    "execution": {
     "iopub.execute_input": "2023-08-26T10:29:24.090144Z",
     "iopub.status.busy": "2023-08-26T10:29:24.089639Z",
     "iopub.status.idle": "2023-08-26T10:29:24.136231Z",
     "shell.execute_reply": "2023-08-26T10:29:24.135045Z",
     "shell.execute_reply.started": "2023-08-26T10:29:24.090144Z"
    }
   },
   "outputs": [
    {
     "name": "stdout",
     "output_type": "stream",
     "text": [
      "[1 2 4 6]\n",
      "[1 2 3 4]\n",
      "[1 2 4 6]\n",
      "[1 2 3 4]\n"
     ]
    }
   ],
   "source": [
    "a_nu = 1\n",
    "mapdl.asel(\"S\", \"AREA\", \"\", a_nu)\n",
    "mapdl.allsel(labt=\"BELOW \", entity=\"AREA\")\n",
    "mapdl.allsel(labt=\"BELOW \", entity=\"LINE\")\n",
    "llist = mapdl.geometry.lnum\n",
    "print(llist)\n",
    "mapdl.allsel(labt=\"BELOW \", entity=\"KP\")\n",
    "klist = mapdl.geometry.knum\n",
    "print(klist)\n",
    "\n",
    "if len(klist) < 3:\n",
    "    for lnum in llist:\n",
    "        mapdl.ldiv(lnum, ndiv=5)\n",
    "    llist = mapdl.geometry.lnum\n",
    "    klist = mapdl.geometry.knum\n",
    "\n",
    "print(llist)\n",
    "print(klist)"
   ]
  },
  {
   "cell_type": "code",
   "execution_count": 58,
   "id": "73d99c71-702d-4286-afe5-0a97e0c2fe0b",
   "metadata": {
    "execution": {
     "iopub.execute_input": "2023-08-26T23:54:14.961953Z",
     "iopub.status.busy": "2023-08-26T23:54:14.960956Z",
     "iopub.status.idle": "2023-08-26T23:54:14.983100Z",
     "shell.execute_reply": "2023-08-26T23:54:14.982103Z",
     "shell.execute_reply.started": "2023-08-26T23:54:14.961953Z"
    }
   },
   "outputs": [
    {
     "data": {
      "text/plain": [
       "ACTIVE COORDINATE SYSTEM SET TO          0  (CARTESIAN)"
      ]
     },
     "execution_count": 58,
     "metadata": {},
     "output_type": "execute_result"
    }
   ],
   "source": [
    "mapdl.csys(kcn=0)"
   ]
  },
  {
   "cell_type": "code",
   "execution_count": 59,
   "id": "384d563f-41a6-43b2-bf1b-c7158e01f5d9",
   "metadata": {
    "execution": {
     "iopub.execute_input": "2023-08-26T23:54:15.685372Z",
     "iopub.status.busy": "2023-08-26T23:54:15.685372Z",
     "iopub.status.idle": "2023-08-26T23:54:15.735636Z",
     "shell.execute_reply": "2023-08-26T23:54:15.734640Z",
     "shell.execute_reply.started": "2023-08-26T23:54:15.685372Z"
    }
   },
   "outputs": [
    {
     "name": "stdout",
     "output_type": "stream",
     "text": [
      "[21 24 28 32 73 74 75 76 77 78 79 80 81 82 83 84 85 86 87 88]\n",
      "[17 18 21 22 51 52 53 54 55 56 57 58 59 60 61 62 63 64 65 66]\n"
     ]
    }
   ],
   "source": [
    "a_nu = 12\n",
    "mapdl.asel(\"S\", \"AREA\", \"\", a_nu)\n",
    "mapdl.allsel(labt=\"BELOW \", entity=\"AREA\")\n",
    "mapdl.allsel(labt=\"BELOW \", entity=\"LINE\")\n",
    "llist = mapdl.geometry.lnum\n",
    "# print(llist)\n",
    "mapdl.allsel(labt=\"BELOW \", entity=\"KP\")\n",
    "klist = mapdl.geometry.knum\n",
    "# print(klist)\n",
    "\n",
    "if len(klist) <= 3:\n",
    "    for lnum in llist:\n",
    "        mapdl.ldiv(lnum, ndiv=5)\n",
    "    llist = mapdl.geometry.lnum\n",
    "    klist = mapdl.geometry.knum\n",
    "\n",
    "print(llist)\n",
    "print(klist)"
   ]
  },
  {
   "cell_type": "code",
   "execution_count": 60,
   "id": "e5a241df-8a01-4768-98c7-886b5b95ea2e",
   "metadata": {
    "execution": {
     "iopub.execute_input": "2023-08-26T23:54:15.838720Z",
     "iopub.status.busy": "2023-08-26T23:54:15.838720Z",
     "iopub.status.idle": "2023-08-26T23:54:16.089679Z",
     "shell.execute_reply": "2023-08-26T23:54:16.086636Z",
     "shell.execute_reply.started": "2023-08-26T23:54:15.838720Z"
    }
   },
   "outputs": [],
   "source": [
    "kp_coord = {}\n",
    "for kpoiint in klist:\n",
    "    k_x = mapdl.queries.kx(kpoiint)\n",
    "    k_y = mapdl.queries.ky(kpoiint)\n",
    "    k_z = mapdl.queries.kz(kpoiint)\n",
    "    k1 = np.array([k_x, k_y, k_z])\n",
    "    kp_coord[kpoiint] = k1"
   ]
  },
  {
   "cell_type": "code",
   "execution_count": 61,
   "id": "a1cc6ade-1c83-4990-aa12-5266909d81a6",
   "metadata": {
    "execution": {
     "iopub.execute_input": "2023-08-26T23:54:16.592893Z",
     "iopub.status.busy": "2023-08-26T23:54:16.591896Z",
     "iopub.status.idle": "2023-08-26T23:54:16.599997Z",
     "shell.execute_reply": "2023-08-26T23:54:16.599868Z",
     "shell.execute_reply.started": "2023-08-26T23:54:16.592893Z"
    }
   },
   "outputs": [
    {
     "name": "stdout",
     "output_type": "stream",
     "text": [
      "21\n",
      "[-0.25  0.1   0.1 ]\n"
     ]
    }
   ],
   "source": [
    "k1 = kp_coord[klist[0]]\n",
    "k2 = kp_coord[klist[1]]\n",
    "\n",
    "for i in range(2, len(klist)):\n",
    "    k3 = kp_coord[klist[i]]\n",
    "    if cd.check_collinear(k1, k2, k3) > 1.0e-4:\n",
    "        print(klist[i])\n",
    "        print(k3)\n",
    "        break"
   ]
  },
  {
   "cell_type": "code",
   "execution_count": null,
   "id": "ae6bae0f-0df8-4706-868c-66fbd454851f",
   "metadata": {},
   "outputs": [],
   "source": []
  },
  {
   "cell_type": "code",
   "execution_count": 62,
   "id": "3b03c8a5-84b1-49a4-870a-344091ecc9ae",
   "metadata": {
    "execution": {
     "iopub.execute_input": "2023-08-26T23:54:17.877451Z",
     "iopub.status.busy": "2023-08-26T23:54:17.877451Z",
     "iopub.status.idle": "2023-08-26T23:54:17.896095Z",
     "shell.execute_reply": "2023-08-26T23:54:17.895171Z",
     "shell.execute_reply.started": "2023-08-26T23:54:17.877451Z"
    }
   },
   "outputs": [],
   "source": [
    "zx = np.cross((k2 - k1), (k3 - k1))"
   ]
  },
  {
   "cell_type": "code",
   "execution_count": 63,
   "id": "5918c9e5-4d2b-46ba-b0f5-033cd1fd3685",
   "metadata": {
    "execution": {
     "iopub.execute_input": "2023-08-26T23:54:18.446235Z",
     "iopub.status.busy": "2023-08-26T23:54:18.446235Z",
     "iopub.status.idle": "2023-08-26T23:54:18.457278Z",
     "shell.execute_reply": "2023-08-26T23:54:18.457278Z",
     "shell.execute_reply.started": "2023-08-26T23:54:18.446235Z"
    }
   },
   "outputs": [
    {
     "data": {
      "text/plain": [
       "array([1., 0., 0.])"
      ]
     },
     "execution_count": 63,
     "metadata": {},
     "output_type": "execute_result"
    }
   ],
   "source": [
    "cd.dcv(zx[0], zx[1], zx[2])"
   ]
  },
  {
   "cell_type": "code",
   "execution_count": 64,
   "id": "815a433a-3656-4933-9ccb-9f8b616a2c30",
   "metadata": {
    "execution": {
     "iopub.execute_input": "2023-08-26T23:54:21.733510Z",
     "iopub.status.busy": "2023-08-26T23:54:21.733510Z",
     "iopub.status.idle": "2023-08-26T23:54:21.742480Z",
     "shell.execute_reply": "2023-08-26T23:54:21.741555Z",
     "shell.execute_reply.started": "2023-08-26T23:54:21.733510Z"
    }
   },
   "outputs": [],
   "source": [
    "origin = k1\n",
    "p1 = k2\n",
    "p2 = k3"
   ]
  },
  {
   "cell_type": "code",
   "execution_count": 65,
   "id": "dfb4ce67-b002-401f-bd9d-3b24a2c4bab2",
   "metadata": {
    "execution": {
     "iopub.execute_input": "2023-08-26T23:54:23.837427Z",
     "iopub.status.busy": "2023-08-26T23:54:23.837427Z",
     "iopub.status.idle": "2023-08-26T23:54:23.846855Z",
     "shell.execute_reply": "2023-08-26T23:54:23.845496Z",
     "shell.execute_reply.started": "2023-08-26T23:54:23.837427Z"
    }
   },
   "outputs": [],
   "source": [
    "        v1= p1- origin                 #vector-1\n",
    "        v2= p2- origin                 #vector-2\n",
    "        v1_dc=cd.dcv(v1[0],v1[1],v1[2])\n",
    "        v2_dc=cd.dcv(v2[0],v2[1],v2[2])\n",
    "\n",
    "        v3=np.cross(v1_dc, v2_dc)      #vector-3, perp to 1,2\n",
    "        v3_dc=cd.dcv(v3[0],v3[1],v3[2])\n",
    "\n",
    "        v4=np.cross(v3_dc, v1_dc)      #vector-4(y) perp vector-3(z) perp to vector-1(x)\n",
    "        v4_dc=cd.dcv(v4[0],v4[1],v4[2])"
   ]
  },
  {
   "cell_type": "code",
   "execution_count": 66,
   "id": "75e0cf9e-cc9c-41a6-90eb-0a1e3189d754",
   "metadata": {
    "execution": {
     "iopub.execute_input": "2023-08-26T23:54:25.074052Z",
     "iopub.status.busy": "2023-08-26T23:54:25.072984Z",
     "iopub.status.idle": "2023-08-26T23:54:25.086011Z",
     "shell.execute_reply": "2023-08-26T23:54:25.086011Z",
     "shell.execute_reply.started": "2023-08-26T23:54:25.074052Z"
    }
   },
   "outputs": [
    {
     "data": {
      "text/plain": [
       "array([ 0., -1.,  0.])"
      ]
     },
     "execution_count": 66,
     "metadata": {},
     "output_type": "execute_result"
    }
   ],
   "source": [
    "v1_dc"
   ]
  },
  {
   "cell_type": "code",
   "execution_count": 67,
   "id": "570727c3-7834-486b-9395-3d81dfb1ecf2",
   "metadata": {
    "execution": {
     "iopub.execute_input": "2023-08-26T23:54:26.253675Z",
     "iopub.status.busy": "2023-08-26T23:54:26.252678Z",
     "iopub.status.idle": "2023-08-26T23:54:26.272665Z",
     "shell.execute_reply": "2023-08-26T23:54:26.271451Z",
     "shell.execute_reply.started": "2023-08-26T23:54:26.253675Z"
    }
   },
   "outputs": [
    {
     "data": {
      "text/plain": [
       "array([ 0.,  0., -1.])"
      ]
     },
     "execution_count": 67,
     "metadata": {},
     "output_type": "execute_result"
    }
   ],
   "source": [
    "v4_dc"
   ]
  },
  {
   "cell_type": "code",
   "execution_count": 68,
   "id": "7b30b779-64e1-482d-8874-2a859de394ec",
   "metadata": {
    "execution": {
     "iopub.execute_input": "2023-08-26T23:54:26.899314Z",
     "iopub.status.busy": "2023-08-26T23:54:26.899314Z",
     "iopub.status.idle": "2023-08-26T23:54:26.905427Z",
     "shell.execute_reply": "2023-08-26T23:54:26.905427Z",
     "shell.execute_reply.started": "2023-08-26T23:54:26.899314Z"
    }
   },
   "outputs": [
    {
     "data": {
      "text/plain": [
       "array([1., 0., 0.])"
      ]
     },
     "execution_count": 68,
     "metadata": {},
     "output_type": "execute_result"
    }
   ],
   "source": [
    "v3_dc"
   ]
  },
  {
   "cell_type": "markdown",
   "id": "7b188ae9-f368-4407-8a12-2de06eaa54f5",
   "metadata": {},
   "source": [
    "---"
   ]
  },
  {
   "cell_type": "markdown",
   "id": "3f8ab7d9-30ef-45e1-9f95-e59158ed15ba",
   "metadata": {},
   "source": [
    "### DCM from normal from three non linear point"
   ]
  },
  {
   "cell_type": "code",
   "execution_count": 69,
   "id": "9d08e493-c4d4-428f-bbb0-81404f7ba79d",
   "metadata": {
    "execution": {
     "iopub.execute_input": "2023-08-26T23:54:29.604374Z",
     "iopub.status.busy": "2023-08-26T23:54:29.604374Z",
     "iopub.status.idle": "2023-08-26T23:54:29.610501Z",
     "shell.execute_reply": "2023-08-26T23:54:29.610501Z",
     "shell.execute_reply.started": "2023-08-26T23:54:29.604374Z"
    }
   },
   "outputs": [],
   "source": [
    "x_dcm, y_dcm, z_dcm = cd.coordinate_dcm(k1, k2, k3)"
   ]
  },
  {
   "cell_type": "code",
   "execution_count": 70,
   "id": "9436e3f1-3cac-4aec-8183-2d262255c8e0",
   "metadata": {
    "execution": {
     "iopub.execute_input": "2023-08-26T23:54:31.722882Z",
     "iopub.status.busy": "2023-08-26T23:54:31.722882Z",
     "iopub.status.idle": "2023-08-26T23:54:31.729927Z",
     "shell.execute_reply": "2023-08-26T23:54:31.729927Z",
     "shell.execute_reply.started": "2023-08-26T23:54:31.722882Z"
    }
   },
   "outputs": [
    {
     "data": {
      "text/plain": [
       "array([ 0.,  0., -1.])"
      ]
     },
     "execution_count": 70,
     "metadata": {},
     "output_type": "execute_result"
    }
   ],
   "source": [
    "np.cross(z_dcm, x_dcm)"
   ]
  },
  {
   "cell_type": "code",
   "execution_count": 71,
   "id": "5c3669b7-0543-4946-9556-47ddc07285e3",
   "metadata": {
    "execution": {
     "iopub.execute_input": "2023-08-26T23:54:34.286669Z",
     "iopub.status.busy": "2023-08-26T23:54:34.286669Z",
     "iopub.status.idle": "2023-08-26T23:54:34.294915Z",
     "shell.execute_reply": "2023-08-26T23:54:34.293645Z",
     "shell.execute_reply.started": "2023-08-26T23:54:34.286669Z"
    }
   },
   "outputs": [
    {
     "data": {
      "text/plain": [
       "array([ 0., -1.,  0.])"
      ]
     },
     "execution_count": 71,
     "metadata": {},
     "output_type": "execute_result"
    }
   ],
   "source": [
    "x_dcm"
   ]
  },
  {
   "cell_type": "code",
   "execution_count": 72,
   "id": "2f3df961-1cb5-42f4-968a-da962cecca0f",
   "metadata": {
    "execution": {
     "iopub.execute_input": "2023-08-26T23:54:34.880527Z",
     "iopub.status.busy": "2023-08-26T23:54:34.880527Z",
     "iopub.status.idle": "2023-08-26T23:54:34.900199Z",
     "shell.execute_reply": "2023-08-26T23:54:34.898935Z",
     "shell.execute_reply.started": "2023-08-26T23:54:34.880527Z"
    }
   },
   "outputs": [
    {
     "data": {
      "text/plain": [
       "array([ 0.,  0., -1.])"
      ]
     },
     "execution_count": 72,
     "metadata": {},
     "output_type": "execute_result"
    }
   ],
   "source": [
    "y_dcm"
   ]
  },
  {
   "cell_type": "code",
   "execution_count": 73,
   "id": "2f4ca59b-4ea8-428a-ad3e-53bc58379074",
   "metadata": {
    "execution": {
     "iopub.execute_input": "2023-08-26T23:54:38.297515Z",
     "iopub.status.busy": "2023-08-26T23:54:38.297515Z",
     "iopub.status.idle": "2023-08-26T23:54:38.312464Z",
     "shell.execute_reply": "2023-08-26T23:54:38.311541Z",
     "shell.execute_reply.started": "2023-08-26T23:54:38.297515Z"
    }
   },
   "outputs": [
    {
     "data": {
      "text/plain": [
       "array([1., 0., 0.])"
      ]
     },
     "execution_count": 73,
     "metadata": {},
     "output_type": "execute_result"
    }
   ],
   "source": [
    "z_dcm"
   ]
  },
  {
   "cell_type": "markdown",
   "id": "549f8874-e52b-4d33-82a8-51d63f680944",
   "metadata": {},
   "source": [
    "### Rotation vector from dcm"
   ]
  },
  {
   "cell_type": "code",
   "execution_count": 74,
   "id": "c4db2336-006f-40a6-948f-50fff1450464",
   "metadata": {
    "execution": {
     "iopub.execute_input": "2023-08-26T23:54:41.629893Z",
     "iopub.status.busy": "2023-08-26T23:54:41.628894Z",
     "iopub.status.idle": "2023-08-26T23:54:41.653283Z",
     "shell.execute_reply": "2023-08-26T23:54:41.653283Z",
     "shell.execute_reply.started": "2023-08-26T23:54:41.629893Z"
    }
   },
   "outputs": [
    {
     "data": {
      "text/plain": [
       "array([[ 0., -1.,  0.],\n",
       "       [ 0.,  0., -1.],\n",
       "       [ 1.,  0.,  0.]])"
      ]
     },
     "execution_count": 74,
     "metadata": {},
     "output_type": "execute_result"
    }
   ],
   "source": [
    "mapdl.csys(kcn=0)\n",
    "# R = np.column_stack((x_dcm, y_dcm, z_dcm))\n",
    "R = np.row_stack((x_dcm, y_dcm, z_dcm))\n",
    "R"
   ]
  },
  {
   "cell_type": "code",
   "execution_count": null,
   "id": "d87f08ad-9a0c-419e-96ad-e9b14a089b62",
   "metadata": {},
   "outputs": [],
   "source": [
    "        R1 = np.arctan2(-1*R[1, 0], R[1, 1])\n",
    "        R2 = np.arcsin(R[1, 2])\n",
    "        R3 = np.arctan2(-R[0, 1], R[2, 2])"
   ]
  },
  {
   "cell_type": "code",
   "execution_count": 34,
   "id": "ec89bfa7-517a-4af3-a03b-fae9a0b1cc9f",
   "metadata": {
    "execution": {
     "iopub.execute_input": "2023-08-27T00:06:57.860234Z",
     "iopub.status.busy": "2023-08-27T00:06:57.860234Z",
     "iopub.status.idle": "2023-08-27T00:06:57.880382Z",
     "shell.execute_reply": "2023-08-27T00:06:57.880170Z",
     "shell.execute_reply.started": "2023-08-27T00:06:57.860234Z"
    }
   },
   "outputs": [
    {
     "data": {
      "text/plain": [
       "0.0"
      ]
     },
     "execution_count": 34,
     "metadata": {},
     "output_type": "execute_result"
    }
   ],
   "source": [
    "np.degrees(np.arctan2(-0, 0))"
   ]
  },
  {
   "cell_type": "code",
   "execution_count": 35,
   "id": "8262ba8b-9cb3-4bad-8c89-55800b435e2c",
   "metadata": {
    "execution": {
     "iopub.execute_input": "2023-08-27T00:07:13.092341Z",
     "iopub.status.busy": "2023-08-27T00:07:13.092341Z",
     "iopub.status.idle": "2023-08-27T00:07:13.108633Z",
     "shell.execute_reply": "2023-08-27T00:07:13.108134Z",
     "shell.execute_reply.started": "2023-08-27T00:07:13.092341Z"
    }
   },
   "outputs": [
    {
     "data": {
      "text/plain": [
       "-90.0"
      ]
     },
     "execution_count": 35,
     "metadata": {},
     "output_type": "execute_result"
    }
   ],
   "source": [
    "np.degrees(np.arcsin(-1))"
   ]
  },
  {
   "cell_type": "code",
   "execution_count": null,
   "id": "96af5dfb-e98f-4b87-b07b-92127f31f0f5",
   "metadata": {},
   "outputs": [],
   "source": [
    "np.arctan2(-0, 0)"
   ]
  },
  {
   "cell_type": "code",
   "execution_count": 75,
   "id": "fdcb5e03-c172-4dc3-981d-74465e2052e4",
   "metadata": {
    "execution": {
     "iopub.execute_input": "2023-08-26T23:54:42.734407Z",
     "iopub.status.busy": "2023-08-26T23:54:42.733411Z",
     "iopub.status.idle": "2023-08-26T23:54:42.754134Z",
     "shell.execute_reply": "2023-08-26T23:54:42.754126Z",
     "shell.execute_reply.started": "2023-08-26T23:54:42.734407Z"
    }
   },
   "outputs": [
    {
     "data": {
      "text/plain": [
       "-1.0"
      ]
     },
     "execution_count": 75,
     "metadata": {},
     "output_type": "execute_result"
    }
   ],
   "source": [
    "R[1, 2]"
   ]
  },
  {
   "cell_type": "code",
   "execution_count": 76,
   "id": "2f53e625-27f5-4eec-b13c-811bc168bb59",
   "metadata": {
    "execution": {
     "iopub.execute_input": "2023-08-26T23:54:44.387769Z",
     "iopub.status.busy": "2023-08-26T23:54:44.387769Z",
     "iopub.status.idle": "2023-08-26T23:54:44.398073Z",
     "shell.execute_reply": "2023-08-26T23:54:44.396737Z",
     "shell.execute_reply.started": "2023-08-26T23:54:44.387769Z"
    }
   },
   "outputs": [
    {
     "data": {
      "text/plain": [
       "(-0.0, -90.0, -0.0)"
      ]
     },
     "execution_count": 76,
     "metadata": {},
     "output_type": "execute_result"
    }
   ],
   "source": [
    "cd.dcm2angleZXY(R)"
   ]
  },
  {
   "cell_type": "markdown",
   "id": "6133918d-c252-4356-9a6f-eaca9e03f07a",
   "metadata": {},
   "source": [
    "```\n",
    "!******for rotation in Rz,Rx,Ry sequence******\n",
    "R_Z = ATAN2(-y_l,y_m)\n",
    "R_X = ASIN(y_n)\n",
    "R_Y = ATAN2(-x_n,z_n)\n",
    "\n",
    "CLOCAL, CS_Index, 0, X_0, Y_0, Z_0, R_Z, R_X, R_Y\n",
    "```"
   ]
  },
  {
   "cell_type": "code",
   "execution_count": 52,
   "id": "13b138c1-91e7-4f1d-bbe1-53e8284ffb5f",
   "metadata": {
    "execution": {
     "iopub.execute_input": "2023-08-26T23:10:44.594611Z",
     "iopub.status.busy": "2023-08-26T23:10:44.594611Z",
     "iopub.status.idle": "2023-08-26T23:10:44.612380Z",
     "shell.execute_reply": "2023-08-26T23:10:44.611308Z",
     "shell.execute_reply.started": "2023-08-26T23:10:44.594611Z"
    }
   },
   "outputs": [
    {
     "data": {
      "text/plain": [
       "-0.0"
      ]
     },
     "execution_count": 52,
     "metadata": {},
     "output_type": "execute_result"
    }
   ],
   "source": [
    "R[2, 2]"
   ]
  },
  {
   "cell_type": "markdown",
   "id": "2c38ba78-6a82-4470-8d03-93d820f24fb8",
   "metadata": {},
   "source": [
    "## Function for rotation angle and centroid of area"
   ]
  },
  {
   "cell_type": "markdown",
   "id": "fc78ae87-a233-42e4-ac0f-701081b79d24",
   "metadata": {
    "execution": {
     "iopub.execute_input": "2023-08-26T14:39:21.583788Z",
     "iopub.status.busy": "2023-08-26T14:39:21.583788Z",
     "iopub.status.idle": "2023-08-26T14:39:21.595735Z",
     "shell.execute_reply": "2023-08-26T14:39:21.595735Z",
     "shell.execute_reply.started": "2023-08-26T14:39:21.583788Z"
    }
   },
   "source": [
    "```python\n",
    "def clocal_area(a_num):\n",
    "    \"\"\"\n",
    "    This function is to find the centroid and rotation angle in ansys apdl using pyMAPDL library and python library.\n",
    "\n",
    "    Parameters\n",
    "    ----------\n",
    "    a_num : int\n",
    "        The area number.\n",
    "\n",
    "    Returns\n",
    "    -------\n",
    "    centroid : np.array\n",
    "        The centroid of the area.\n",
    "    r_z : float\n",
    "        The rotation angle about the z-axis.\n",
    "    r_x : float\n",
    "        The rotation angle about the x-axis.\n",
    "    r_y : float\n",
    "        The rotation angle about the y-axis.\n",
    "\n",
    "    \"\"\"\n",
    "    centroid = np.array(pre.area_cent([a_num]))\n",
    "    ## selecting kp from area and geneartng kp if required\n",
    "    mapdl.asel(\"S\", \"AREA\", \"\", a_num)\n",
    "    mapdl.allsel(labt=\"BELOW \", entity=\"AREA\")\n",
    "    mapdl.allsel(labt=\"BELOW \", entity=\"LINE\")\n",
    "    llist = mapdl.geometry.lnum\n",
    "    # print(llist)\n",
    "    mapdl.allsel(labt=\"BELOW \", entity=\"KP\")\n",
    "    klist = mapdl.geometry.knum\n",
    "    # print(klist)\n",
    "\n",
    "    if len(klist) <= 4:\n",
    "        for lnum in llist:\n",
    "            mapdl.ldiv(lnum, ndiv=5)\n",
    "        llist = mapdl.geometry.lnum\n",
    "        klist = mapdl.geometry.knum\n",
    "\n",
    "    # print(llist)\n",
    "    # print(klist)\n",
    "\n",
    "    ## key point coordinate in dictionary key as kp\n",
    "    kp_coord = {}\n",
    "    for kpoiint in klist:\n",
    "        k_x = mapdl.queries.kx(kpoiint)\n",
    "        k_y = mapdl.queries.ky(kpoiint)\n",
    "        k_z = mapdl.queries.kz(kpoiint)\n",
    "        k1 = np.array([k_x, k_y, k_z])\n",
    "        kp_coord[kpoiint] = k1\n",
    "\n",
    "    k1 = kp_coord[klist[0]]\n",
    "    k2 = kp_coord[klist[1]]\n",
    "\n",
    "    for i in range(2, len(klist)):\n",
    "        k3 = kp_coord[klist[i]]\n",
    "        if cd.check_collinear(k1, k2, k3) > 1.0e-4:\n",
    "            # print(klist[i])\n",
    "            # print(k3)\n",
    "            break\n",
    "\n",
    "    x_dcm, y_dcm, z_dcm = cd.coordinate_dcm(k1, k2, k3)\n",
    "    R = np.column_stack((x_dcm, y_dcm, z_dcm))\n",
    "    r_x, r_y, r_z = cd.dcm2angleZXY(R)\n",
    "\n",
    "    return centroid, r_z, r_x, r_y\n",
    "```"
   ]
  },
  {
   "cell_type": "markdown",
   "id": "ae26e472-6e7d-4515-b0ab-8666b911f06d",
   "metadata": {},
   "source": [
    "I wrot above function in py_apdl_pre.py module"
   ]
  },
  {
   "cell_type": "code",
   "execution_count": 30,
   "id": "4be9ea3a-cd81-443b-a05a-4d47b44f951d",
   "metadata": {
    "execution": {
     "iopub.execute_input": "2023-09-04T11:16:40.618224Z",
     "iopub.status.busy": "2023-09-04T11:16:40.618224Z",
     "iopub.status.idle": "2023-09-04T11:16:40.966900Z",
     "shell.execute_reply": "2023-09-04T11:16:40.965454Z",
     "shell.execute_reply.started": "2023-09-04T11:16:40.618224Z"
    }
   },
   "outputs": [
    {
     "name": "stdout",
     "output_type": "stream",
     "text": [
      "[1.46593541e-08 7.95843126e-03 2.30000086e-01] 158.78313116169892 -16.147206855260162 -144.38407890413197\n"
     ]
    }
   ],
   "source": [
    "cenrroid, r_z, r_x, r_y = pre.clocal_area(1)\n",
    "print(cenrroid, r_z, r_x, r_y)"
   ]
  },
  {
   "cell_type": "code",
   "execution_count": 31,
   "id": "d26609fd-82d4-41aa-91cf-04f0d4c3eabb",
   "metadata": {
    "execution": {
     "iopub.execute_input": "2023-08-26T17:31:21.214103Z",
     "iopub.status.busy": "2023-08-26T17:31:21.213606Z",
     "iopub.status.idle": "2023-08-26T17:31:21.448977Z",
     "shell.execute_reply": "2023-08-26T17:31:21.447578Z",
     "shell.execute_reply.started": "2023-08-26T17:31:21.214103Z"
    }
   },
   "outputs": [
    {
     "name": "stdout",
     "output_type": "stream",
     "text": [
      "[1.46593541e-08 7.95843126e-03 2.30000086e-01] -180.0 -90.0 -90.0\n"
     ]
    }
   ],
   "source": [
    "cenrroid, r_z, r_x, r_y = pre.clocal_area(1)\n",
    "print(cenrroid, r_z, r_x, r_y)"
   ]
  },
  {
   "cell_type": "code",
   "execution_count": 31,
   "id": "3a21c51d-1e2f-4f20-9bd8-98615ecff881",
   "metadata": {
    "execution": {
     "iopub.execute_input": "2023-09-04T11:16:57.630431Z",
     "iopub.status.busy": "2023-09-04T11:16:57.630431Z",
     "iopub.status.idle": "2023-09-04T11:16:57.865600Z",
     "shell.execute_reply": "2023-09-04T11:16:57.861809Z",
     "shell.execute_reply.started": "2023-09-04T11:16:57.630431Z"
    }
   },
   "outputs": [
    {
     "name": "stdout",
     "output_type": "stream",
     "text": [
      "[-4.88233834e-08 -7.95819887e-03  2.30000146e-01] 21.215951664369673 -16.14726181478112 -35.61589889383565\n"
     ]
    }
   ],
   "source": [
    "cenrroid, r_z, r_x, r_y = pre.clocal_area(2)\n",
    "print(cenrroid, r_z, r_x, r_y)"
   ]
  },
  {
   "cell_type": "code",
   "execution_count": 32,
   "id": "bc0d7de2-9d39-4e37-9f2d-562f986f5782",
   "metadata": {
    "execution": {
     "iopub.execute_input": "2023-09-04T11:17:10.017826Z",
     "iopub.status.busy": "2023-09-04T11:17:10.017826Z",
     "iopub.status.idle": "2023-09-04T11:17:10.168442Z",
     "shell.execute_reply": "2023-09-04T11:17:10.166799Z",
     "shell.execute_reply.started": "2023-09-04T11:17:10.017826Z"
    }
   },
   "outputs": [
    {
     "name": "stdout",
     "output_type": "stream",
     "text": [
      "[ 2.49479293e-11 -1.30236834e-10  2.40000000e-01] -5.969616728362357e-07 -2.6753864423044836e-13 -180.0\n"
     ]
    }
   ],
   "source": [
    "cenrroid, r_z, r_x, r_y = pre.clocal_area(3)\n",
    "print(cenrroid, r_z, r_x, r_y)"
   ]
  },
  {
   "cell_type": "code",
   "execution_count": 33,
   "id": "cb5893d3-3987-4457-8d41-f83d19f42604",
   "metadata": {
    "execution": {
     "iopub.execute_input": "2023-08-26T17:31:45.194464Z",
     "iopub.status.busy": "2023-08-26T17:31:45.193556Z",
     "iopub.status.idle": "2023-08-26T17:31:45.358704Z",
     "shell.execute_reply": "2023-08-26T17:31:45.357809Z",
     "shell.execute_reply.started": "2023-08-26T17:31:45.194464Z"
    }
   },
   "outputs": [
    {
     "name": "stdout",
     "output_type": "stream",
     "text": [
      "[-1.39442402e-11  9.30901751e-11  2.40000000e-01] 180.0 4.328866265900546e-13 2.65066610823603e-29\n"
     ]
    }
   ],
   "source": [
    "cenrroid, r_z, r_x, r_y = pre.clocal_area(3)\n",
    "print(cenrroid, r_z, r_x, r_y)"
   ]
  },
  {
   "cell_type": "code",
   "execution_count": 34,
   "id": "eabe78e7-b191-4147-9694-4e8de777e7d3",
   "metadata": {
    "execution": {
     "iopub.execute_input": "2023-08-26T17:32:04.094321Z",
     "iopub.status.busy": "2023-08-26T17:32:04.093412Z",
     "iopub.status.idle": "2023-08-26T17:32:04.268495Z",
     "shell.execute_reply": "2023-08-26T17:32:04.267998Z",
     "shell.execute_reply.started": "2023-08-26T17:32:04.094321Z"
    }
   },
   "outputs": [
    {
     "name": "stdout",
     "output_type": "stream",
     "text": [
      "[-1.39442402e-11  9.30901751e-11  2.20000000e-01] 180.0 0.0 -0.0\n"
     ]
    }
   ],
   "source": [
    "cenrroid, r_z, r_x, r_y = pre.clocal_area(4)\n",
    "print(cenrroid, r_z, r_x, r_y)"
   ]
  },
  {
   "cell_type": "code",
   "execution_count": 26,
   "id": "dbe71380-90f1-468e-a953-6885fad8e198",
   "metadata": {
    "execution": {
     "iopub.execute_input": "2023-08-26T17:51:41.382408Z",
     "iopub.status.busy": "2023-08-26T17:51:41.382408Z",
     "iopub.status.idle": "2023-08-26T17:51:41.764040Z",
     "shell.execute_reply": "2023-08-26T17:51:41.763157Z",
     "shell.execute_reply.started": "2023-08-26T17:51:41.382408Z"
    }
   },
   "outputs": [
    {
     "name": "stdout",
     "output_type": "stream",
     "text": [
      "[-1.50837926e-12  3.99106989e-11  2.20000000e-01] 6.493299398850821e-13 -3.975999162354047e-29 3.5083546492674396e-15\n"
     ]
    }
   ],
   "source": [
    "cenrroid, r_z, r_x, r_y = pre.clocal_area(5)\n",
    "print(cenrroid, r_z, r_x, r_y)"
   ]
  },
  {
   "cell_type": "code",
   "execution_count": 36,
   "id": "24251f40-d638-42d7-a0df-3a52f95425b4",
   "metadata": {
    "execution": {
     "iopub.execute_input": "2023-08-26T22:44:17.995025Z",
     "iopub.status.busy": "2023-08-26T22:44:17.995025Z",
     "iopub.status.idle": "2023-08-26T22:44:18.294002Z",
     "shell.execute_reply": "2023-08-26T22:44:18.294002Z",
     "shell.execute_reply.started": "2023-08-26T22:44:17.995025Z"
    }
   },
   "outputs": [
    {
     "name": "stdout",
     "output_type": "stream",
     "text": [
      "[-2.50000000e-01  5.69512672e-18  1.50000000e-01] 90.0 0.0 -90.0\n"
     ]
    }
   ],
   "source": [
    "mapdl.csys(kcn=0)\n",
    "cenrroid, r_z, r_x, r_y = pre.clocal_area(12)\n",
    "print(cenrroid, r_z, r_x, r_y)"
   ]
  },
  {
   "cell_type": "markdown",
   "id": "4e105d85-3290-481d-ba32-ae2fea319f0d",
   "metadata": {},
   "source": [
    "clocal,1002,0,-2.50000000e-01,  5.69512672e-18,  1.50000000e-01, 0.0, -90.0, 90.0"
   ]
  },
  {
   "cell_type": "code",
   "execution_count": 34,
   "id": "3259b878-4026-4937-9355-a7da32c92777",
   "metadata": {
    "execution": {
     "iopub.execute_input": "2023-08-26T22:43:52.522041Z",
     "iopub.status.busy": "2023-08-26T22:43:52.520903Z",
     "iopub.status.idle": "2023-08-26T22:43:52.849643Z",
     "shell.execute_reply": "2023-08-26T22:43:52.848003Z",
     "shell.execute_reply.started": "2023-08-26T22:43:52.522041Z"
    }
   },
   "outputs": [
    {
     "name": "stdout",
     "output_type": "stream",
     "text": [
      "[9.17780723e-18 2.79511172e-18 1.00000000e-01] -180.0 0.0 -180.0\n"
     ]
    }
   ],
   "source": [
    "cenrroid, r_z, r_x, r_y = pre.clocal_area(22)\n",
    "print(cenrroid, r_z, r_x, r_y)"
   ]
  },
  {
   "cell_type": "code",
   "execution_count": 31,
   "id": "032af0ba-6d67-4208-886c-d4ea337794f0",
   "metadata": {
    "execution": {
     "iopub.execute_input": "2023-08-26T22:08:02.324379Z",
     "iopub.status.busy": "2023-08-26T22:08:02.324379Z",
     "iopub.status.idle": "2023-08-26T22:08:02.600436Z",
     "shell.execute_reply": "2023-08-26T22:08:02.598947Z",
     "shell.execute_reply.started": "2023-08-26T22:08:02.324379Z"
    }
   },
   "outputs": [
    {
     "name": "stdout",
     "output_type": "stream",
     "text": [
      "[3.65174820e-18 3.65523258e-18 1.00000000e-01] 90.0 -0.0 -180.0\n"
     ]
    }
   ],
   "source": [
    "mapdl.csys(kcn=0)\n",
    "cenrroid, r_z, r_x, r_y = pre.clocal_area(22)\n",
    "print(cenrroid, r_z, r_x, r_y)"
   ]
  },
  {
   "cell_type": "code",
   "execution_count": 24,
   "id": "74c94ae4-6f9e-43fc-9de9-e3fd9652bbe3",
   "metadata": {
    "execution": {
     "iopub.execute_input": "2023-08-26T14:43:30.425811Z",
     "iopub.status.busy": "2023-08-26T14:43:30.424747Z",
     "iopub.status.idle": "2023-08-26T14:43:30.471446Z",
     "shell.execute_reply": "2023-08-26T14:43:30.471446Z",
     "shell.execute_reply.started": "2023-08-26T14:43:30.425811Z"
    }
   },
   "outputs": [
    {
     "data": {
      "text/plain": [
       "[-1.39442402e-11, 9.30901751e-11, 0.22]"
      ]
     },
     "execution_count": 24,
     "metadata": {},
     "output_type": "execute_result"
    }
   ],
   "source": [
    "pre.area_cent([4])"
   ]
  },
  {
   "cell_type": "markdown",
   "id": "237e22c9-b449-4944-bfaf-4ff642e53170",
   "metadata": {},
   "source": [
    "---"
   ]
  },
  {
   "cell_type": "markdown",
   "id": "0dfc6198-fd92-40f5-8412-58809bda7dfc",
   "metadata": {},
   "source": [
    "## Area Selection"
   ]
  },
  {
   "cell_type": "markdown",
   "id": "6b0fbb4f-88fa-4ac3-a604-d770d55abff1",
   "metadata": {},
   "source": [
    "```\n",
    "csys\n",
    "Mapdl.csys(kcn='', **kwargs)\n",
    "Activates a previously defined coordinate system.\n",
    "\n",
    "APDL Command: CSYS\n",
    "\n",
    "Parameters:\n",
    "kcn\n",
    "Specifies the active coordinate system, as follows:\n",
    "\n",
    "0 (default) - Cartesian\n",
    "\n",
    "1 - Cylindrical with global Cartesian Z as the axis of rotation\n",
    "\n",
    "2 - Spherical\n",
    "\n",
    "4 or WP - Working Plane\n",
    "\n",
    "5 - Cylindrical with global Cartesian Y as the axis of rotation\n",
    "\n",
    "11 or greater - Any previously defined local coordinate system\n",
    "\n",
    "```"
   ]
  },
  {
   "cell_type": "code",
   "execution_count": 33,
   "id": "71f991f2-2ef7-468b-a5b0-289a289f5434",
   "metadata": {
    "execution": {
     "iopub.execute_input": "2023-09-04T11:18:03.933577Z",
     "iopub.status.busy": "2023-09-04T11:18:03.932530Z",
     "iopub.status.idle": "2023-09-04T11:18:04.389558Z",
     "shell.execute_reply": "2023-09-04T11:18:04.388322Z",
     "shell.execute_reply.started": "2023-09-04T11:18:03.933577Z"
    }
   },
   "outputs": [
    {
     "name": "stdout",
     "output_type": "stream",
     "text": [
      "[-2.50000000e-01  5.69512672e-18  1.50000000e-01] -180.0 -63.43494882292201 -90.0\n"
     ]
    }
   ],
   "source": [
    "mapdl.csys(kcn=0)\n",
    "centroid, r_z, r_x, r_y = pre.clocal_area(12)\n",
    "print(centroid, r_z, r_x, r_y)"
   ]
  },
  {
   "cell_type": "code",
   "execution_count": null,
   "id": "1e6bae80-f56e-40e3-8ed1-f0a0b0a095dc",
   "metadata": {},
   "outputs": [],
   "source": []
  },
  {
   "cell_type": "code",
   "execution_count": 39,
   "id": "1cee98f6-ba83-4ab3-9469-f87bd48f9a52",
   "metadata": {
    "execution": {
     "iopub.execute_input": "2023-08-26T19:23:29.636331Z",
     "iopub.status.busy": "2023-08-26T19:23:29.636331Z",
     "iopub.status.idle": "2023-08-26T19:23:29.659981Z",
     "shell.execute_reply": "2023-08-26T19:23:29.658160Z",
     "shell.execute_reply.started": "2023-08-26T19:23:29.636331Z"
    }
   },
   "outputs": [
    {
     "data": {
      "text/plain": [
       "COORDINATE SYSTEM DEFINITION BASED ON CSYS =         0\n",
       "\n",
       " COORDINATE SYSTEM       1000 DEFINITION.  TYPE= 0  (CARTESIAN)  \n",
       "   XC,YC,ZC= 0.18756E-16-0.76547E-18 0.10000    \n",
       "   ANGLES=   90.00    0.00 -180.00   PARAMETERS=   1.000   1.000\n",
       "\n",
       " COORDINATE SYSTEM DEFINITION BASED ON GLOBAL ORIGIN\n",
       "\n",
       " COORDINATE SYSTEM       1000 DEFINITION.  TYPE= 0  (CARTESIAN)  \n",
       "   XC,YC,ZC=  0.0000      0.0000     0.10000    \n",
       "   ANGLES=   90.00    0.00 -180.00   PARAMETERS=   1.000   1.000\n",
       "   ORIENTATION= -0.00 -1.00  0.00  -1.00  0.00  0.00  -0.00 -0.00 -1.00\n",
       "\n",
       " ACTIVE COORDINATE SYSTEM SET TO      1000  (CARTESIAN)"
      ]
     },
     "execution_count": 39,
     "metadata": {},
     "output_type": "execute_result"
    }
   ],
   "source": [
    "cs_num = 1000\n",
    "cs_typ = 0\n",
    "\n",
    "cent_x = centroid[0]\n",
    "cent_y = centroid[1]\n",
    "cent_z = centroid[2]\n",
    "rxy = r_z\n",
    "ryz = r_x\n",
    "rzx = r_y\n",
    "\n",
    "mapdl.clocal(\n",
    "    kcn=cs_num,\n",
    "    kcs=cs_typ,\n",
    "    xl=cent_x,\n",
    "    yl=cent_y,\n",
    "    zl=cent_z,\n",
    "    thxy=rxy,\n",
    "    thyz=ryz,\n",
    "    thzx=rzx,\n",
    ")"
   ]
  },
  {
   "cell_type": "markdown",
   "id": "c7e7e8f0-fe03-4cdd-b9a7-2e022e634a52",
   "metadata": {},
   "source": [
    "---"
   ]
  },
  {
   "cell_type": "code",
   "execution_count": 74,
   "id": "b392a246-f5a7-4f55-a1ed-940601c0f257",
   "metadata": {
    "execution": {
     "iopub.execute_input": "2023-08-26T20:12:46.857743Z",
     "iopub.status.busy": "2023-08-26T20:12:46.856748Z",
     "iopub.status.idle": "2023-08-26T20:12:46.876749Z",
     "shell.execute_reply": "2023-08-26T20:12:46.876749Z",
     "shell.execute_reply.started": "2023-08-26T20:12:46.857743Z"
    }
   },
   "outputs": [
    {
     "data": {
      "text/plain": [
       "CREATE WORKING PLANE AT LOCAL SYSTEM   1000\n",
       "      CHANGE VIEW DIRECTION OF WINDOW  1"
      ]
     },
     "execution_count": 74,
     "metadata": {},
     "output_type": "execute_result"
    }
   ],
   "source": [
    "mapdl.wpcsys(kcn=cs_num)"
   ]
  },
  {
   "cell_type": "markdown",
   "id": "da3cfbc8-b986-4d70-a01f-b431c6680270",
   "metadata": {
    "execution": {
     "iopub.execute_input": "2023-08-26T20:08:35.641747Z",
     "iopub.status.busy": "2023-08-26T20:08:35.641747Z",
     "iopub.status.idle": "2023-08-26T20:08:35.661698Z",
     "shell.execute_reply": "2023-08-26T20:08:35.660703Z",
     "shell.execute_reply.started": "2023-08-26T20:08:35.641747Z"
    }
   },
   "source": [
    "```\n",
    "wpctyp\n",
    "Working plane coordinate system type:\n",
    "\n",
    "0 - Cartesian (default). If working plane tracking is on [CSYS,4], the updated\n",
    "active coordinate system will also be Cartesian.\n",
    "\n",
    "1 - Polar. If working plane tracking is on, the updated active coordinate system\n",
    "will be cylindrical.\n",
    "\n",
    "2 - Polar. If working plane tracking is on, the updated active coordinate system\n",
    "will be spherical.\n",
    "```"
   ]
  },
  {
   "cell_type": "code",
   "execution_count": 75,
   "id": "4b2900b3-b16c-45cc-ab15-25d0455369c8",
   "metadata": {
    "execution": {
     "iopub.execute_input": "2023-08-26T20:12:49.084043Z",
     "iopub.status.busy": "2023-08-26T20:12:49.083368Z",
     "iopub.status.idle": "2023-08-26T20:12:49.094841Z",
     "shell.execute_reply": "2023-08-26T20:12:49.093331Z",
     "shell.execute_reply.started": "2023-08-26T20:12:49.084043Z"
    }
   },
   "outputs": [
    {
     "data": {
      "text/plain": [
       "SET WP COORDINATE SYSTEM TYPE TO POLAR."
      ]
     },
     "execution_count": 75,
     "metadata": {},
     "output_type": "execute_result"
    }
   ],
   "source": [
    "mapdl.wpstyl(wpctyp=1)"
   ]
  },
  {
   "cell_type": "code",
   "execution_count": 76,
   "id": "e5a13b9b-181c-4ea0-b277-07e8a187d1cb",
   "metadata": {
    "execution": {
     "iopub.execute_input": "2023-08-26T20:12:49.966441Z",
     "iopub.status.busy": "2023-08-26T20:12:49.966441Z",
     "iopub.status.idle": "2023-08-26T20:12:49.980240Z",
     "shell.execute_reply": "2023-08-26T20:12:49.979981Z",
     "shell.execute_reply.started": "2023-08-26T20:12:49.966441Z"
    }
   },
   "outputs": [
    {
     "data": {
      "text/plain": [
       "ACTIVE COORDINATE SYSTEM SET TO          4  (CYLINDRICAL)"
      ]
     },
     "execution_count": 76,
     "metadata": {},
     "output_type": "execute_result"
    }
   ],
   "source": [
    "mapdl.csys(kcn=4)"
   ]
  },
  {
   "cell_type": "code",
   "execution_count": null,
   "id": "4d67af7f-1a45-4e7e-872b-dd55c34c0db0",
   "metadata": {},
   "outputs": [],
   "source": []
  },
  {
   "cell_type": "code",
   "execution_count": 77,
   "id": "20f88f32-426d-4bee-bdc9-851deb0b83ab",
   "metadata": {
    "execution": {
     "iopub.execute_input": "2023-08-26T20:12:50.533315Z",
     "iopub.status.busy": "2023-08-26T20:12:50.531910Z",
     "iopub.status.idle": "2023-08-26T20:12:50.553988Z",
     "shell.execute_reply": "2023-08-26T20:12:50.553452Z",
     "shell.execute_reply.started": "2023-08-26T20:12:50.533315Z"
    }
   },
   "outputs": [
    {
     "data": {
      "text/plain": [
       "SET WP COORDINATE SYSTEM TYPE TO CARTESIAN."
      ]
     },
     "execution_count": 77,
     "metadata": {},
     "output_type": "execute_result"
    }
   ],
   "source": [
    "mapdl.wpstyl(wpctyp=0)"
   ]
  },
  {
   "cell_type": "code",
   "execution_count": 78,
   "id": "9f6b3353-9bb3-4d8a-b590-bad4380421cb",
   "metadata": {
    "execution": {
     "iopub.execute_input": "2023-08-26T20:12:50.927573Z",
     "iopub.status.busy": "2023-08-26T20:12:50.926558Z",
     "iopub.status.idle": "2023-08-26T20:12:50.944020Z",
     "shell.execute_reply": "2023-08-26T20:12:50.944020Z",
     "shell.execute_reply.started": "2023-08-26T20:12:50.927573Z"
    }
   },
   "outputs": [
    {
     "data": {
      "text/plain": [
       "ACTIVE COORDINATE SYSTEM SET TO          4  (CARTESIAN)"
      ]
     },
     "execution_count": 78,
     "metadata": {},
     "output_type": "execute_result"
    }
   ],
   "source": [
    "mapdl.csys(kcn=4)"
   ]
  },
  {
   "cell_type": "markdown",
   "id": "5697725e-41f2-4a38-9619-7af18bcf7b15",
   "metadata": {},
   "source": [
    "---"
   ]
  },
  {
   "cell_type": "code",
   "execution_count": 79,
   "id": "24b0c266-3226-4c51-8831-d7f399778f80",
   "metadata": {
    "execution": {
     "iopub.execute_input": "2023-08-26T20:15:00.313228Z",
     "iopub.status.busy": "2023-08-26T20:15:00.313228Z",
     "iopub.status.idle": "2023-08-26T20:15:00.338967Z",
     "shell.execute_reply": "2023-08-26T20:15:00.336498Z",
     "shell.execute_reply.started": "2023-08-26T20:15:00.313228Z"
    }
   },
   "outputs": [
    {
     "data": {
      "text/plain": [
       "array([17, 22, 24, 25, 27, 29, 30])"
      ]
     },
     "execution_count": 79,
     "metadata": {},
     "output_type": "execute_result"
    }
   ],
   "source": [
    "# mapdl.csys(cs_num)\n",
    "mapdl.wpcsys(kcn=cs_num)\n",
    "mapdl.wpstyl(wpctyp=0)\n",
    "mapdl.csys(kcn=4)\n",
    "mapdl.asel(\"S\", \"LOC\", \"Z\", -1.0e-9, 1.0e-9)"
   ]
  },
  {
   "cell_type": "code",
   "execution_count": 80,
   "id": "4d15b482-4b63-4c71-ab14-d9687eb4ad36",
   "metadata": {
    "execution": {
     "iopub.execute_input": "2023-08-26T20:15:09.712037Z",
     "iopub.status.busy": "2023-08-26T20:15:09.712037Z",
     "iopub.status.idle": "2023-08-26T20:15:09.732043Z",
     "shell.execute_reply": "2023-08-26T20:15:09.731546Z",
     "shell.execute_reply.started": "2023-08-26T20:15:09.712037Z"
    }
   },
   "outputs": [
    {
     "data": {
      "text/plain": [
       "array([17, 22, 24, 25, 27, 29, 30])"
      ]
     },
     "execution_count": 80,
     "metadata": {},
     "output_type": "execute_result"
    }
   ],
   "source": [
    "mapdl.allsel(labt=\"BELOW \", entity=\"AREA\")\n",
    "alist = mapdl.geometry.anum\n",
    "alist"
   ]
  },
  {
   "cell_type": "code",
   "execution_count": 62,
   "id": "d3498876-9570-438d-86ae-1014acf1fbcb",
   "metadata": {
    "execution": {
     "iopub.execute_input": "2023-08-26T19:50:54.164233Z",
     "iopub.status.busy": "2023-08-26T19:50:54.163707Z",
     "iopub.status.idle": "2023-08-26T19:50:54.178580Z",
     "shell.execute_reply": "2023-08-26T19:50:54.177497Z",
     "shell.execute_reply.started": "2023-08-26T19:50:54.164233Z"
    }
   },
   "outputs": [
    {
     "data": {
      "text/plain": [
       "ACTIVE COORDINATE SYSTEM SET TO          0  (CARTESIAN)"
      ]
     },
     "execution_count": 62,
     "metadata": {},
     "output_type": "execute_result"
    }
   ],
   "source": [
    "mapdl.csys(0)"
   ]
  },
  {
   "cell_type": "code",
   "execution_count": null,
   "id": "9f1255ab-4b05-402e-8215-80b29f8cc49b",
   "metadata": {},
   "outputs": [],
   "source": []
  },
  {
   "cell_type": "code",
   "execution_count": null,
   "id": "d5774c27-31c9-4f2d-bb6c-edd8fd49e3ec",
   "metadata": {},
   "outputs": [],
   "source": []
  },
  {
   "cell_type": "markdown",
   "id": "ea278a35-9f60-428e-9e88-8b56b667c2ed",
   "metadata": {},
   "source": [
    "---"
   ]
  },
  {
   "cell_type": "markdown",
   "id": "da146248-fbfe-4000-8929-9df6675b4a7a",
   "metadata": {},
   "source": [
    "## Contact detection between two component"
   ]
  },
  {
   "cell_type": "markdown",
   "id": "d421f606-4640-4097-b8f0-15a4ebfc5a94",
   "metadata": {
    "execution": {
     "iopub.execute_input": "2023-08-27T18:05:07.714346Z",
     "iopub.status.busy": "2023-08-27T18:05:07.713352Z",
     "iopub.status.idle": "2023-08-27T18:05:07.743926Z",
     "shell.execute_reply": "2023-08-27T18:05:07.741698Z",
     "shell.execute_reply.started": "2023-08-27T18:05:07.714346Z"
    }
   },
   "source": [
    "```python\n",
    "def contact_between_cm(cm1, cm2, cs_num=1000):\n",
    "    mapdl.csys(kcn=0)\n",
    "    mapdl.cmsel(type_=\"S\", name=cm1, entity=\"VOLU\")\n",
    "    mapdl.allsel(labt=\"BELOW \", entity=\"VOLU\")\n",
    "    mapdl.allsel(labt=\"BELOW \", entity=\"AREA\")\n",
    "    alist = mapdl.geometry.anum\n",
    "    cs_num = cs_num\n",
    "\n",
    "    area_pair = {}\n",
    "    for a_num in alist:\n",
    "        mapdl.csys(kcn=0)\n",
    "        # mapdl.wpcsys(kcn=0)\n",
    "        centroid, r_z, r_x, r_y = pre.clocal_area(a_num)\n",
    "        # print(centroid, r_z, r_x, r_y)\n",
    "        # print(a_num)\n",
    "\n",
    "        cs_num = cs_num + 1\n",
    "        cs_typ = 0\n",
    "        cent_x = centroid[0]\n",
    "        cent_y = centroid[1]\n",
    "        cent_z = centroid[2]\n",
    "        rxy = r_z\n",
    "        ryz = r_x\n",
    "        rzx = r_y\n",
    "        mapdl.clocal(\n",
    "            kcn=cs_num,\n",
    "            kcs=cs_typ,\n",
    "            xl=cent_x,\n",
    "            yl=cent_y,\n",
    "            zl=cent_z,\n",
    "            thxy=rxy,\n",
    "            thyz=ryz,\n",
    "            thzx=rzx,\n",
    "        )\n",
    "\n",
    "        mapdl.cmsel(type_=\"S\", name=cm2, entity=\"VOLU\")\n",
    "        mapdl.allsel(labt=\"BELOW \", entity=\"VOLU\")\n",
    "        mapdl.allsel(labt=\"BELOW \", entity=\"AREA\")\n",
    "        alist1 = mapdl.geometry.anum\n",
    "        # print(alist1)\n",
    "        mapdl.wpcsys(kcn=cs_num)\n",
    "        mapdl.wpstyl(wpctyp=0)\n",
    "        mapdl.csys(kcn=4)\n",
    "        mapdl.asel(\"R\", \"LOC\", \"Z\", -1.0e-3, 1.0e-3)\n",
    "        # mapdl.allsel(labt=\"BELOW \", entity=\"AREA\")\n",
    "        alist_cm = mapdl.geometry.anum\n",
    "        area_pair[a_num] = alist_cm\n",
    "        # print(alist_cm)\n",
    "        # print()\n",
    "        # mapdl.csys(kcn=0)\n",
    "    return area_pair\n",
    "\n",
    "```"
   ]
  },
  {
   "cell_type": "code",
   "execution_count": 1,
   "id": "96a44336-59f0-4de0-97c7-24f82f5be017",
   "metadata": {
    "execution": {
     "iopub.execute_input": "2023-09-04T10:49:29.767476Z",
     "iopub.status.busy": "2023-09-04T10:49:29.766842Z",
     "iopub.status.idle": "2023-09-04T10:49:29.774851Z",
     "shell.execute_reply": "2023-09-04T10:49:29.772331Z",
     "shell.execute_reply.started": "2023-09-04T10:49:29.767476Z"
    }
   },
   "outputs": [],
   "source": [
    "# cs_num = 1000\n",
    "# for a_num in alist:\n",
    "#     mapdl.csys(kcn=0)\n",
    "#     centroid, r_z, r_x, r_y = pre.clocal_area(a_num)\n",
    "#     print(centroid, r_z, r_x, r_y)\n",
    "#     # print(a_num)\n",
    "\n",
    "#     cs_num = cs_num + 1\n",
    "#     cs_typ = 0\n",
    "#     cent_x = centroid[0]\n",
    "#     cent_y = centroid[1]\n",
    "#     cent_z = centroid[2]\n",
    "#     rxy = r_z\n",
    "#     ryz = r_x\n",
    "#     rzx = r_y\n",
    "#     mapdl.csys(kcn=0)\n",
    "#     mapdl.clocal(\n",
    "#         kcn=cs_num,\n",
    "#         kcs=cs_typ,\n",
    "#         xl=cent_x,\n",
    "#         yl=cent_y,\n",
    "#         zl=cent_z,\n",
    "#         thxy=rxy,\n",
    "#         thyz=ryz,\n",
    "#         thzx=rzx,\n",
    "#     )\n",
    "\n",
    "#     mapdl.cmsel(type_=\"S\", name=\"PART4\", entity=\"VOLU\")\n",
    "#     mapdl.allsel(labt=\"BELOW \", entity=\"VOLU\")\n",
    "#     mapdl.allsel(labt=\"BELOW \", entity=\"AREA\")\n",
    "#     alist1 = mapdl.geometry.anum\n",
    "#     print(alist1)\n",
    "#     mapdl.wpcsys(kcn=cs_num)\n",
    "#     mapdl.wpstyl(wpctyp=0)\n",
    "#     mapdl.csys(kcn=4)\n",
    "#     mapdl.csys(cs_num)\n",
    "#     mapdl.asel(\"R\", \"LOC\", \"Z\", -1.0e-10, 1.0e-10)\n",
    "#     # mapdl.allsel(labt=\"BELOW \", entity=\"AREA\")\n",
    "#     alist_cm = mapdl.geometry.anum\n",
    "#     print(alist_cm)\n",
    "#     print()"
   ]
  },
  {
   "cell_type": "code",
   "execution_count": 34,
   "id": "1f4520b0-a2fb-4bd7-bad5-78124015d35d",
   "metadata": {
    "execution": {
     "iopub.execute_input": "2023-09-04T11:18:16.918458Z",
     "iopub.status.busy": "2023-09-04T11:18:16.918458Z",
     "iopub.status.idle": "2023-09-04T11:18:22.237557Z",
     "shell.execute_reply": "2023-09-04T11:18:22.237557Z",
     "shell.execute_reply.started": "2023-09-04T11:18:16.918458Z"
    }
   },
   "outputs": [
    {
     "name": "stderr",
     "output_type": "stream",
     "text": [
      "C:\\Users\\pramod.kumar\\PythonEnv\\myenv\\lib\\site-packages\\pyvista\\jupyter\\notebook.py:58: UserWarning: Failed to use notebook backend: \n",
      "\n",
      "No module named 'trame_vtk.tools'\n",
      "\n",
      "Falling back to a static output.\n",
      "  warnings.warn(\n"
     ]
    },
    {
     "data": {
      "image/jpeg": "[encoded data removed]",
      "image/png": "[encoded data removed]",
      "text/plain": [
       "<PIL.Image.Image image mode=RGB size=1024x768>"
      ]
     },
     "metadata": {},
     "output_type": "display_data"
    }
   ],
   "source": [
    "mapdl.cmsel(type_=\"S\", name=\"PART3\", entity=\"VOLU\")\n",
    "mapdl.cmsel(type_=\"A\", name=\"PART4\", entity=\"VOLU\")\n",
    "mapdl.allsel(labt=\"BELOW \", entity=\"VOLU\")\n",
    "mapdl.vplot()"
   ]
  },
  {
   "cell_type": "code",
   "execution_count": 35,
   "id": "516a31ba-077a-4e88-b0bb-d41c87fda74a",
   "metadata": {
    "execution": {
     "iopub.execute_input": "2023-09-04T10:53:10.225915Z",
     "iopub.status.busy": "2023-09-04T10:53:10.224718Z",
     "iopub.status.idle": "2023-09-04T10:53:10.262488Z",
     "shell.execute_reply": "2023-09-04T10:53:10.261224Z",
     "shell.execute_reply.started": "2023-09-04T10:53:10.225915Z"
    }
   },
   "outputs": [
    {
     "data": {
      "text/plain": [
       "array([12, 13, 14, 15, 16, 17])"
      ]
     },
     "execution_count": 35,
     "metadata": {},
     "output_type": "execute_result"
    }
   ],
   "source": [
    "mapdl.cmsel(type_=\"S\", name=\"PART3\", entity=\"VOLU\")\n",
    "mapdl.allsel(labt=\"BELOW \", entity=\"VOLU\")\n",
    "mapdl.allsel(labt=\"BELOW \", entity=\"AREA\")\n",
    "alist = mapdl.geometry.anum\n",
    "alist"
   ]
  },
  {
   "cell_type": "code",
   "execution_count": null,
   "id": "55cdd11c-57f9-430d-b768-2a91acf63805",
   "metadata": {},
   "outputs": [],
   "source": []
  },
  {
   "cell_type": "code",
   "execution_count": 34,
   "id": "29155d8b-a5ba-4004-a898-a8f638b34b11",
   "metadata": {
    "execution": {
     "iopub.execute_input": "2023-09-04T12:23:58.611305Z",
     "iopub.status.busy": "2023-09-04T12:23:58.610305Z",
     "iopub.status.idle": "2023-09-04T12:24:00.109637Z",
     "shell.execute_reply": "2023-09-04T12:24:00.109137Z",
     "shell.execute_reply.started": "2023-09-04T12:23:58.610305Z"
    }
   },
   "outputs": [],
   "source": [
    "cm1 = \"PART3\"\n",
    "cm2 = \"PART4\"\n",
    "conta_targ = pre.contact_between_cm(cm1, cm2)"
   ]
  },
  {
   "cell_type": "code",
   "execution_count": 35,
   "id": "27bc20aa-c511-4f4b-b6a3-3a448f359bed",
   "metadata": {
    "execution": {
     "iopub.execute_input": "2023-09-04T12:24:00.728747Z",
     "iopub.status.busy": "2023-09-04T12:24:00.728747Z",
     "iopub.status.idle": "2023-09-04T12:24:00.744518Z",
     "shell.execute_reply": "2023-09-04T12:24:00.743243Z",
     "shell.execute_reply.started": "2023-09-04T12:24:00.728747Z"
    }
   },
   "outputs": [
    {
     "data": {
      "text/plain": [
       "{12: array([18]),\n",
       " 13: array([21]),\n",
       " 14: array([20]),\n",
       " 15: array([19]),\n",
       " 16: array([], dtype=int32),\n",
       " 17: array([22])}"
      ]
     },
     "execution_count": 35,
     "metadata": {},
     "output_type": "execute_result"
    }
   ],
   "source": [
    "conta_targ"
   ]
  },
  {
   "cell_type": "code",
   "execution_count": 37,
   "id": "a6e93c52-da72-4a3b-9521-e8f4f293d53e",
   "metadata": {
    "execution": {
     "iopub.execute_input": "2023-09-04T10:53:20.384776Z",
     "iopub.status.busy": "2023-09-04T10:53:20.384290Z",
     "iopub.status.idle": "2023-09-04T10:53:20.403500Z",
     "shell.execute_reply": "2023-09-04T10:53:20.403500Z",
     "shell.execute_reply.started": "2023-09-04T10:53:20.384776Z"
    }
   },
   "outputs": [
    {
     "data": {
      "text/plain": [
       "{12: array([18]),\n",
       " 13: array([21]),\n",
       " 14: array([20]),\n",
       " 15: array([19]),\n",
       " 16: array([], dtype=int32),\n",
       " 17: array([22])}"
      ]
     },
     "execution_count": 37,
     "metadata": {},
     "output_type": "execute_result"
    }
   ],
   "source": [
    "conta_targ"
   ]
  },
  {
   "cell_type": "markdown",
   "id": "d44b307c-5bfd-499e-810c-495060c63349",
   "metadata": {},
   "source": [
    "- Here all parallel area get selected (which are not overlapping too)\n",
    "\n",
    "- only 17, 22 are overlapping"
   ]
  },
  {
   "cell_type": "code",
   "execution_count": 38,
   "id": "79a2e96d-82d3-4b12-afc6-b955d6d526ee",
   "metadata": {
    "execution": {
     "iopub.execute_input": "2023-09-04T10:53:31.226139Z",
     "iopub.status.busy": "2023-09-04T10:53:31.226139Z",
     "iopub.status.idle": "2023-09-04T10:53:31.231677Z",
     "shell.execute_reply": "2023-09-04T10:53:31.230968Z",
     "shell.execute_reply.started": "2023-09-04T10:53:31.226139Z"
    }
   },
   "outputs": [],
   "source": [
    "area1 = list(conta_targ.keys())"
   ]
  },
  {
   "cell_type": "code",
   "execution_count": 39,
   "id": "29b96288-c7b1-4a26-8a44-e7d9a711393c",
   "metadata": {
    "execution": {
     "iopub.execute_input": "2023-09-04T10:53:31.895787Z",
     "iopub.status.busy": "2023-09-04T10:53:31.894786Z",
     "iopub.status.idle": "2023-09-04T10:53:31.915175Z",
     "shell.execute_reply": "2023-09-04T10:53:31.914421Z",
     "shell.execute_reply.started": "2023-09-04T10:53:31.895787Z"
    }
   },
   "outputs": [
    {
     "data": {
      "text/plain": [
       "[12, 13, 14, 15, 16, 17]"
      ]
     },
     "execution_count": 39,
     "metadata": {},
     "output_type": "execute_result"
    }
   ],
   "source": [
    "area1"
   ]
  },
  {
   "cell_type": "code",
   "execution_count": 40,
   "id": "5ff959aa-9a75-4043-ab6b-829a8b80f986",
   "metadata": {
    "execution": {
     "iopub.execute_input": "2023-09-04T10:53:42.327682Z",
     "iopub.status.busy": "2023-09-04T10:53:42.327185Z",
     "iopub.status.idle": "2023-09-04T10:53:42.343217Z",
     "shell.execute_reply": "2023-09-04T10:53:42.342715Z",
     "shell.execute_reply.started": "2023-09-04T10:53:42.327682Z"
    }
   },
   "outputs": [
    {
     "data": {
      "text/plain": [
       "array([18])"
      ]
     },
     "execution_count": 40,
     "metadata": {},
     "output_type": "execute_result"
    }
   ],
   "source": [
    "conta_targ[area1[0]]"
   ]
  },
  {
   "cell_type": "code",
   "execution_count": 37,
   "id": "146edcdb-57f8-4a36-aa74-ab26470c1601",
   "metadata": {
    "execution": {
     "iopub.execute_input": "2023-09-04T11:19:01.832890Z",
     "iopub.status.busy": "2023-09-04T11:19:01.831239Z",
     "iopub.status.idle": "2023-09-04T11:19:01.863768Z",
     "shell.execute_reply": "2023-09-04T11:19:01.862755Z",
     "shell.execute_reply.started": "2023-09-04T11:19:01.832890Z"
    }
   },
   "outputs": [
    {
     "data": {
      "text/plain": [
       "SAVE ALL MODEL, SOLUTION AND POST DATA.\n",
       "\n",
       " ALL CURRENT MAPDL DATA WRITTEN TO FILE NAME= EOF_import.db\n",
       "  FOR POSSIBLE RESUME FROM THIS POINT"
      ]
     },
     "execution_count": 37,
     "metadata": {},
     "output_type": "execute_result"
    }
   ],
   "source": [
    "mapdl.db.save(\"EOF_import.db\")"
   ]
  },
  {
   "cell_type": "markdown",
   "id": "468caade-6a7e-4a26-8503-e683a12e7d12",
   "metadata": {},
   "source": [
    "## Selection of overlapped area from area pair dictionary"
   ]
  },
  {
   "cell_type": "markdown",
   "id": "9d637966-15f1-4625-b5a4-2ae6cf1ce5a3",
   "metadata": {},
   "source": [
    "### Case1: when areas overlapping then centroid will match"
   ]
  },
  {
   "cell_type": "markdown",
   "id": "389c53a4-b8c0-4080-9501-8e37cc6b075d",
   "metadata": {
    "execution": {
     "iopub.execute_input": "2023-09-04T11:45:51.166588Z",
     "iopub.status.busy": "2023-09-04T11:45:51.166588Z",
     "iopub.status.idle": "2023-09-04T11:45:51.179058Z",
     "shell.execute_reply": "2023-09-04T11:45:51.178250Z",
     "shell.execute_reply.started": "2023-09-04T11:45:51.166588Z"
    }
   },
   "source": [
    "```python\n",
    "def check_overlap(anum1, anum2):\n",
    "    overlap = 0\n",
    "    eq_area = 0\n",
    "    \n",
    "    centroid1, area_val1 = pre.area_cent([anum1])\n",
    "    centroid2, area_val2 = pre.area_cent([anum2])\n",
    "    centroid1 = np.array(centroid1)\n",
    "    centroid2 = np.array(centroid2)\n",
    "    \n",
    "    dist = np.linalg.norm(centroid1 - centroid2)\n",
    "    \n",
    "    if dist <= 1.0e-3:\n",
    "        print(f\"area overlapping, ccentroid dist: {dist}\")\n",
    "        overlap = 1\n",
    "\n",
    "    if np.isclose(area_val1, area_val2, rtol=1e-05, atol=1e-08, equal_nan=False):\n",
    "        eq_area = 1\n",
    "\n",
    "    return overlap, eq_area\n",
    "```"
   ]
  },
  {
   "cell_type": "code",
   "execution_count": 32,
   "id": "6b6f702a-d425-477f-bb3f-140a0827c343",
   "metadata": {
    "execution": {
     "iopub.execute_input": "2023-09-04T12:21:58.097923Z",
     "iopub.status.busy": "2023-09-04T12:21:58.096923Z",
     "iopub.status.idle": "2023-09-04T12:21:58.156939Z",
     "shell.execute_reply": "2023-09-04T12:21:58.155646Z",
     "shell.execute_reply.started": "2023-09-04T12:21:58.097923Z"
    }
   },
   "outputs": [
    {
     "data": {
      "text/plain": [
       "(1, 1)"
      ]
     },
     "execution_count": 32,
     "metadata": {},
     "output_type": "execute_result"
    }
   ],
   "source": [
    "anum1 = 17\n",
    "anum2 = 22\n",
    "pre.check_overlap(anum1, anum2)"
   ]
  },
  {
   "cell_type": "code",
   "execution_count": 33,
   "id": "2708d415-3d20-4992-8ddb-d799249827a0",
   "metadata": {
    "execution": {
     "iopub.execute_input": "2023-09-04T12:23:29.268359Z",
     "iopub.status.busy": "2023-09-04T12:23:29.268359Z",
     "iopub.status.idle": "2023-09-04T12:23:29.349830Z",
     "shell.execute_reply": "2023-09-04T12:23:29.349336Z",
     "shell.execute_reply.started": "2023-09-04T12:23:29.268359Z"
    }
   },
   "outputs": [
    {
     "data": {
      "text/plain": [
       "(0, 1)"
      ]
     },
     "execution_count": 33,
     "metadata": {},
     "output_type": "execute_result"
    }
   ],
   "source": [
    "anum1 = 12\n",
    "anum2 = 18\n",
    "pre.check_overlap(anum1, anum2)"
   ]
  },
  {
   "cell_type": "code",
   "execution_count": 36,
   "id": "69a6c4b4-4ce4-4172-a598-7ad65222915e",
   "metadata": {
    "execution": {
     "iopub.execute_input": "2023-09-04T12:24:10.916153Z",
     "iopub.status.busy": "2023-09-04T12:24:10.916153Z",
     "iopub.status.idle": "2023-09-04T12:24:10.988854Z",
     "shell.execute_reply": "2023-09-04T12:24:10.987315Z",
     "shell.execute_reply.started": "2023-09-04T12:24:10.916153Z"
    }
   },
   "outputs": [
    {
     "data": {
      "text/plain": [
       "(0, 1)"
      ]
     },
     "execution_count": 36,
     "metadata": {},
     "output_type": "execute_result"
    }
   ],
   "source": [
    "anum1 = 15\n",
    "anum2 = 19\n",
    "pre.check_overlap(anum1, anum2)"
   ]
  },
  {
   "cell_type": "code",
   "execution_count": null,
   "id": "a7fcabae-f51a-425f-ae1b-1c2ac91ccbf2",
   "metadata": {},
   "outputs": [],
   "source": []
  },
  {
   "cell_type": "markdown",
   "id": "39ad5cb7-a78f-4858-ae27-c191bfaf1d13",
   "metadata": {},
   "source": [
    "### Case2: when areas not overlapping"
   ]
  },
  {
   "cell_type": "markdown",
   "id": "f166bdbd-0ce6-4059-813a-1173676a440a",
   "metadata": {},
   "source": [
    "There will be four cases and in one case area is not overlapping"
   ]
  },
  {
   "attachments": {
    "8b664dbe-c086-4698-84e8-7641cb906055.png": {
     "image/png": "[encoded data removed]"
    }
   },
   "cell_type": "markdown",
   "id": "df42c6cc-d867-4a52-b9ed-9a78b4950395",
   "metadata": {},
   "source": [
    "![image.png](attachment:8b664dbe-c086-4698-84e8-7641cb906055.png)"
   ]
  },
  {
   "cell_type": "code",
   "execution_count": 38,
   "id": "d97a791d-4c8c-4764-8392-0b7c3270f3e4",
   "metadata": {
    "execution": {
     "iopub.execute_input": "2023-09-04T12:25:35.006973Z",
     "iopub.status.busy": "2023-09-04T12:25:35.005971Z",
     "iopub.status.idle": "2023-09-04T12:25:41.027088Z",
     "shell.execute_reply": "2023-09-04T12:25:41.026838Z",
     "shell.execute_reply.started": "2023-09-04T12:25:35.005971Z"
    }
   },
   "outputs": [],
   "source": [
    "anum1 = 12\n",
    "anum2 = 18\n",
    "vector_21_list, max_index = pre.area21_kp_vector(anum1, anum2)"
   ]
  },
  {
   "cell_type": "code",
   "execution_count": 39,
   "id": "79ed0838-b088-49b5-bcfd-6ba0d59a7ed0",
   "metadata": {
    "execution": {
     "iopub.execute_input": "2023-09-04T12:26:02.892245Z",
     "iopub.status.busy": "2023-09-04T12:26:02.891822Z",
     "iopub.status.idle": "2023-09-04T12:26:02.902926Z",
     "shell.execute_reply": "2023-09-04T12:26:02.902169Z",
     "shell.execute_reply.started": "2023-09-04T12:26:02.892245Z"
    }
   },
   "outputs": [
    {
     "data": {
      "text/plain": [
       "200"
      ]
     },
     "execution_count": 39,
     "metadata": {},
     "output_type": "execute_result"
    }
   ],
   "source": [
    "len(vector_21_list)"
   ]
  },
  {
   "cell_type": "markdown",
   "id": "6242e602-6ff7-410d-b218-b96d7be2405e",
   "metadata": {},
   "source": [
    "#### vectors from nearest kp of area-2 to all kp of area-1"
   ]
  },
  {
   "cell_type": "markdown",
   "id": "79fe7d9a-bd08-4be3-b923-a1ebf0e19122",
   "metadata": {},
   "source": [
    "**Area-1 keypoint coordinate**"
   ]
  },
  {
   "cell_type": "markdown",
   "id": "e1a61c7f-c17e-4fce-b72f-8ab701e1f8ec",
   "metadata": {},
   "source": [
    "---"
   ]
  },
  {
   "cell_type": "code",
   "execution_count": 130,
   "id": "dab0a4ca-239f-43d0-bf1c-445f6312ff93",
   "metadata": {
    "execution": {
     "iopub.execute_input": "2023-08-28T07:41:30.111771Z",
     "iopub.status.busy": "2023-08-28T07:41:30.111771Z",
     "iopub.status.idle": "2023-08-28T07:41:30.192029Z",
     "shell.execute_reply": "2023-08-28T07:41:30.191034Z",
     "shell.execute_reply.started": "2023-08-28T07:41:30.111771Z"
    }
   },
   "outputs": [
    {
     "data": {
      "text/plain": [
       "65"
      ]
     },
     "execution_count": 130,
     "metadata": {},
     "output_type": "execute_result"
    }
   ],
   "source": [
    "mapdl.csys(kcn=0)\n",
    "mapdl.asel(\"S\", \"AREA\", \"\", anum1)\n",
    "mapdl.allsel(labt=\"BELOW \", entity=\"AREA\")\n",
    "mapdl.allsel(labt=\"BELOW \", entity=\"LINE\")\n",
    "llist1 = mapdl.geometry.lnum\n",
    "# print(llist)\n",
    "mapdl.allsel(labt=\"BELOW \", entity=\"KP\")\n",
    "klist1 = mapdl.geometry.knum\n",
    "len(klist1)"
   ]
  },
  {
   "cell_type": "code",
   "execution_count": 131,
   "id": "9a76c869-09a4-464f-8352-e247ebcd3ba4",
   "metadata": {
    "execution": {
     "iopub.execute_input": "2023-08-28T07:41:35.639083Z",
     "iopub.status.busy": "2023-08-28T07:41:35.639083Z",
     "iopub.status.idle": "2023-08-28T07:41:36.536808Z",
     "shell.execute_reply": "2023-08-28T07:41:36.536808Z",
     "shell.execute_reply.started": "2023-08-28T07:41:35.639083Z"
    }
   },
   "outputs": [],
   "source": [
    "if len(klist) <= 40:\n",
    "    for lnum in llist:\n",
    "        mapdl.ldiv(lnum, ndiv=10)\n",
    "    llist1 = mapdl.geometry.lnum\n",
    "    klist1 = mapdl.geometry.knum\n",
    "\n",
    "kp_coord1 = {}\n",
    "for kpoiint in klist1:\n",
    "    k_x = mapdl.queries.kx(kpoiint)\n",
    "    k_y = mapdl.queries.ky(kpoiint)\n",
    "    k_z = mapdl.queries.kz(kpoiint)\n",
    "    k1 = np.array([k_x, k_y, k_z])\n",
    "    kp_coord1[kpoiint] = k1\n",
    "\n",
    "centroid1 = pre.area_cent([anum1])"
   ]
  },
  {
   "cell_type": "code",
   "execution_count": 135,
   "id": "3a4327e1-135e-40c3-a3fa-faa46bb041b7",
   "metadata": {
    "execution": {
     "iopub.execute_input": "2023-08-28T07:41:46.994385Z",
     "iopub.status.busy": "2023-08-28T07:41:46.993366Z",
     "iopub.status.idle": "2023-08-28T07:41:47.002278Z",
     "shell.execute_reply": "2023-08-28T07:41:47.001155Z",
     "shell.execute_reply.started": "2023-08-28T07:41:46.994385Z"
    }
   },
   "outputs": [
    {
     "data": {
      "text/plain": [
       "array([[-2.50000000e-01,  5.69512672e-18,  1.50000000e-01]])"
      ]
     },
     "execution_count": 135,
     "metadata": {},
     "output_type": "execute_result"
    }
   ],
   "source": [
    "centroid1"
   ]
  },
  {
   "cell_type": "code",
   "execution_count": 140,
   "id": "55e8cc7d-c1c8-4dfc-83ac-d84c9a06a7f0",
   "metadata": {
    "execution": {
     "iopub.execute_input": "2023-08-28T07:42:48.657601Z",
     "iopub.status.busy": "2023-08-28T07:42:48.657601Z",
     "iopub.status.idle": "2023-08-28T07:42:48.665934Z",
     "shell.execute_reply": "2023-08-28T07:42:48.664629Z",
     "shell.execute_reply.started": "2023-08-28T07:42:48.657601Z"
    }
   },
   "outputs": [
    {
     "data": {
      "text/plain": [
       "65"
      ]
     },
     "execution_count": 140,
     "metadata": {},
     "output_type": "execute_result"
    }
   ],
   "source": [
    "len(llist1)"
   ]
  },
  {
   "cell_type": "code",
   "execution_count": 139,
   "id": "9cdfedde-e56c-40cf-8795-a9a07a502433",
   "metadata": {
    "execution": {
     "iopub.execute_input": "2023-08-28T07:42:46.396054Z",
     "iopub.status.busy": "2023-08-28T07:42:46.395086Z",
     "iopub.status.idle": "2023-08-28T07:42:46.404901Z",
     "shell.execute_reply": "2023-08-28T07:42:46.404405Z",
     "shell.execute_reply.started": "2023-08-28T07:42:46.396054Z"
    }
   },
   "outputs": [
    {
     "data": {
      "text/plain": [
       "65"
      ]
     },
     "execution_count": 139,
     "metadata": {},
     "output_type": "execute_result"
    }
   ],
   "source": [
    "len(klist1)"
   ]
  },
  {
   "cell_type": "markdown",
   "id": "1100d648-baa7-4df4-aeb7-78fc81cae4c2",
   "metadata": {},
   "source": [
    "**Area-2 keypoint coordinate**"
   ]
  },
  {
   "cell_type": "markdown",
   "id": "b7930869-c130-4bd3-bdf9-5ecc72389eef",
   "metadata": {},
   "source": [
    "---"
   ]
  },
  {
   "cell_type": "code",
   "execution_count": 158,
   "id": "d6fd1ed7-35c1-48e9-83d3-3b5234b0aa6b",
   "metadata": {
    "execution": {
     "iopub.execute_input": "2023-08-28T07:56:04.590351Z",
     "iopub.status.busy": "2023-08-28T07:56:04.589413Z",
     "iopub.status.idle": "2023-08-28T07:56:04.647695Z",
     "shell.execute_reply": "2023-08-28T07:56:04.646702Z",
     "shell.execute_reply.started": "2023-08-28T07:56:04.590351Z"
    }
   },
   "outputs": [
    {
     "data": {
      "text/plain": [
       "103"
      ]
     },
     "execution_count": 158,
     "metadata": {},
     "output_type": "execute_result"
    }
   ],
   "source": [
    "mapdl.asel(\"S\", \"AREA\", \"\", anum2)\n",
    "mapdl.allsel(labt=\"BELOW \", entity=\"AREA\")\n",
    "mapdl.allsel(labt=\"BELOW \", entity=\"LINE\")\n",
    "llist2 = mapdl.geometry.lnum\n",
    "mapdl.allsel(labt=\"BELOW \", entity=\"KP\")\n",
    "klist2 = mapdl.geometry.knum\n",
    "len(klist2)"
   ]
  },
  {
   "cell_type": "code",
   "execution_count": 159,
   "id": "652c685c-848e-46a6-bbc6-b678794cb958",
   "metadata": {
    "execution": {
     "iopub.execute_input": "2023-08-28T07:56:18.333685Z",
     "iopub.status.busy": "2023-08-28T07:56:18.332658Z",
     "iopub.status.idle": "2023-08-28T07:56:18.341442Z",
     "shell.execute_reply": "2023-08-28T07:56:18.340449Z",
     "shell.execute_reply.started": "2023-08-28T07:56:18.333685Z"
    }
   },
   "outputs": [
    {
     "data": {
      "text/plain": [
       "array([ 25,  26,  29,  30, 218, 219, 220, 221, 222, 223, 224, 225, 226,\n",
       "       254, 255, 256, 257, 258, 259, 260, 261, 262, 506, 507, 508, 509,\n",
       "       510, 511, 512, 513, 514, 515, 516, 517, 518, 519, 520, 521, 522,\n",
       "       523, 524, 525, 526, 527, 528, 529, 530, 531, 532, 533, 534, 535,\n",
       "       536, 537, 538, 539, 540, 541, 542, 543, 544, 545, 546, 547, 548,\n",
       "       549, 550, 551, 552, 553, 554, 555, 556, 557, 558, 559, 560, 561,\n",
       "       562, 563, 564, 565, 566, 567, 568, 569, 570, 571, 572, 573, 574,\n",
       "       575, 576, 577, 578, 579, 580, 581, 582, 583, 584, 585, 586])"
      ]
     },
     "execution_count": 159,
     "metadata": {},
     "output_type": "execute_result"
    }
   ],
   "source": [
    "klist2"
   ]
  },
  {
   "cell_type": "code",
   "execution_count": 146,
   "id": "f582d011-e6fe-47b6-8860-37b75520e775",
   "metadata": {
    "execution": {
     "iopub.execute_input": "2023-08-28T07:46:18.665011Z",
     "iopub.status.busy": "2023-08-28T07:46:18.664516Z",
     "iopub.status.idle": "2023-08-28T07:46:19.848909Z",
     "shell.execute_reply": "2023-08-28T07:46:19.847916Z",
     "shell.execute_reply.started": "2023-08-28T07:46:18.665011Z"
    }
   },
   "outputs": [],
   "source": [
    "if len(klist2) <= 40:\n",
    "    for lnum in llist2:\n",
    "        mapdl.ldiv(lnum, ndiv=10)\n",
    "    llist = mapdl.geometry.lnum\n",
    "    klist = mapdl.geometry.knum\n",
    "\n",
    "kp_coord2 = {}\n",
    "for kpoiint in klist2:\n",
    "    k_x = mapdl.queries.kx(kpoiint)\n",
    "    k_y = mapdl.queries.ky(kpoiint)\n",
    "    k_z = mapdl.queries.kz(kpoiint)\n",
    "    k1 = np.array([k_x, k_y, k_z])\n",
    "    kp_coord2[kpoiint] = k1\n",
    "\n",
    "centroid1 = pre.area_cent([anum1])"
   ]
  },
  {
   "cell_type": "code",
   "execution_count": 147,
   "id": "b5db02d8-4d67-4605-ad5d-f5714e3a7d4b",
   "metadata": {
    "execution": {
     "iopub.execute_input": "2023-08-28T07:46:19.865315Z",
     "iopub.status.busy": "2023-08-28T07:46:19.864711Z",
     "iopub.status.idle": "2023-08-28T07:46:19.882972Z",
     "shell.execute_reply": "2023-08-28T07:46:19.879910Z",
     "shell.execute_reply.started": "2023-08-28T07:46:19.865315Z"
    }
   },
   "outputs": [
    {
     "data": {
      "text/plain": [
       "103"
      ]
     },
     "execution_count": 147,
     "metadata": {},
     "output_type": "execute_result"
    }
   ],
   "source": [
    "len(klist2)"
   ]
  },
  {
   "cell_type": "code",
   "execution_count": 103,
   "id": "6e539b2e-3c28-4442-9aa2-b5c552dce880",
   "metadata": {
    "execution": {
     "iopub.execute_input": "2023-08-28T05:38:34.317801Z",
     "iopub.status.busy": "2023-08-28T05:38:34.316804Z",
     "iopub.status.idle": "2023-08-28T05:38:34.325654Z",
     "shell.execute_reply": "2023-08-28T05:38:34.325119Z",
     "shell.execute_reply.started": "2023-08-28T05:38:34.317801Z"
    }
   },
   "outputs": [],
   "source": [
    "# kp_coord2"
   ]
  },
  {
   "cell_type": "code",
   "execution_count": 148,
   "id": "152c2373-d509-49b9-b2af-35fafdf3a4e0",
   "metadata": {
    "execution": {
     "iopub.execute_input": "2023-08-28T07:46:33.439459Z",
     "iopub.status.busy": "2023-08-28T07:46:33.438462Z",
     "iopub.status.idle": "2023-08-28T07:46:33.444089Z",
     "shell.execute_reply": "2023-08-28T07:46:33.443569Z",
     "shell.execute_reply.started": "2023-08-28T07:46:33.439459Z"
    }
   },
   "outputs": [],
   "source": [
    "kp_list2 = list(kp_coord2.keys())"
   ]
  },
  {
   "cell_type": "code",
   "execution_count": 149,
   "id": "b7b72178-158d-406b-8846-b5dd78c2083f",
   "metadata": {
    "execution": {
     "iopub.execute_input": "2023-08-28T07:46:34.586402Z",
     "iopub.status.busy": "2023-08-28T07:46:34.585415Z",
     "iopub.status.idle": "2023-08-28T07:46:34.595728Z",
     "shell.execute_reply": "2023-08-28T07:46:34.594735Z",
     "shell.execute_reply.started": "2023-08-28T07:46:34.586402Z"
    }
   },
   "outputs": [
    {
     "data": {
      "text/plain": [
       "array([-0.25, -0.1 ,  0.1 ])"
      ]
     },
     "execution_count": 149,
     "metadata": {},
     "output_type": "execute_result"
    }
   ],
   "source": [
    "kp_coord2[kp_list2[0]]"
   ]
  },
  {
   "cell_type": "markdown",
   "id": "d6f27013-3566-4476-9cd8-2520d1f651f8",
   "metadata": {},
   "source": [
    "**Distance between centroid of area-1 and keypoints of area-2**"
   ]
  },
  {
   "cell_type": "markdown",
   "id": "d1013fde-0c51-4767-8325-782adf59f65c",
   "metadata": {},
   "source": [
    "---"
   ]
  },
  {
   "cell_type": "code",
   "execution_count": 150,
   "id": "79b743fa-d4be-49b1-b976-faa39f2f7d9b",
   "metadata": {
    "execution": {
     "iopub.execute_input": "2023-08-28T07:46:39.635582Z",
     "iopub.status.busy": "2023-08-28T07:46:39.635582Z",
     "iopub.status.idle": "2023-08-28T07:46:39.651036Z",
     "shell.execute_reply": "2023-08-28T07:46:39.649547Z",
     "shell.execute_reply.started": "2023-08-28T07:46:39.635582Z"
    }
   },
   "outputs": [],
   "source": [
    "dist_list = []\n",
    "for kpoint in kp_list2:\n",
    "    dist = np.linalg.norm(centroid1 - kp_coord2[kpoint])\n",
    "    dist_list.append(dist)"
   ]
  },
  {
   "cell_type": "markdown",
   "id": "8e9c2b8c-0e52-44db-8ba2-8cd048f759ba",
   "metadata": {},
   "source": [
    "**Find minimum distance and keypoint number and location**"
   ]
  },
  {
   "cell_type": "markdown",
   "id": "3cd2a3f5-90ee-4e7d-8085-8168f8c1bdbe",
   "metadata": {},
   "source": [
    "---"
   ]
  },
  {
   "cell_type": "code",
   "execution_count": 152,
   "id": "a8a82558-65db-4b8f-b44c-d85727b68362",
   "metadata": {
    "execution": {
     "iopub.execute_input": "2023-08-28T07:46:57.643473Z",
     "iopub.status.busy": "2023-08-28T07:46:57.642463Z",
     "iopub.status.idle": "2023-08-28T07:46:57.656371Z",
     "shell.execute_reply": "2023-08-28T07:46:57.655285Z",
     "shell.execute_reply.started": "2023-08-28T07:46:57.643473Z"
    }
   },
   "outputs": [
    {
     "data": {
      "text/plain": [
       "0.049999999999999975"
      ]
     },
     "execution_count": 152,
     "metadata": {},
     "output_type": "execute_result"
    }
   ],
   "source": [
    "min_value = min(dist_list)\n",
    "min_value"
   ]
  },
  {
   "cell_type": "code",
   "execution_count": 153,
   "id": "dfe32aae-c077-4df5-96c5-7844ead49495",
   "metadata": {
    "execution": {
     "iopub.execute_input": "2023-08-28T07:47:54.706974Z",
     "iopub.status.busy": "2023-08-28T07:47:54.706974Z",
     "iopub.status.idle": "2023-08-28T07:47:54.723763Z",
     "shell.execute_reply": "2023-08-28T07:47:54.722507Z",
     "shell.execute_reply.started": "2023-08-28T07:47:54.706974Z"
    }
   },
   "outputs": [
    {
     "data": {
      "text/plain": [
       "8"
      ]
     },
     "execution_count": 153,
     "metadata": {},
     "output_type": "execute_result"
    }
   ],
   "source": [
    "min_index = dist_list.index(min_value)\n",
    "min_index"
   ]
  },
  {
   "cell_type": "code",
   "execution_count": 154,
   "id": "fc2edc5a-a661-4ded-aacb-77291f617a64",
   "metadata": {
    "execution": {
     "iopub.execute_input": "2023-08-28T07:48:04.983458Z",
     "iopub.status.busy": "2023-08-28T07:48:04.982463Z",
     "iopub.status.idle": "2023-08-28T07:48:04.992721Z",
     "shell.execute_reply": "2023-08-28T07:48:04.992208Z",
     "shell.execute_reply.started": "2023-08-28T07:48:04.983458Z"
    }
   },
   "outputs": [
    {
     "data": {
      "text/plain": [
       "0.049999999999999975"
      ]
     },
     "execution_count": 154,
     "metadata": {},
     "output_type": "execute_result"
    }
   ],
   "source": [
    "dist_list[min_index]"
   ]
  },
  {
   "cell_type": "code",
   "execution_count": 161,
   "id": "8547357f-c3d3-457a-b809-70b6f4cc3f18",
   "metadata": {
    "execution": {
     "iopub.execute_input": "2023-08-28T08:46:21.358980Z",
     "iopub.status.busy": "2023-08-28T08:46:21.358980Z",
     "iopub.status.idle": "2023-08-28T08:46:21.366211Z",
     "shell.execute_reply": "2023-08-28T08:46:21.365713Z",
     "shell.execute_reply.started": "2023-08-28T08:46:21.358980Z"
    }
   },
   "outputs": [
    {
     "data": {
      "text/plain": [
       "222"
      ]
     },
     "execution_count": 161,
     "metadata": {},
     "output_type": "execute_result"
    }
   ],
   "source": [
    "kp_list2[min_index]"
   ]
  },
  {
   "cell_type": "code",
   "execution_count": 162,
   "id": "4cb307bf-5e6d-4257-a342-18859eb072e7",
   "metadata": {
    "execution": {
     "iopub.execute_input": "2023-08-28T08:46:26.229935Z",
     "iopub.status.busy": "2023-08-28T08:46:26.229439Z",
     "iopub.status.idle": "2023-08-28T08:46:26.250668Z",
     "shell.execute_reply": "2023-08-28T08:46:26.249178Z",
     "shell.execute_reply.started": "2023-08-28T08:46:26.229935Z"
    }
   },
   "outputs": [],
   "source": [
    "v0 = kp_coord2[kp_list2[min_index]]"
   ]
  },
  {
   "cell_type": "code",
   "execution_count": 163,
   "id": "04e68fe7-d028-4d5c-bc7a-57884a15eea1",
   "metadata": {
    "execution": {
     "iopub.execute_input": "2023-08-28T08:46:32.632964Z",
     "iopub.status.busy": "2023-08-28T08:46:32.632964Z",
     "iopub.status.idle": "2023-08-28T08:46:32.652156Z",
     "shell.execute_reply": "2023-08-28T08:46:32.650320Z",
     "shell.execute_reply.started": "2023-08-28T08:46:32.632964Z"
    }
   },
   "outputs": [
    {
     "data": {
      "text/plain": [
       "array([-0.25,  0.  ,  0.1 ])"
      ]
     },
     "execution_count": 163,
     "metadata": {},
     "output_type": "execute_result"
    }
   ],
   "source": [
    "v0"
   ]
  },
  {
   "cell_type": "markdown",
   "id": "ba9d0259-6a1c-46d5-9b26-4c5f027c572a",
   "metadata": {},
   "source": [
    "**Create vector from nearest kp of area-2 to kp of area-1**"
   ]
  },
  {
   "cell_type": "markdown",
   "id": "c8772049-eb62-4221-8da1-5269ac39ae18",
   "metadata": {},
   "source": [
    "---"
   ]
  },
  {
   "cell_type": "code",
   "execution_count": 168,
   "id": "4890437c-c956-44bf-8251-7d04141b49a8",
   "metadata": {
    "execution": {
     "iopub.execute_input": "2023-08-28T08:51:25.316089Z",
     "iopub.status.busy": "2023-08-28T08:51:25.315012Z",
     "iopub.status.idle": "2023-08-28T08:51:25.322655Z",
     "shell.execute_reply": "2023-08-28T08:51:25.321377Z",
     "shell.execute_reply.started": "2023-08-28T08:51:25.316089Z"
    }
   },
   "outputs": [],
   "source": [
    "kplist1 = list(kp_coord1.keys())"
   ]
  },
  {
   "cell_type": "code",
   "execution_count": 169,
   "id": "d1a2c540-f275-43c0-bc14-b5074e0b2464",
   "metadata": {
    "execution": {
     "iopub.execute_input": "2023-08-28T08:51:34.210400Z",
     "iopub.status.busy": "2023-08-28T08:51:34.210400Z",
     "iopub.status.idle": "2023-08-28T08:51:34.228930Z",
     "shell.execute_reply": "2023-08-28T08:51:34.227296Z",
     "shell.execute_reply.started": "2023-08-28T08:51:34.210400Z"
    }
   },
   "outputs": [
    {
     "data": {
      "text/plain": [
       "array([-0.25,  0.1 ,  0.2 ])"
      ]
     },
     "execution_count": 169,
     "metadata": {},
     "output_type": "execute_result"
    }
   ],
   "source": [
    "kp_coord1[kplist1[0]]"
   ]
  },
  {
   "cell_type": "code",
   "execution_count": 170,
   "id": "07dd39d5-4e5c-4659-8ac0-bcb9cbc5fdb2",
   "metadata": {
    "execution": {
     "iopub.execute_input": "2023-08-28T08:54:13.816676Z",
     "iopub.status.busy": "2023-08-28T08:54:13.815680Z",
     "iopub.status.idle": "2023-08-28T08:54:13.835098Z",
     "shell.execute_reply": "2023-08-28T08:54:13.833083Z",
     "shell.execute_reply.started": "2023-08-28T08:54:13.816676Z"
    }
   },
   "outputs": [],
   "source": [
    "v0 = kp_coord2[kp_list2[min_index]]\n",
    "vector_21_list = []\n",
    "for kpn in kplist1:\n",
    "    v1 = kp_coord1[kpn]\n",
    "    dir_vec = v1 - v0\n",
    "    vector_21_list.append(dir_vec)"
   ]
  },
  {
   "cell_type": "code",
   "execution_count": 172,
   "id": "4dd1b782-2bf3-45b1-8ca8-fa8544ad3978",
   "metadata": {
    "execution": {
     "iopub.execute_input": "2023-08-28T08:58:12.549866Z",
     "iopub.status.busy": "2023-08-28T08:58:12.548832Z",
     "iopub.status.idle": "2023-08-28T08:58:12.561100Z",
     "shell.execute_reply": "2023-08-28T08:58:12.560602Z",
     "shell.execute_reply.started": "2023-08-28T08:58:12.549866Z"
    }
   },
   "outputs": [
    {
     "data": {
      "text/plain": [
       "65"
      ]
     },
     "execution_count": 172,
     "metadata": {},
     "output_type": "execute_result"
    }
   ],
   "source": [
    "len(vector_21_list)"
   ]
  },
  {
   "cell_type": "code",
   "execution_count": null,
   "id": "67cf4d72-c233-45bf-a39a-340947b290ec",
   "metadata": {},
   "outputs": [],
   "source": [
    "len_vector_21_list = [np.linalg.norm(vec) for vec in vector_21_list]\n",
    "max_value = max(len_vector_21_list)\n",
    "max_index = dist_list.index(max_value)\n",
    "len_vector_21_list = len_vector_21_list[max_index: ] + len_vector_21_list[ :max_index]"
   ]
  },
  {
   "cell_type": "code",
   "execution_count": 64,
   "id": "452c5f6f-c323-4267-9ec1-6d9bba5e5c0e",
   "metadata": {
    "execution": {
     "iopub.execute_input": "2023-09-04T04:36:19.370008Z",
     "iopub.status.busy": "2023-09-04T04:36:19.365505Z",
     "iopub.status.idle": "2023-09-04T04:36:19.386783Z",
     "shell.execute_reply": "2023-09-04T04:36:19.384749Z",
     "shell.execute_reply.started": "2023-09-04T04:36:19.369496Z"
    }
   },
   "outputs": [
    {
     "data": {
      "text/plain": [
       "[6, 0, 2, 3, 1, 2, 3, 4, 5]"
      ]
     },
     "execution_count": 64,
     "metadata": {},
     "output_type": "execute_result"
    }
   ],
   "source": [
    "li = [1,2,3,4,5,6,0,2,3]\n",
    "\n",
    "m = li.index(max(li))\n",
    "li = li[m: ] + li[ :m]\n",
    "# li = li[m: ] + list(reversed(li[ :m]))\n",
    "li"
   ]
  },
  {
   "cell_type": "code",
   "execution_count": 62,
   "id": "55f227b8-6e16-4c5e-b25d-15db6888c7bb",
   "metadata": {
    "execution": {
     "iopub.execute_input": "2023-09-04T04:35:04.630223Z",
     "iopub.status.busy": "2023-09-04T04:35:04.630223Z",
     "iopub.status.idle": "2023-09-04T04:35:04.636956Z",
     "shell.execute_reply": "2023-09-04T04:35:04.636361Z",
     "shell.execute_reply.started": "2023-09-04T04:35:04.630223Z"
    }
   },
   "outputs": [
    {
     "data": {
      "text/plain": [
       "[5, 4, 3, 2, 1, 3, 2, 0, 6]"
      ]
     },
     "execution_count": 62,
     "metadata": {},
     "output_type": "execute_result"
    }
   ],
   "source": [
    "list(reversed(li))"
   ]
  },
  {
   "cell_type": "markdown",
   "id": "b99afbff-4aca-4031-b7a7-c40b8f0e45f4",
   "metadata": {},
   "source": [
    "---"
   ]
  },
  {
   "cell_type": "markdown",
   "id": "2843447c-25d0-4eac-936e-03d08030c99b",
   "metadata": {},
   "source": [
    "**Final Function**"
   ]
  },
  {
   "cell_type": "markdown",
   "id": "d24ac1ca-e61c-4e03-bd28-05d8c361d86a",
   "metadata": {},
   "source": [
    "---"
   ]
  },
  {
   "cell_type": "markdown",
   "id": "8e02f01f-f5a2-475f-9b8f-479d1dcf82ce",
   "metadata": {
    "execution": {
     "iopub.execute_input": "2023-09-04T12:28:19.494023Z",
     "iopub.status.busy": "2023-09-04T12:28:19.493021Z",
     "iopub.status.idle": "2023-09-04T12:28:19.511334Z",
     "shell.execute_reply": "2023-09-04T12:28:19.510333Z",
     "shell.execute_reply.started": "2023-09-04T12:28:19.494023Z"
    }
   },
   "source": [
    "```python\n",
    "# combine all process to make function\n",
    "\n",
    "def area21_kp_vector(anum1, anum2):\n",
    "    \"\"\"\n",
    "    Calculates the vector from a keypoint in area 1 to the nearest keypoint in area 2.\n",
    "\n",
    "    Args:\n",
    "        anum1 (int): The number of area 1.\n",
    "        anum2 (int): The number of area 2.\n",
    "\n",
    "    Returns:\n",
    "        list: A list of vectors from the nearest keypoint in area 2 to the keypoints in area 1.\n",
    "        max length vector at first position\n",
    "    \"\"\"\n",
    "    \n",
    "    mapdl.csys(kcn=0)\n",
    "\n",
    "    # ------- Area-1 & area-2 centroid -------\n",
    "    centroid1 = pre.area_cent([anum1])[0]\n",
    "    centroid2 = pre.area_cent([anum2])[0]\n",
    "    \n",
    "    # ------- Area-1 keypoints coordinate -------\n",
    "    mapdl.asel(\"S\", \"AREA\", \"\", anum1)\n",
    "    mapdl.allsel(labt=\"BELOW \", entity=\"AREA\")\n",
    "    mapdl.allsel(labt=\"BELOW \", entity=\"LINE\")\n",
    "    llist1 = mapdl.geometry.lnum\n",
    "    mapdl.allsel(labt=\"BELOW \", entity=\"KP\")\n",
    "    klist1 = mapdl.geometry.knum\n",
    "    len(klist1)\n",
    "\n",
    "    if len(klist1) <= 40:\n",
    "        for lnum in llist1:\n",
    "            mapdl.ldiv(lnum, ndiv=10)\n",
    "        llist1 = mapdl.geometry.lnum\n",
    "        klist1 = mapdl.geometry.knum\n",
    "\n",
    "    kp_coord1 = {}\n",
    "    for kpoiint in klist1:\n",
    "        k_x = mapdl.queries.kx(kpoiint)\n",
    "        k_y = mapdl.queries.ky(kpoiint)\n",
    "        k_z = mapdl.queries.kz(kpoiint)\n",
    "        k1 = np.array([k_x, k_y, k_z])\n",
    "        kp_coord1[kpoiint] = k1\n",
    "\n",
    "    # ------- Area-2 keypoints coordinate -------\n",
    "    mapdl.asel(\"S\", \"AREA\", \"\", anum2)\n",
    "    mapdl.allsel(labt=\"BELOW \", entity=\"AREA\")\n",
    "    mapdl.allsel(labt=\"BELOW \", entity=\"LINE\")\n",
    "    llist2 = mapdl.geometry.lnum\n",
    "    mapdl.allsel(labt=\"BELOW \", entity=\"KP\")\n",
    "    klist2 = mapdl.geometry.knum\n",
    "    len(klist2)\n",
    "\n",
    "    if len(klist2) <= 40:\n",
    "        for lnum in llist2:\n",
    "            mapdl.ldiv(lnum, ndiv=10)\n",
    "        llist2 = mapdl.geometry.lnum\n",
    "        klist2 = mapdl.geometry.knum\n",
    "\n",
    "    kp_coord2 = {}\n",
    "    for kpoiint in klist2:\n",
    "        k_x = mapdl.queries.kx(kpoiint)\n",
    "        k_y = mapdl.queries.ky(kpoiint)\n",
    "        k_z = mapdl.queries.kz(kpoiint)\n",
    "        k1 = np.array([k_x, k_y, k_z])\n",
    "        kp_coord2[kpoiint] = k1\n",
    "\n",
    "    # ------- Distance between centroid of area-1 and keypoints of area-2 -------\n",
    "    kp_list2 = list(kp_coord2.keys())\n",
    "    dist_list = [np.linalg.norm(centroid1 - kp_coord2[kpoint]) for kpoint in kp_list2]\n",
    "    # Kp of area-2 nearest to area-1\n",
    "    min_value = min(dist_list)\n",
    "    # print(min_value)\n",
    "    min_index = dist_list.index(min_value)\n",
    "    # print(min_index)\n",
    "    \n",
    "    # ------- Coordinate of nearest Kp -------\n",
    "    v0 = kp_coord2[kp_list2[min_index]]\n",
    "    # print(v0)\n",
    "    \n",
    "    # ------- Create vector from nearest Kp of area-2 to all Kps of area-1 -------\n",
    "    kplist1 = list(kp_coord1.keys())\n",
    "    vector_21_list = [kp_coord1[kpn] - v0 for kpn in kplist1]\n",
    "    # print(len(vector_21_list))\n",
    "\n",
    "    # -------max length vector at first -------\n",
    "    len_vector_21_list = [np.linalg.norm(vec) for vec in vector_21_list]\n",
    "    max_value = max(len_vector_21_list)\n",
    "    max_index = len_vector_21_list.index(max_value)\n",
    "    # len_vector_21_list = len_vector_21_list[max_index: ] + len_vector_21_list[ :max_index]\n",
    "    # # print(len_vector_21_list)\n",
    "    # vector_21_list = vector_21_list[max_index: ] + vector_21_list[ :max_index]\n",
    "    \n",
    "    return vector_21_list, max_index\n",
    "\n",
    "```"
   ]
  },
  {
   "cell_type": "markdown",
   "id": "f92355cf-74c6-4ccc-8843-2ee89f7e2d3b",
   "metadata": {},
   "source": [
    "#### Angle between two vectors (0-360 range)"
   ]
  },
  {
   "cell_type": "markdown",
   "id": "5d6f16fc-4760-4a1f-94dd-f483cfc3aa3b",
   "metadata": {
    "execution": {
     "iopub.execute_input": "2023-09-03T17:00:10.563534Z",
     "iopub.status.busy": "2023-09-03T17:00:10.563534Z",
     "iopub.status.idle": "2023-09-03T17:00:10.594566Z",
     "shell.execute_reply": "2023-09-03T17:00:10.593570Z",
     "shell.execute_reply.started": "2023-09-03T17:00:10.563534Z"
    }
   },
   "source": [
    "```python\n",
    "import numpy as np\n",
    "\n",
    "\n",
    "def vectors_angle_3d(v1, v2):\n",
    "    \"\"\"\n",
    "    Calculate the angle between two vectors for 0 to 360 range.\n",
    "\n",
    "    Args:\n",
    "        v1 (list): The first vector.\n",
    "        v2 (list): The second vector.\n",
    "\n",
    "    Returns:\n",
    "        float: The angle between the two vectors in degrees.\n",
    "    \"\"\"\n",
    "\n",
    "    v1_norm = np.linalg.norm(v1)\n",
    "    v2_norm = np.linalg.norm(v2)\n",
    "    cos_theta = np.dot(v1, v2) / (v1_norm * v2_norm)\n",
    "    angle_rad = np.arccos(np.clip(cos_theta, -1.0, 1.0))\n",
    "    angle_deg = np.degrees(angle_rad)\n",
    "\n",
    "    cross_product = np.cross(v1, v2)\n",
    "    print(cross_product)\n",
    "\n",
    "    if cross_product[2] < 0:\n",
    "        angle_deg = 360 - angle_deg\n",
    "\n",
    "    if cross_product[2] == 0 and cross_product[1] < 0:\n",
    "        angle_deg = 360 - angle_deg\n",
    "\n",
    "    if cross_product[2] == 0 and cross_product[1] == 0 and cross_product[0] < 0:\n",
    "        angle_deg = 360 - angle_deg\n",
    "\n",
    "    return angle_deg\n",
    "\n",
    "```"
   ]
  },
  {
   "cell_type": "markdown",
   "id": "d60be6db-b50e-4536-80e4-97306bc963e4",
   "metadata": {},
   "source": [
    "#### Vector spread in four coordinates"
   ]
  },
  {
   "cell_type": "markdown",
   "id": "73dfffab-d56f-48e9-bab8-b3694c6d97f3",
   "metadata": {
    "execution": {
     "iopub.execute_input": "2023-09-04T12:29:07.379412Z",
     "iopub.status.busy": "2023-09-04T12:29:07.378986Z",
     "iopub.status.idle": "2023-09-04T12:29:07.387658Z",
     "shell.execute_reply": "2023-09-04T12:29:07.387156Z",
     "shell.execute_reply.started": "2023-09-04T12:29:07.379412Z"
    }
   },
   "source": [
    "```python\n",
    "def vector_spred(vect_list, start_ind):\n",
    "    v1 = vect_list[start_ind]\n",
    "    v0_90 = []\n",
    "    v90_180 = []\n",
    "    v180_270 = []\n",
    "    v270_360 = []\n",
    "    \n",
    "    angles = []\n",
    "    for vec in vect_list:\n",
    "        ang = cd.vectors_angle_3d(v1,vec)\n",
    "        angles.append(ang)\n",
    "        if ang<90-1 and ang>0+1: \n",
    "            v0_90.append(ang)\n",
    "        \n",
    "        if ang<180-1 and ang>90+1: \n",
    "            v90_180.append(ang)\n",
    "        \n",
    "        if ang<270-1 and ang>180+1: \n",
    "            v180_270.append(ang)\n",
    "        \n",
    "        if ang<360-1 and ang>270+1: \n",
    "            v270_360.append(ang)\n",
    "\n",
    "    l1 = len(v0_90)\n",
    "    l2 = len(v90_180)\n",
    "    l3 = len(v180_270)\n",
    "    l4 = len(v270_360)\n",
    "\n",
    "    # print(len(v0_90))\n",
    "    # print(len(v90_180))\n",
    "    # print(len(v180_270))\n",
    "    # print(len(v270_360))\n",
    "    \n",
    "    return l1, l2, l3, l4\n",
    "\n",
    "``"
   ]
  },
  {
   "cell_type": "code",
   "execution_count": 49,
   "id": "4eb3cd7e-657c-489e-85d7-d4de248a6ce6",
   "metadata": {
    "execution": {
     "iopub.execute_input": "2023-09-04T12:30:40.588008Z",
     "iopub.status.busy": "2023-09-04T12:30:40.587242Z",
     "iopub.status.idle": "2023-09-04T12:30:40.602679Z",
     "shell.execute_reply": "2023-09-04T12:30:40.601885Z",
     "shell.execute_reply.started": "2023-09-04T12:30:40.588008Z"
    }
   },
   "outputs": [],
   "source": [
    "# anum1 = 17\n",
    "# anum2 = 22\n",
    "\n",
    "# vect21, max_ind = area21_kp_vector(anum1, anum2)\n",
    "# print(len(vect21))\n",
    "# print(max_ind)"
   ]
  },
  {
   "cell_type": "code",
   "execution_count": 50,
   "id": "7d536f04-cff5-42fd-a0b2-62e2b2a0db56",
   "metadata": {
    "execution": {
     "iopub.execute_input": "2023-09-04T12:30:40.976524Z",
     "iopub.status.busy": "2023-09-04T12:30:40.976524Z",
     "iopub.status.idle": "2023-09-04T12:30:40.991400Z",
     "shell.execute_reply": "2023-09-04T12:30:40.988560Z",
     "shell.execute_reply.started": "2023-09-04T12:30:40.976524Z"
    }
   },
   "outputs": [],
   "source": [
    "# vector_spred(vect21, max_ind)"
   ]
  },
  {
   "cell_type": "code",
   "execution_count": 42,
   "id": "3c12b62e-3a2c-40b6-bffb-1bc4f24b8a43",
   "metadata": {
    "execution": {
     "iopub.execute_input": "2023-09-04T12:27:48.310296Z",
     "iopub.status.busy": "2023-09-04T12:27:48.310296Z",
     "iopub.status.idle": "2023-09-04T12:27:50.081562Z",
     "shell.execute_reply": "2023-09-04T12:27:50.079960Z",
     "shell.execute_reply.started": "2023-09-04T12:27:48.310296Z"
    }
   },
   "outputs": [
    {
     "name": "stdout",
     "output_type": "stream",
     "text": [
      "57\n",
      "0\n"
     ]
    }
   ],
   "source": [
    "anum1 = 17\n",
    "anum2 = 22\n",
    "\n",
    "vect21, max_ind = pre.area21_kp_vector(anum1, anum2)\n",
    "print(len(vect21))\n",
    "print(max_ind)"
   ]
  },
  {
   "cell_type": "code",
   "execution_count": 41,
   "id": "0cabfaeb-e3f3-4ef6-9bed-4648866e3f16",
   "metadata": {
    "execution": {
     "iopub.execute_input": "2023-09-04T12:27:35.758426Z",
     "iopub.status.busy": "2023-09-04T12:27:35.758426Z",
     "iopub.status.idle": "2023-09-04T12:27:35.778769Z",
     "shell.execute_reply": "2023-09-04T12:27:35.778503Z",
     "shell.execute_reply.started": "2023-09-04T12:27:35.758426Z"
    }
   },
   "outputs": [
    {
     "data": {
      "text/plain": [
       "(5, 25, 1, 25)"
      ]
     },
     "execution_count": 41,
     "metadata": {},
     "output_type": "execute_result"
    }
   ],
   "source": [
    "cd.vector_spred(vect21, max_ind)"
   ]
  },
  {
   "cell_type": "code",
   "execution_count": 82,
   "id": "2d513367-a264-4fc9-8235-c6a6b19a32c4",
   "metadata": {
    "execution": {
     "iopub.execute_input": "2023-09-04T04:54:18.834003Z",
     "iopub.status.busy": "2023-09-04T04:54:18.834003Z",
     "iopub.status.idle": "2023-09-04T04:54:18.851251Z",
     "shell.execute_reply": "2023-09-04T04:54:18.850257Z",
     "shell.execute_reply.started": "2023-09-04T04:54:18.834003Z"
    }
   },
   "outputs": [],
   "source": [
    "# len_vector_21_list = [np.linalg.norm(vec) for vec in vect21]\n",
    "# len_vector_21_list"
   ]
  },
  {
   "cell_type": "code",
   "execution_count": 108,
   "id": "e5ee4406-29cb-48fe-b0ee-c58084cec999",
   "metadata": {
    "execution": {
     "iopub.execute_input": "2023-09-04T05:26:13.904406Z",
     "iopub.status.busy": "2023-09-04T05:26:13.904406Z",
     "iopub.status.idle": "2023-09-04T05:26:19.784979Z",
     "shell.execute_reply": "2023-09-04T05:26:19.784412Z",
     "shell.execute_reply.started": "2023-09-04T05:26:13.904406Z"
    }
   },
   "outputs": [
    {
     "name": "stdout",
     "output_type": "stream",
     "text": [
      "200\n",
      "0\n"
     ]
    }
   ],
   "source": [
    "anum1 = 12\n",
    "anum2 = 18\n",
    "\n",
    "vect21, max_ind = area21_kp_vector(anum1, anum2)\n",
    "print(len(vect21))\n",
    "print(max_ind)"
   ]
  },
  {
   "cell_type": "markdown",
   "id": "7054ff7b-0ab3-49cf-a80d-590870333958",
   "metadata": {},
   "source": [
    "{12: array([18]),\n",
    " 13: array([21]),\n",
    " 14: array([20]),\n",
    " 15: array([19]),\n",
    " 16: array([], dtype=int32),\n",
    " 17: array([22])}"
   ]
  },
  {
   "cell_type": "code",
   "execution_count": 60,
   "id": "fe856b47-2610-4beb-b5db-faacb38feb0b",
   "metadata": {
    "execution": {
     "iopub.execute_input": "2023-09-04T12:01:00.223305Z",
     "iopub.status.busy": "2023-09-04T12:01:00.223305Z",
     "iopub.status.idle": "2023-09-04T12:01:05.458480Z",
     "shell.execute_reply": "2023-09-04T12:01:05.456960Z",
     "shell.execute_reply.started": "2023-09-04T12:01:00.223305Z"
    }
   },
   "outputs": [
    {
     "data": {
      "text/plain": [
       "(147, 0, 166, 79)"
      ]
     },
     "execution_count": 60,
     "metadata": {},
     "output_type": "execute_result"
    }
   ],
   "source": [
    "anum1 = 22\n",
    "anum2 = 17\n",
    "vect21, max_ind = area21_kp_vector(anum1, anum2)\n",
    "# print(len(vect21))\n",
    "# print(max_ind)\n",
    "# print()\n",
    "# v1 = vect21[max_ind]\n",
    "vector_spred(vect21, max_ind)"
   ]
  },
  {
   "cell_type": "code",
   "execution_count": 48,
   "id": "6b37cb60-eb66-4f42-93e5-b7d760f988b5",
   "metadata": {
    "execution": {
     "iopub.execute_input": "2023-09-04T12:29:50.107170Z",
     "iopub.status.busy": "2023-09-04T12:29:50.107170Z",
     "iopub.status.idle": "2023-09-04T12:29:51.743369Z",
     "shell.execute_reply": "2023-09-04T12:29:51.742870Z",
     "shell.execute_reply.started": "2023-09-04T12:29:50.107170Z"
    }
   },
   "outputs": [
    {
     "name": "stderr",
     "output_type": "stream",
     "text": [
      "C:\\Users\\pramod.kumar\\OneDrive - SIEMENSGAMESA\\Work\\ContactDetect\\ContactDetection.py:197: RuntimeWarning: invalid value encountered in scalar divide\n",
      "  cos_theta = np.dot(v1, v2) / (v1_norm * v2_norm)\n"
     ]
    },
    {
     "data": {
      "text/plain": [
       "(41, 0, 0, 10)"
      ]
     },
     "execution_count": 48,
     "metadata": {},
     "output_type": "execute_result"
    }
   ],
   "source": [
    "anum1 = 15\n",
    "anum2 = 19\n",
    "vect21, max_ind = area21_kp_vector(anum1, anum2)\n",
    "# print(len(vect21))\n",
    "# print(max_ind)\n",
    "# print()\n",
    "# v1 = vect21[max_ind]\n",
    "vector_spred(vect21, max_ind)"
   ]
  },
  {
   "cell_type": "code",
   "execution_count": 51,
   "id": "089dfb5e-84dd-4bae-9981-f7dd3fe15fc3",
   "metadata": {
    "execution": {
     "iopub.execute_input": "2023-09-04T12:31:49.940464Z",
     "iopub.status.busy": "2023-09-04T12:31:49.940464Z",
     "iopub.status.idle": "2023-09-04T12:31:49.952613Z",
     "shell.execute_reply": "2023-09-04T12:31:49.952500Z",
     "shell.execute_reply.started": "2023-09-04T12:31:49.940464Z"
    }
   },
   "outputs": [],
   "source": [
    "# def check_overlap(anum1, anum2):\n",
    "#     overlap = 0\n",
    "#     eq_area = 0\n",
    "    \n",
    "#     centroid1, area_val1 = pre.area_cent([anum1])\n",
    "#     centroid2, area_val2 = pre.area_cent([anum2])\n",
    "#     centroid1 = np.array(centroid1)\n",
    "#     centroid2 = np.array(centroid2)\n",
    "    \n",
    "#     dist = np.linalg.norm(centroid1 - centroid2)\n",
    "    \n",
    "#     if dist <= 1.0e-3:\n",
    "#         # print(f\"area overlapping, ccentroid dist: {dist}\")\n",
    "#         overlap = 1\n",
    "\n",
    "#     if np.isclose(area_val1, area_val2, rtol=1e-05, atol=1e-08, equal_nan=False):\n",
    "#         eq_area = 1\n",
    "\n",
    "#     return overlap, eq_area"
   ]
  },
  {
   "cell_type": "markdown",
   "id": "edf6c00b-d609-4ae0-8c40-264b859d48de",
   "metadata": {},
   "source": [
    "## Final form"
   ]
  },
  {
   "cell_type": "markdown",
   "id": "8e7489a8-9e5b-417a-8375-19e95d3aef18",
   "metadata": {
    "execution": {
     "iopub.execute_input": "2023-09-04T12:01:29.941138Z",
     "iopub.status.busy": "2023-09-04T12:01:29.940174Z",
     "iopub.status.idle": "2023-09-04T12:02:15.785759Z",
     "shell.execute_reply": "2023-09-04T12:02:15.785259Z",
     "shell.execute_reply.started": "2023-09-04T12:01:29.941138Z"
    }
   },
   "source": [
    "```python\n",
    "cm1 = \"PART3\"\n",
    "cm2 = \"PART4\"\n",
    "conta_targ = pre.contact_between_cm(cm1, cm2)\r\n",
    "print(conta_targ)\r\n",
    "area1 = list(conta_targ.keys())\r\n",
    "# print(area1)\r\n",
    "for area_1 in area1:\r\n",
    "    for area_2 in conta_targ[area_1]:\r\n",
    "        print(area_1,area_2)\r\n",
    "        overlap, eq_area = check_overlap(area_1,area_2)\r\n",
    "\r\n",
    "        if overlap == 1:\r\n",
    "            if eq_area == 1:\r\n",
    "                print(f\"Complete overlap {area_1}, {area_2}\")\r\n",
    "                break\r\n",
    "                # pass\r\n",
    "            else:\r\n",
    "                print(f\"centroid overlap ,(not area value) {area_1}, {area_2}\")\r\n",
    "                \r\n",
    "\r\n",
    "        else:\r\n",
    "            vect21, max_ind = area21_kp_vector(anum1, anum2)\r\n",
    "            l1,l2,l3,l4 = vector_spred(vect21, max_ind)\r\n",
    "            case1 = l1*l2*l3*l4\r\n",
    "            vect21, max_ind = area21_kp_vector(anum2, anum1)\r\n",
    "            l1,l2,l3,l4 = vector_spred(vect21, max_ind)\r\n",
    "            case2 = l1*l2*l3*l4\r\n",
    "\r\n",
    "            if case1==0 and case2==0:\r\n",
    "                print(f\"no overlap{area_1}, {area_2}\")\r\n",
    "                \r\n",
    "            if case1==1 and case2==0:\r\n",
    "                print(f\"overlap{area_1}, {area_2}\")\r\n",
    "                \r\n",
    "            if case1==0 and case2==2:\r\n",
    "                print(f\"overlap{area_1}, {area_2}\")\r\n",
    "\n",
    "\n",
    "```"
   ]
  },
  {
   "cell_type": "code",
   "execution_count": 35,
   "id": "1ff8e142-2324-4c2a-afe0-864e5b32b6f8",
   "metadata": {
    "execution": {
     "iopub.execute_input": "2023-09-04T13:02:01.557188Z",
     "iopub.status.busy": "2023-09-04T13:02:01.557188Z",
     "iopub.status.idle": "2023-09-04T13:02:01.577675Z",
     "shell.execute_reply": "2023-09-04T13:02:01.577110Z",
     "shell.execute_reply.started": "2023-09-04T13:02:01.557188Z"
    }
   },
   "outputs": [],
   "source": [
    "def find_contact_area(cm1, cm2):\n",
    "    \n",
    "    conta_targ = pre.contact_between_cm(cm1, cm2)\n",
    "    print(conta_targ)\n",
    "    area1 = list(conta_targ.keys())\n",
    "    # print(area1)\n",
    "    for area_1 in area1:\n",
    "        for area_2 in conta_targ[area_1]:\n",
    "            print(area_1,area_2)\n",
    "            overlap, eq_area = pre.check_overlap(area_1,area_2)\n",
    "    \n",
    "            if overlap == 1:\n",
    "                if eq_area == 1:\n",
    "                    print(f\"Complete overlap {area_1}, {area_2}\")\n",
    "                    break\n",
    "                    # pass\n",
    "                else:\n",
    "                    print(f\"centroid overlap ,(not area value) {area_1}, {area_2}\")\n",
    "                    \n",
    "    \n",
    "            else:\n",
    "                vect21, max_ind = pre.area21_kp_vector(area_1,area_2)\n",
    "                l1,l2,l3,l4 = cd.vector_spred(vect21, max_ind)\n",
    "                case1 = l1*l2*l3*l4\n",
    "                \n",
    "                vect21, max_ind = pre.area21_kp_vector(area_1,area_2)\n",
    "                l1,l2,l3,l4 = cd.vector_spred(vect21, max_ind)\n",
    "                case2 = l1*l2*l3*l4\n",
    "    \n",
    "                if case1==0 and case2==0:\n",
    "                    print(f\"no overlap{area_1}, {area_2}\")\n",
    "                    \n",
    "                if case1==1 and case2==0:\n",
    "                    print(f\"overlap{area_1}, {area_2}\")\n",
    "                    \n",
    "                if case1==0 and case2==2:\n",
    "                    print(f\"overlap{area_1}, {area_2}\")\n",
    "                "
   ]
  },
  {
   "cell_type": "code",
   "execution_count": 33,
   "id": "e3fec048-6645-43b2-8bde-5ac3758632a5",
   "metadata": {
    "execution": {
     "iopub.execute_input": "2023-09-04T13:00:46.758723Z",
     "iopub.status.busy": "2023-09-04T13:00:46.758723Z",
     "iopub.status.idle": "2023-09-04T13:00:50.015950Z",
     "shell.execute_reply": "2023-09-04T13:00:50.013315Z",
     "shell.execute_reply.started": "2023-09-04T13:00:46.758723Z"
    }
   },
   "outputs": [
    {
     "name": "stderr",
     "output_type": "stream",
     "text": [
      "C:\\Users\\pramod.kumar\\PythonEnv\\myenv\\lib\\site-packages\\pyvista\\jupyter\\notebook.py:58: UserWarning: Failed to use notebook backend: \n",
      "\n",
      "No module named 'trame_vtk.tools'\n",
      "\n",
      "Falling back to a static output.\n",
      "  warnings.warn(\n"
     ]
    },
    {
     "data": {
      "image/jpeg": "[encoded data removed]",
      "image/png": "[encoded data removed]",
      "text/plain": [
       "<PIL.Image.Image image mode=RGB size=1024x768>"
      ]
     },
     "metadata": {},
     "output_type": "display_data"
    }
   ],
   "source": [
    "mapdl.cmsel(type_=\"S\", name=\"PART3\", entity=\"VOLU\")\n",
    "mapdl.cmsel(type_=\"A\", name=\"PART4\", entity=\"VOLU\")\n",
    "mapdl.allsel(labt=\"BELOW \", entity=\"VOLU\")\n",
    "mapdl.vplot()"
   ]
  },
  {
   "cell_type": "code",
   "execution_count": 36,
   "id": "f65c449c-12c3-40e9-9a3f-4e9294b174d1",
   "metadata": {
    "execution": {
     "iopub.execute_input": "2023-09-04T13:02:09.126692Z",
     "iopub.status.busy": "2023-09-04T13:02:09.126244Z",
     "iopub.status.idle": "2023-09-04T13:02:38.567756Z",
     "shell.execute_reply": "2023-09-04T13:02:38.567257Z",
     "shell.execute_reply.started": "2023-09-04T13:02:09.126692Z"
    }
   },
   "outputs": [
    {
     "name": "stdout",
     "output_type": "stream",
     "text": [
      "{12: array([18]), 13: array([21]), 14: array([20]), 15: array([19]), 16: array([], dtype=int32), 17: array([22])}\n",
      "12 18\n",
      "no overlap12, 18\n",
      "13 21\n"
     ]
    },
    {
     "name": "stderr",
     "output_type": "stream",
     "text": [
      "C:\\Users\\pramod.kumar\\OneDrive - SIEMENSGAMESA\\Work\\ContactDetect\\ContactDetection.py:197: RuntimeWarning: invalid value encountered in scalar divide\n",
      "  cos_theta = np.dot(v1, v2) / (v1_norm * v2_norm)\n"
     ]
    },
    {
     "name": "stdout",
     "output_type": "stream",
     "text": [
      "no overlap13, 21\n",
      "14 20\n",
      "no overlap14, 20\n",
      "15 19\n",
      "no overlap15, 19\n",
      "17 22\n",
      "Complete overlap 17, 22\n"
     ]
    }
   ],
   "source": [
    "cm1 = \"PART3\"\n",
    "cm2 = \"PART4\"\n",
    "find_contact_area(cm1, cm2)"
   ]
  },
  {
   "cell_type": "code",
   "execution_count": 76,
   "id": "d2ef8efb-6815-4809-b6ee-0ce2bbbf6771",
   "metadata": {
    "execution": {
     "iopub.execute_input": "2023-09-04T12:54:08.281372Z",
     "iopub.status.busy": "2023-09-04T12:54:08.281113Z",
     "iopub.status.idle": "2023-09-04T12:54:10.031866Z",
     "shell.execute_reply": "2023-09-04T12:54:10.030873Z",
     "shell.execute_reply.started": "2023-09-04T12:54:08.281372Z"
    }
   },
   "outputs": [
    {
     "name": "stderr",
     "output_type": "stream",
     "text": [
      "C:\\Users\\pramod.kumar\\PythonEnv\\myenv\\lib\\site-packages\\pyvista\\jupyter\\notebook.py:58: UserWarning: Failed to use notebook backend: \n",
      "\n",
      "No module named 'trame_vtk.tools'\n",
      "\n",
      "Falling back to a static output.\n",
      "  warnings.warn(\n"
     ]
    },
    {
     "data": {
      "image/jpeg": "[encoded data removed]",
      "image/png": "[encoded data removed]",
      "text/plain": [
       "<PIL.Image.Image image mode=RGB size=1024x768>"
      ]
     },
     "metadata": {},
     "output_type": "display_data"
    }
   ],
   "source": [
    "mapdl.cmsel(type_=\"S\", name=\"PART2\", entity=\"VOLU\")\n",
    "mapdl.cmsel(type_=\"A\", name=\"PART1\", entity=\"VOLU\")\n",
    "mapdl.allsel(labt=\"BELOW \", entity=\"VOLU\")\n",
    "mapdl.vplot()"
   ]
  },
  {
   "cell_type": "code",
   "execution_count": 37,
   "id": "51026ae4-4db0-467b-a1ac-54e1b7718af6",
   "metadata": {
    "execution": {
     "iopub.execute_input": "2023-09-04T13:05:10.254105Z",
     "iopub.status.busy": "2023-09-04T13:05:10.254105Z",
     "iopub.status.idle": "2023-09-04T13:05:11.211136Z",
     "shell.execute_reply": "2023-09-04T13:05:11.209738Z",
     "shell.execute_reply.started": "2023-09-04T13:05:10.254105Z"
    }
   },
   "outputs": [
    {
     "name": "stdout",
     "output_type": "stream",
     "text": [
      "{1: array([], dtype=int32), 2: array([], dtype=int32), 3: array([], dtype=int32), 4: array([ 5, 10])}\n",
      "4 5\n",
      "Complete overlap 4, 5\n"
     ]
    }
   ],
   "source": [
    "cm1 = \"PART1\"\n",
    "cm2 = \"PART2\"\n",
    "find_contact_area(cm1, cm2)"
   ]
  },
  {
   "cell_type": "code",
   "execution_count": 84,
   "id": "95d72834-4b36-47a4-b297-cf8cd6c08ac9",
   "metadata": {
    "execution": {
     "iopub.execute_input": "2023-09-04T12:58:26.826833Z",
     "iopub.status.busy": "2023-09-04T12:58:26.826833Z",
     "iopub.status.idle": "2023-09-04T12:58:26.893334Z",
     "shell.execute_reply": "2023-09-04T12:58:26.892390Z",
     "shell.execute_reply.started": "2023-09-04T12:58:26.826833Z"
    }
   },
   "outputs": [
    {
     "data": {
      "text/plain": [
       "1.3960599999998397e-07"
      ]
     },
     "execution_count": 84,
     "metadata": {},
     "output_type": "execute_result"
    }
   ],
   "source": [
    "pre.area_cent([4])[1]-pre.area_cent([5])[1]"
   ]
  },
  {
   "cell_type": "code",
   "execution_count": null,
   "id": "7858af0d-9e08-4b71-a7d4-78b9e56ae164",
   "metadata": {},
   "outputs": [],
   "source": []
  },
  {
   "cell_type": "code",
   "execution_count": null,
   "id": "c7612902-9db2-4af6-9b23-08a092eb68a8",
   "metadata": {},
   "outputs": [],
   "source": [
    "area_cent"
   ]
  },
  {
   "cell_type": "code",
   "execution_count": 65,
   "id": "d1b1618a-ebce-42df-ba7e-eea655cada09",
   "metadata": {
    "execution": {
     "iopub.execute_input": "2023-09-04T12:44:04.861491Z",
     "iopub.status.busy": "2023-09-04T12:44:04.859955Z",
     "iopub.status.idle": "2023-09-04T12:44:07.760497Z",
     "shell.execute_reply": "2023-09-04T12:44:07.759497Z",
     "shell.execute_reply.started": "2023-09-04T12:44:04.861491Z"
    }
   },
   "outputs": [
    {
     "name": "stderr",
     "output_type": "stream",
     "text": [
      "C:\\Users\\pramod.kumar\\PythonEnv\\myenv\\lib\\site-packages\\pyvista\\jupyter\\notebook.py:58: UserWarning: Failed to use notebook backend: \n",
      "\n",
      "No module named 'trame_vtk.tools'\n",
      "\n",
      "Falling back to a static output.\n",
      "  warnings.warn(\n"
     ]
    },
    {
     "data": {
      "image/jpeg": "[encoded data removed]",
      "image/png": "[encoded data removed]",
      "text/plain": [
       "<PIL.Image.Image image mode=RGB size=1024x768>"
      ]
     },
     "metadata": {},
     "output_type": "display_data"
    }
   ],
   "source": [
    "mapdl.cmsel(type_=\"S\", name=\"PART2\", entity=\"VOLU\")\n",
    "mapdl.cmsel(type_=\"A\", name=\"PART3\", entity=\"VOLU\")\n",
    "mapdl.allsel(labt=\"BELOW \", entity=\"VOLU\")\n",
    "mapdl.vplot()"
   ]
  },
  {
   "cell_type": "code",
   "execution_count": 38,
   "id": "aafb940d-32dd-41a7-a279-b0a80d8f25e6",
   "metadata": {
    "execution": {
     "iopub.execute_input": "2023-09-04T13:05:32.126693Z",
     "iopub.status.busy": "2023-09-04T13:05:32.125826Z",
     "iopub.status.idle": "2023-09-04T13:05:34.217216Z",
     "shell.execute_reply": "2023-09-04T13:05:34.216716Z",
     "shell.execute_reply.started": "2023-09-04T13:05:32.126693Z"
    }
   },
   "outputs": [
    {
     "name": "stdout",
     "output_type": "stream",
     "text": [
      "{5: array([], dtype=int32), 6: array([], dtype=int32), 7: array([], dtype=int32), 8: array([], dtype=int32), 9: array([], dtype=int32), 10: array([], dtype=int32), 11: array([16])}\n",
      "11 16\n",
      "centroid overlap ,(not area value) 11, 16\n"
     ]
    }
   ],
   "source": [
    "cm1 = \"PART2\"\n",
    "cm2 = \"PART3\"\n",
    "find_contact_area(cm1, cm2)"
   ]
  },
  {
   "cell_type": "code",
   "execution_count": null,
   "id": "22392fc2-49fe-4a06-8d03-4a6561cd8b58",
   "metadata": {},
   "outputs": [],
   "source": []
  },
  {
   "cell_type": "code",
   "execution_count": null,
   "id": "db1e84d4-d5ef-49c0-a2de-08f0f3f337ca",
   "metadata": {},
   "outputs": [],
   "source": []
  },
  {
   "cell_type": "code",
   "execution_count": null,
   "id": "8f0721da-ea5c-4baa-925f-3ec10a32f37f",
   "metadata": {},
   "outputs": [],
   "source": []
  },
  {
   "cell_type": "code",
   "execution_count": null,
   "id": "1c95c21c-a5c6-4b08-ac9b-7379cf05eb17",
   "metadata": {},
   "outputs": [],
   "source": []
  },
  {
   "cell_type": "code",
   "execution_count": null,
   "id": "3e9f1300-e66b-4846-bab5-54f5c209fd4a",
   "metadata": {},
   "outputs": [],
   "source": []
  },
  {
   "cell_type": "code",
   "execution_count": null,
   "id": "e4aae994-135f-482c-8f8c-44351d7d1e31",
   "metadata": {},
   "outputs": [],
   "source": []
  },
  {
   "cell_type": "code",
   "execution_count": null,
   "id": "7cbd1a5d-aa0e-46da-875d-3f7711c1e611",
   "metadata": {},
   "outputs": [],
   "source": []
  },
  {
   "cell_type": "code",
   "execution_count": null,
   "id": "281bcc31-cf06-432a-8fdc-412952ae3ffb",
   "metadata": {},
   "outputs": [],
   "source": []
  },
  {
   "cell_type": "code",
   "execution_count": null,
   "id": "865b119d-4e9b-4003-b866-474278fb311e",
   "metadata": {},
   "outputs": [],
   "source": []
  },
  {
   "cell_type": "code",
   "execution_count": 85,
   "id": "4aee3840-bc1d-4461-b9f3-7fbc1471dc2a",
   "metadata": {
    "execution": {
     "iopub.execute_input": "2023-09-04T12:58:45.377321Z",
     "iopub.status.busy": "2023-09-04T12:58:45.377321Z",
     "iopub.status.idle": "2023-09-04T12:58:48.790973Z",
     "shell.execute_reply": "2023-09-04T12:58:48.790471Z",
     "shell.execute_reply.started": "2023-09-04T12:58:45.377321Z"
    }
   },
   "outputs": [],
   "source": [
    "mapdl.exit()"
   ]
  },
  {
   "cell_type": "code",
   "execution_count": null,
   "id": "85493e96-0783-478b-9c2c-6e3051f01100",
   "metadata": {},
   "outputs": [],
   "source": []
  }
 ],
 "metadata": {
  "kernelspec": {
   "display_name": "Python 3 (ipykernel)",
   "language": "python",
   "name": "python3"
  },
  "language_info": {
   "codemirror_mode": {
    "name": "ipython",
    "version": 3
   },
   "file_extension": ".py",
   "mimetype": "text/x-python",
   "name": "python",
   "nbconvert_exporter": "python",
   "pygments_lexer": "ipython3",
   "version": "3.9.1"
  }
 },
 "nbformat": 4,
 "nbformat_minor": 5
}
