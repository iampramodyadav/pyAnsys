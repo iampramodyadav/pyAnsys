{
 "cells": [
  {
   "cell_type": "markdown",
   "id": "73dc668d-b462-40ea-b12d-a90725c3c96b",
   "metadata": {},
   "source": [
    "# Contact detect"
   ]
  },
  {
   "cell_type": "markdown",
   "id": "2af80872-95f8-4bde-85eb-2a0a2e1c9faa",
   "metadata": {},
   "source": [
    "## Importing Library and module"
   ]
  },
  {
   "cell_type": "code",
   "execution_count": 1,
   "id": "d0637384-2666-49d2-a4fc-f5db019de4a1",
   "metadata": {
    "execution": {
     "iopub.execute_input": "2023-08-27T06:44:49.751580Z",
     "iopub.status.busy": "2023-08-27T06:44:49.749858Z",
     "iopub.status.idle": "2023-08-27T06:44:49.958951Z",
     "shell.execute_reply": "2023-08-27T06:44:49.957635Z",
     "shell.execute_reply.started": "2023-08-27T06:44:49.751580Z"
    }
   },
   "outputs": [],
   "source": [
    "import numpy as np"
   ]
  },
  {
   "cell_type": "code",
   "execution_count": 2,
   "id": "875d903e-b1e6-4fa3-8f40-a3cdaf0e7bbf",
   "metadata": {
    "execution": {
     "iopub.execute_input": "2023-08-27T06:44:49.964926Z",
     "iopub.status.busy": "2023-08-27T06:44:49.964926Z",
     "iopub.status.idle": "2023-08-27T06:45:20.769722Z",
     "shell.execute_reply": "2023-08-27T06:45:20.769223Z",
     "shell.execute_reply.started": "2023-08-27T06:44:49.964926Z"
    }
   },
   "outputs": [
    {
     "name": "stdout",
     "output_type": "stream",
     "text": [
      "PyMAPDL is taking longer than expected to connect to an MAPDL session.\n",
      "Checking if there are any available licenses...\n"
     ]
    }
   ],
   "source": [
    "import sys\n",
    "\n",
    "PYTHONTOOLSDIR = r\"C:\\Users\\pramod.kumar\\OneDrive - SIEMENSGAMESA\\Work\\ProjectPyAnsys\"\n",
    "sys.path.append(PYTHONTOOLSDIR)\n",
    "import py_apdl_pre as pre"
   ]
  },
  {
   "cell_type": "code",
   "execution_count": 3,
   "id": "e069e978-ffbf-4ca6-8b42-b75d10a02134",
   "metadata": {
    "execution": {
     "iopub.execute_input": "2023-08-27T06:45:20.769722Z",
     "iopub.status.busy": "2023-08-27T06:45:20.769722Z",
     "iopub.status.idle": "2023-08-27T06:45:20.785242Z",
     "shell.execute_reply": "2023-08-27T06:45:20.784249Z",
     "shell.execute_reply.started": "2023-08-27T06:45:20.769722Z"
    }
   },
   "outputs": [],
   "source": [
    "PYTHONTOOLSDIR = r\"C:\\Users\\pramod.kumar\\OneDrive - SIEMENSGAMESA\\Work\\ContactDetect\"\n",
    "sys.path.append(PYTHONTOOLSDIR)\n",
    "import ContactDetection as cd"
   ]
  },
  {
   "cell_type": "code",
   "execution_count": 4,
   "id": "7fc2e2e5-2cfe-411b-95bf-8796cb118f9a",
   "metadata": {
    "execution": {
     "iopub.execute_input": "2023-08-27T06:45:22.969016Z",
     "iopub.status.busy": "2023-08-27T06:45:22.968020Z",
     "iopub.status.idle": "2023-08-27T06:45:22.977584Z",
     "shell.execute_reply": "2023-08-27T06:45:22.977088Z",
     "shell.execute_reply.started": "2023-08-27T06:45:22.969016Z"
    }
   },
   "outputs": [
    {
     "data": {
      "text/plain": [
       "['__builtins__',\n",
       " '__cached__',\n",
       " '__doc__',\n",
       " '__file__',\n",
       " '__loader__',\n",
       " '__name__',\n",
       " '__package__',\n",
       " '__spec__',\n",
       " 'check_collinear',\n",
       " 'check_coplaner',\n",
       " 'check_normal',\n",
       " 'circle_center_radius',\n",
       " 'coordinate_dcm',\n",
       " 'dcm2angleZXY',\n",
       " 'dcv',\n",
       " 'np',\n",
       " 'perpendicular_vector']"
      ]
     },
     "execution_count": 4,
     "metadata": {},
     "output_type": "execute_result"
    }
   ],
   "source": [
    "dir(cd)"
   ]
  },
  {
   "cell_type": "code",
   "execution_count": 5,
   "id": "d324b78e-4e5a-4c96-b3dc-e54dc256264c",
   "metadata": {
    "execution": {
     "iopub.execute_input": "2023-08-27T06:45:23.710373Z",
     "iopub.status.busy": "2023-08-27T06:45:23.710373Z",
     "iopub.status.idle": "2023-08-27T06:45:23.720257Z",
     "shell.execute_reply": "2023-08-27T06:45:23.719264Z",
     "shell.execute_reply.started": "2023-08-27T06:45:23.710373Z"
    }
   },
   "outputs": [
    {
     "data": {
      "text/plain": [
       "['PYTHONTOOLSDIR',\n",
       " '__builtins__',\n",
       " '__cached__',\n",
       " '__doc__',\n",
       " '__file__',\n",
       " '__loader__',\n",
       " '__name__',\n",
       " '__package__',\n",
       " '__spec__',\n",
       " 'area_cent',\n",
       " 'cd',\n",
       " 'clocal_area',\n",
       " 'launch_mapdl',\n",
       " 'mapdl',\n",
       " 'np',\n",
       " 'paraimport',\n",
       " 'pd',\n",
       " 'pv',\n",
       " 'sys']"
      ]
     },
     "execution_count": 5,
     "metadata": {},
     "output_type": "execute_result"
    }
   ],
   "source": [
    "dir(pre)"
   ]
  },
  {
   "cell_type": "code",
   "execution_count": 6,
   "id": "89d9b547-8f2d-4039-b215-38a83f9dc38b",
   "metadata": {
    "execution": {
     "iopub.execute_input": "2023-08-27T06:45:24.580149Z",
     "iopub.status.busy": "2023-08-27T06:45:24.579501Z",
     "iopub.status.idle": "2023-08-27T06:45:24.590021Z",
     "shell.execute_reply": "2023-08-27T06:45:24.588214Z",
     "shell.execute_reply.started": "2023-08-27T06:45:24.580149Z"
    }
   },
   "outputs": [],
   "source": [
    "# help(cd)"
   ]
  },
  {
   "cell_type": "code",
   "execution_count": 7,
   "id": "091cfe2c-1cf2-4bb4-b62f-43aa3c451f31",
   "metadata": {
    "execution": {
     "iopub.execute_input": "2023-08-27T06:45:25.238015Z",
     "iopub.status.busy": "2023-08-27T06:45:25.238015Z",
     "iopub.status.idle": "2023-08-27T06:45:25.250228Z",
     "shell.execute_reply": "2023-08-27T06:45:25.250016Z",
     "shell.execute_reply.started": "2023-08-27T06:45:25.238015Z"
    }
   },
   "outputs": [
    {
     "name": "stdout",
     "output_type": "stream",
     "text": [
      "Import a parametric solid into a APDL and create component.\n",
      "\n",
      "    Args:\n",
      "        paraname (str): The name of the parametric solid.\n",
      "        parapath (str): The path to the parametric solid file.\n",
      "        cmname (str): The name of the component to create in the APDL\n",
      "\n",
      "    Returns:\n",
      "        None.\n",
      "\n",
      "    \n"
     ]
    }
   ],
   "source": [
    "print(pre.paraimport.__doc__)"
   ]
  },
  {
   "cell_type": "code",
   "execution_count": 8,
   "id": "94066ce7-0ed0-4c83-a04f-c6ec0fda057c",
   "metadata": {
    "execution": {
     "iopub.execute_input": "2023-08-27T06:45:26.292275Z",
     "iopub.status.busy": "2023-08-27T06:45:26.292275Z",
     "iopub.status.idle": "2023-08-27T06:45:26.302287Z",
     "shell.execute_reply": "2023-08-27T06:45:26.301339Z",
     "shell.execute_reply.started": "2023-08-27T06:45:26.292275Z"
    }
   },
   "outputs": [
    {
     "name": "stdout",
     "output_type": "stream",
     "text": [
      "This function takes a list of area numbers as input and returns the centroid of the areas.\n",
      "\n",
      "    The centroid is calculated by first summing the x, y, and z coordinates of all the areas in the list.\n",
      "    The average of these sums is then returned as the centroid.\n",
      "\n",
      "    Args:\n",
      "        a_num (list):list of area numbers\n",
      "\n",
      "    Returns:\n",
      "        List of the centroid coordinate x, y, and z \n",
      "\n",
      "    \n"
     ]
    }
   ],
   "source": [
    "print(pre.area_cent.__doc__)"
   ]
  },
  {
   "cell_type": "code",
   "execution_count": 9,
   "id": "d5a084ad-77c0-4569-9c14-6407b08d7484",
   "metadata": {
    "execution": {
     "iopub.execute_input": "2023-08-27T06:45:27.030772Z",
     "iopub.status.busy": "2023-08-27T06:45:27.030250Z",
     "iopub.status.idle": "2023-08-27T06:45:27.036082Z",
     "shell.execute_reply": "2023-08-27T06:45:27.035147Z",
     "shell.execute_reply.started": "2023-08-27T06:45:27.030772Z"
    }
   },
   "outputs": [],
   "source": [
    "mapdl = pre.mapdl"
   ]
  },
  {
   "cell_type": "markdown",
   "id": "f961f35d-7aab-43d7-b074-84e4d62a71d4",
   "metadata": {},
   "source": [
    "## Setting working directory and jobname"
   ]
  },
  {
   "cell_type": "code",
   "execution_count": 10,
   "id": "547f58da-0fc6-4acd-8c9c-c655b11af784",
   "metadata": {
    "execution": {
     "iopub.execute_input": "2023-08-27T06:45:28.696615Z",
     "iopub.status.busy": "2023-08-27T06:45:28.696615Z",
     "iopub.status.idle": "2023-08-27T06:45:28.931151Z",
     "shell.execute_reply": "2023-08-27T06:45:28.930159Z",
     "shell.execute_reply.started": "2023-08-27T06:45:28.696615Z"
    }
   },
   "outputs": [
    {
     "data": {
      "text/plain": [
       "CLEAR MAPDL DATABASE AND RESTART\n",
       "\n",
       " Ansys Mechanical Enterprise"
      ]
     },
     "execution_count": 10,
     "metadata": {},
     "output_type": "execute_result"
    }
   ],
   "source": [
    "mapdl.db.clear()"
   ]
  },
  {
   "cell_type": "code",
   "execution_count": 11,
   "id": "5d9620cf-45b4-4f26-9558-928d0ced5165",
   "metadata": {
    "execution": {
     "iopub.execute_input": "2023-08-27T06:45:30.906047Z",
     "iopub.status.busy": "2023-08-27T06:45:30.906047Z",
     "iopub.status.idle": "2023-08-27T06:45:31.807846Z",
     "shell.execute_reply": "2023-08-27T06:45:31.807113Z",
     "shell.execute_reply.started": "2023-08-27T06:45:30.906047Z"
    }
   },
   "outputs": [
    {
     "data": {
      "text/plain": [
       "CURRENT JOBNAME REDEFINED AS MDT\n",
       "     Opening new LOG, ERROR, LOCK and PAGE FILES"
      ]
     },
     "execution_count": 11,
     "metadata": {},
     "output_type": "execute_result"
    }
   ],
   "source": [
    "# dirpath=\"K:\\\\Users\\\\pramod.kumar\\\\Sandbox\\\\PyAnsys\\\\01\"\n",
    "dirpath = r\"C:\\Users\\pramod.kumar\\Music\\contct_detect\"\n",
    "jobname = \"MDT\"\n",
    "pre.mapdl.cwd(dirpath=dirpath)\n",
    "pre.mapdl.filname(fname=jobname, key=1)"
   ]
  },
  {
   "cell_type": "code",
   "execution_count": 12,
   "id": "72584723-675c-4a20-8e2f-39075596e5a5",
   "metadata": {
    "execution": {
     "iopub.execute_input": "2023-08-27T06:45:31.837170Z",
     "iopub.status.busy": "2023-08-27T06:45:31.837170Z",
     "iopub.status.idle": "2023-08-27T06:45:31.854721Z",
     "shell.execute_reply": "2023-08-27T06:45:31.853029Z",
     "shell.execute_reply.started": "2023-08-27T06:45:31.837170Z"
    }
   },
   "outputs": [],
   "source": [
    "# q = mapdl.queries\n",
    "# q.vsel(v1)\n",
    "# mapdl.vsel('NONE')\n",
    "# q.vsel(v1)\n",
    "# q.vsel(0)"
   ]
  },
  {
   "cell_type": "code",
   "execution_count": 13,
   "id": "57d12a1e-3239-4176-bc6a-73792a1d93f2",
   "metadata": {
    "execution": {
     "iopub.execute_input": "2023-08-27T06:45:31.856746Z",
     "iopub.status.busy": "2023-08-27T06:45:31.855750Z",
     "iopub.status.idle": "2023-08-27T06:45:31.870573Z",
     "shell.execute_reply": "2023-08-27T06:45:31.868801Z",
     "shell.execute_reply.started": "2023-08-27T06:45:31.856746Z"
    }
   },
   "outputs": [
    {
     "data": {
      "text/plain": [
       "TITLE= \n",
       " Contact Detect Trial"
      ]
     },
     "execution_count": 13,
     "metadata": {},
     "output_type": "execute_result"
    }
   ],
   "source": [
    "mapdl.title(title=\"Contact Detect Trial\")"
   ]
  },
  {
   "cell_type": "code",
   "execution_count": 14,
   "id": "dd74eef5-4c4e-48c0-b58e-df630c102ce0",
   "metadata": {
    "execution": {
     "iopub.execute_input": "2023-08-27T06:45:32.538911Z",
     "iopub.status.busy": "2023-08-27T06:45:32.538911Z",
     "iopub.status.idle": "2023-08-27T06:45:32.551116Z",
     "shell.execute_reply": "2023-08-27T06:45:32.550952Z",
     "shell.execute_reply.started": "2023-08-27T06:45:32.538911Z"
    }
   },
   "outputs": [],
   "source": [
    "# mapdl.stitle(nline=1, title='Detect')"
   ]
  },
  {
   "cell_type": "code",
   "execution_count": 15,
   "id": "ed7a3f42-594f-4444-bc72-664982a323c2",
   "metadata": {
    "execution": {
     "iopub.execute_input": "2023-08-27T06:45:33.154025Z",
     "iopub.status.busy": "2023-08-27T06:45:33.154025Z",
     "iopub.status.idle": "2023-08-27T06:45:33.169783Z",
     "shell.execute_reply": "2023-08-27T06:45:33.169170Z",
     "shell.execute_reply.started": "2023-08-27T06:45:33.154025Z"
    }
   },
   "outputs": [],
   "source": [
    "# mapdl.stitle(nline='2', title='Test')"
   ]
  },
  {
   "cell_type": "code",
   "execution_count": 16,
   "id": "24019c64-e908-4d09-88d1-6b1b9f634bbd",
   "metadata": {
    "execution": {
     "iopub.execute_input": "2023-08-27T06:45:33.387173Z",
     "iopub.status.busy": "2023-08-27T06:45:33.387173Z",
     "iopub.status.idle": "2023-08-27T06:45:33.420564Z",
     "shell.execute_reply": "2023-08-27T06:45:33.419397Z",
     "shell.execute_reply.started": "2023-08-27T06:45:33.387173Z"
    }
   },
   "outputs": [],
   "source": [
    "# mapdl.stitle(nline='3', title='Trial')"
   ]
  },
  {
   "cell_type": "code",
   "execution_count": 17,
   "id": "1b2407aa-3621-440a-a5c7-d8147442e673",
   "metadata": {
    "execution": {
     "iopub.execute_input": "2023-08-27T06:45:34.403756Z",
     "iopub.status.busy": "2023-08-27T06:45:34.403756Z",
     "iopub.status.idle": "2023-08-27T06:45:34.420090Z",
     "shell.execute_reply": "2023-08-27T06:45:34.419225Z",
     "shell.execute_reply.started": "2023-08-27T06:45:34.403756Z"
    }
   },
   "outputs": [
    {
     "data": {
      "text/plain": [
       "*** MAPDL - ENGINEERING ANALYSIS SYSTEM  RELEASE 2022 R2          22.2     ***\n",
       " Ansys Mechanical Enterprise                       \n",
       " 00000000  VERSION=WINDOWS x64   12:15:34  AUG 27, 2023 CP=      0.859\n",
       "\n",
       " Contact Detect Trial                                                          \n",
       "\n",
       "\n",
       "\n",
       "          ***** MAPDL ANALYSIS DEFINITION (PREP7) *****"
      ]
     },
     "execution_count": 17,
     "metadata": {},
     "output_type": "execute_result"
    }
   ],
   "source": [
    "mapdl.prep7()"
   ]
  },
  {
   "cell_type": "code",
   "execution_count": 18,
   "id": "9c8699b6-6c61-40b2-b612-6227b771af3c",
   "metadata": {
    "execution": {
     "iopub.execute_input": "2023-08-27T06:45:34.920337Z",
     "iopub.status.busy": "2023-08-27T06:45:34.920337Z",
     "iopub.status.idle": "2023-08-27T06:45:34.952807Z",
     "shell.execute_reply": "2023-08-27T06:45:34.951621Z",
     "shell.execute_reply.started": "2023-08-27T06:45:34.920337Z"
    }
   },
   "outputs": [
    {
     "name": "stdout",
     "output_type": "stream",
     "text": [
      "22.2\n",
      "C:/Users/pramod.kumar/Music/contct_detect\n",
      "MDT\n"
     ]
    }
   ],
   "source": [
    "print(mapdl.version)\n",
    "print(mapdl.directory)\n",
    "print(mapdl.jobname)"
   ]
  },
  {
   "cell_type": "markdown",
   "id": "7071483d-1746-42a9-b1a6-c130f72f6d71",
   "metadata": {},
   "source": [
    "## Imprting parasolid and creating cm"
   ]
  },
  {
   "cell_type": "code",
   "execution_count": 19,
   "id": "9c5625b8-0198-4464-b6b1-a51440801017",
   "metadata": {
    "execution": {
     "iopub.execute_input": "2023-08-27T06:45:36.869550Z",
     "iopub.status.busy": "2023-08-27T06:45:36.869550Z",
     "iopub.status.idle": "2023-08-27T06:45:41.204009Z",
     "shell.execute_reply": "2023-08-27T06:45:41.203016Z",
     "shell.execute_reply.started": "2023-08-27T06:45:36.869550Z"
    }
   },
   "outputs": [
    {
     "name": "stdout",
     "output_type": "stream",
     "text": [
      "Body1 imported as component part1 with vlum num [1]\n"
     ]
    }
   ],
   "source": [
    "cmname = \"part1\"\n",
    "paraname = \"Body1\"\n",
    "parapath = (\n",
    "    r\"C:\\Users\\pramod.kumar\\OneDrive - SIEMENSGAMESA\\Work\\ContactDetect\\pyAnsysMAPDL\"\n",
    ")\n",
    "pre.paraimport(paraname, parapath, cmname)"
   ]
  },
  {
   "cell_type": "code",
   "execution_count": 20,
   "id": "6bba2c16-0745-466f-b341-53122eff5720",
   "metadata": {
    "execution": {
     "iopub.execute_input": "2023-08-27T06:45:41.205010Z",
     "iopub.status.busy": "2023-08-27T06:45:41.205010Z",
     "iopub.status.idle": "2023-08-27T06:45:45.009947Z",
     "shell.execute_reply": "2023-08-27T06:45:45.008953Z",
     "shell.execute_reply.started": "2023-08-27T06:45:41.205010Z"
    }
   },
   "outputs": [
    {
     "name": "stdout",
     "output_type": "stream",
     "text": [
      "Body2 imported as component part2 with vlum num [2]\n"
     ]
    }
   ],
   "source": [
    "cmname = \"part2\"\n",
    "paraname = \"Body2\"\n",
    "parapath = (\n",
    "    r\"C:\\Users\\pramod.kumar\\OneDrive - SIEMENSGAMESA\\Work\\ContactDetect\\pyAnsysMAPDL\"\n",
    ")\n",
    "pre.paraimport(paraname, parapath, cmname)"
   ]
  },
  {
   "cell_type": "code",
   "execution_count": 21,
   "id": "a62b53a4-723e-40fd-9bc4-923acae7373d",
   "metadata": {
    "execution": {
     "iopub.execute_input": "2023-08-27T06:45:45.010948Z",
     "iopub.status.busy": "2023-08-27T06:45:45.010948Z",
     "iopub.status.idle": "2023-08-27T06:45:48.914531Z",
     "shell.execute_reply": "2023-08-27T06:45:48.913538Z",
     "shell.execute_reply.started": "2023-08-27T06:45:45.010948Z"
    }
   },
   "outputs": [
    {
     "name": "stdout",
     "output_type": "stream",
     "text": [
      "Body3 imported as component part3 with vlum num [3]\n"
     ]
    }
   ],
   "source": [
    "cmname = \"part3\"\n",
    "paraname = \"Body3\"\n",
    "parapath = (\n",
    "    r\"C:\\Users\\pramod.kumar\\OneDrive - SIEMENSGAMESA\\Work\\ContactDetect\\pyAnsysMAPDL\"\n",
    ")\n",
    "pre.paraimport(paraname, parapath, cmname)"
   ]
  },
  {
   "cell_type": "code",
   "execution_count": 22,
   "id": "6d1b3d12-b5a3-4b54-bc76-d3cf3835cb9c",
   "metadata": {
    "execution": {
     "iopub.execute_input": "2023-08-27T06:45:48.916811Z",
     "iopub.status.busy": "2023-08-27T06:45:48.916253Z",
     "iopub.status.idle": "2023-08-27T06:45:52.752559Z",
     "shell.execute_reply": "2023-08-27T06:45:52.752478Z",
     "shell.execute_reply.started": "2023-08-27T06:45:48.916811Z"
    }
   },
   "outputs": [
    {
     "name": "stdout",
     "output_type": "stream",
     "text": [
      "Body4 imported as component part4 with vlum num [4]\n"
     ]
    }
   ],
   "source": [
    "cmname = \"part4\"\n",
    "paraname = \"Body4\"\n",
    "parapathath = (\n",
    "    r\"C:\\Users\\pramod.kumar\\OneDrive - SIEMENSGAMESA\\Work\\ContactDetect\\pyAnsysMAPDL\"\n",
    ")\n",
    "pre.paraimport(paraname, parapath, cmname)"
   ]
  },
  {
   "cell_type": "code",
   "execution_count": 23,
   "id": "98db39d8-9ba5-4eb6-bd94-44ecc4d2b0ea",
   "metadata": {
    "execution": {
     "iopub.execute_input": "2023-08-27T06:45:52.754925Z",
     "iopub.status.busy": "2023-08-27T06:45:52.754044Z",
     "iopub.status.idle": "2023-08-27T06:45:56.592817Z",
     "shell.execute_reply": "2023-08-27T06:45:56.591824Z",
     "shell.execute_reply.started": "2023-08-27T06:45:52.754925Z"
    }
   },
   "outputs": [
    {
     "name": "stdout",
     "output_type": "stream",
     "text": [
      "Body5 imported as component part5 with vlum num [5]\n"
     ]
    }
   ],
   "source": [
    "cmname = \"part5\"\n",
    "paraname = \"Body5\"\n",
    "parapath = (\n",
    "    r\"C:\\Users\\pramod.kumar\\OneDrive - SIEMENSGAMESA\\Work\\ContactDetect\\pyAnsysMAPDL\"\n",
    ")\n",
    "pre.paraimport(paraname, parapath, cmname)"
   ]
  },
  {
   "cell_type": "code",
   "execution_count": 24,
   "id": "b3504aff-f01a-4e5b-a071-90f21615efc7",
   "metadata": {
    "execution": {
     "iopub.execute_input": "2023-08-27T06:45:56.600169Z",
     "iopub.status.busy": "2023-08-27T06:45:56.599549Z",
     "iopub.status.idle": "2023-08-27T06:46:04.053802Z",
     "shell.execute_reply": "2023-08-27T06:46:04.052741Z",
     "shell.execute_reply.started": "2023-08-27T06:45:56.600169Z"
    }
   },
   "outputs": [
    {
     "name": "stdout",
     "output_type": "stream",
     "text": [
      "Body6 imported as component part6 with vlum num [6]\n"
     ]
    }
   ],
   "source": [
    "cmname = \"part6\"\n",
    "paraname = \"Body6\"\n",
    "parapath = (\n",
    "    r\"C:\\Users\\pramod.kumar\\OneDrive - SIEMENSGAMESA\\Work\\ContactDetect\\pyAnsysMAPDL\"\n",
    ")\n",
    "pre.paraimport(paraname, parapath, cmname)"
   ]
  },
  {
   "cell_type": "code",
   "execution_count": 25,
   "id": "638ddd37-e324-4d3d-8bbc-675b73d496c1",
   "metadata": {
    "execution": {
     "iopub.execute_input": "2023-08-27T06:46:04.061780Z",
     "iopub.status.busy": "2023-08-27T06:46:04.061780Z",
     "iopub.status.idle": "2023-08-27T06:46:04.083802Z",
     "shell.execute_reply": "2023-08-27T06:46:04.083306Z",
     "shell.execute_reply.started": "2023-08-27T06:46:04.061780Z"
    }
   },
   "outputs": [
    {
     "data": {
      "text/plain": [
       "PLOTTING DEFAULTS RESET"
      ]
     },
     "execution_count": 25,
     "metadata": {},
     "output_type": "execute_result"
    }
   ],
   "source": [
    "mapdl.reset()"
   ]
  },
  {
   "cell_type": "code",
   "execution_count": 26,
   "id": "f9c96408-bb16-4004-91e0-da36b4003f5f",
   "metadata": {
    "execution": {
     "iopub.execute_input": "2023-08-26T23:56:11.600064Z",
     "iopub.status.busy": "2023-08-26T23:56:11.600064Z",
     "iopub.status.idle": "2023-08-26T23:56:11.614326Z",
     "shell.execute_reply": "2023-08-26T23:56:11.614099Z",
     "shell.execute_reply.started": "2023-08-26T23:56:11.600064Z"
    }
   },
   "outputs": [
    {
     "data": {
      "text/plain": [
       "*** NOTE *** Display device has not yet been specified with the /SHOW command.  Display commands ignored."
      ]
     },
     "execution_count": 26,
     "metadata": {},
     "output_type": "execute_result"
    }
   ],
   "source": [
    "mapdl.replot()"
   ]
  },
  {
   "cell_type": "code",
   "execution_count": 27,
   "id": "fbe58f52-4467-49a0-8c5f-b12583f749be",
   "metadata": {
    "execution": {
     "iopub.execute_input": "2023-08-26T23:56:12.239772Z",
     "iopub.status.busy": "2023-08-26T23:56:12.238666Z",
     "iopub.status.idle": "2023-08-26T23:56:12.253198Z",
     "shell.execute_reply": "2023-08-26T23:56:12.251461Z",
     "shell.execute_reply.started": "2023-08-26T23:56:12.239772Z"
    }
   },
   "outputs": [
    {
     "data": {
      "text/plain": [
       "You have already entered the general preprocessor (PREP7)."
      ]
     },
     "execution_count": 27,
     "metadata": {},
     "output_type": "execute_result"
    }
   ],
   "source": [
    "mapdl.prep7()"
   ]
  },
  {
   "cell_type": "code",
   "execution_count": 26,
   "id": "074dbafc-03e3-47fc-a76c-62e5120c34bd",
   "metadata": {
    "execution": {
     "iopub.execute_input": "2023-08-27T06:46:09.004987Z",
     "iopub.status.busy": "2023-08-27T06:46:09.003589Z",
     "iopub.status.idle": "2023-08-27T06:46:09.036094Z",
     "shell.execute_reply": "2023-08-27T06:46:09.035166Z",
     "shell.execute_reply.started": "2023-08-27T06:46:09.003589Z"
    }
   },
   "outputs": [
    {
     "data": {
      "text/plain": [
       "SAVE ALL MODEL, SOLUTION AND POST DATA.\n",
       "\n",
       " ALL CURRENT MAPDL DATA WRITTEN TO FILE NAME= EOF_import.db\n",
       "  FOR POSSIBLE RESUME FROM THIS POINT"
      ]
     },
     "execution_count": 26,
     "metadata": {},
     "output_type": "execute_result"
    }
   ],
   "source": [
    "mapdl.db.save(\"EOF_import.db\")"
   ]
  },
  {
   "cell_type": "markdown",
   "id": "e29c7464-492d-48b7-90c4-fa5e9374266a",
   "metadata": {},
   "source": [
    "## Volume, area, line and keypoint selection from cm"
   ]
  },
  {
   "cell_type": "markdown",
   "id": "0dd3d847-04c9-4938-91b4-ac40a854c3d1",
   "metadata": {},
   "source": [
    "### cmlist all and cm"
   ]
  },
  {
   "cell_type": "markdown",
   "id": "e26dfb09-439f-4efe-bf31-d62713149d67",
   "metadata": {},
   "source": [
    "**All component**"
   ]
  },
  {
   "cell_type": "code",
   "execution_count": 16,
   "id": "f5abe0b0-e341-48b6-b74a-435704d5f220",
   "metadata": {
    "execution": {
     "iopub.execute_input": "2023-08-26T17:50:20.354637Z",
     "iopub.status.busy": "2023-08-26T17:50:20.353990Z",
     "iopub.status.idle": "2023-08-26T17:50:20.371100Z",
     "shell.execute_reply": "2023-08-26T17:50:20.369194Z",
     "shell.execute_reply.started": "2023-08-26T17:50:20.354637Z"
    }
   },
   "outputs": [
    {
     "data": {
      "text/plain": [
       "LIST SELECTED COMPONENTS\n",
       " ENTITY TYPE = VOLU\n",
       "\n",
       " *** MAPDL - ENGINEERING ANALYSIS SYSTEM  RELEASE 2022 R2          22.2     ***\n",
       " Ansys Mechanical Enterprise                       \n",
       " 00000000  VERSION=WINDOWS x64   23:20:20  AUG 26, 2023 CP=      2.906\n",
       "\n",
       "  File: C:\\Users\\pramod.kumar\\OneDrive - SIEMENSGAMESA\\Work\\ContactDetect\\pyAns\n",
       "\n",
       "\n",
       "\n",
       "    NAME                            SELE TYPE      SUBCOMPONENTS\n",
       "\n",
       "  PART1                             NO   VOLU\n",
       "                                               1\n",
       "  PART2                             NO   VOLU\n",
       "                                               2\n",
       "  PART3                             NO   VOLU\n",
       "                                               3\n",
       "  PART4                             NO   VOLU\n",
       "                                               4\n",
       "  PART5                             NO   VOLU\n",
       "                                               5\n",
       "  PART6                             YES  VOLU\n",
       "                                               6"
      ]
     },
     "execution_count": 16,
     "metadata": {},
     "output_type": "execute_result"
    }
   ],
   "source": [
    "mapdl.cmlist(name=\"ALL\", key=1, entity=\"VOLU\")"
   ]
  },
  {
   "cell_type": "markdown",
   "id": "c093ad79-f752-44c3-bafb-6bca98d25b15",
   "metadata": {},
   "source": [
    "**Active component**"
   ]
  },
  {
   "cell_type": "code",
   "execution_count": 17,
   "id": "0da3ec2e-cd6f-4acd-a357-0773deab540d",
   "metadata": {
    "execution": {
     "iopub.execute_input": "2023-08-26T17:50:28.845173Z",
     "iopub.status.busy": "2023-08-26T17:50:28.845173Z",
     "iopub.status.idle": "2023-08-26T17:50:28.856198Z",
     "shell.execute_reply": "2023-08-26T17:50:28.854827Z",
     "shell.execute_reply.started": "2023-08-26T17:50:28.845173Z"
    }
   },
   "outputs": [
    {
     "data": {
      "text/plain": [
       "LIST SELECTED COMPONENTS\n",
       " ENTITY TYPE = VOLU\n",
       "\n",
       " *** MAPDL - ENGINEERING ANALYSIS SYSTEM  RELEASE 2022 R2          22.2     ***\n",
       " Ansys Mechanical Enterprise                       \n",
       " 00000000  VERSION=WINDOWS x64   23:20:28  AUG 26, 2023 CP=      2.906\n",
       "\n",
       "  File: C:\\Users\\pramod.kumar\\OneDrive - SIEMENSGAMESA\\Work\\ContactDetect\\pyAns\n",
       "\n",
       "\n",
       "\n",
       "    NAME                            TYPE      SUBCOMPONENTS\n",
       "\n",
       "  PART6                             VOLU\n",
       "                                          6"
      ]
     },
     "execution_count": 17,
     "metadata": {},
     "output_type": "execute_result"
    }
   ],
   "source": [
    "mapdl.cmlist(name=\"\", key=1, entity=\"VOLU\")"
   ]
  },
  {
   "cell_type": "code",
   "execution_count": 18,
   "id": "db49e265-fd56-48bc-add4-fabd5414f5e1",
   "metadata": {
    "execution": {
     "iopub.execute_input": "2023-08-26T17:50:35.337601Z",
     "iopub.status.busy": "2023-08-26T17:50:35.337601Z",
     "iopub.status.idle": "2023-08-26T17:50:35.361792Z",
     "shell.execute_reply": "2023-08-26T17:50:35.361256Z",
     "shell.execute_reply.started": "2023-08-26T17:50:35.337601Z"
    }
   },
   "outputs": [
    {
     "name": "stdout",
     "output_type": "stream",
     "text": [
      "[6]\n"
     ]
    }
   ],
   "source": [
    "vlist = mapdl.geometry.vnum\n",
    "print(vlist)"
   ]
  },
  {
   "cell_type": "markdown",
   "id": "d5112fda-b660-4c1c-aee8-c3e5d19afb0d",
   "metadata": {},
   "source": [
    "---"
   ]
  },
  {
   "cell_type": "markdown",
   "id": "b062a929-64c6-447e-8f78-281b813282a0",
   "metadata": {},
   "source": [
    "### component selection"
   ]
  },
  {
   "cell_type": "code",
   "execution_count": 19,
   "id": "21f705b4-bd92-4de5-97e2-01bcbe2bad07",
   "metadata": {
    "execution": {
     "iopub.execute_input": "2023-08-26T17:50:41.525961Z",
     "iopub.status.busy": "2023-08-26T17:50:41.525961Z",
     "iopub.status.idle": "2023-08-26T17:50:41.554083Z",
     "shell.execute_reply": "2023-08-26T17:50:41.553859Z",
     "shell.execute_reply.started": "2023-08-26T17:50:41.525961Z"
    }
   },
   "outputs": [
    {
     "data": {
      "text/plain": [
       "LIST SELECTED COMPONENTS\n",
       " ENTITY TYPE = VOLU\n",
       "\n",
       " *** MAPDL - ENGINEERING ANALYSIS SYSTEM  RELEASE 2022 R2          22.2     ***\n",
       " Ansys Mechanical Enterprise                       \n",
       " 00000000  VERSION=WINDOWS x64   23:20:41  AUG 26, 2023 CP=      2.938\n",
       "\n",
       "  File: C:\\Users\\pramod.kumar\\OneDrive - SIEMENSGAMESA\\Work\\ContactDetect\\pyAns\n",
       "\n",
       "\n",
       "\n",
       "    NAME                            TYPE      SUBCOMPONENTS\n",
       "\n",
       "  PART1                             VOLU\n",
       "                                          1"
      ]
     },
     "execution_count": 19,
     "metadata": {},
     "output_type": "execute_result"
    }
   ],
   "source": [
    "mapdl.cmsel(type_=\"S\", name=\"PART1\", entity=\"VOLU\")\n",
    "mapdl.cmlist(name=\"\", key=1, entity=\"VOLU\")"
   ]
  },
  {
   "cell_type": "code",
   "execution_count": 20,
   "id": "2a722e60-d102-45a9-8890-3918c7782ea6",
   "metadata": {
    "execution": {
     "iopub.execute_input": "2023-08-26T17:50:46.439317Z",
     "iopub.status.busy": "2023-08-26T17:50:46.438324Z",
     "iopub.status.idle": "2023-08-26T17:50:46.451880Z",
     "shell.execute_reply": "2023-08-26T17:50:46.450401Z",
     "shell.execute_reply.started": "2023-08-26T17:50:46.439317Z"
    }
   },
   "outputs": [
    {
     "name": "stdout",
     "output_type": "stream",
     "text": [
      "[1]\n"
     ]
    }
   ],
   "source": [
    "vlist = mapdl.geometry.vnum\n",
    "print(vlist)"
   ]
  },
  {
   "cell_type": "markdown",
   "id": "21c67dee-08b7-4da5-ad96-f6d6df646383",
   "metadata": {},
   "source": [
    "---"
   ]
  },
  {
   "cell_type": "markdown",
   "id": "d4691338-2291-49d1-9bca-146271fed35e",
   "metadata": {},
   "source": [
    "### allsel"
   ]
  },
  {
   "cell_type": "code",
   "execution_count": 19,
   "id": "3d63e94c-e07c-4d59-8a33-79b30732d9e3",
   "metadata": {
    "execution": {
     "iopub.execute_input": "2023-08-26T18:23:16.431436Z",
     "iopub.status.busy": "2023-08-26T18:23:16.430336Z",
     "iopub.status.idle": "2023-08-26T18:23:16.447772Z",
     "shell.execute_reply": "2023-08-26T18:23:16.447276Z",
     "shell.execute_reply.started": "2023-08-26T18:23:16.431436Z"
    }
   },
   "outputs": [
    {
     "data": {
      "text/plain": [
       "ALSO SELECT ALL COMPONENTS"
      ]
     },
     "execution_count": 19,
     "metadata": {},
     "output_type": "execute_result"
    }
   ],
   "source": [
    "mapdl.cmsel(\"ALL\")"
   ]
  },
  {
   "cell_type": "code",
   "execution_count": 20,
   "id": "2ab56ea1-66f1-4714-a9ee-d0acff23dc92",
   "metadata": {
    "execution": {
     "iopub.execute_input": "2023-08-26T18:23:17.765369Z",
     "iopub.status.busy": "2023-08-26T18:23:17.765369Z",
     "iopub.status.idle": "2023-08-26T18:23:17.782811Z",
     "shell.execute_reply": "2023-08-26T18:23:17.781785Z",
     "shell.execute_reply.started": "2023-08-26T18:23:17.765369Z"
    }
   },
   "outputs": [
    {
     "name": "stdout",
     "output_type": "stream",
     "text": [
      "[1 2 3 4 5 6]\n"
     ]
    }
   ],
   "source": [
    "vlist = mapdl.geometry.vnum\n",
    "print(vlist)"
   ]
  },
  {
   "cell_type": "markdown",
   "id": "0cb2ca32-8ecd-4333-91cd-b21c6514042d",
   "metadata": {},
   "source": [
    "---"
   ]
  },
  {
   "cell_type": "code",
   "execution_count": 21,
   "id": "b8af7a05-b69d-4cda-88ee-c452cef256b2",
   "metadata": {
    "execution": {
     "iopub.execute_input": "2023-08-25T19:01:45.538267Z",
     "iopub.status.busy": "2023-08-25T19:01:45.537312Z",
     "iopub.status.idle": "2023-08-25T19:01:45.557419Z",
     "shell.execute_reply": "2023-08-25T19:01:45.556043Z",
     "shell.execute_reply.started": "2023-08-25T19:01:45.538267Z"
    }
   },
   "outputs": [
    {
     "data": {
      "text/plain": [
       "SELECT ALL ENTITIES OF TYPE= ALL  AND BELOW"
      ]
     },
     "execution_count": 21,
     "metadata": {},
     "output_type": "execute_result"
    }
   ],
   "source": [
    "mapdl.allsel(labt=\"ALL\", entity=\"ALL\")"
   ]
  },
  {
   "cell_type": "code",
   "execution_count": 22,
   "id": "66876f8e-0950-4332-b2fb-35125cbc7629",
   "metadata": {
    "execution": {
     "iopub.execute_input": "2023-08-25T19:01:45.781562Z",
     "iopub.status.busy": "2023-08-25T19:01:45.781562Z",
     "iopub.status.idle": "2023-08-25T19:01:45.804403Z",
     "shell.execute_reply": "2023-08-25T19:01:45.803907Z",
     "shell.execute_reply.started": "2023-08-25T19:01:45.781562Z"
    }
   },
   "outputs": [
    {
     "name": "stdout",
     "output_type": "stream",
     "text": [
      "[1 2 3 4 5 6]\n"
     ]
    }
   ],
   "source": [
    "vlist = mapdl.geometry.vnum\n",
    "print(vlist)"
   ]
  },
  {
   "cell_type": "code",
   "execution_count": 23,
   "id": "0e0138c1-1672-451c-993e-2b7893ee83dd",
   "metadata": {
    "execution": {
     "iopub.execute_input": "2023-08-25T19:01:46.002351Z",
     "iopub.status.busy": "2023-08-25T19:01:46.002351Z",
     "iopub.status.idle": "2023-08-25T19:01:46.007575Z",
     "shell.execute_reply": "2023-08-25T19:01:46.007411Z",
     "shell.execute_reply.started": "2023-08-25T19:01:46.002351Z"
    }
   },
   "outputs": [
    {
     "data": {
      "text/plain": [
       "6"
      ]
     },
     "execution_count": 23,
     "metadata": {},
     "output_type": "execute_result"
    }
   ],
   "source": [
    "vlist.max()"
   ]
  },
  {
   "cell_type": "markdown",
   "id": "c521dae0-652f-44ba-9f4a-710416fa21f3",
   "metadata": {},
   "source": [
    "---"
   ]
  },
  {
   "cell_type": "code",
   "execution_count": 24,
   "id": "0e1d43ed-ed14-4c16-8c32-581a2c21e236",
   "metadata": {
    "execution": {
     "iopub.execute_input": "2023-08-25T19:01:46.422733Z",
     "iopub.status.busy": "2023-08-25T19:01:46.420786Z",
     "iopub.status.idle": "2023-08-25T19:01:46.443741Z",
     "shell.execute_reply": "2023-08-25T19:01:46.442645Z",
     "shell.execute_reply.started": "2023-08-25T19:01:46.422733Z"
    }
   },
   "outputs": [
    {
     "data": {
      "text/plain": [
       "SELECT      COMPONENT PART1"
      ]
     },
     "execution_count": 24,
     "metadata": {},
     "output_type": "execute_result"
    }
   ],
   "source": [
    "mapdl.cmsel(type_=\"S\", name=\"PART1\", entity=\"VOLU\")"
   ]
  },
  {
   "cell_type": "code",
   "execution_count": 25,
   "id": "7f88b11f-ee60-48e3-a323-73f93716c350",
   "metadata": {
    "execution": {
     "iopub.execute_input": "2023-08-25T19:01:47.671828Z",
     "iopub.status.busy": "2023-08-25T19:01:47.671828Z",
     "iopub.status.idle": "2023-08-25T19:01:47.683071Z",
     "shell.execute_reply": "2023-08-25T19:01:47.682797Z",
     "shell.execute_reply.started": "2023-08-25T19:01:47.671828Z"
    }
   },
   "outputs": [],
   "source": [
    "# mapdl.vplot()"
   ]
  },
  {
   "cell_type": "code",
   "execution_count": 26,
   "id": "97ac47ba-0e06-4f58-a9fe-65980442ff3d",
   "metadata": {
    "execution": {
     "iopub.execute_input": "2023-08-25T19:01:47.936253Z",
     "iopub.status.busy": "2023-08-25T19:01:47.935359Z",
     "iopub.status.idle": "2023-08-25T19:01:47.949887Z",
     "shell.execute_reply": "2023-08-25T19:01:47.948722Z",
     "shell.execute_reply.started": "2023-08-25T19:01:47.936253Z"
    }
   },
   "outputs": [],
   "source": [
    "# mapdl.cmplot(label='PART2', entity='VOLU', keyword='') #not working"
   ]
  },
  {
   "cell_type": "code",
   "execution_count": 27,
   "id": "9c33d736-d4ee-4b25-a75c-a069b6fa4cb4",
   "metadata": {
    "execution": {
     "iopub.execute_input": "2023-08-25T19:01:48.175858Z",
     "iopub.status.busy": "2023-08-25T19:01:48.174864Z",
     "iopub.status.idle": "2023-08-25T19:01:48.199943Z",
     "shell.execute_reply": "2023-08-25T19:01:48.197550Z",
     "shell.execute_reply.started": "2023-08-25T19:01:48.175858Z"
    }
   },
   "outputs": [
    {
     "data": {
      "text/plain": [
       "SELECT      COMPONENT PART1"
      ]
     },
     "execution_count": 27,
     "metadata": {},
     "output_type": "execute_result"
    }
   ],
   "source": [
    "mapdl.cmsel(type_=\"S\", name=\"PART1\", entity=\"VOLU\")"
   ]
  },
  {
   "cell_type": "code",
   "execution_count": 28,
   "id": "f0500bbe-c981-46ae-9588-6eea9502ba8e",
   "metadata": {
    "execution": {
     "iopub.execute_input": "2023-08-25T19:01:48.450214Z",
     "iopub.status.busy": "2023-08-25T19:01:48.450214Z",
     "iopub.status.idle": "2023-08-25T19:01:48.459827Z",
     "shell.execute_reply": "2023-08-25T19:01:48.459182Z",
     "shell.execute_reply.started": "2023-08-25T19:01:48.450214Z"
    }
   },
   "outputs": [],
   "source": [
    "# mapdl.alist(\"ALL\")"
   ]
  },
  {
   "cell_type": "code",
   "execution_count": 29,
   "id": "9d047f56-21f9-4ce7-9414-b12c5a599ab6",
   "metadata": {
    "execution": {
     "iopub.execute_input": "2023-08-25T19:01:48.981898Z",
     "iopub.status.busy": "2023-08-25T19:01:48.980944Z",
     "iopub.status.idle": "2023-08-25T19:01:49.004312Z",
     "shell.execute_reply": "2023-08-25T19:01:49.002789Z",
     "shell.execute_reply.started": "2023-08-25T19:01:48.981898Z"
    }
   },
   "outputs": [
    {
     "data": {
      "text/plain": [
       "SELECT ALL ENTITIES ASSOCIATED WITH TYPE= AREA\n",
       "\n",
       " SELECT      LINES ASSOCIATED WITH SELECTED AREAS\n",
       "\n",
       "       72  LINES (OF       72  DEFINED) SELECTED FROM\n",
       "       37 SELECTED AREAS BY  LSLA  COMMAND.\n",
       "\n",
       " SELECT      ALL KEYPOINTS ON ANY LINE IN LINE SET.\n",
       "\n",
       "       50  KEYPOINTS (OF       50  DEFINED) SELECTED FROM \n",
       "       72 SELECTED LINES BY  KSLL  COMMAND.\n",
       "\n",
       " SELECT      ELEMENTS CREATED FROM SELECTED AREAS.\n",
       "\n",
       "          0  ELEMENTS (OF          0  DEFINED) SELECTED FROM\n",
       "       37 SELECTED AREAS BY  ESLA  COMMAND.\n",
       "\n",
       " ALSO SELECT ELEMENTS CREATED FROM SELECTED LINES.\n",
       "\n",
       "          0  ELEMENTS (OF          0  DEFINED) SELECTED FROM       72 SELECTED LINES\n",
       "         BY  ESLL  COMMAND.\n",
       "\n",
       " ALSO SELECT ELEMENTS CREATED FROM SELECTED KEYPOINTS.\n",
       "\n",
       "          0  ELEMENTS (OF          0  DEFINED) SELECTED FROM       50 SELECTED KPTS\n",
       "         BY  ESLK  COMMAND.\n",
       "\n",
       "          0 NODES (OF          0  DEFINED) SELECTED FROM\n",
       "        0 SELECTED ELEMENTS BY NSLE COMMAND."
      ]
     },
     "execution_count": 29,
     "metadata": {},
     "output_type": "execute_result"
    }
   ],
   "source": [
    "mapdl.allsel(labt=\"ALL \", entity=\"AREA\")\n",
    "mapdl.allsel(labt=\"BELOW \", entity=\"AREA\")"
   ]
  },
  {
   "cell_type": "markdown",
   "id": "9a1abcf6-a6d7-4aa2-b3c9-13d90e1aead5",
   "metadata": {},
   "source": [
    "---"
   ]
  },
  {
   "cell_type": "markdown",
   "id": "fe93e8fa-23f3-42a9-8b45-2de36ac4fe96",
   "metadata": {},
   "source": [
    "### Volume selection from component"
   ]
  },
  {
   "cell_type": "code",
   "execution_count": 30,
   "id": "e6b05a04-bb66-4448-a100-d48b54e8ff98",
   "metadata": {
    "execution": {
     "iopub.execute_input": "2023-08-25T19:01:50.196632Z",
     "iopub.status.busy": "2023-08-25T19:01:50.195636Z",
     "iopub.status.idle": "2023-08-25T19:01:50.231060Z",
     "shell.execute_reply": "2023-08-25T19:01:50.230398Z",
     "shell.execute_reply.started": "2023-08-25T19:01:50.196632Z"
    }
   },
   "outputs": [
    {
     "data": {
      "text/plain": [
       "array([1])"
      ]
     },
     "execution_count": 30,
     "metadata": {},
     "output_type": "execute_result"
    }
   ],
   "source": [
    "mapdl.cmsel(type_=\"S\", name=\"PART1\", entity=\"VOLU\")\n",
    "mapdl.allsel(labt=\"BELOW \", entity=\"VOLU\")\n",
    "vlist = mapdl.geometry.vnum\n",
    "vlist"
   ]
  },
  {
   "cell_type": "code",
   "execution_count": 31,
   "id": "69af3d44-5af1-445e-8562-df19df7b6960",
   "metadata": {
    "execution": {
     "iopub.execute_input": "2023-08-25T19:01:50.747675Z",
     "iopub.status.busy": "2023-08-25T19:01:50.746680Z",
     "iopub.status.idle": "2023-08-25T19:01:50.769736Z",
     "shell.execute_reply": "2023-08-25T19:01:50.769736Z",
     "shell.execute_reply.started": "2023-08-25T19:01:50.747675Z"
    }
   },
   "outputs": [
    {
     "data": {
      "text/plain": [
       "array([2])"
      ]
     },
     "execution_count": 31,
     "metadata": {},
     "output_type": "execute_result"
    }
   ],
   "source": [
    "mapdl.cmsel(type_=\"S\", name=\"PART2\", entity=\"VOLU\")\n",
    "mapdl.allsel(labt=\"BELOW \", entity=\"VOLU\")\n",
    "alist = mapdl.geometry.vnum\n",
    "alist"
   ]
  },
  {
   "cell_type": "code",
   "execution_count": 32,
   "id": "360cf7fd-0ab8-4847-926f-851928ba57b4",
   "metadata": {
    "execution": {
     "iopub.execute_input": "2023-08-25T19:01:51.250745Z",
     "iopub.status.busy": "2023-08-25T19:01:51.250745Z",
     "iopub.status.idle": "2023-08-25T19:01:51.277787Z",
     "shell.execute_reply": "2023-08-25T19:01:51.277787Z",
     "shell.execute_reply.started": "2023-08-25T19:01:51.250745Z"
    }
   },
   "outputs": [
    {
     "data": {
      "text/plain": [
       "array([3])"
      ]
     },
     "execution_count": 32,
     "metadata": {},
     "output_type": "execute_result"
    }
   ],
   "source": [
    "mapdl.cmsel(type_=\"S\", name=\"PART3\", entity=\"VOLU\")\n",
    "mapdl.allsel(labt=\"BELOW \", entity=\"VOLU\")\n",
    "vlist = mapdl.geometry.vnum\n",
    "vlist"
   ]
  },
  {
   "cell_type": "markdown",
   "id": "8f4e101d-6178-46bf-bb5d-80a7825adfa0",
   "metadata": {},
   "source": [
    "---"
   ]
  },
  {
   "cell_type": "markdown",
   "id": "7a0d53db-7e90-4010-b780-506be90c1341",
   "metadata": {},
   "source": [
    "### area from component"
   ]
  },
  {
   "cell_type": "code",
   "execution_count": 23,
   "id": "c03bf2a4-468a-49cb-a361-6451f7a970de",
   "metadata": {
    "execution": {
     "iopub.execute_input": "2023-08-26T17:51:10.396931Z",
     "iopub.status.busy": "2023-08-26T17:51:10.395934Z",
     "iopub.status.idle": "2023-08-26T17:51:10.424113Z",
     "shell.execute_reply": "2023-08-26T17:51:10.423454Z",
     "shell.execute_reply.started": "2023-08-26T17:51:10.396931Z"
    }
   },
   "outputs": [
    {
     "data": {
      "text/plain": [
       "array([1, 2, 3, 4])"
      ]
     },
     "execution_count": 23,
     "metadata": {},
     "output_type": "execute_result"
    }
   ],
   "source": [
    "mapdl.cmsel(type_=\"S\", name=\"PART1\", entity=\"VOLU\")\n",
    "mapdl.allsel(labt=\"BELOW \", entity=\"VOLU\")\n",
    "mapdl.allsel(labt=\"BELOW \", entity=\"AREA\")\n",
    "alist = mapdl.geometry.anum\n",
    "alist"
   ]
  },
  {
   "cell_type": "code",
   "execution_count": 24,
   "id": "ec44404f-5ee8-4f19-ba30-661a6d88dad8",
   "metadata": {
    "execution": {
     "iopub.execute_input": "2023-08-26T17:51:11.668163Z",
     "iopub.status.busy": "2023-08-26T17:51:11.667135Z",
     "iopub.status.idle": "2023-08-26T17:51:11.694599Z",
     "shell.execute_reply": "2023-08-26T17:51:11.694391Z",
     "shell.execute_reply.started": "2023-08-26T17:51:11.668163Z"
    }
   },
   "outputs": [
    {
     "data": {
      "text/plain": [
       "array([ 5,  6,  7,  8,  9, 10, 11])"
      ]
     },
     "execution_count": 24,
     "metadata": {},
     "output_type": "execute_result"
    }
   ],
   "source": [
    "mapdl.cmsel(type_=\"S\", name=\"PART2\", entity=\"VOLU\")\n",
    "mapdl.allsel(labt=\"BELOW \", entity=\"VOLU\")\n",
    "mapdl.allsel(labt=\"BELOW \", entity=\"AREA\")\n",
    "alist = mapdl.geometry.anum\n",
    "alist"
   ]
  },
  {
   "cell_type": "code",
   "execution_count": 35,
   "id": "7cbd003b-3393-451f-ba59-c1a17e7a13f2",
   "metadata": {
    "execution": {
     "iopub.execute_input": "2023-08-25T19:01:53.780488Z",
     "iopub.status.busy": "2023-08-25T19:01:53.780488Z",
     "iopub.status.idle": "2023-08-25T19:01:53.820408Z",
     "shell.execute_reply": "2023-08-25T19:01:53.819213Z",
     "shell.execute_reply.started": "2023-08-25T19:01:53.780488Z"
    }
   },
   "outputs": [
    {
     "data": {
      "text/plain": [
       "array([12, 13, 14, 15, 16, 17])"
      ]
     },
     "execution_count": 35,
     "metadata": {},
     "output_type": "execute_result"
    }
   ],
   "source": [
    "mapdl.cmsel(type_=\"S\", name=\"PART3\", entity=\"VOLU\")\n",
    "mapdl.allsel(labt=\"BELOW \", entity=\"VOLU\")\n",
    "mapdl.allsel(labt=\"BELOW \", entity=\"AREA\")\n",
    "alist = mapdl.geometry.anum\n",
    "alist"
   ]
  },
  {
   "cell_type": "markdown",
   "id": "903c9a08-b31e-476b-b6cc-90c641d70f88",
   "metadata": {},
   "source": [
    "---"
   ]
  },
  {
   "cell_type": "markdown",
   "id": "81d9a681-6f30-4178-abc6-5ce14a0b503b",
   "metadata": {},
   "source": [
    "### line selection from component"
   ]
  },
  {
   "cell_type": "code",
   "execution_count": 36,
   "id": "6a5326c4-3797-483e-a51c-4e642948d906",
   "metadata": {
    "execution": {
     "iopub.execute_input": "2023-08-25T19:01:54.988789Z",
     "iopub.status.busy": "2023-08-25T19:01:54.987791Z",
     "iopub.status.idle": "2023-08-25T19:01:55.028159Z",
     "shell.execute_reply": "2023-08-25T19:01:55.024429Z",
     "shell.execute_reply.started": "2023-08-25T19:01:54.988789Z"
    }
   },
   "outputs": [
    {
     "data": {
      "text/plain": [
       "array([1, 2, 3, 4, 5, 6])"
      ]
     },
     "execution_count": 36,
     "metadata": {},
     "output_type": "execute_result"
    }
   ],
   "source": [
    "mapdl.cmsel(type_=\"S\", name=\"PART1\", entity=\"VOLU\")\n",
    "mapdl.allsel(labt=\"BELOW \", entity=\"VOLU\")\n",
    "mapdl.allsel(labt=\"BELOW \", entity=\"AREA\")\n",
    "mapdl.allsel(labt=\"BELOW \", entity=\"LINE\")\n",
    "llist = mapdl.geometry.lnum\n",
    "llist"
   ]
  },
  {
   "cell_type": "code",
   "execution_count": 37,
   "id": "718eafcb-0516-45c2-83bc-039a6cff54fd",
   "metadata": {
    "execution": {
     "iopub.execute_input": "2023-08-25T19:01:55.355991Z",
     "iopub.status.busy": "2023-08-25T19:01:55.354559Z",
     "iopub.status.idle": "2023-08-25T19:01:55.397166Z",
     "shell.execute_reply": "2023-08-25T19:01:55.397166Z",
     "shell.execute_reply.started": "2023-08-25T19:01:55.355991Z"
    }
   },
   "outputs": [
    {
     "data": {
      "text/plain": [
       "array([ 7,  8,  9, 10, 11, 12, 13, 14, 15, 16, 17, 18, 19, 20])"
      ]
     },
     "execution_count": 37,
     "metadata": {},
     "output_type": "execute_result"
    }
   ],
   "source": [
    "mapdl.cmsel(type_=\"S\", name=\"PART2\", entity=\"VOLU\")\n",
    "mapdl.allsel(labt=\"BELOW \", entity=\"VOLU\")\n",
    "mapdl.allsel(labt=\"BELOW \", entity=\"AREA\")\n",
    "mapdl.allsel(labt=\"BELOW \", entity=\"LINE\")\n",
    "llist = mapdl.geometry.lnum\n",
    "llist"
   ]
  },
  {
   "cell_type": "code",
   "execution_count": 38,
   "id": "fcda0ab9-dd2d-4f78-8741-9f13ae5b5fbd",
   "metadata": {
    "execution": {
     "iopub.execute_input": "2023-08-25T19:01:55.597085Z",
     "iopub.status.busy": "2023-08-25T19:01:55.596027Z",
     "iopub.status.idle": "2023-08-25T19:01:55.646695Z",
     "shell.execute_reply": "2023-08-25T19:01:55.645696Z",
     "shell.execute_reply.started": "2023-08-25T19:01:55.597085Z"
    }
   },
   "outputs": [
    {
     "data": {
      "text/plain": [
       "array([21, 22, 23, 24, 25, 26, 27, 28, 29, 30, 31, 32])"
      ]
     },
     "execution_count": 38,
     "metadata": {},
     "output_type": "execute_result"
    }
   ],
   "source": [
    "mapdl.cmsel(type_=\"S\", name=\"PART3\", entity=\"VOLU\")\n",
    "mapdl.allsel(labt=\"BELOW \", entity=\"VOLU\")\n",
    "mapdl.allsel(labt=\"BELOW \", entity=\"AREA\")\n",
    "mapdl.allsel(labt=\"BELOW \", entity=\"LINE\")\n",
    "llist = mapdl.geometry.lnum\n",
    "llist"
   ]
  },
  {
   "cell_type": "markdown",
   "id": "410154ef-339c-4575-a14c-1e964674caa9",
   "metadata": {},
   "source": [
    "---"
   ]
  },
  {
   "cell_type": "markdown",
   "id": "0730b05c-dd14-41ba-a0c1-a85ca92d205e",
   "metadata": {},
   "source": [
    "### kp selection from component"
   ]
  },
  {
   "cell_type": "code",
   "execution_count": 14,
   "id": "a086cc20-dfad-44be-8680-a9b016ade1dd",
   "metadata": {
    "execution": {
     "iopub.execute_input": "2023-08-26T13:18:56.315647Z",
     "iopub.status.busy": "2023-08-26T13:18:56.314650Z",
     "iopub.status.idle": "2023-08-26T13:18:56.358068Z",
     "shell.execute_reply": "2023-08-26T13:18:56.356875Z",
     "shell.execute_reply.started": "2023-08-26T13:18:56.315647Z"
    }
   },
   "outputs": [
    {
     "data": {
      "text/plain": [
       "array([1, 2, 3, 4])"
      ]
     },
     "execution_count": 14,
     "metadata": {},
     "output_type": "execute_result"
    }
   ],
   "source": [
    "mapdl.cmsel(type_=\"S\", name=\"PART1\", entity=\"VOLU\")\n",
    "mapdl.allsel(labt=\"BELOW \", entity=\"VOLU\")\n",
    "mapdl.allsel(labt=\"BELOW \", entity=\"AREA\")\n",
    "mapdl.allsel(labt=\"BELOW \", entity=\"LINE\")\n",
    "mapdl.allsel(labt=\"BELOW \", entity=\"KP\")\n",
    "klist = mapdl.geometry.knum\n",
    "klist"
   ]
  },
  {
   "cell_type": "code",
   "execution_count": 40,
   "id": "5d197a3b-6462-464c-80a7-32e395df3bc8",
   "metadata": {
    "execution": {
     "iopub.execute_input": "2023-08-25T19:02:22.788152Z",
     "iopub.status.busy": "2023-08-25T19:02:22.787156Z",
     "iopub.status.idle": "2023-08-25T19:02:22.834132Z",
     "shell.execute_reply": "2023-08-25T19:02:22.830860Z",
     "shell.execute_reply.started": "2023-08-25T19:02:22.788152Z"
    }
   },
   "outputs": [
    {
     "data": {
      "text/plain": [
       "array([ 5,  6,  7,  8,  9, 10, 11, 12, 13, 14])"
      ]
     },
     "execution_count": 40,
     "metadata": {},
     "output_type": "execute_result"
    }
   ],
   "source": [
    "mapdl.cmsel(type_=\"S\", name=\"PART2\", entity=\"VOLU\")\n",
    "mapdl.allsel(labt=\"BELOW \", entity=\"VOLU\")\n",
    "mapdl.allsel(labt=\"BELOW \", entity=\"AREA\")\n",
    "mapdl.allsel(labt=\"BELOW \", entity=\"LINE\")\n",
    "mapdl.allsel(labt=\"BELOW \", entity=\"KP\")\n",
    "klist = mapdl.geometry.knum\n",
    "klist"
   ]
  },
  {
   "cell_type": "code",
   "execution_count": 41,
   "id": "5ad5b5bf-887a-42ba-ac4e-a9bb75df13f8",
   "metadata": {
    "execution": {
     "iopub.execute_input": "2023-08-25T19:02:23.329983Z",
     "iopub.status.busy": "2023-08-25T19:02:23.329983Z",
     "iopub.status.idle": "2023-08-25T19:02:23.373308Z",
     "shell.execute_reply": "2023-08-25T19:02:23.372810Z",
     "shell.execute_reply.started": "2023-08-25T19:02:23.329983Z"
    }
   },
   "outputs": [
    {
     "data": {
      "text/plain": [
       "array([15, 16, 17, 18, 19, 20, 21, 22])"
      ]
     },
     "execution_count": 41,
     "metadata": {},
     "output_type": "execute_result"
    }
   ],
   "source": [
    "mapdl.cmsel(type_=\"S\", name=\"PART3\", entity=\"VOLU\")\n",
    "mapdl.allsel(labt=\"BELOW \", entity=\"VOLU\")\n",
    "mapdl.allsel(labt=\"BELOW \", entity=\"AREA\")\n",
    "mapdl.allsel(labt=\"BELOW \", entity=\"LINE\")\n",
    "mapdl.allsel(labt=\"BELOW \", entity=\"KP\")\n",
    "klist = mapdl.geometry.knum\n",
    "klist"
   ]
  },
  {
   "cell_type": "markdown",
   "id": "ba533c86-914b-4bd2-9a2c-bb6d53348246",
   "metadata": {},
   "source": [
    "### vol component to kp location"
   ]
  },
  {
   "cell_type": "code",
   "execution_count": 42,
   "id": "66f092a3-dfb3-4813-851c-ec3636782051",
   "metadata": {
    "execution": {
     "iopub.execute_input": "2023-08-25T19:02:24.396395Z",
     "iopub.status.busy": "2023-08-25T19:02:24.396395Z",
     "iopub.status.idle": "2023-08-25T19:02:24.441583Z",
     "shell.execute_reply": "2023-08-25T19:02:24.440574Z",
     "shell.execute_reply.started": "2023-08-25T19:02:24.396395Z"
    }
   },
   "outputs": [
    {
     "data": {
      "text/plain": [
       "array([ 5,  6,  7,  8,  9, 10, 11, 12, 13, 14])"
      ]
     },
     "execution_count": 42,
     "metadata": {},
     "output_type": "execute_result"
    }
   ],
   "source": [
    "mapdl.cmsel(type_=\"S\", name=\"PART2\", entity=\"VOLU\")\n",
    "mapdl.allsel(labt=\"BELOW \", entity=\"VOLU\")\n",
    "mapdl.allsel(labt=\"BELOW \", entity=\"AREA\")\n",
    "mapdl.allsel(labt=\"BELOW \", entity=\"LINE\")\n",
    "mapdl.allsel(labt=\"BELOW \", entity=\"KP\")\n",
    "klist = mapdl.geometry.knum\n",
    "klist"
   ]
  },
  {
   "cell_type": "code",
   "execution_count": 43,
   "id": "fdae435f-a17b-4db8-a9be-39c0c18d9fa3",
   "metadata": {
    "execution": {
     "iopub.execute_input": "2023-08-25T19:02:24.874004Z",
     "iopub.status.busy": "2023-08-25T19:02:24.874004Z",
     "iopub.status.idle": "2023-08-25T19:02:24.891270Z",
     "shell.execute_reply": "2023-08-25T19:02:24.890275Z",
     "shell.execute_reply.started": "2023-08-25T19:02:24.874004Z"
    }
   },
   "outputs": [
    {
     "data": {
      "text/plain": [
       "LIST ALL SELECTED KEYPOINTS.   DSYS=      0\n",
       "\n",
       " *** MAPDL - ENGINEERING ANALYSIS SYSTEM  RELEASE 2022 R2          22.2     ***\n",
       " Ansys Mechanical Enterprise                       \n",
       " 00000000  VERSION=WINDOWS x64   00:32:24  AUG 26, 2023 CP=      3.547\n",
       "\n",
       "  File: C:\\Users\\pramod.kumar\\OneDrive - SIEMENSGAMESA\\Work\\ContactDetect\\pyAns\n",
       "\n",
       "\n",
       "\n",
       "    NO. X,Y,Z LOCATION                   KESIZE     NODE  ELEM MAT REAL TYP ESYS\n",
       "     5 -0.125E-01  0.230E-17  0.220       0.00         0     0   0    0   0    0\n",
       "     6  0.125E-01  0.765E-18  0.220       0.00         0     0   0    0   0    0\n",
       "     7  0.100      0.250E-01  0.220       0.00         0     0   0    0   0    0\n",
       "     8  0.100     -0.250E-01  0.220       0.00         0     0   0    0   0    0\n",
       "     9 -0.100     -0.250E-01  0.220       0.00         0     0   0    0   0    0\n",
       "    10 -0.100      0.250E-01  0.220       0.00         0     0   0    0   0    0\n",
       "    11  0.100      0.250E-01  0.200       0.00         0     0   0    0   0    0\n",
       "    12  0.100     -0.250E-01  0.200       0.00         0     0   0    0   0    0\n",
       "    13 -0.100     -0.250E-01  0.200       0.00         0     0   0    0   0    0\n",
       "    14 -0.100      0.250E-01  0.200       0.00         0     0   0    0   0    0"
      ]
     },
     "execution_count": 43,
     "metadata": {},
     "output_type": "execute_result"
    }
   ],
   "source": [
    "mapdl.klist()"
   ]
  },
  {
   "cell_type": "code",
   "execution_count": 44,
   "id": "cb76bfca-f66e-4c96-a6d7-6dba7c141032",
   "metadata": {
    "execution": {
     "iopub.execute_input": "2023-08-25T19:02:25.532668Z",
     "iopub.status.busy": "2023-08-25T19:02:25.531671Z",
     "iopub.status.idle": "2023-08-25T19:02:25.556212Z",
     "shell.execute_reply": "2023-08-25T19:02:25.555010Z",
     "shell.execute_reply.started": "2023-08-25T19:02:25.532668Z"
    }
   },
   "outputs": [
    {
     "name": "stdout",
     "output_type": "stream",
     "text": [
      "[-0.0125, 2.2962127484012883e-18, 0.22000000000000003]\n"
     ]
    }
   ],
   "source": [
    "k_x = mapdl.queries.kx(klist[0])\n",
    "k_y = mapdl.queries.ky(klist[0])\n",
    "k_z = mapdl.queries.kz(klist[0])\n",
    "print([k_x, k_y, k_z])"
   ]
  },
  {
   "cell_type": "code",
   "execution_count": 45,
   "id": "f8a1222a-5761-495e-9501-2195729b02a3",
   "metadata": {
    "execution": {
     "iopub.execute_input": "2023-08-25T19:02:26.295841Z",
     "iopub.status.busy": "2023-08-25T19:02:26.295841Z",
     "iopub.status.idle": "2023-08-25T19:02:26.320209Z",
     "shell.execute_reply": "2023-08-25T19:02:26.319047Z",
     "shell.execute_reply.started": "2023-08-25T19:02:26.295841Z"
    }
   },
   "outputs": [
    {
     "name": "stdout",
     "output_type": "stream",
     "text": [
      "[0.0125, 7.654042494670961e-19, 0.22000000000000003]\n"
     ]
    }
   ],
   "source": [
    "k_x = mapdl.queries.kx(klist[1])\n",
    "k_y = mapdl.queries.ky(klist[1])\n",
    "k_z = mapdl.queries.kz(klist[1])\n",
    "print([k_x, k_y, k_z])"
   ]
  },
  {
   "cell_type": "code",
   "execution_count": 46,
   "id": "5c3a0eea-1caa-4097-8121-a087993a31cf",
   "metadata": {
    "execution": {
     "iopub.execute_input": "2023-08-25T19:02:28.397773Z",
     "iopub.status.busy": "2023-08-25T19:02:28.396698Z",
     "iopub.status.idle": "2023-08-25T19:02:28.423029Z",
     "shell.execute_reply": "2023-08-25T19:02:28.421460Z",
     "shell.execute_reply.started": "2023-08-25T19:02:28.397773Z"
    }
   },
   "outputs": [
    {
     "name": "stdout",
     "output_type": "stream",
     "text": [
      "[0.1, 0.025, 0.22000000000000003]\n"
     ]
    }
   ],
   "source": [
    "k_x = mapdl.queries.kx(klist[2])\n",
    "k_y = mapdl.queries.ky(klist[2])\n",
    "k_z = mapdl.queries.kz(klist[2])\n",
    "print([k_x, k_y, k_z])"
   ]
  },
  {
   "cell_type": "code",
   "execution_count": null,
   "id": "37bb1639-cf01-4436-b063-2bed040a9cef",
   "metadata": {},
   "outputs": [],
   "source": []
  },
  {
   "cell_type": "markdown",
   "id": "88cb60d6-cbca-492e-9d02-7f46895b510c",
   "metadata": {},
   "source": [
    "## ASUM and centroid"
   ]
  },
  {
   "cell_type": "markdown",
   "id": "60f4a724-c227-4658-a61b-908cc2c620e9",
   "metadata": {},
   "source": [
    "at asum centroid we will place the centroid"
   ]
  },
  {
   "cell_type": "code",
   "execution_count": 31,
   "id": "ca032a26-64fc-4103-b9da-4690b8eeac77",
   "metadata": {
    "execution": {
     "iopub.execute_input": "2023-08-25T18:30:41.736704Z",
     "iopub.status.busy": "2023-08-25T18:30:41.736165Z",
     "iopub.status.idle": "2023-08-25T18:30:41.747968Z",
     "shell.execute_reply": "2023-08-25T18:30:41.747683Z",
     "shell.execute_reply.started": "2023-08-25T18:30:41.736704Z"
    }
   },
   "outputs": [],
   "source": [
    "# mapdl.asel('S','AREA', '', 3)\n",
    "# mapdl.asel('A','AREA', '', 4)\n",
    "# mapdl.asel('A','AREA', '', 1)\n",
    "# mapdl.asum()\n",
    "# cent_x = mapdl.get(entity='AREA', item1='CENT', it1num='X')\n",
    "# cent_y = mapdl.get(entity='AREA', item1='CENT', it1num='Y')\n",
    "# cent_z = mapdl.get(entity='AREA', item1='CENT', it1num='Z')\n",
    "# print([cent_x,cent_y,cent_z])"
   ]
  },
  {
   "cell_type": "code",
   "execution_count": 17,
   "id": "252b17b6-51b4-4939-89ad-833bba1fa081",
   "metadata": {
    "execution": {
     "iopub.execute_input": "2023-08-26T16:37:23.832599Z",
     "iopub.status.busy": "2023-08-26T16:37:23.831602Z",
     "iopub.status.idle": "2023-08-26T16:37:23.875676Z",
     "shell.execute_reply": "2023-08-26T16:37:23.874678Z",
     "shell.execute_reply.started": "2023-08-26T16:37:23.832599Z"
    }
   },
   "outputs": [
    {
     "data": {
      "text/plain": [
       "[1.46593541e-08, 0.00795843126, 0.230000086]"
      ]
     },
     "execution_count": 17,
     "metadata": {},
     "output_type": "execute_result"
    }
   ],
   "source": [
    "anum = [1]\n",
    "pre.area_cent(anum)"
   ]
  },
  {
   "cell_type": "code",
   "execution_count": 50,
   "id": "acb82c23-5b4d-488e-9cde-9d2332c5d189",
   "metadata": {
    "execution": {
     "iopub.execute_input": "2023-08-25T19:07:09.564456Z",
     "iopub.status.busy": "2023-08-25T19:07:09.563459Z",
     "iopub.status.idle": "2023-08-25T19:07:09.630446Z",
     "shell.execute_reply": "2023-08-25T19:07:09.629951Z",
     "shell.execute_reply.started": "2023-08-25T19:07:09.564456Z"
    }
   },
   "outputs": [
    {
     "data": {
      "text/plain": [
       "[2.12200961e-09, -2.31141187e-08, 0.230000108]"
      ]
     },
     "execution_count": 50,
     "metadata": {},
     "output_type": "execute_result"
    }
   ],
   "source": [
    "anum = [1, 2]\n",
    "pre.area_cent(anum)"
   ]
  },
  {
   "cell_type": "code",
   "execution_count": 51,
   "id": "85e1163b-3c92-4969-b95a-488f950f0625",
   "metadata": {
    "execution": {
     "iopub.execute_input": "2023-08-25T19:07:10.185753Z",
     "iopub.status.busy": "2023-08-25T19:07:10.184746Z",
     "iopub.status.idle": "2023-08-25T19:07:10.254850Z",
     "shell.execute_reply": "2023-08-25T19:07:10.253676Z",
     "shell.execute_reply.started": "2023-08-25T19:07:10.185753Z"
    }
   },
   "outputs": [
    {
     "data": {
      "text/plain": [
       "[6.5147278e-09, 0.00353724196, 0.230000038]"
      ]
     },
     "execution_count": 51,
     "metadata": {},
     "output_type": "execute_result"
    }
   ],
   "source": [
    "anum = [3, 4, 1]\n",
    "pre.area_cent(anum)"
   ]
  },
  {
   "cell_type": "code",
   "execution_count": 52,
   "id": "f0023970-bfae-4a9d-af1c-0865c00304e4",
   "metadata": {
    "execution": {
     "iopub.execute_input": "2023-08-25T19:07:11.350869Z",
     "iopub.status.busy": "2023-08-25T19:07:11.350869Z",
     "iopub.status.idle": "2023-08-25T19:07:11.372400Z",
     "shell.execute_reply": "2023-08-25T19:07:11.371868Z",
     "shell.execute_reply.started": "2023-08-25T19:07:11.350869Z"
    }
   },
   "outputs": [
    {
     "data": {
      "text/plain": [
       "SELECT ALL ENTITIES OF TYPE= AREA AND BELOW"
      ]
     },
     "execution_count": 52,
     "metadata": {},
     "output_type": "execute_result"
    }
   ],
   "source": [
    "mapdl.allsel(labt=\"ALL \", entity=\"AREA\")"
   ]
  },
  {
   "cell_type": "code",
   "execution_count": 55,
   "id": "b06d39d3-b12d-4efb-bc41-9b1963831df9",
   "metadata": {
    "execution": {
     "iopub.execute_input": "2023-08-26T05:51:06.758491Z",
     "iopub.status.busy": "2023-08-26T05:51:06.758491Z",
     "iopub.status.idle": "2023-08-26T05:51:06.779191Z",
     "shell.execute_reply": "2023-08-26T05:51:06.779191Z",
     "shell.execute_reply.started": "2023-08-26T05:51:06.758491Z"
    }
   },
   "outputs": [
    {
     "data": {
      "text/plain": [
       "array([ 1,  2,  3,  4,  5,  6,  7,  8,  9, 10, 11, 12, 13, 14, 15, 16, 17,\n",
       "       18, 19, 20, 21, 22, 23, 24, 25, 26, 27, 28, 29, 30, 31, 32, 33, 34,\n",
       "       35, 36, 37])"
      ]
     },
     "execution_count": 55,
     "metadata": {},
     "output_type": "execute_result"
    }
   ],
   "source": [
    "alist = mapdl.geometry.anum\n",
    "alist"
   ]
  },
  {
   "cell_type": "code",
   "execution_count": 54,
   "id": "878ea62f-54da-4fc1-9ee2-1e8e28e6a655",
   "metadata": {
    "execution": {
     "iopub.execute_input": "2023-08-25T19:13:19.194078Z",
     "iopub.status.busy": "2023-08-25T19:13:19.192114Z",
     "iopub.status.idle": "2023-08-25T19:13:19.214356Z",
     "shell.execute_reply": "2023-08-25T19:13:19.210411Z",
     "shell.execute_reply.started": "2023-08-25T19:13:19.194078Z"
    }
   },
   "outputs": [],
   "source": [
    "# mapdl.alist(\"ALL\")"
   ]
  },
  {
   "cell_type": "code",
   "execution_count": null,
   "id": "04f52db3-e813-463f-b9d6-0aff2d9e5a15",
   "metadata": {},
   "outputs": [],
   "source": []
  },
  {
   "cell_type": "markdown",
   "id": "eae35327-ac05-4917-8afd-4d4a157199e2",
   "metadata": {},
   "source": [
    "## AREA to three non linear kp"
   ]
  },
  {
   "cell_type": "markdown",
   "id": "f7323ccc-422c-4576-953d-aeae7628368c",
   "metadata": {},
   "source": [
    "Before line division"
   ]
  },
  {
   "cell_type": "code",
   "execution_count": 71,
   "id": "ed538340-8936-46ba-ab8f-7c96e355222a",
   "metadata": {
    "execution": {
     "iopub.execute_input": "2023-08-26T06:54:34.606535Z",
     "iopub.status.busy": "2023-08-26T06:54:34.606535Z",
     "iopub.status.idle": "2023-08-26T06:54:34.645006Z",
     "shell.execute_reply": "2023-08-26T06:54:34.643599Z",
     "shell.execute_reply.started": "2023-08-26T06:54:34.606535Z"
    }
   },
   "outputs": [
    {
     "data": {
      "text/plain": [
       "array([5, 6])"
      ]
     },
     "execution_count": 71,
     "metadata": {},
     "output_type": "execute_result"
    }
   ],
   "source": [
    "a_nu = 5\n",
    "mapdl.asel(\"S\", \"AREA\", \"\", a_nu)\n",
    "mapdl.allsel(labt=\"BELOW \", entity=\"AREA\")\n",
    "mapdl.allsel(labt=\"BELOW \", entity=\"LINE\")\n",
    "mapdl.allsel(labt=\"BELOW \", entity=\"KP\")\n",
    "klist = mapdl.geometry.knum\n",
    "klist"
   ]
  },
  {
   "cell_type": "code",
   "execution_count": 60,
   "id": "27ee28be-54f0-4c8a-be81-594199b97bcb",
   "metadata": {
    "execution": {
     "iopub.execute_input": "2023-08-26T06:36:15.829943Z",
     "iopub.status.busy": "2023-08-26T06:36:15.829943Z",
     "iopub.status.idle": "2023-08-26T06:36:15.890212Z",
     "shell.execute_reply": "2023-08-26T06:36:15.889216Z",
     "shell.execute_reply.started": "2023-08-26T06:36:15.829943Z"
    }
   },
   "outputs": [
    {
     "name": "stdout",
     "output_type": "stream",
     "text": [
      "[-0.1, -0.025, 0.22000000000000003]\n",
      "[-0.1, 0.025, 0.22000000000000003]\n",
      "[-0.1, -0.025, 0.2]\n",
      "[-0.1, 0.025, 0.2]\n"
     ]
    }
   ],
   "source": [
    "for knum in klist:\n",
    "    k_x = mapdl.queries.kx(knum)\n",
    "    k_y = mapdl.queries.ky(knum)\n",
    "    k_z = mapdl.queries.kz(knum)\n",
    "    printf(f\"{knum}:{k_x}, {k_y}, {k_z}\")"
   ]
  },
  {
   "cell_type": "markdown",
   "id": "cb08a84d-cd65-44d3-9954-1f21419f8caf",
   "metadata": {},
   "source": [
    "---"
   ]
  },
  {
   "cell_type": "markdown",
   "id": "976aa926-daed-4f98-8bdc-64092f17d5c4",
   "metadata": {},
   "source": [
    "**Line Division**"
   ]
  },
  {
   "cell_type": "code",
   "execution_count": 70,
   "id": "01ce28ab-db95-428e-8074-901ecaf07b86",
   "metadata": {
    "execution": {
     "iopub.execute_input": "2023-08-26T06:54:29.177019Z",
     "iopub.status.busy": "2023-08-26T06:54:29.176023Z",
     "iopub.status.idle": "2023-08-26T06:54:29.217650Z",
     "shell.execute_reply": "2023-08-26T06:54:29.215661Z",
     "shell.execute_reply.started": "2023-08-26T06:54:29.177019Z"
    }
   },
   "outputs": [
    {
     "data": {
      "text/plain": [
       "array([ 9, 12, 16, 20, 73, 74, 75, 76, 77, 78, 79, 80, 81, 82, 83, 84, 85,\n",
       "       86, 87, 88])"
      ]
     },
     "execution_count": 70,
     "metadata": {},
     "output_type": "execute_result"
    }
   ],
   "source": [
    "a_nu = 6\n",
    "mapdl.asel(\"S\", \"AREA\", \"\", a_nu)\n",
    "mapdl.allsel(labt=\"BELOW \", entity=\"AREA\")\n",
    "mapdl.allsel(labt=\"BELOW \", entity=\"LINE\")\n",
    "# mapdl.allsel(labt=\"BELOW \", entity=\"KP\")\n",
    "llist = mapdl.geometry.lnum\n",
    "llist"
   ]
  },
  {
   "cell_type": "code",
   "execution_count": 63,
   "id": "ec1d5614-ca6b-4de1-9b48-1c3b29531179",
   "metadata": {
    "execution": {
     "iopub.execute_input": "2023-08-26T06:41:55.296317Z",
     "iopub.status.busy": "2023-08-26T06:41:55.296317Z",
     "iopub.status.idle": "2023-08-26T06:41:55.318449Z",
     "shell.execute_reply": "2023-08-26T06:41:55.317952Z",
     "shell.execute_reply.started": "2023-08-26T06:41:55.296317Z"
    }
   },
   "outputs": [],
   "source": [
    "for lnum in llist:\n",
    "    mapdl.ldiv(lnum, ndiv=5)"
   ]
  },
  {
   "cell_type": "code",
   "execution_count": 64,
   "id": "9851a745-9aae-4cab-9e74-edc30918e1f0",
   "metadata": {
    "execution": {
     "iopub.execute_input": "2023-08-26T06:42:20.945241Z",
     "iopub.status.busy": "2023-08-26T06:42:20.944245Z",
     "iopub.status.idle": "2023-08-26T06:42:20.987699Z",
     "shell.execute_reply": "2023-08-26T06:42:20.986107Z",
     "shell.execute_reply.started": "2023-08-26T06:42:20.945241Z"
    }
   },
   "outputs": [
    {
     "data": {
      "text/plain": [
       "array([ 9, 12, 16, 20, 73, 74, 75, 76, 77, 78, 79, 80, 81, 82, 83, 84, 85,\n",
       "       86, 87, 88])"
      ]
     },
     "execution_count": 64,
     "metadata": {},
     "output_type": "execute_result"
    }
   ],
   "source": [
    "a_nu = 6\n",
    "mapdl.asel(\"S\", \"AREA\", \"\", a_nu)\n",
    "mapdl.allsel(labt=\"BELOW \", entity=\"AREA\")\n",
    "mapdl.allsel(labt=\"BELOW \", entity=\"LINE\")\n",
    "llist = mapdl.geometry.lnum\n",
    "llist"
   ]
  },
  {
   "cell_type": "code",
   "execution_count": 65,
   "id": "b5680371-e2f0-4c5e-b2b5-20570bd51dcc",
   "metadata": {
    "execution": {
     "iopub.execute_input": "2023-08-26T06:42:42.615967Z",
     "iopub.status.busy": "2023-08-26T06:42:42.614974Z",
     "iopub.status.idle": "2023-08-26T06:42:42.642379Z",
     "shell.execute_reply": "2023-08-26T06:42:42.641881Z",
     "shell.execute_reply.started": "2023-08-26T06:42:42.615967Z"
    }
   },
   "outputs": [
    {
     "data": {
      "text/plain": [
       "array([ 9, 10, 13, 14, 51, 52, 53, 54, 55, 56, 57, 58, 59, 60, 61, 62, 63,\n",
       "       64, 65, 66])"
      ]
     },
     "execution_count": 65,
     "metadata": {},
     "output_type": "execute_result"
    }
   ],
   "source": [
    "a_nu = 6\n",
    "mapdl.asel(\"S\", \"AREA\", \"\", a_nu)\n",
    "mapdl.allsel(labt=\"BELOW \", entity=\"AREA\")\n",
    "mapdl.allsel(labt=\"BELOW \", entity=\"LINE\")\n",
    "mapdl.allsel(labt=\"BELOW \", entity=\"KP\")\n",
    "klist = mapdl.geometry.knum\n",
    "klist"
   ]
  },
  {
   "cell_type": "code",
   "execution_count": 67,
   "id": "cae91151-d8d0-4fac-a7fb-c9cddded2826",
   "metadata": {
    "execution": {
     "iopub.execute_input": "2023-08-26T06:46:34.406768Z",
     "iopub.status.busy": "2023-08-26T06:46:34.406768Z",
     "iopub.status.idle": "2023-08-26T06:46:34.595478Z",
     "shell.execute_reply": "2023-08-26T06:46:34.594132Z",
     "shell.execute_reply.started": "2023-08-26T06:46:34.406768Z"
    }
   },
   "outputs": [
    {
     "name": "stdout",
     "output_type": "stream",
     "text": [
      "9:-0.1, -0.025, 0.22000000000000003\n",
      "10:-0.1, 0.025, 0.22000000000000003\n",
      "13:-0.1, -0.025, 0.2\n",
      "14:-0.1, 0.025, 0.2\n",
      "51:-0.10000000000000002, -0.025000000000000005, 0.21600000000000003\n",
      "52:-0.10000000000000002, -0.025000000000000005, 0.21200000000000002\n",
      "53:-0.1, -0.025, 0.20800000000000002\n",
      "54:-0.1, -0.025, 0.20400000000000001\n",
      "55:-0.10000000000000002, 0.025000000000000005, 0.21600000000000003\n",
      "56:-0.10000000000000002, 0.025000000000000005, 0.21200000000000002\n",
      "57:-0.1, 0.025, 0.20800000000000002\n",
      "58:-0.1, 0.025, 0.20400000000000001\n",
      "59:-0.1, 0.015000000000000001, 0.22000000000000003\n",
      "60:-0.09999999999999999, 0.005000000000000002, 0.22000000000000003\n",
      "61:-0.09999999999999999, -0.0049999999999999975, 0.22000000000000003\n",
      "62:-0.09999999999999998, -0.015, 0.22000000000000003\n",
      "63:-0.1, 0.015000000000000001, 0.20000000000000004\n",
      "64:-0.09999999999999999, 0.005000000000000002, 0.20000000000000004\n",
      "65:-0.09999999999999999, -0.0049999999999999975, 0.2\n",
      "66:-0.09999999999999998, -0.015, 0.2\n"
     ]
    }
   ],
   "source": [
    "for knum in klist:\n",
    "    k_x = mapdl.queries.kx(knum)\n",
    "    k_y = mapdl.queries.ky(knum)\n",
    "    k_z = mapdl.queries.kz(knum)\n",
    "    print(f\"{knum}:{k_x}, {k_y}, {k_z}\")"
   ]
  },
  {
   "cell_type": "markdown",
   "id": "e76488ff-a753-4564-9e2c-72a03c70bc47",
   "metadata": {},
   "source": [
    "---"
   ]
  },
  {
   "cell_type": "markdown",
   "id": "fc3d9a25-bfb2-491d-bd34-392bd063ae9b",
   "metadata": {},
   "source": [
    "### normal to area vector"
   ]
  },
  {
   "cell_type": "code",
   "execution_count": 96,
   "id": "cc8be49d-1549-418e-8a72-e46207478164",
   "metadata": {
    "execution": {
     "iopub.execute_input": "2023-08-26T10:29:24.090144Z",
     "iopub.status.busy": "2023-08-26T10:29:24.089639Z",
     "iopub.status.idle": "2023-08-26T10:29:24.136231Z",
     "shell.execute_reply": "2023-08-26T10:29:24.135045Z",
     "shell.execute_reply.started": "2023-08-26T10:29:24.090144Z"
    }
   },
   "outputs": [
    {
     "name": "stdout",
     "output_type": "stream",
     "text": [
      "[1 2 4 6]\n",
      "[1 2 3 4]\n",
      "[1 2 4 6]\n",
      "[1 2 3 4]\n"
     ]
    }
   ],
   "source": [
    "a_nu = 1\n",
    "mapdl.asel(\"S\", \"AREA\", \"\", a_nu)\n",
    "mapdl.allsel(labt=\"BELOW \", entity=\"AREA\")\n",
    "mapdl.allsel(labt=\"BELOW \", entity=\"LINE\")\n",
    "llist = mapdl.geometry.lnum\n",
    "print(llist)\n",
    "mapdl.allsel(labt=\"BELOW \", entity=\"KP\")\n",
    "klist = mapdl.geometry.knum\n",
    "print(klist)\n",
    "\n",
    "if len(klist) < 3:\n",
    "    for lnum in llist:\n",
    "        mapdl.ldiv(lnum, ndiv=5)\n",
    "    llist = mapdl.geometry.lnum\n",
    "    klist = mapdl.geometry.knum\n",
    "\n",
    "print(llist)\n",
    "print(klist)"
   ]
  },
  {
   "cell_type": "code",
   "execution_count": 58,
   "id": "73d99c71-702d-4286-afe5-0a97e0c2fe0b",
   "metadata": {
    "execution": {
     "iopub.execute_input": "2023-08-26T23:54:14.961953Z",
     "iopub.status.busy": "2023-08-26T23:54:14.960956Z",
     "iopub.status.idle": "2023-08-26T23:54:14.983100Z",
     "shell.execute_reply": "2023-08-26T23:54:14.982103Z",
     "shell.execute_reply.started": "2023-08-26T23:54:14.961953Z"
    }
   },
   "outputs": [
    {
     "data": {
      "text/plain": [
       "ACTIVE COORDINATE SYSTEM SET TO          0  (CARTESIAN)"
      ]
     },
     "execution_count": 58,
     "metadata": {},
     "output_type": "execute_result"
    }
   ],
   "source": [
    "mapdl.csys(kcn=0)"
   ]
  },
  {
   "cell_type": "code",
   "execution_count": 59,
   "id": "384d563f-41a6-43b2-bf1b-c7158e01f5d9",
   "metadata": {
    "execution": {
     "iopub.execute_input": "2023-08-26T23:54:15.685372Z",
     "iopub.status.busy": "2023-08-26T23:54:15.685372Z",
     "iopub.status.idle": "2023-08-26T23:54:15.735636Z",
     "shell.execute_reply": "2023-08-26T23:54:15.734640Z",
     "shell.execute_reply.started": "2023-08-26T23:54:15.685372Z"
    }
   },
   "outputs": [
    {
     "name": "stdout",
     "output_type": "stream",
     "text": [
      "[21 24 28 32 73 74 75 76 77 78 79 80 81 82 83 84 85 86 87 88]\n",
      "[17 18 21 22 51 52 53 54 55 56 57 58 59 60 61 62 63 64 65 66]\n"
     ]
    }
   ],
   "source": [
    "a_nu = 12\n",
    "mapdl.asel(\"S\", \"AREA\", \"\", a_nu)\n",
    "mapdl.allsel(labt=\"BELOW \", entity=\"AREA\")\n",
    "mapdl.allsel(labt=\"BELOW \", entity=\"LINE\")\n",
    "llist = mapdl.geometry.lnum\n",
    "# print(llist)\n",
    "mapdl.allsel(labt=\"BELOW \", entity=\"KP\")\n",
    "klist = mapdl.geometry.knum\n",
    "# print(klist)\n",
    "\n",
    "if len(klist) <= 3:\n",
    "    for lnum in llist:\n",
    "        mapdl.ldiv(lnum, ndiv=5)\n",
    "    llist = mapdl.geometry.lnum\n",
    "    klist = mapdl.geometry.knum\n",
    "\n",
    "print(llist)\n",
    "print(klist)"
   ]
  },
  {
   "cell_type": "code",
   "execution_count": 60,
   "id": "e5a241df-8a01-4768-98c7-886b5b95ea2e",
   "metadata": {
    "execution": {
     "iopub.execute_input": "2023-08-26T23:54:15.838720Z",
     "iopub.status.busy": "2023-08-26T23:54:15.838720Z",
     "iopub.status.idle": "2023-08-26T23:54:16.089679Z",
     "shell.execute_reply": "2023-08-26T23:54:16.086636Z",
     "shell.execute_reply.started": "2023-08-26T23:54:15.838720Z"
    }
   },
   "outputs": [],
   "source": [
    "kp_coord = {}\n",
    "for kpoiint in klist:\n",
    "    k_x = mapdl.queries.kx(kpoiint)\n",
    "    k_y = mapdl.queries.ky(kpoiint)\n",
    "    k_z = mapdl.queries.kz(kpoiint)\n",
    "    k1 = np.array([k_x, k_y, k_z])\n",
    "    kp_coord[kpoiint] = k1"
   ]
  },
  {
   "cell_type": "code",
   "execution_count": 61,
   "id": "a1cc6ade-1c83-4990-aa12-5266909d81a6",
   "metadata": {
    "execution": {
     "iopub.execute_input": "2023-08-26T23:54:16.592893Z",
     "iopub.status.busy": "2023-08-26T23:54:16.591896Z",
     "iopub.status.idle": "2023-08-26T23:54:16.599997Z",
     "shell.execute_reply": "2023-08-26T23:54:16.599868Z",
     "shell.execute_reply.started": "2023-08-26T23:54:16.592893Z"
    }
   },
   "outputs": [
    {
     "name": "stdout",
     "output_type": "stream",
     "text": [
      "21\n",
      "[-0.25  0.1   0.1 ]\n"
     ]
    }
   ],
   "source": [
    "k1 = kp_coord[klist[0]]\n",
    "k2 = kp_coord[klist[1]]\n",
    "\n",
    "for i in range(2, len(klist)):\n",
    "    k3 = kp_coord[klist[i]]\n",
    "    if cd.check_collinear(k1, k2, k3) > 1.0e-4:\n",
    "        print(klist[i])\n",
    "        print(k3)\n",
    "        break"
   ]
  },
  {
   "cell_type": "code",
   "execution_count": null,
   "id": "ae6bae0f-0df8-4706-868c-66fbd454851f",
   "metadata": {},
   "outputs": [],
   "source": []
  },
  {
   "cell_type": "code",
   "execution_count": 62,
   "id": "3b03c8a5-84b1-49a4-870a-344091ecc9ae",
   "metadata": {
    "execution": {
     "iopub.execute_input": "2023-08-26T23:54:17.877451Z",
     "iopub.status.busy": "2023-08-26T23:54:17.877451Z",
     "iopub.status.idle": "2023-08-26T23:54:17.896095Z",
     "shell.execute_reply": "2023-08-26T23:54:17.895171Z",
     "shell.execute_reply.started": "2023-08-26T23:54:17.877451Z"
    }
   },
   "outputs": [],
   "source": [
    "zx=np.cross((k2-k1),(k3-k1))"
   ]
  },
  {
   "cell_type": "code",
   "execution_count": 63,
   "id": "5918c9e5-4d2b-46ba-b0f5-033cd1fd3685",
   "metadata": {
    "execution": {
     "iopub.execute_input": "2023-08-26T23:54:18.446235Z",
     "iopub.status.busy": "2023-08-26T23:54:18.446235Z",
     "iopub.status.idle": "2023-08-26T23:54:18.457278Z",
     "shell.execute_reply": "2023-08-26T23:54:18.457278Z",
     "shell.execute_reply.started": "2023-08-26T23:54:18.446235Z"
    }
   },
   "outputs": [
    {
     "data": {
      "text/plain": [
       "array([1., 0., 0.])"
      ]
     },
     "execution_count": 63,
     "metadata": {},
     "output_type": "execute_result"
    }
   ],
   "source": [
    "cd.dcv(zx[0],zx[1],zx[2])"
   ]
  },
  {
   "cell_type": "code",
   "execution_count": 64,
   "id": "815a433a-3656-4933-9ccb-9f8b616a2c30",
   "metadata": {
    "execution": {
     "iopub.execute_input": "2023-08-26T23:54:21.733510Z",
     "iopub.status.busy": "2023-08-26T23:54:21.733510Z",
     "iopub.status.idle": "2023-08-26T23:54:21.742480Z",
     "shell.execute_reply": "2023-08-26T23:54:21.741555Z",
     "shell.execute_reply.started": "2023-08-26T23:54:21.733510Z"
    }
   },
   "outputs": [],
   "source": [
    "origin=k1\n",
    "p1=k2\n",
    "p2=k3"
   ]
  },
  {
   "cell_type": "code",
   "execution_count": 65,
   "id": "dfb4ce67-b002-401f-bd9d-3b24a2c4bab2",
   "metadata": {
    "execution": {
     "iopub.execute_input": "2023-08-26T23:54:23.837427Z",
     "iopub.status.busy": "2023-08-26T23:54:23.837427Z",
     "iopub.status.idle": "2023-08-26T23:54:23.846855Z",
     "shell.execute_reply": "2023-08-26T23:54:23.845496Z",
     "shell.execute_reply.started": "2023-08-26T23:54:23.837427Z"
    }
   },
   "outputs": [],
   "source": [
    "        v1= p1- origin                 #vector-1\n",
    "        v2= p2- origin                 #vector-2\n",
    "        v1_dc=cd.dcv(v1[0],v1[1],v1[2])\n",
    "        v2_dc=cd.dcv(v2[0],v2[1],v2[2])\n",
    "\n",
    "        v3=np.cross(v1_dc, v2_dc)      #vector-3, perp to 1,2\n",
    "        v3_dc=cd.dcv(v3[0],v3[1],v3[2])\n",
    "\n",
    "        v4=np.cross(v3_dc, v1_dc)      #vector-4(y) perp vector-3(z) perp to vector-1(x)\n",
    "        v4_dc=cd.dcv(v4[0],v4[1],v4[2])"
   ]
  },
  {
   "cell_type": "code",
   "execution_count": 66,
   "id": "75e0cf9e-cc9c-41a6-90eb-0a1e3189d754",
   "metadata": {
    "execution": {
     "iopub.execute_input": "2023-08-26T23:54:25.074052Z",
     "iopub.status.busy": "2023-08-26T23:54:25.072984Z",
     "iopub.status.idle": "2023-08-26T23:54:25.086011Z",
     "shell.execute_reply": "2023-08-26T23:54:25.086011Z",
     "shell.execute_reply.started": "2023-08-26T23:54:25.074052Z"
    }
   },
   "outputs": [
    {
     "data": {
      "text/plain": [
       "array([ 0., -1.,  0.])"
      ]
     },
     "execution_count": 66,
     "metadata": {},
     "output_type": "execute_result"
    }
   ],
   "source": [
    "v1_dc"
   ]
  },
  {
   "cell_type": "code",
   "execution_count": 67,
   "id": "570727c3-7834-486b-9395-3d81dfb1ecf2",
   "metadata": {
    "execution": {
     "iopub.execute_input": "2023-08-26T23:54:26.253675Z",
     "iopub.status.busy": "2023-08-26T23:54:26.252678Z",
     "iopub.status.idle": "2023-08-26T23:54:26.272665Z",
     "shell.execute_reply": "2023-08-26T23:54:26.271451Z",
     "shell.execute_reply.started": "2023-08-26T23:54:26.253675Z"
    }
   },
   "outputs": [
    {
     "data": {
      "text/plain": [
       "array([ 0.,  0., -1.])"
      ]
     },
     "execution_count": 67,
     "metadata": {},
     "output_type": "execute_result"
    }
   ],
   "source": [
    "v4_dc"
   ]
  },
  {
   "cell_type": "code",
   "execution_count": 68,
   "id": "7b30b779-64e1-482d-8874-2a859de394ec",
   "metadata": {
    "execution": {
     "iopub.execute_input": "2023-08-26T23:54:26.899314Z",
     "iopub.status.busy": "2023-08-26T23:54:26.899314Z",
     "iopub.status.idle": "2023-08-26T23:54:26.905427Z",
     "shell.execute_reply": "2023-08-26T23:54:26.905427Z",
     "shell.execute_reply.started": "2023-08-26T23:54:26.899314Z"
    }
   },
   "outputs": [
    {
     "data": {
      "text/plain": [
       "array([1., 0., 0.])"
      ]
     },
     "execution_count": 68,
     "metadata": {},
     "output_type": "execute_result"
    }
   ],
   "source": [
    "v3_dc"
   ]
  },
  {
   "cell_type": "markdown",
   "id": "7b188ae9-f368-4407-8a12-2de06eaa54f5",
   "metadata": {},
   "source": [
    "---"
   ]
  },
  {
   "cell_type": "markdown",
   "id": "3f8ab7d9-30ef-45e1-9f95-e59158ed15ba",
   "metadata": {},
   "source": [
    "### DCM from normal from three non linear point"
   ]
  },
  {
   "cell_type": "code",
   "execution_count": 69,
   "id": "9d08e493-c4d4-428f-bbb0-81404f7ba79d",
   "metadata": {
    "execution": {
     "iopub.execute_input": "2023-08-26T23:54:29.604374Z",
     "iopub.status.busy": "2023-08-26T23:54:29.604374Z",
     "iopub.status.idle": "2023-08-26T23:54:29.610501Z",
     "shell.execute_reply": "2023-08-26T23:54:29.610501Z",
     "shell.execute_reply.started": "2023-08-26T23:54:29.604374Z"
    }
   },
   "outputs": [],
   "source": [
    "x_dcm, y_dcm, z_dcm = cd.coordinate_dcm(k1, k2, k3)"
   ]
  },
  {
   "cell_type": "code",
   "execution_count": 70,
   "id": "9436e3f1-3cac-4aec-8183-2d262255c8e0",
   "metadata": {
    "execution": {
     "iopub.execute_input": "2023-08-26T23:54:31.722882Z",
     "iopub.status.busy": "2023-08-26T23:54:31.722882Z",
     "iopub.status.idle": "2023-08-26T23:54:31.729927Z",
     "shell.execute_reply": "2023-08-26T23:54:31.729927Z",
     "shell.execute_reply.started": "2023-08-26T23:54:31.722882Z"
    }
   },
   "outputs": [
    {
     "data": {
      "text/plain": [
       "array([ 0.,  0., -1.])"
      ]
     },
     "execution_count": 70,
     "metadata": {},
     "output_type": "execute_result"
    }
   ],
   "source": [
    "np.cross(z_dcm, x_dcm)"
   ]
  },
  {
   "cell_type": "code",
   "execution_count": 71,
   "id": "5c3669b7-0543-4946-9556-47ddc07285e3",
   "metadata": {
    "execution": {
     "iopub.execute_input": "2023-08-26T23:54:34.286669Z",
     "iopub.status.busy": "2023-08-26T23:54:34.286669Z",
     "iopub.status.idle": "2023-08-26T23:54:34.294915Z",
     "shell.execute_reply": "2023-08-26T23:54:34.293645Z",
     "shell.execute_reply.started": "2023-08-26T23:54:34.286669Z"
    }
   },
   "outputs": [
    {
     "data": {
      "text/plain": [
       "array([ 0., -1.,  0.])"
      ]
     },
     "execution_count": 71,
     "metadata": {},
     "output_type": "execute_result"
    }
   ],
   "source": [
    "x_dcm"
   ]
  },
  {
   "cell_type": "code",
   "execution_count": 72,
   "id": "2f3df961-1cb5-42f4-968a-da962cecca0f",
   "metadata": {
    "execution": {
     "iopub.execute_input": "2023-08-26T23:54:34.880527Z",
     "iopub.status.busy": "2023-08-26T23:54:34.880527Z",
     "iopub.status.idle": "2023-08-26T23:54:34.900199Z",
     "shell.execute_reply": "2023-08-26T23:54:34.898935Z",
     "shell.execute_reply.started": "2023-08-26T23:54:34.880527Z"
    }
   },
   "outputs": [
    {
     "data": {
      "text/plain": [
       "array([ 0.,  0., -1.])"
      ]
     },
     "execution_count": 72,
     "metadata": {},
     "output_type": "execute_result"
    }
   ],
   "source": [
    "y_dcm"
   ]
  },
  {
   "cell_type": "code",
   "execution_count": 73,
   "id": "2f4ca59b-4ea8-428a-ad3e-53bc58379074",
   "metadata": {
    "execution": {
     "iopub.execute_input": "2023-08-26T23:54:38.297515Z",
     "iopub.status.busy": "2023-08-26T23:54:38.297515Z",
     "iopub.status.idle": "2023-08-26T23:54:38.312464Z",
     "shell.execute_reply": "2023-08-26T23:54:38.311541Z",
     "shell.execute_reply.started": "2023-08-26T23:54:38.297515Z"
    }
   },
   "outputs": [
    {
     "data": {
      "text/plain": [
       "array([1., 0., 0.])"
      ]
     },
     "execution_count": 73,
     "metadata": {},
     "output_type": "execute_result"
    }
   ],
   "source": [
    "z_dcm"
   ]
  },
  {
   "cell_type": "markdown",
   "id": "549f8874-e52b-4d33-82a8-51d63f680944",
   "metadata": {},
   "source": [
    "### Rotation vector from dcm"
   ]
  },
  {
   "cell_type": "code",
   "execution_count": 74,
   "id": "c4db2336-006f-40a6-948f-50fff1450464",
   "metadata": {
    "execution": {
     "iopub.execute_input": "2023-08-26T23:54:41.629893Z",
     "iopub.status.busy": "2023-08-26T23:54:41.628894Z",
     "iopub.status.idle": "2023-08-26T23:54:41.653283Z",
     "shell.execute_reply": "2023-08-26T23:54:41.653283Z",
     "shell.execute_reply.started": "2023-08-26T23:54:41.629893Z"
    }
   },
   "outputs": [
    {
     "data": {
      "text/plain": [
       "array([[ 0., -1.,  0.],\n",
       "       [ 0.,  0., -1.],\n",
       "       [ 1.,  0.,  0.]])"
      ]
     },
     "execution_count": 74,
     "metadata": {},
     "output_type": "execute_result"
    }
   ],
   "source": [
    "mapdl.csys(kcn=0)\n",
    "# R = np.column_stack((x_dcm, y_dcm, z_dcm))\n",
    "R = np.row_stack((x_dcm, y_dcm, z_dcm))\n",
    "R"
   ]
  },
  {
   "cell_type": "code",
   "execution_count": null,
   "id": "d87f08ad-9a0c-419e-96ad-e9b14a089b62",
   "metadata": {},
   "outputs": [],
   "source": [
    "        R1 = np.arctan2(-1*R[1, 0], R[1, 1])\n",
    "        R2 = np.arcsin(R[1, 2])\n",
    "        R3 = np.arctan2(-R[0, 1], R[2, 2])"
   ]
  },
  {
   "cell_type": "code",
   "execution_count": 34,
   "id": "ec89bfa7-517a-4af3-a03b-fae9a0b1cc9f",
   "metadata": {
    "execution": {
     "iopub.execute_input": "2023-08-27T00:06:57.860234Z",
     "iopub.status.busy": "2023-08-27T00:06:57.860234Z",
     "iopub.status.idle": "2023-08-27T00:06:57.880382Z",
     "shell.execute_reply": "2023-08-27T00:06:57.880170Z",
     "shell.execute_reply.started": "2023-08-27T00:06:57.860234Z"
    }
   },
   "outputs": [
    {
     "data": {
      "text/plain": [
       "0.0"
      ]
     },
     "execution_count": 34,
     "metadata": {},
     "output_type": "execute_result"
    }
   ],
   "source": [
    "np.degrees(np.arctan2(-0, 0))"
   ]
  },
  {
   "cell_type": "code",
   "execution_count": 35,
   "id": "8262ba8b-9cb3-4bad-8c89-55800b435e2c",
   "metadata": {
    "execution": {
     "iopub.execute_input": "2023-08-27T00:07:13.092341Z",
     "iopub.status.busy": "2023-08-27T00:07:13.092341Z",
     "iopub.status.idle": "2023-08-27T00:07:13.108633Z",
     "shell.execute_reply": "2023-08-27T00:07:13.108134Z",
     "shell.execute_reply.started": "2023-08-27T00:07:13.092341Z"
    }
   },
   "outputs": [
    {
     "data": {
      "text/plain": [
       "-90.0"
      ]
     },
     "execution_count": 35,
     "metadata": {},
     "output_type": "execute_result"
    }
   ],
   "source": [
    "np.degrees(np.arcsin(-1))"
   ]
  },
  {
   "cell_type": "code",
   "execution_count": null,
   "id": "96af5dfb-e98f-4b87-b07b-92127f31f0f5",
   "metadata": {},
   "outputs": [],
   "source": [
    "np.arctan2(-0, 0)"
   ]
  },
  {
   "cell_type": "code",
   "execution_count": 75,
   "id": "fdcb5e03-c172-4dc3-981d-74465e2052e4",
   "metadata": {
    "execution": {
     "iopub.execute_input": "2023-08-26T23:54:42.734407Z",
     "iopub.status.busy": "2023-08-26T23:54:42.733411Z",
     "iopub.status.idle": "2023-08-26T23:54:42.754134Z",
     "shell.execute_reply": "2023-08-26T23:54:42.754126Z",
     "shell.execute_reply.started": "2023-08-26T23:54:42.734407Z"
    }
   },
   "outputs": [
    {
     "data": {
      "text/plain": [
       "-1.0"
      ]
     },
     "execution_count": 75,
     "metadata": {},
     "output_type": "execute_result"
    }
   ],
   "source": [
    "R[1,2]"
   ]
  },
  {
   "cell_type": "code",
   "execution_count": 76,
   "id": "2f53e625-27f5-4eec-b13c-811bc168bb59",
   "metadata": {
    "execution": {
     "iopub.execute_input": "2023-08-26T23:54:44.387769Z",
     "iopub.status.busy": "2023-08-26T23:54:44.387769Z",
     "iopub.status.idle": "2023-08-26T23:54:44.398073Z",
     "shell.execute_reply": "2023-08-26T23:54:44.396737Z",
     "shell.execute_reply.started": "2023-08-26T23:54:44.387769Z"
    }
   },
   "outputs": [
    {
     "data": {
      "text/plain": [
       "(-0.0, -90.0, -0.0)"
      ]
     },
     "execution_count": 76,
     "metadata": {},
     "output_type": "execute_result"
    }
   ],
   "source": [
    "cd.dcm2angleZXY(R)"
   ]
  },
  {
   "cell_type": "markdown",
   "id": "6133918d-c252-4356-9a6f-eaca9e03f07a",
   "metadata": {},
   "source": [
    "```\n",
    "!******for rotation in Rz,Rx,Ry sequence******\n",
    "R_Z = ATAN2(-y_l,y_m)\n",
    "R_X = ASIN(y_n)\n",
    "R_Y = ATAN2(-x_n,z_n)\n",
    "\n",
    "CLOCAL, CS_Index, 0, X_0, Y_0, Z_0, R_Z, R_X, R_Y\n",
    "```"
   ]
  },
  {
   "cell_type": "code",
   "execution_count": 52,
   "id": "13b138c1-91e7-4f1d-bbe1-53e8284ffb5f",
   "metadata": {
    "execution": {
     "iopub.execute_input": "2023-08-26T23:10:44.594611Z",
     "iopub.status.busy": "2023-08-26T23:10:44.594611Z",
     "iopub.status.idle": "2023-08-26T23:10:44.612380Z",
     "shell.execute_reply": "2023-08-26T23:10:44.611308Z",
     "shell.execute_reply.started": "2023-08-26T23:10:44.594611Z"
    }
   },
   "outputs": [
    {
     "data": {
      "text/plain": [
       "-0.0"
      ]
     },
     "execution_count": 52,
     "metadata": {},
     "output_type": "execute_result"
    }
   ],
   "source": [
    "R[2,2]"
   ]
  },
  {
   "cell_type": "markdown",
   "id": "2c38ba78-6a82-4470-8d03-93d820f24fb8",
   "metadata": {},
   "source": [
    "## Function for rotation angle and centroid of area"
   ]
  },
  {
   "cell_type": "markdown",
   "id": "fc78ae87-a233-42e4-ac0f-701081b79d24",
   "metadata": {
    "execution": {
     "iopub.execute_input": "2023-08-26T14:39:21.583788Z",
     "iopub.status.busy": "2023-08-26T14:39:21.583788Z",
     "iopub.status.idle": "2023-08-26T14:39:21.595735Z",
     "shell.execute_reply": "2023-08-26T14:39:21.595735Z",
     "shell.execute_reply.started": "2023-08-26T14:39:21.583788Z"
    }
   },
   "source": [
    "```python\n",
    "def clocal_area(a_num):\n",
    "    \"\"\"\n",
    "    This function is to find the centroid and rotation angle in ansys apdl using pyMAPDL library and python library.\n",
    "\n",
    "    Parameters\n",
    "    ----------\n",
    "    a_num : int\n",
    "        The area number.\n",
    "\n",
    "    Returns\n",
    "    -------\n",
    "    centroid : np.array\n",
    "        The centroid of the area.\n",
    "    r_z : float\n",
    "        The rotation angle about the z-axis.\n",
    "    r_x : float\n",
    "        The rotation angle about the x-axis.\n",
    "    r_y : float\n",
    "        The rotation angle about the y-axis.\n",
    "\n",
    "    \"\"\"\n",
    "    centroid = np.array(pre.area_cent([a_num]))\n",
    "    ## selecting kp from area and geneartng kp if required\n",
    "    mapdl.asel(\"S\", \"AREA\", \"\", a_num)\n",
    "    mapdl.allsel(labt=\"BELOW \", entity=\"AREA\")\n",
    "    mapdl.allsel(labt=\"BELOW \", entity=\"LINE\")\n",
    "    llist = mapdl.geometry.lnum\n",
    "    # print(llist)\n",
    "    mapdl.allsel(labt=\"BELOW \", entity=\"KP\")\n",
    "    klist = mapdl.geometry.knum\n",
    "    # print(klist)\n",
    "\n",
    "    if len(klist) <= 4:\n",
    "        for lnum in llist:\n",
    "            mapdl.ldiv(lnum, ndiv=5)\n",
    "        llist = mapdl.geometry.lnum\n",
    "        klist = mapdl.geometry.knum\n",
    "\n",
    "    # print(llist)\n",
    "    # print(klist)\n",
    "\n",
    "    ## key point coordinate in dictionary key as kp\n",
    "    kp_coord = {}\n",
    "    for kpoiint in klist:\n",
    "        k_x = mapdl.queries.kx(kpoiint)\n",
    "        k_y = mapdl.queries.ky(kpoiint)\n",
    "        k_z = mapdl.queries.kz(kpoiint)\n",
    "        k1 = np.array([k_x, k_y, k_z])\n",
    "        kp_coord[kpoiint] = k1\n",
    "\n",
    "    k1 = kp_coord[klist[0]]\n",
    "    k2 = kp_coord[klist[1]]\n",
    "\n",
    "    for i in range(2, len(klist)):\n",
    "        k3 = kp_coord[klist[i]]\n",
    "        if cd.check_collinear(k1, k2, k3) > 1.0e-4:\n",
    "            # print(klist[i])\n",
    "            # print(k3)\n",
    "            break\n",
    "\n",
    "    x_dcm, y_dcm, z_dcm = cd.coordinate_dcm(k1, k2, k3)\n",
    "    R = np.column_stack((x_dcm, y_dcm, z_dcm))\n",
    "    r_x, r_y, r_z = cd.dcm2angleZXY(R)\n",
    "\n",
    "    return centroid, r_z, r_x, r_y\n",
    "```"
   ]
  },
  {
   "cell_type": "markdown",
   "id": "ae26e472-6e7d-4515-b0ab-8666b911f06d",
   "metadata": {},
   "source": [
    "I wrot above function in py_apdl_pre.py module"
   ]
  },
  {
   "cell_type": "code",
   "execution_count": 22,
   "id": "4be9ea3a-cd81-443b-a05a-4d47b44f951d",
   "metadata": {
    "execution": {
     "iopub.execute_input": "2023-08-26T18:30:52.241803Z",
     "iopub.status.busy": "2023-08-26T18:30:52.239811Z",
     "iopub.status.idle": "2023-08-26T18:30:52.585439Z",
     "shell.execute_reply": "2023-08-26T18:30:52.584270Z",
     "shell.execute_reply.started": "2023-08-26T18:30:52.241803Z"
    }
   },
   "outputs": [
    {
     "name": "stdout",
     "output_type": "stream",
     "text": [
      "[1.46593541e-08 7.95843126e-03 2.30000086e-01] -180.0 -90.0 -90.0\n"
     ]
    }
   ],
   "source": [
    "cenrroid, r_z, r_x, r_y = pre.clocal_area(1)\n",
    "print(cenrroid, r_z, r_x, r_y)"
   ]
  },
  {
   "cell_type": "code",
   "execution_count": 31,
   "id": "d26609fd-82d4-41aa-91cf-04f0d4c3eabb",
   "metadata": {
    "execution": {
     "iopub.execute_input": "2023-08-26T17:31:21.214103Z",
     "iopub.status.busy": "2023-08-26T17:31:21.213606Z",
     "iopub.status.idle": "2023-08-26T17:31:21.448977Z",
     "shell.execute_reply": "2023-08-26T17:31:21.447578Z",
     "shell.execute_reply.started": "2023-08-26T17:31:21.214103Z"
    }
   },
   "outputs": [
    {
     "name": "stdout",
     "output_type": "stream",
     "text": [
      "[1.46593541e-08 7.95843126e-03 2.30000086e-01] -180.0 -90.0 -90.0\n"
     ]
    }
   ],
   "source": [
    "cenrroid, r_z, r_x, r_y = pre.clocal_area(1)\n",
    "print(cenrroid, r_z, r_x, r_y)"
   ]
  },
  {
   "cell_type": "code",
   "execution_count": 23,
   "id": "3a21c51d-1e2f-4f20-9bd8-98615ecff881",
   "metadata": {
    "execution": {
     "iopub.execute_input": "2023-08-26T18:32:45.200832Z",
     "iopub.status.busy": "2023-08-26T18:32:45.199837Z",
     "iopub.status.idle": "2023-08-26T18:32:45.438777Z",
     "shell.execute_reply": "2023-08-26T18:32:45.435161Z",
     "shell.execute_reply.started": "2023-08-26T18:32:45.200832Z"
    }
   },
   "outputs": [
    {
     "name": "stdout",
     "output_type": "stream",
     "text": [
      "[-4.88233834e-08 -7.95819887e-03  2.30000146e-01] -180.0 -90.0 -90.0\n"
     ]
    }
   ],
   "source": [
    "cenrroid, r_z, r_x, r_y = pre.clocal_area(2)\n",
    "print(cenrroid, r_z, r_x, r_y)"
   ]
  },
  {
   "cell_type": "code",
   "execution_count": 24,
   "id": "bc0d7de2-9d39-4e37-9f2d-562f986f5782",
   "metadata": {
    "execution": {
     "iopub.execute_input": "2023-08-26T18:32:53.938147Z",
     "iopub.status.busy": "2023-08-26T18:32:53.938147Z",
     "iopub.status.idle": "2023-08-26T18:32:54.080615Z",
     "shell.execute_reply": "2023-08-26T18:32:54.079643Z",
     "shell.execute_reply.started": "2023-08-26T18:32:53.938147Z"
    }
   },
   "outputs": [
    {
     "name": "stdout",
     "output_type": "stream",
     "text": [
      "[ 2.49479293e-11 -1.30236834e-10  2.40000000e-01] 3.5083546492674388e-15 -6.49329939885082e-13 -180.0\n"
     ]
    }
   ],
   "source": [
    "cenrroid, r_z, r_x, r_y = pre.clocal_area(3)\n",
    "print(cenrroid, r_z, r_x, r_y)"
   ]
  },
  {
   "cell_type": "code",
   "execution_count": 33,
   "id": "cb5893d3-3987-4457-8d41-f83d19f42604",
   "metadata": {
    "execution": {
     "iopub.execute_input": "2023-08-26T17:31:45.194464Z",
     "iopub.status.busy": "2023-08-26T17:31:45.193556Z",
     "iopub.status.idle": "2023-08-26T17:31:45.358704Z",
     "shell.execute_reply": "2023-08-26T17:31:45.357809Z",
     "shell.execute_reply.started": "2023-08-26T17:31:45.194464Z"
    }
   },
   "outputs": [
    {
     "name": "stdout",
     "output_type": "stream",
     "text": [
      "[-1.39442402e-11  9.30901751e-11  2.40000000e-01] 180.0 4.328866265900546e-13 2.65066610823603e-29\n"
     ]
    }
   ],
   "source": [
    "cenrroid, r_z, r_x, r_y = pre.clocal_area(3)\n",
    "print(cenrroid, r_z, r_x, r_y)"
   ]
  },
  {
   "cell_type": "code",
   "execution_count": 34,
   "id": "eabe78e7-b191-4147-9694-4e8de777e7d3",
   "metadata": {
    "execution": {
     "iopub.execute_input": "2023-08-26T17:32:04.094321Z",
     "iopub.status.busy": "2023-08-26T17:32:04.093412Z",
     "iopub.status.idle": "2023-08-26T17:32:04.268495Z",
     "shell.execute_reply": "2023-08-26T17:32:04.267998Z",
     "shell.execute_reply.started": "2023-08-26T17:32:04.094321Z"
    }
   },
   "outputs": [
    {
     "name": "stdout",
     "output_type": "stream",
     "text": [
      "[-1.39442402e-11  9.30901751e-11  2.20000000e-01] 180.0 0.0 -0.0\n"
     ]
    }
   ],
   "source": [
    "cenrroid, r_z, r_x, r_y = pre.clocal_area(4)\n",
    "print(cenrroid, r_z, r_x, r_y)"
   ]
  },
  {
   "cell_type": "code",
   "execution_count": 26,
   "id": "dbe71380-90f1-468e-a953-6885fad8e198",
   "metadata": {
    "execution": {
     "iopub.execute_input": "2023-08-26T17:51:41.382408Z",
     "iopub.status.busy": "2023-08-26T17:51:41.382408Z",
     "iopub.status.idle": "2023-08-26T17:51:41.764040Z",
     "shell.execute_reply": "2023-08-26T17:51:41.763157Z",
     "shell.execute_reply.started": "2023-08-26T17:51:41.382408Z"
    }
   },
   "outputs": [
    {
     "name": "stdout",
     "output_type": "stream",
     "text": [
      "[-1.50837926e-12  3.99106989e-11  2.20000000e-01] 6.493299398850821e-13 -3.975999162354047e-29 3.5083546492674396e-15\n"
     ]
    }
   ],
   "source": [
    "cenrroid, r_z, r_x, r_y = pre.clocal_area(5)\n",
    "print(cenrroid, r_z, r_x, r_y)"
   ]
  },
  {
   "cell_type": "code",
   "execution_count": 36,
   "id": "24251f40-d638-42d7-a0df-3a52f95425b4",
   "metadata": {
    "execution": {
     "iopub.execute_input": "2023-08-26T22:44:17.995025Z",
     "iopub.status.busy": "2023-08-26T22:44:17.995025Z",
     "iopub.status.idle": "2023-08-26T22:44:18.294002Z",
     "shell.execute_reply": "2023-08-26T22:44:18.294002Z",
     "shell.execute_reply.started": "2023-08-26T22:44:17.995025Z"
    }
   },
   "outputs": [
    {
     "name": "stdout",
     "output_type": "stream",
     "text": [
      "[-2.50000000e-01  5.69512672e-18  1.50000000e-01] 90.0 0.0 -90.0\n"
     ]
    }
   ],
   "source": [
    "mapdl.csys(kcn=0)\n",
    "cenrroid, r_z, r_x, r_y = pre.clocal_area(12)\n",
    "print(cenrroid, r_z, r_x, r_y)"
   ]
  },
  {
   "cell_type": "markdown",
   "id": "4e105d85-3290-481d-ba32-ae2fea319f0d",
   "metadata": {},
   "source": [
    "clocal,1002,0,-2.50000000e-01,  5.69512672e-18,  1.50000000e-01, 0.0, -90.0, 90.0"
   ]
  },
  {
   "cell_type": "code",
   "execution_count": 34,
   "id": "3259b878-4026-4937-9355-a7da32c92777",
   "metadata": {
    "execution": {
     "iopub.execute_input": "2023-08-26T22:43:52.522041Z",
     "iopub.status.busy": "2023-08-26T22:43:52.520903Z",
     "iopub.status.idle": "2023-08-26T22:43:52.849643Z",
     "shell.execute_reply": "2023-08-26T22:43:52.848003Z",
     "shell.execute_reply.started": "2023-08-26T22:43:52.522041Z"
    }
   },
   "outputs": [
    {
     "name": "stdout",
     "output_type": "stream",
     "text": [
      "[9.17780723e-18 2.79511172e-18 1.00000000e-01] -180.0 0.0 -180.0\n"
     ]
    }
   ],
   "source": [
    "cenrroid, r_z, r_x, r_y = pre.clocal_area(22)\n",
    "print(cenrroid, r_z, r_x, r_y)"
   ]
  },
  {
   "cell_type": "code",
   "execution_count": 31,
   "id": "032af0ba-6d67-4208-886c-d4ea337794f0",
   "metadata": {
    "execution": {
     "iopub.execute_input": "2023-08-26T22:08:02.324379Z",
     "iopub.status.busy": "2023-08-26T22:08:02.324379Z",
     "iopub.status.idle": "2023-08-26T22:08:02.600436Z",
     "shell.execute_reply": "2023-08-26T22:08:02.598947Z",
     "shell.execute_reply.started": "2023-08-26T22:08:02.324379Z"
    }
   },
   "outputs": [
    {
     "name": "stdout",
     "output_type": "stream",
     "text": [
      "[3.65174820e-18 3.65523258e-18 1.00000000e-01] 90.0 -0.0 -180.0\n"
     ]
    }
   ],
   "source": [
    "mapdl.csys(kcn=0)\n",
    "cenrroid, r_z, r_x, r_y = pre.clocal_area(22)\n",
    "print(cenrroid, r_z, r_x, r_y)"
   ]
  },
  {
   "cell_type": "code",
   "execution_count": 24,
   "id": "74c94ae4-6f9e-43fc-9de9-e3fd9652bbe3",
   "metadata": {
    "execution": {
     "iopub.execute_input": "2023-08-26T14:43:30.425811Z",
     "iopub.status.busy": "2023-08-26T14:43:30.424747Z",
     "iopub.status.idle": "2023-08-26T14:43:30.471446Z",
     "shell.execute_reply": "2023-08-26T14:43:30.471446Z",
     "shell.execute_reply.started": "2023-08-26T14:43:30.425811Z"
    }
   },
   "outputs": [
    {
     "data": {
      "text/plain": [
       "[-1.39442402e-11, 9.30901751e-11, 0.22]"
      ]
     },
     "execution_count": 24,
     "metadata": {},
     "output_type": "execute_result"
    }
   ],
   "source": [
    "pre.area_cent([4])"
   ]
  },
  {
   "cell_type": "markdown",
   "id": "237e22c9-b449-4944-bfaf-4ff642e53170",
   "metadata": {},
   "source": [
    "---"
   ]
  },
  {
   "cell_type": "markdown",
   "id": "0dfc6198-fd92-40f5-8412-58809bda7dfc",
   "metadata": {},
   "source": [
    "## Area Selection"
   ]
  },
  {
   "cell_type": "markdown",
   "id": "6b0fbb4f-88fa-4ac3-a604-d770d55abff1",
   "metadata": {},
   "source": [
    "```\n",
    "csys\n",
    "Mapdl.csys(kcn='', **kwargs)\n",
    "Activates a previously defined coordinate system.\n",
    "\n",
    "APDL Command: CSYS\n",
    "\n",
    "Parameters:\n",
    "kcn\n",
    "Specifies the active coordinate system, as follows:\n",
    "\n",
    "0 (default) - Cartesian\n",
    "\n",
    "1 - Cylindrical with global Cartesian Z as the axis of rotation\n",
    "\n",
    "2 - Spherical\n",
    "\n",
    "4 or WP - Working Plane\n",
    "\n",
    "5 - Cylindrical with global Cartesian Y as the axis of rotation\n",
    "\n",
    "11 or greater - Any previously defined local coordinate system\n",
    "\n",
    "```"
   ]
  },
  {
   "cell_type": "code",
   "execution_count": 30,
   "id": "71f991f2-2ef7-468b-a5b0-289a289f5434",
   "metadata": {
    "execution": {
     "iopub.execute_input": "2023-08-26T23:34:29.905511Z",
     "iopub.status.busy": "2023-08-26T23:34:29.905511Z",
     "iopub.status.idle": "2023-08-26T23:34:30.178843Z",
     "shell.execute_reply": "2023-08-26T23:34:30.178686Z",
     "shell.execute_reply.started": "2023-08-26T23:34:29.905511Z"
    }
   },
   "outputs": [
    {
     "name": "stdout",
     "output_type": "stream",
     "text": [
      "[-2.50000000e-01  5.69512672e-18  1.50000000e-01] -0.0 -90.0 -0.0\n"
     ]
    }
   ],
   "source": [
    "mapdl.csys(kcn=0)\n",
    "centroid, r_z, r_x, r_y = pre.clocal_area(12)\n",
    "print(centroid, r_z, r_x, r_y)"
   ]
  },
  {
   "cell_type": "code",
   "execution_count": null,
   "id": "1e6bae80-f56e-40e3-8ed1-f0a0b0a095dc",
   "metadata": {},
   "outputs": [],
   "source": []
  },
  {
   "cell_type": "code",
   "execution_count": 39,
   "id": "1cee98f6-ba83-4ab3-9469-f87bd48f9a52",
   "metadata": {
    "execution": {
     "iopub.execute_input": "2023-08-26T19:23:29.636331Z",
     "iopub.status.busy": "2023-08-26T19:23:29.636331Z",
     "iopub.status.idle": "2023-08-26T19:23:29.659981Z",
     "shell.execute_reply": "2023-08-26T19:23:29.658160Z",
     "shell.execute_reply.started": "2023-08-26T19:23:29.636331Z"
    }
   },
   "outputs": [
    {
     "data": {
      "text/plain": [
       "COORDINATE SYSTEM DEFINITION BASED ON CSYS =         0\n",
       "\n",
       " COORDINATE SYSTEM       1000 DEFINITION.  TYPE= 0  (CARTESIAN)  \n",
       "   XC,YC,ZC= 0.18756E-16-0.76547E-18 0.10000    \n",
       "   ANGLES=   90.00    0.00 -180.00   PARAMETERS=   1.000   1.000\n",
       "\n",
       " COORDINATE SYSTEM DEFINITION BASED ON GLOBAL ORIGIN\n",
       "\n",
       " COORDINATE SYSTEM       1000 DEFINITION.  TYPE= 0  (CARTESIAN)  \n",
       "   XC,YC,ZC=  0.0000      0.0000     0.10000    \n",
       "   ANGLES=   90.00    0.00 -180.00   PARAMETERS=   1.000   1.000\n",
       "   ORIENTATION= -0.00 -1.00  0.00  -1.00  0.00  0.00  -0.00 -0.00 -1.00\n",
       "\n",
       " ACTIVE COORDINATE SYSTEM SET TO      1000  (CARTESIAN)"
      ]
     },
     "execution_count": 39,
     "metadata": {},
     "output_type": "execute_result"
    }
   ],
   "source": [
    "cs_num = 1000\n",
    "cs_typ = 0\n",
    "\n",
    "cent_x = centroid[0]\n",
    "cent_y = centroid[1]\n",
    "cent_z = centroid[2]\n",
    "rxy = r_z\n",
    "ryz = r_x\n",
    "rzx = r_y\n",
    "\n",
    "mapdl.clocal(\n",
    "    kcn=cs_num,\n",
    "    kcs=cs_typ,\n",
    "    xl=cent_x,\n",
    "    yl=cent_y,\n",
    "    zl=cent_z,\n",
    "    thxy=rxy,\n",
    "    thyz=ryz,\n",
    "    thzx=rzx,\n",
    ")"
   ]
  },
  {
   "cell_type": "markdown",
   "id": "c7e7e8f0-fe03-4cdd-b9a7-2e022e634a52",
   "metadata": {},
   "source": [
    "---"
   ]
  },
  {
   "cell_type": "code",
   "execution_count": 74,
   "id": "b392a246-f5a7-4f55-a1ed-940601c0f257",
   "metadata": {
    "execution": {
     "iopub.execute_input": "2023-08-26T20:12:46.857743Z",
     "iopub.status.busy": "2023-08-26T20:12:46.856748Z",
     "iopub.status.idle": "2023-08-26T20:12:46.876749Z",
     "shell.execute_reply": "2023-08-26T20:12:46.876749Z",
     "shell.execute_reply.started": "2023-08-26T20:12:46.857743Z"
    }
   },
   "outputs": [
    {
     "data": {
      "text/plain": [
       "CREATE WORKING PLANE AT LOCAL SYSTEM   1000\n",
       "      CHANGE VIEW DIRECTION OF WINDOW  1"
      ]
     },
     "execution_count": 74,
     "metadata": {},
     "output_type": "execute_result"
    }
   ],
   "source": [
    "mapdl.wpcsys(kcn=cs_num)"
   ]
  },
  {
   "cell_type": "markdown",
   "id": "da3cfbc8-b986-4d70-a01f-b431c6680270",
   "metadata": {
    "execution": {
     "iopub.execute_input": "2023-08-26T20:08:35.641747Z",
     "iopub.status.busy": "2023-08-26T20:08:35.641747Z",
     "iopub.status.idle": "2023-08-26T20:08:35.661698Z",
     "shell.execute_reply": "2023-08-26T20:08:35.660703Z",
     "shell.execute_reply.started": "2023-08-26T20:08:35.641747Z"
    }
   },
   "source": [
    "```\n",
    "wpctyp\n",
    "Working plane coordinate system type:\n",
    "\n",
    "0 - Cartesian (default). If working plane tracking is on [CSYS,4], the updated\n",
    "active coordinate system will also be Cartesian.\n",
    "\n",
    "1 - Polar. If working plane tracking is on, the updated active coordinate system\n",
    "will be cylindrical.\n",
    "\n",
    "2 - Polar. If working plane tracking is on, the updated active coordinate system\n",
    "will be spherical.\n",
    "```"
   ]
  },
  {
   "cell_type": "code",
   "execution_count": 75,
   "id": "4b2900b3-b16c-45cc-ab15-25d0455369c8",
   "metadata": {
    "execution": {
     "iopub.execute_input": "2023-08-26T20:12:49.084043Z",
     "iopub.status.busy": "2023-08-26T20:12:49.083368Z",
     "iopub.status.idle": "2023-08-26T20:12:49.094841Z",
     "shell.execute_reply": "2023-08-26T20:12:49.093331Z",
     "shell.execute_reply.started": "2023-08-26T20:12:49.084043Z"
    }
   },
   "outputs": [
    {
     "data": {
      "text/plain": [
       "SET WP COORDINATE SYSTEM TYPE TO POLAR."
      ]
     },
     "execution_count": 75,
     "metadata": {},
     "output_type": "execute_result"
    }
   ],
   "source": [
    "mapdl.wpstyl(wpctyp=1)"
   ]
  },
  {
   "cell_type": "code",
   "execution_count": 76,
   "id": "e5a13b9b-181c-4ea0-b277-07e8a187d1cb",
   "metadata": {
    "execution": {
     "iopub.execute_input": "2023-08-26T20:12:49.966441Z",
     "iopub.status.busy": "2023-08-26T20:12:49.966441Z",
     "iopub.status.idle": "2023-08-26T20:12:49.980240Z",
     "shell.execute_reply": "2023-08-26T20:12:49.979981Z",
     "shell.execute_reply.started": "2023-08-26T20:12:49.966441Z"
    }
   },
   "outputs": [
    {
     "data": {
      "text/plain": [
       "ACTIVE COORDINATE SYSTEM SET TO          4  (CYLINDRICAL)"
      ]
     },
     "execution_count": 76,
     "metadata": {},
     "output_type": "execute_result"
    }
   ],
   "source": [
    "mapdl.csys(kcn=4)"
   ]
  },
  {
   "cell_type": "code",
   "execution_count": null,
   "id": "4d67af7f-1a45-4e7e-872b-dd55c34c0db0",
   "metadata": {},
   "outputs": [],
   "source": []
  },
  {
   "cell_type": "code",
   "execution_count": 77,
   "id": "20f88f32-426d-4bee-bdc9-851deb0b83ab",
   "metadata": {
    "execution": {
     "iopub.execute_input": "2023-08-26T20:12:50.533315Z",
     "iopub.status.busy": "2023-08-26T20:12:50.531910Z",
     "iopub.status.idle": "2023-08-26T20:12:50.553988Z",
     "shell.execute_reply": "2023-08-26T20:12:50.553452Z",
     "shell.execute_reply.started": "2023-08-26T20:12:50.533315Z"
    }
   },
   "outputs": [
    {
     "data": {
      "text/plain": [
       "SET WP COORDINATE SYSTEM TYPE TO CARTESIAN."
      ]
     },
     "execution_count": 77,
     "metadata": {},
     "output_type": "execute_result"
    }
   ],
   "source": [
    "mapdl.wpstyl(wpctyp=0)"
   ]
  },
  {
   "cell_type": "code",
   "execution_count": 78,
   "id": "9f6b3353-9bb3-4d8a-b590-bad4380421cb",
   "metadata": {
    "execution": {
     "iopub.execute_input": "2023-08-26T20:12:50.927573Z",
     "iopub.status.busy": "2023-08-26T20:12:50.926558Z",
     "iopub.status.idle": "2023-08-26T20:12:50.944020Z",
     "shell.execute_reply": "2023-08-26T20:12:50.944020Z",
     "shell.execute_reply.started": "2023-08-26T20:12:50.927573Z"
    }
   },
   "outputs": [
    {
     "data": {
      "text/plain": [
       "ACTIVE COORDINATE SYSTEM SET TO          4  (CARTESIAN)"
      ]
     },
     "execution_count": 78,
     "metadata": {},
     "output_type": "execute_result"
    }
   ],
   "source": [
    "mapdl.csys(kcn=4)"
   ]
  },
  {
   "cell_type": "markdown",
   "id": "5697725e-41f2-4a38-9619-7af18bcf7b15",
   "metadata": {},
   "source": [
    "---"
   ]
  },
  {
   "cell_type": "code",
   "execution_count": 79,
   "id": "24b0c266-3226-4c51-8831-d7f399778f80",
   "metadata": {
    "execution": {
     "iopub.execute_input": "2023-08-26T20:15:00.313228Z",
     "iopub.status.busy": "2023-08-26T20:15:00.313228Z",
     "iopub.status.idle": "2023-08-26T20:15:00.338967Z",
     "shell.execute_reply": "2023-08-26T20:15:00.336498Z",
     "shell.execute_reply.started": "2023-08-26T20:15:00.313228Z"
    }
   },
   "outputs": [
    {
     "data": {
      "text/plain": [
       "array([17, 22, 24, 25, 27, 29, 30])"
      ]
     },
     "execution_count": 79,
     "metadata": {},
     "output_type": "execute_result"
    }
   ],
   "source": [
    "# mapdl.csys(cs_num)\n",
    "mapdl.wpcsys(kcn=cs_num)\n",
    "mapdl.wpstyl(wpctyp=0)\n",
    "mapdl.csys(kcn=4)\n",
    "mapdl.asel(\"S\", \"LOC\", \"Z\", -1.0e-9, 1.0e-9)"
   ]
  },
  {
   "cell_type": "code",
   "execution_count": 80,
   "id": "4d15b482-4b63-4c71-ab14-d9687eb4ad36",
   "metadata": {
    "execution": {
     "iopub.execute_input": "2023-08-26T20:15:09.712037Z",
     "iopub.status.busy": "2023-08-26T20:15:09.712037Z",
     "iopub.status.idle": "2023-08-26T20:15:09.732043Z",
     "shell.execute_reply": "2023-08-26T20:15:09.731546Z",
     "shell.execute_reply.started": "2023-08-26T20:15:09.712037Z"
    }
   },
   "outputs": [
    {
     "data": {
      "text/plain": [
       "array([17, 22, 24, 25, 27, 29, 30])"
      ]
     },
     "execution_count": 80,
     "metadata": {},
     "output_type": "execute_result"
    }
   ],
   "source": [
    "mapdl.allsel(labt=\"BELOW \", entity=\"AREA\")\n",
    "alist = mapdl.geometry.anum\n",
    "alist"
   ]
  },
  {
   "cell_type": "code",
   "execution_count": 62,
   "id": "d3498876-9570-438d-86ae-1014acf1fbcb",
   "metadata": {
    "execution": {
     "iopub.execute_input": "2023-08-26T19:50:54.164233Z",
     "iopub.status.busy": "2023-08-26T19:50:54.163707Z",
     "iopub.status.idle": "2023-08-26T19:50:54.178580Z",
     "shell.execute_reply": "2023-08-26T19:50:54.177497Z",
     "shell.execute_reply.started": "2023-08-26T19:50:54.164233Z"
    }
   },
   "outputs": [
    {
     "data": {
      "text/plain": [
       "ACTIVE COORDINATE SYSTEM SET TO          0  (CARTESIAN)"
      ]
     },
     "execution_count": 62,
     "metadata": {},
     "output_type": "execute_result"
    }
   ],
   "source": [
    "mapdl.csys(0)"
   ]
  },
  {
   "cell_type": "code",
   "execution_count": null,
   "id": "9f1255ab-4b05-402e-8215-80b29f8cc49b",
   "metadata": {},
   "outputs": [],
   "source": []
  },
  {
   "cell_type": "code",
   "execution_count": null,
   "id": "d5774c27-31c9-4f2d-bb6c-edd8fd49e3ec",
   "metadata": {},
   "outputs": [],
   "source": []
  },
  {
   "cell_type": "markdown",
   "id": "ea278a35-9f60-428e-9e88-8b56b667c2ed",
   "metadata": {},
   "source": [
    "---"
   ]
  },
  {
   "cell_type": "markdown",
   "id": "da146248-fbfe-4000-8929-9df6675b4a7a",
   "metadata": {},
   "source": [
    "## Contact detection between two component"
   ]
  },
  {
   "cell_type": "code",
   "execution_count": 32,
   "id": "1f4520b0-a2fb-4bd7-bad5-78124015d35d",
   "metadata": {
    "execution": {
     "iopub.execute_input": "2023-08-26T22:39:14.986021Z",
     "iopub.status.busy": "2023-08-26T22:39:14.986021Z",
     "iopub.status.idle": "2023-08-26T22:39:18.479361Z",
     "shell.execute_reply": "2023-08-26T22:39:18.479304Z",
     "shell.execute_reply.started": "2023-08-26T22:39:14.986021Z"
    }
   },
   "outputs": [
    {
     "name": "stderr",
     "output_type": "stream",
     "text": [
      "C:\\Users\\pramod.kumar\\PythonEnv\\myenv\\lib\\site-packages\\pyvista\\jupyter\\notebook.py:58: UserWarning: Failed to use notebook backend: \n",
      "\n",
      "No module named 'trame_vtk.tools'\n",
      "\n",
      "Falling back to a static output.\n",
      "  warnings.warn(\n"
     ]
    },
    {
     "data": {
      "image/jpeg": "[encoded data removed]",
      "image/png": "[encoded data removed]",
      "text/plain": [
       "<PIL.Image.Image image mode=RGB size=1024x768>"
      ]
     },
     "metadata": {},
     "output_type": "display_data"
    }
   ],
   "source": [
    "mapdl.cmsel(type_=\"S\", name=\"PART3\", entity=\"VOLU\")\n",
    "mapdl.cmsel(type_=\"A\", name=\"PART4\", entity=\"VOLU\")\n",
    "mapdl.allsel(labt=\"BELOW \", entity=\"VOLU\")\n",
    "mapdl.vplot()"
   ]
  },
  {
   "cell_type": "code",
   "execution_count": 42,
   "id": "516a31ba-077a-4e88-b0bb-d41c87fda74a",
   "metadata": {
    "execution": {
     "iopub.execute_input": "2023-08-27T06:51:14.489046Z",
     "iopub.status.busy": "2023-08-27T06:51:14.487895Z",
     "iopub.status.idle": "2023-08-27T06:51:14.514874Z",
     "shell.execute_reply": "2023-08-27T06:51:14.513798Z",
     "shell.execute_reply.started": "2023-08-27T06:51:14.489046Z"
    }
   },
   "outputs": [
    {
     "data": {
      "text/plain": [
       "array([12, 13, 14, 15, 16, 17])"
      ]
     },
     "execution_count": 42,
     "metadata": {},
     "output_type": "execute_result"
    }
   ],
   "source": [
    "mapdl.cmsel(type_=\"S\", name=\"PART3\", entity=\"VOLU\")\n",
    "mapdl.allsel(labt=\"BELOW \", entity=\"VOLU\")\n",
    "mapdl.allsel(labt=\"BELOW \", entity=\"AREA\")\n",
    "alist = mapdl.geometry.anum\n",
    "alist"
   ]
  },
  {
   "cell_type": "code",
   "execution_count": 44,
   "id": "96a44336-59f0-4de0-97c7-24f82f5be017",
   "metadata": {
    "execution": {
     "iopub.execute_input": "2023-08-27T06:51:41.555202Z",
     "iopub.status.busy": "2023-08-27T06:51:41.554706Z",
     "iopub.status.idle": "2023-08-27T06:51:43.228500Z",
     "shell.execute_reply": "2023-08-27T06:51:43.227375Z",
     "shell.execute_reply.started": "2023-08-27T06:51:41.555202Z"
    }
   },
   "outputs": [
    {
     "name": "stdout",
     "output_type": "stream",
     "text": [
      "[-2.50000000e-01  5.69512672e-18  1.50000000e-01] -180.0 -63.43494882292201 -90.0\n",
      "[18 19 20 21 22 23]\n",
      "[18]\n",
      "\n",
      "[-2.42184702e-18  1.00000000e-01  1.50000000e-01] 90.0 -78.6900675259798 -90.0\n",
      "[18 19 20 21 22 23]\n",
      "[21]\n",
      "\n",
      "[ 2.50000000e-01 -5.69512672e-18  1.50000000e-01] -0.0 -63.43494882292201 -90.0\n",
      "[18 19 20 21 22 23]\n",
      "[20]\n",
      "\n",
      "[-1.34578882e-17 -1.00000000e-01  1.50000000e-01] 90.0 -78.6900675259798 -90.0\n",
      "[18 19 20 21 22 23]\n",
      "[19]\n",
      "\n",
      "[-5.39399663e-18  7.20860577e-18  2.00000000e-01] 21.80140948635181 0.0 -0.0\n",
      "[18 19 20 21 22 23]\n",
      "[]\n",
      "\n",
      "[8.16711584e-19 3.33513055e-19 1.00000000e-01] 21.80140948635181 0.0 -0.0\n",
      "[18 19 20 21 22 23]\n",
      "[22]\n",
      "\n"
     ]
    }
   ],
   "source": [
    "cs_num = 1000\n",
    "for a_num in alist:\n",
    "    mapdl.csys(kcn=0)\n",
    "    centroid, r_z, r_x, r_y = pre.clocal_area(a_num)\n",
    "    print(centroid, r_z, r_x, r_y)\n",
    "    # print(a_num)\n",
    "\n",
    "    cs_num = cs_num + 1\n",
    "    cs_typ = 0\n",
    "    cent_x = centroid[0]\n",
    "    cent_y = centroid[1]\n",
    "    cent_z = centroid[2]\n",
    "    rxy = r_z\n",
    "    ryz = r_x\n",
    "    rzx = r_y\n",
    "    mapdl.csys(kcn=0)\n",
    "    mapdl.clocal(\n",
    "        kcn=cs_num,\n",
    "        kcs=cs_typ,\n",
    "        xl=cent_x,\n",
    "        yl=cent_y,\n",
    "        zl=cent_z,\n",
    "        thxy=rxy,\n",
    "        thyz=ryz,\n",
    "        thzx=rzx,\n",
    "    )\n",
    "\n",
    "    mapdl.cmsel(type_=\"S\", name=\"PART4\", entity=\"VOLU\")\n",
    "    mapdl.allsel(labt=\"BELOW \", entity=\"VOLU\")\n",
    "    mapdl.allsel(labt=\"BELOW \", entity=\"AREA\")\n",
    "    alist1 = mapdl.geometry.anum\n",
    "    print(alist1)\n",
    "    mapdl.wpcsys(kcn=cs_num)\n",
    "    mapdl.wpstyl(wpctyp=0)\n",
    "    mapdl.csys(kcn=4)\n",
    "    mapdl.csys(cs_num)\n",
    "    mapdl.asel(\"R\", \"LOC\", \"Z\", -1.0e-10, 1.0e-10)\n",
    "    # mapdl.allsel(labt=\"BELOW \", entity=\"AREA\")\n",
    "    alist_cm = mapdl.geometry.anum\n",
    "    print(alist_cm)\n",
    "    print()"
   ]
  },
  {
   "cell_type": "code",
   "execution_count": 51,
   "id": "ed4bfb26-3eab-4fdf-bc53-5e332eda2e67",
   "metadata": {
    "execution": {
     "iopub.execute_input": "2023-08-27T18:05:07.714346Z",
     "iopub.status.busy": "2023-08-27T18:05:07.713352Z",
     "iopub.status.idle": "2023-08-27T18:05:07.743926Z",
     "shell.execute_reply": "2023-08-27T18:05:07.741698Z",
     "shell.execute_reply.started": "2023-08-27T18:05:07.714346Z"
    }
   },
   "outputs": [],
   "source": [
    "def contact_between_cm(cm1, cm2, cs_num=1000):\n",
    "    mapdl.csys(kcn=0)\n",
    "    mapdl.cmsel(type_=\"S\", name=cm1, entity=\"VOLU\")\n",
    "    mapdl.allsel(labt=\"BELOW \", entity=\"VOLU\")\n",
    "    mapdl.allsel(labt=\"BELOW \", entity=\"AREA\")\n",
    "    alist = mapdl.geometry.anum\n",
    "    cs_num = cs_num\n",
    "\n",
    "    area_pair = {}\n",
    "    for a_num in alist:\n",
    "        mapdl.csys(kcn=0)\n",
    "        # mapdl.wpcsys(kcn=0)\n",
    "        centroid, r_z, r_x, r_y = pre.clocal_area(a_num)\n",
    "        # print(centroid, r_z, r_x, r_y)\n",
    "        # print(a_num)\n",
    "\n",
    "        cs_num = cs_num + 1\n",
    "        cs_typ = 0\n",
    "        cent_x = centroid[0]\n",
    "        cent_y = centroid[1]\n",
    "        cent_z = centroid[2]\n",
    "        rxy = r_z\n",
    "        ryz = r_x\n",
    "        rzx = r_y\n",
    "        mapdl.clocal(\n",
    "            kcn=cs_num,\n",
    "            kcs=cs_typ,\n",
    "            xl=cent_x,\n",
    "            yl=cent_y,\n",
    "            zl=cent_z,\n",
    "            thxy=rxy,\n",
    "            thyz=ryz,\n",
    "            thzx=rzx,\n",
    "        )\n",
    "\n",
    "        mapdl.cmsel(type_=\"S\", name=cm2, entity=\"VOLU\")\n",
    "        mapdl.allsel(labt=\"BELOW \", entity=\"VOLU\")\n",
    "        mapdl.allsel(labt=\"BELOW \", entity=\"AREA\")\n",
    "        alist1 = mapdl.geometry.anum\n",
    "        # print(alist1)\n",
    "        mapdl.wpcsys(kcn=cs_num)\n",
    "        mapdl.wpstyl(wpctyp=0)\n",
    "        mapdl.csys(kcn=4)\n",
    "        mapdl.asel(\"R\", \"LOC\", \"Z\", -1.0e-3, 1.0e-3)\n",
    "        # mapdl.allsel(labt=\"BELOW \", entity=\"AREA\")\n",
    "        alist_cm = mapdl.geometry.anum\n",
    "        area_pair[a_num]=alist_cm\n",
    "        # print(alist_cm)\n",
    "        # print()\n",
    "        # mapdl.csys(kcn=0)\n",
    "    return area_pair"
   ]
  },
  {
   "cell_type": "code",
   "execution_count": null,
   "id": "55cdd11c-57f9-430d-b768-2a91acf63805",
   "metadata": {},
   "outputs": [],
   "source": []
  },
  {
   "cell_type": "code",
   "execution_count": 52,
   "id": "29155d8b-a5ba-4004-a898-a8f638b34b11",
   "metadata": {
    "execution": {
     "iopub.execute_input": "2023-08-27T18:05:09.497994Z",
     "iopub.status.busy": "2023-08-27T18:05:09.497322Z",
     "iopub.status.idle": "2023-08-27T18:05:12.865344Z",
     "shell.execute_reply": "2023-08-27T18:05:12.863844Z",
     "shell.execute_reply.started": "2023-08-27T18:05:09.497994Z"
    }
   },
   "outputs": [],
   "source": [
    "cm1 = \"PART3\"\n",
    "cm2 = \"PART4\"\n",
    "conta_targ=contact_between_cm(cm1, cm2)"
   ]
  },
  {
   "cell_type": "code",
   "execution_count": 53,
   "id": "fab3c74f-7488-4a96-a681-11a8c576c908",
   "metadata": {
    "execution": {
     "iopub.execute_input": "2023-08-27T18:05:23.120356Z",
     "iopub.status.busy": "2023-08-27T18:05:23.120356Z",
     "iopub.status.idle": "2023-08-27T18:05:23.133847Z",
     "shell.execute_reply": "2023-08-27T18:05:23.132201Z",
     "shell.execute_reply.started": "2023-08-27T18:05:23.120356Z"
    }
   },
   "outputs": [
    {
     "data": {
      "text/plain": [
       "{12: array([18]),\n",
       " 13: array([21]),\n",
       " 14: array([20]),\n",
       " 15: array([19]),\n",
       " 16: array([], dtype=int32),\n",
       " 17: array([22])}"
      ]
     },
     "execution_count": 53,
     "metadata": {},
     "output_type": "execute_result"
    }
   ],
   "source": [
    "conta_targ"
   ]
  },
  {
   "cell_type": "markdown",
   "id": "d44b307c-5bfd-499e-810c-495060c63349",
   "metadata": {},
   "source": [
    "- Here all parallel area get selected (which are not overlapping too)\n",
    "\n",
    "- only 17, 22 are overlapping"
   ]
  },
  {
   "cell_type": "code",
   "execution_count": 59,
   "id": "79a2e96d-82d3-4b12-afc6-b955d6d526ee",
   "metadata": {
    "execution": {
     "iopub.execute_input": "2023-08-28T04:31:42.806240Z",
     "iopub.status.busy": "2023-08-28T04:31:42.806240Z",
     "iopub.status.idle": "2023-08-28T04:31:42.815275Z",
     "shell.execute_reply": "2023-08-28T04:31:42.814282Z",
     "shell.execute_reply.started": "2023-08-28T04:31:42.806240Z"
    }
   },
   "outputs": [],
   "source": [
    "area1=list(conta_targ.keys())"
   ]
  },
  {
   "cell_type": "code",
   "execution_count": 60,
   "id": "29b96288-c7b1-4a26-8a44-e7d9a711393c",
   "metadata": {
    "execution": {
     "iopub.execute_input": "2023-08-28T04:31:43.472426Z",
     "iopub.status.busy": "2023-08-28T04:31:43.471347Z",
     "iopub.status.idle": "2023-08-28T04:31:43.495953Z",
     "shell.execute_reply": "2023-08-28T04:31:43.494959Z",
     "shell.execute_reply.started": "2023-08-28T04:31:43.472426Z"
    }
   },
   "outputs": [
    {
     "data": {
      "text/plain": [
       "[12, 13, 14, 15, 16, 17]"
      ]
     },
     "execution_count": 60,
     "metadata": {},
     "output_type": "execute_result"
    }
   ],
   "source": [
    "area1"
   ]
  },
  {
   "cell_type": "code",
   "execution_count": 63,
   "id": "5ff959aa-9a75-4043-ab6b-829a8b80f986",
   "metadata": {
    "execution": {
     "iopub.execute_input": "2023-08-28T04:46:08.439271Z",
     "iopub.status.busy": "2023-08-28T04:46:08.437942Z",
     "iopub.status.idle": "2023-08-28T04:46:08.456035Z",
     "shell.execute_reply": "2023-08-28T04:46:08.454600Z",
     "shell.execute_reply.started": "2023-08-28T04:46:08.439271Z"
    }
   },
   "outputs": [
    {
     "data": {
      "text/plain": [
       "array([18])"
      ]
     },
     "execution_count": 63,
     "metadata": {},
     "output_type": "execute_result"
    }
   ],
   "source": [
    "conta_targ[area1[0]]"
   ]
  },
  {
   "cell_type": "code",
   "execution_count": 117,
   "id": "146edcdb-57f8-4a36-aa74-ab26470c1601",
   "metadata": {
    "execution": {
     "iopub.execute_input": "2023-08-28T05:51:02.719196Z",
     "iopub.status.busy": "2023-08-28T05:51:02.718699Z",
     "iopub.status.idle": "2023-08-28T05:51:02.789379Z",
     "shell.execute_reply": "2023-08-28T05:51:02.787456Z",
     "shell.execute_reply.started": "2023-08-28T05:51:02.719196Z"
    }
   },
   "outputs": [
    {
     "data": {
      "text/plain": [
       "SAVE ALL MODEL, SOLUTION AND POST DATA.\n",
       "\n",
       " ALL CURRENT MAPDL DATA WRITTEN TO FILE NAME= EOF_import.db\n",
       "  FOR POSSIBLE RESUME FROM THIS POINT"
      ]
     },
     "execution_count": 117,
     "metadata": {},
     "output_type": "execute_result"
    }
   ],
   "source": [
    "mapdl.db.save(\"EOF_import.db\")"
   ]
  },
  {
   "cell_type": "markdown",
   "id": "468caade-6a7e-4a26-8503-e683a12e7d12",
   "metadata": {},
   "source": [
    "## Selection of overlapped area from area pair dictionary"
   ]
  },
  {
   "cell_type": "markdown",
   "id": "9d637966-15f1-4625-b5a4-2ae6cf1ce5a3",
   "metadata": {},
   "source": [
    "### Case1: when areas overlapping then centroid will match"
   ]
  },
  {
   "cell_type": "code",
   "execution_count": 78,
   "id": "6b6f702a-d425-477f-bb3f-140a0827c343",
   "metadata": {
    "execution": {
     "iopub.execute_input": "2023-08-28T05:29:07.388789Z",
     "iopub.status.busy": "2023-08-28T05:29:07.388789Z",
     "iopub.status.idle": "2023-08-28T05:29:07.395441Z",
     "shell.execute_reply": "2023-08-28T05:29:07.393793Z",
     "shell.execute_reply.started": "2023-08-28T05:29:07.388789Z"
    }
   },
   "outputs": [],
   "source": [
    "anum1 = 17\n",
    "anum2 = 22"
   ]
  },
  {
   "cell_type": "code",
   "execution_count": 128,
   "id": "4b036cf8-e583-4f9c-b474-494768a9add7",
   "metadata": {
    "execution": {
     "iopub.execute_input": "2023-08-28T06:02:28.011737Z",
     "iopub.status.busy": "2023-08-28T06:02:28.010550Z",
     "iopub.status.idle": "2023-08-28T06:02:28.075047Z",
     "shell.execute_reply": "2023-08-28T06:02:28.073071Z",
     "shell.execute_reply.started": "2023-08-28T06:02:28.011737Z"
    }
   },
   "outputs": [
    {
     "name": "stdout",
     "output_type": "stream",
     "text": [
      "area overlapping, dist: 1.552222080364103e-17\n"
     ]
    }
   ],
   "source": [
    "centroid1 = pre.area_cent([anum1])\n",
    "centroid2 = pre.area_cent([anum2])\n",
    "centroid1=np.array(centroid1)\n",
    "centroid2=np.array(centroid2)\n",
    "\n",
    "dist = np.linalg.norm(centroid1 - centroid2)\n",
    "\n",
    "if dist<=1.0e-3:\n",
    "    print(f\"area overlapping, dist: {dist}\")"
   ]
  },
  {
   "cell_type": "code",
   "execution_count": 126,
   "id": "9c130705-5f7c-41ab-8f3e-dd0d6c4a8f12",
   "metadata": {
    "execution": {
     "iopub.execute_input": "2023-08-28T05:59:51.197385Z",
     "iopub.status.busy": "2023-08-28T05:59:51.196360Z",
     "iopub.status.idle": "2023-08-28T05:59:51.217186Z",
     "shell.execute_reply": "2023-08-28T05:59:51.216004Z",
     "shell.execute_reply.started": "2023-08-28T05:59:51.197385Z"
    }
   },
   "outputs": [
    {
     "data": {
      "text/plain": [
       "1.552222080364103e-17"
      ]
     },
     "execution_count": 126,
     "metadata": {},
     "output_type": "execute_result"
    }
   ],
   "source": [
    "dist"
   ]
  },
  {
   "cell_type": "markdown",
   "id": "39ad5cb7-a78f-4858-ae27-c191bfaf1d13",
   "metadata": {},
   "source": [
    "### Case2: when areas not overlapping"
   ]
  },
  {
   "cell_type": "markdown",
   "id": "f166bdbd-0ce6-4059-813a-1173676a440a",
   "metadata": {},
   "source": [
    "There will be four cases and in one case area is not overlapping"
   ]
  },
  {
   "attachments": {
    "8b664dbe-c086-4698-84e8-7641cb906055.png": {
     "image/png": "[encoded data removed]"
    }
   },
   "cell_type": "markdown",
   "id": "df42c6cc-d867-4a52-b9ed-9a78b4950395",
   "metadata": {},
   "source": [
    "![image.png](attachment:8b664dbe-c086-4698-84e8-7641cb906055.png)"
   ]
  },
  {
   "cell_type": "code",
   "execution_count": 156,
   "id": "d97a791d-4c8c-4764-8392-0b7c3270f3e4",
   "metadata": {
    "execution": {
     "iopub.execute_input": "2023-08-28T07:51:53.631221Z",
     "iopub.status.busy": "2023-08-28T07:51:53.630224Z",
     "iopub.status.idle": "2023-08-28T07:51:53.649486Z",
     "shell.execute_reply": "2023-08-28T07:51:53.647843Z",
     "shell.execute_reply.started": "2023-08-28T07:51:53.631221Z"
    }
   },
   "outputs": [],
   "source": [
    "anum1 = 12\n",
    "anum2 = 18"
   ]
  },
  {
   "cell_type": "code",
   "execution_count": 130,
   "id": "dab0a4ca-239f-43d0-bf1c-445f6312ff93",
   "metadata": {
    "execution": {
     "iopub.execute_input": "2023-08-28T07:41:30.111771Z",
     "iopub.status.busy": "2023-08-28T07:41:30.111771Z",
     "iopub.status.idle": "2023-08-28T07:41:30.192029Z",
     "shell.execute_reply": "2023-08-28T07:41:30.191034Z",
     "shell.execute_reply.started": "2023-08-28T07:41:30.111771Z"
    }
   },
   "outputs": [
    {
     "data": {
      "text/plain": [
       "65"
      ]
     },
     "execution_count": 130,
     "metadata": {},
     "output_type": "execute_result"
    }
   ],
   "source": [
    "mapdl.csys(kcn=0)\n",
    "mapdl.asel('S','AREA', '', anum1)\n",
    "mapdl.allsel(labt=\"BELOW \", entity=\"AREA\")\n",
    "mapdl.allsel(labt=\"BELOW \", entity=\"LINE\")\n",
    "llist1 = mapdl.geometry.lnum\n",
    "# print(llist)\n",
    "mapdl.allsel(labt=\"BELOW \", entity=\"KP\")\n",
    "klist1 = mapdl.geometry.knum\n",
    "len(klist1)"
   ]
  },
  {
   "cell_type": "code",
   "execution_count": 131,
   "id": "9a76c869-09a4-464f-8352-e247ebcd3ba4",
   "metadata": {
    "execution": {
     "iopub.execute_input": "2023-08-28T07:41:35.639083Z",
     "iopub.status.busy": "2023-08-28T07:41:35.639083Z",
     "iopub.status.idle": "2023-08-28T07:41:36.536808Z",
     "shell.execute_reply": "2023-08-28T07:41:36.536808Z",
     "shell.execute_reply.started": "2023-08-28T07:41:35.639083Z"
    }
   },
   "outputs": [],
   "source": [
    "if len(klist) <= 40:\n",
    "    for lnum in llist:\n",
    "        mapdl.ldiv(lnum, ndiv=10)\n",
    "    llist1 = mapdl.geometry.lnum\n",
    "    klist1 = mapdl.geometry.knum\n",
    "    \n",
    "kp_coord1 = {}\n",
    "for kpoiint in klist1:\n",
    "    k_x = mapdl.queries.kx(kpoiint)\n",
    "    k_y = mapdl.queries.ky(kpoiint)\n",
    "    k_z = mapdl.queries.kz(kpoiint)\n",
    "    k1 = np.array([k_x, k_y, k_z])\n",
    "    kp_coord1[kpoiint] = k1\n",
    "\n",
    "centroid1 = pre.area_cent([anum1])"
   ]
  },
  {
   "cell_type": "code",
   "execution_count": 135,
   "id": "3a4327e1-135e-40c3-a3fa-faa46bb041b7",
   "metadata": {
    "execution": {
     "iopub.execute_input": "2023-08-28T07:41:46.994385Z",
     "iopub.status.busy": "2023-08-28T07:41:46.993366Z",
     "iopub.status.idle": "2023-08-28T07:41:47.002278Z",
     "shell.execute_reply": "2023-08-28T07:41:47.001155Z",
     "shell.execute_reply.started": "2023-08-28T07:41:46.994385Z"
    }
   },
   "outputs": [
    {
     "data": {
      "text/plain": [
       "array([[-2.50000000e-01,  5.69512672e-18,  1.50000000e-01]])"
      ]
     },
     "execution_count": 135,
     "metadata": {},
     "output_type": "execute_result"
    }
   ],
   "source": [
    "centroid1"
   ]
  },
  {
   "cell_type": "code",
   "execution_count": 140,
   "id": "55e8cc7d-c1c8-4dfc-83ac-d84c9a06a7f0",
   "metadata": {
    "execution": {
     "iopub.execute_input": "2023-08-28T07:42:48.657601Z",
     "iopub.status.busy": "2023-08-28T07:42:48.657601Z",
     "iopub.status.idle": "2023-08-28T07:42:48.665934Z",
     "shell.execute_reply": "2023-08-28T07:42:48.664629Z",
     "shell.execute_reply.started": "2023-08-28T07:42:48.657601Z"
    }
   },
   "outputs": [
    {
     "data": {
      "text/plain": [
       "65"
      ]
     },
     "execution_count": 140,
     "metadata": {},
     "output_type": "execute_result"
    }
   ],
   "source": [
    "len(llist1)"
   ]
  },
  {
   "cell_type": "code",
   "execution_count": 139,
   "id": "9cdfedde-e56c-40cf-8795-a9a07a502433",
   "metadata": {
    "execution": {
     "iopub.execute_input": "2023-08-28T07:42:46.396054Z",
     "iopub.status.busy": "2023-08-28T07:42:46.395086Z",
     "iopub.status.idle": "2023-08-28T07:42:46.404901Z",
     "shell.execute_reply": "2023-08-28T07:42:46.404405Z",
     "shell.execute_reply.started": "2023-08-28T07:42:46.396054Z"
    }
   },
   "outputs": [
    {
     "data": {
      "text/plain": [
       "65"
      ]
     },
     "execution_count": 139,
     "metadata": {},
     "output_type": "execute_result"
    }
   ],
   "source": [
    "len(klist1)"
   ]
  },
  {
   "cell_type": "markdown",
   "id": "b7930869-c130-4bd3-bdf9-5ecc72389eef",
   "metadata": {},
   "source": [
    "---"
   ]
  },
  {
   "cell_type": "code",
   "execution_count": 158,
   "id": "d6fd1ed7-35c1-48e9-83d3-3b5234b0aa6b",
   "metadata": {
    "execution": {
     "iopub.execute_input": "2023-08-28T07:56:04.590351Z",
     "iopub.status.busy": "2023-08-28T07:56:04.589413Z",
     "iopub.status.idle": "2023-08-28T07:56:04.647695Z",
     "shell.execute_reply": "2023-08-28T07:56:04.646702Z",
     "shell.execute_reply.started": "2023-08-28T07:56:04.590351Z"
    }
   },
   "outputs": [
    {
     "data": {
      "text/plain": [
       "103"
      ]
     },
     "execution_count": 158,
     "metadata": {},
     "output_type": "execute_result"
    }
   ],
   "source": [
    "mapdl.asel('S','AREA', '', anum2)\n",
    "mapdl.allsel(labt=\"BELOW \", entity=\"AREA\")\n",
    "mapdl.allsel(labt=\"BELOW \", entity=\"LINE\")\n",
    "llist2 = mapdl.geometry.lnum\n",
    "mapdl.allsel(labt=\"BELOW \", entity=\"KP\")\n",
    "klist2 = mapdl.geometry.knum\n",
    "len(klist2)"
   ]
  },
  {
   "cell_type": "code",
   "execution_count": 159,
   "id": "652c685c-848e-46a6-bbc6-b678794cb958",
   "metadata": {
    "execution": {
     "iopub.execute_input": "2023-08-28T07:56:18.333685Z",
     "iopub.status.busy": "2023-08-28T07:56:18.332658Z",
     "iopub.status.idle": "2023-08-28T07:56:18.341442Z",
     "shell.execute_reply": "2023-08-28T07:56:18.340449Z",
     "shell.execute_reply.started": "2023-08-28T07:56:18.333685Z"
    }
   },
   "outputs": [
    {
     "data": {
      "text/plain": [
       "array([ 25,  26,  29,  30, 218, 219, 220, 221, 222, 223, 224, 225, 226,\n",
       "       254, 255, 256, 257, 258, 259, 260, 261, 262, 506, 507, 508, 509,\n",
       "       510, 511, 512, 513, 514, 515, 516, 517, 518, 519, 520, 521, 522,\n",
       "       523, 524, 525, 526, 527, 528, 529, 530, 531, 532, 533, 534, 535,\n",
       "       536, 537, 538, 539, 540, 541, 542, 543, 544, 545, 546, 547, 548,\n",
       "       549, 550, 551, 552, 553, 554, 555, 556, 557, 558, 559, 560, 561,\n",
       "       562, 563, 564, 565, 566, 567, 568, 569, 570, 571, 572, 573, 574,\n",
       "       575, 576, 577, 578, 579, 580, 581, 582, 583, 584, 585, 586])"
      ]
     },
     "execution_count": 159,
     "metadata": {},
     "output_type": "execute_result"
    }
   ],
   "source": [
    "klist2"
   ]
  },
  {
   "cell_type": "code",
   "execution_count": 146,
   "id": "f582d011-e6fe-47b6-8860-37b75520e775",
   "metadata": {
    "execution": {
     "iopub.execute_input": "2023-08-28T07:46:18.665011Z",
     "iopub.status.busy": "2023-08-28T07:46:18.664516Z",
     "iopub.status.idle": "2023-08-28T07:46:19.848909Z",
     "shell.execute_reply": "2023-08-28T07:46:19.847916Z",
     "shell.execute_reply.started": "2023-08-28T07:46:18.665011Z"
    }
   },
   "outputs": [],
   "source": [
    "if len(klist2) <= 40:\n",
    "    for lnum in llist2:\n",
    "        mapdl.ldiv(lnum, ndiv=10)\n",
    "    llist = mapdl.geometry.lnum\n",
    "    klist = mapdl.geometry.knum\n",
    "\n",
    "kp_coord2 = {}\n",
    "for kpoiint in klist2:\n",
    "    k_x = mapdl.queries.kx(kpoiint)\n",
    "    k_y = mapdl.queries.ky(kpoiint)\n",
    "    k_z = mapdl.queries.kz(kpoiint)\n",
    "    k1 = np.array([k_x, k_y, k_z])\n",
    "    kp_coord2[kpoiint] = k1\n",
    "\n",
    "centroid1 = pre.area_cent([anum1])"
   ]
  },
  {
   "cell_type": "code",
   "execution_count": 147,
   "id": "b5db02d8-4d67-4605-ad5d-f5714e3a7d4b",
   "metadata": {
    "execution": {
     "iopub.execute_input": "2023-08-28T07:46:19.865315Z",
     "iopub.status.busy": "2023-08-28T07:46:19.864711Z",
     "iopub.status.idle": "2023-08-28T07:46:19.882972Z",
     "shell.execute_reply": "2023-08-28T07:46:19.879910Z",
     "shell.execute_reply.started": "2023-08-28T07:46:19.865315Z"
    }
   },
   "outputs": [
    {
     "data": {
      "text/plain": [
       "103"
      ]
     },
     "execution_count": 147,
     "metadata": {},
     "output_type": "execute_result"
    }
   ],
   "source": [
    "len(klist2)"
   ]
  },
  {
   "cell_type": "code",
   "execution_count": 103,
   "id": "6e539b2e-3c28-4442-9aa2-b5c552dce880",
   "metadata": {
    "execution": {
     "iopub.execute_input": "2023-08-28T05:38:34.317801Z",
     "iopub.status.busy": "2023-08-28T05:38:34.316804Z",
     "iopub.status.idle": "2023-08-28T05:38:34.325654Z",
     "shell.execute_reply": "2023-08-28T05:38:34.325119Z",
     "shell.execute_reply.started": "2023-08-28T05:38:34.317801Z"
    }
   },
   "outputs": [],
   "source": [
    "# kp_coord2"
   ]
  },
  {
   "cell_type": "code",
   "execution_count": 148,
   "id": "152c2373-d509-49b9-b2af-35fafdf3a4e0",
   "metadata": {
    "execution": {
     "iopub.execute_input": "2023-08-28T07:46:33.439459Z",
     "iopub.status.busy": "2023-08-28T07:46:33.438462Z",
     "iopub.status.idle": "2023-08-28T07:46:33.444089Z",
     "shell.execute_reply": "2023-08-28T07:46:33.443569Z",
     "shell.execute_reply.started": "2023-08-28T07:46:33.439459Z"
    }
   },
   "outputs": [],
   "source": [
    "kp_list2= list(kp_coord2.keys())"
   ]
  },
  {
   "cell_type": "code",
   "execution_count": 149,
   "id": "b7b72178-158d-406b-8846-b5dd78c2083f",
   "metadata": {
    "execution": {
     "iopub.execute_input": "2023-08-28T07:46:34.586402Z",
     "iopub.status.busy": "2023-08-28T07:46:34.585415Z",
     "iopub.status.idle": "2023-08-28T07:46:34.595728Z",
     "shell.execute_reply": "2023-08-28T07:46:34.594735Z",
     "shell.execute_reply.started": "2023-08-28T07:46:34.586402Z"
    }
   },
   "outputs": [
    {
     "data": {
      "text/plain": [
       "array([-0.25, -0.1 ,  0.1 ])"
      ]
     },
     "execution_count": 149,
     "metadata": {},
     "output_type": "execute_result"
    }
   ],
   "source": [
    "kp_coord2[kp_list2[0]]"
   ]
  },
  {
   "cell_type": "code",
   "execution_count": null,
   "id": "ecf673db-99bd-421a-a282-71b77719d44c",
   "metadata": {},
   "outputs": [],
   "source": []
  },
  {
   "cell_type": "code",
   "execution_count": 150,
   "id": "79b743fa-d4be-49b1-b976-faa39f2f7d9b",
   "metadata": {
    "execution": {
     "iopub.execute_input": "2023-08-28T07:46:39.635582Z",
     "iopub.status.busy": "2023-08-28T07:46:39.635582Z",
     "iopub.status.idle": "2023-08-28T07:46:39.651036Z",
     "shell.execute_reply": "2023-08-28T07:46:39.649547Z",
     "shell.execute_reply.started": "2023-08-28T07:46:39.635582Z"
    }
   },
   "outputs": [],
   "source": [
    "dist_list=[]\n",
    "for kpoint in kp_list2:\n",
    "    dist = np.linalg.norm(centroid1 - kp_coord2[kpoint])\n",
    "    dist_list.append(dist)"
   ]
  },
  {
   "cell_type": "code",
   "execution_count": 152,
   "id": "a8a82558-65db-4b8f-b44c-d85727b68362",
   "metadata": {
    "execution": {
     "iopub.execute_input": "2023-08-28T07:46:57.643473Z",
     "iopub.status.busy": "2023-08-28T07:46:57.642463Z",
     "iopub.status.idle": "2023-08-28T07:46:57.656371Z",
     "shell.execute_reply": "2023-08-28T07:46:57.655285Z",
     "shell.execute_reply.started": "2023-08-28T07:46:57.643473Z"
    }
   },
   "outputs": [
    {
     "data": {
      "text/plain": [
       "0.049999999999999975"
      ]
     },
     "execution_count": 152,
     "metadata": {},
     "output_type": "execute_result"
    }
   ],
   "source": [
    "min_value=min(dist_list)\n",
    "min_value"
   ]
  },
  {
   "cell_type": "code",
   "execution_count": 153,
   "id": "dfe32aae-c077-4df5-96c5-7844ead49495",
   "metadata": {
    "execution": {
     "iopub.execute_input": "2023-08-28T07:47:54.706974Z",
     "iopub.status.busy": "2023-08-28T07:47:54.706974Z",
     "iopub.status.idle": "2023-08-28T07:47:54.723763Z",
     "shell.execute_reply": "2023-08-28T07:47:54.722507Z",
     "shell.execute_reply.started": "2023-08-28T07:47:54.706974Z"
    }
   },
   "outputs": [
    {
     "data": {
      "text/plain": [
       "8"
      ]
     },
     "execution_count": 153,
     "metadata": {},
     "output_type": "execute_result"
    }
   ],
   "source": [
    "min_index=dist_list.index(min_value)\n",
    "min_index"
   ]
  },
  {
   "cell_type": "code",
   "execution_count": 154,
   "id": "fc2edc5a-a661-4ded-aacb-77291f617a64",
   "metadata": {
    "execution": {
     "iopub.execute_input": "2023-08-28T07:48:04.983458Z",
     "iopub.status.busy": "2023-08-28T07:48:04.982463Z",
     "iopub.status.idle": "2023-08-28T07:48:04.992721Z",
     "shell.execute_reply": "2023-08-28T07:48:04.992208Z",
     "shell.execute_reply.started": "2023-08-28T07:48:04.983458Z"
    }
   },
   "outputs": [
    {
     "data": {
      "text/plain": [
       "0.049999999999999975"
      ]
     },
     "execution_count": 154,
     "metadata": {},
     "output_type": "execute_result"
    }
   ],
   "source": [
    "dist_list[min_index]"
   ]
  },
  {
   "cell_type": "code",
   "execution_count": 161,
   "id": "8547357f-c3d3-457a-b809-70b6f4cc3f18",
   "metadata": {
    "execution": {
     "iopub.execute_input": "2023-08-28T08:46:21.358980Z",
     "iopub.status.busy": "2023-08-28T08:46:21.358980Z",
     "iopub.status.idle": "2023-08-28T08:46:21.366211Z",
     "shell.execute_reply": "2023-08-28T08:46:21.365713Z",
     "shell.execute_reply.started": "2023-08-28T08:46:21.358980Z"
    }
   },
   "outputs": [
    {
     "data": {
      "text/plain": [
       "222"
      ]
     },
     "execution_count": 161,
     "metadata": {},
     "output_type": "execute_result"
    }
   ],
   "source": [
    "kp_list2[min_index]"
   ]
  },
  {
   "cell_type": "code",
   "execution_count": 162,
   "id": "4cb307bf-5e6d-4257-a342-18859eb072e7",
   "metadata": {
    "execution": {
     "iopub.execute_input": "2023-08-28T08:46:26.229935Z",
     "iopub.status.busy": "2023-08-28T08:46:26.229439Z",
     "iopub.status.idle": "2023-08-28T08:46:26.250668Z",
     "shell.execute_reply": "2023-08-28T08:46:26.249178Z",
     "shell.execute_reply.started": "2023-08-28T08:46:26.229935Z"
    }
   },
   "outputs": [],
   "source": [
    "v0 = kp_coord2[kp_list2[min_index]]"
   ]
  },
  {
   "cell_type": "code",
   "execution_count": 163,
   "id": "04e68fe7-d028-4d5c-bc7a-57884a15eea1",
   "metadata": {
    "execution": {
     "iopub.execute_input": "2023-08-28T08:46:32.632964Z",
     "iopub.status.busy": "2023-08-28T08:46:32.632964Z",
     "iopub.status.idle": "2023-08-28T08:46:32.652156Z",
     "shell.execute_reply": "2023-08-28T08:46:32.650320Z",
     "shell.execute_reply.started": "2023-08-28T08:46:32.632964Z"
    }
   },
   "outputs": [
    {
     "data": {
      "text/plain": [
       "array([-0.25,  0.  ,  0.1 ])"
      ]
     },
     "execution_count": 163,
     "metadata": {},
     "output_type": "execute_result"
    }
   ],
   "source": [
    "v0"
   ]
  },
  {
   "cell_type": "markdown",
   "id": "c8772049-eb62-4221-8da1-5269ac39ae18",
   "metadata": {},
   "source": [
    "---"
   ]
  },
  {
   "cell_type": "code",
   "execution_count": 168,
   "id": "4890437c-c956-44bf-8251-7d04141b49a8",
   "metadata": {
    "execution": {
     "iopub.execute_input": "2023-08-28T08:51:25.316089Z",
     "iopub.status.busy": "2023-08-28T08:51:25.315012Z",
     "iopub.status.idle": "2023-08-28T08:51:25.322655Z",
     "shell.execute_reply": "2023-08-28T08:51:25.321377Z",
     "shell.execute_reply.started": "2023-08-28T08:51:25.316089Z"
    }
   },
   "outputs": [],
   "source": [
    "kplist1 = list(kp_coord1.keys())"
   ]
  },
  {
   "cell_type": "code",
   "execution_count": 169,
   "id": "d1a2c540-f275-43c0-bc14-b5074e0b2464",
   "metadata": {
    "execution": {
     "iopub.execute_input": "2023-08-28T08:51:34.210400Z",
     "iopub.status.busy": "2023-08-28T08:51:34.210400Z",
     "iopub.status.idle": "2023-08-28T08:51:34.228930Z",
     "shell.execute_reply": "2023-08-28T08:51:34.227296Z",
     "shell.execute_reply.started": "2023-08-28T08:51:34.210400Z"
    }
   },
   "outputs": [
    {
     "data": {
      "text/plain": [
       "array([-0.25,  0.1 ,  0.2 ])"
      ]
     },
     "execution_count": 169,
     "metadata": {},
     "output_type": "execute_result"
    }
   ],
   "source": [
    "kp_coord1[kplist1[0]]"
   ]
  },
  {
   "cell_type": "code",
   "execution_count": 170,
   "id": "07dd39d5-4e5c-4659-8ac0-bcb9cbc5fdb2",
   "metadata": {
    "execution": {
     "iopub.execute_input": "2023-08-28T08:54:13.816676Z",
     "iopub.status.busy": "2023-08-28T08:54:13.815680Z",
     "iopub.status.idle": "2023-08-28T08:54:13.835098Z",
     "shell.execute_reply": "2023-08-28T08:54:13.833083Z",
     "shell.execute_reply.started": "2023-08-28T08:54:13.816676Z"
    }
   },
   "outputs": [],
   "source": [
    "v0 = kp_coord2[kp_list2[min_index]]\n",
    "vector_21_list = []\n",
    "for kpn in kplist1:\n",
    "    v1 = kp_coord1[kpn]\n",
    "    dir_vec = v1 - v0\n",
    "    vector_21_list.append(dir_vec)\n",
    "\n",
    "\n"
   ]
  },
  {
   "cell_type": "code",
   "execution_count": 172,
   "id": "4dd1b782-2bf3-45b1-8ca8-fa8544ad3978",
   "metadata": {
    "execution": {
     "iopub.execute_input": "2023-08-28T08:58:12.549866Z",
     "iopub.status.busy": "2023-08-28T08:58:12.548832Z",
     "iopub.status.idle": "2023-08-28T08:58:12.561100Z",
     "shell.execute_reply": "2023-08-28T08:58:12.560602Z",
     "shell.execute_reply.started": "2023-08-28T08:58:12.549866Z"
    }
   },
   "outputs": [
    {
     "data": {
      "text/plain": [
       "65"
      ]
     },
     "execution_count": 172,
     "metadata": {},
     "output_type": "execute_result"
    }
   ],
   "source": [
    "len(vector_21_list)"
   ]
  },
  {
   "cell_type": "code",
   "execution_count": null,
   "id": "67cf4d72-c233-45bf-a39a-340947b290ec",
   "metadata": {},
   "outputs": [],
   "source": []
  },
  {
   "cell_type": "code",
   "execution_count": null,
   "id": "d1906bf8-8047-479c-94be-6840aa9d99c1",
   "metadata": {},
   "outputs": [],
   "source": []
  },
  {
   "cell_type": "code",
   "execution_count": null,
   "id": "cc945701-ceae-49f6-b76a-d3364bc675c3",
   "metadata": {},
   "outputs": [],
   "source": []
  },
  {
   "cell_type": "code",
   "execution_count": null,
   "id": "fb1618c5-3127-415e-afd5-5cf4cada5cbb",
   "metadata": {},
   "outputs": [],
   "source": []
  },
  {
   "cell_type": "code",
   "execution_count": null,
   "id": "3ca20e67-a473-438f-9be0-f3f1a82f2e87",
   "metadata": {},
   "outputs": [],
   "source": []
  },
  {
   "cell_type": "code",
   "execution_count": null,
   "id": "e715949e-9f7d-4bd4-a4e3-a970a85d0f58",
   "metadata": {},
   "outputs": [],
   "source": []
  },
  {
   "cell_type": "code",
   "execution_count": 36,
   "id": "4aee3840-bc1d-4461-b9f3-7fbc1471dc2a",
   "metadata": {
    "execution": {
     "iopub.execute_input": "2023-08-27T06:44:34.647784Z",
     "iopub.status.busy": "2023-08-27T06:44:34.647784Z",
     "iopub.status.idle": "2023-08-27T06:44:39.341835Z",
     "shell.execute_reply": "2023-08-27T06:44:39.340597Z",
     "shell.execute_reply.started": "2023-08-27T06:44:34.647784Z"
    }
   },
   "outputs": [],
   "source": [
    "mapdl.exit()"
   ]
  },
  {
   "cell_type": "code",
   "execution_count": null,
   "id": "cc84d052-bc4d-4173-a441-a2552976ed51",
   "metadata": {},
   "outputs": [],
   "source": []
  },
  {
   "cell_type": "code",
   "execution_count": null,
   "id": "9905da9c-3725-4327-a6c4-189571432dd5",
   "metadata": {},
   "outputs": [],
   "source": []
  },
  {
   "cell_type": "code",
   "execution_count": 174,
   "id": "f6a7a1a1-0379-4d1a-b286-5762cfe6f9cc",
   "metadata": {
    "execution": {
     "iopub.execute_input": "2023-08-28T09:03:08.362949Z",
     "iopub.status.busy": "2023-08-28T09:03:08.362453Z",
     "iopub.status.idle": "2023-08-28T09:03:08.380645Z",
     "shell.execute_reply": "2023-08-28T09:03:08.377818Z",
     "shell.execute_reply.started": "2023-08-28T09:03:08.362949Z"
    }
   },
   "outputs": [
    {
     "name": "stdout",
     "output_type": "stream",
     "text": [
      "The angle between the two vectors is 12.933154491899135 degrees.\n"
     ]
    }
   ],
   "source": [
    "import math\n",
    "\n",
    "def angle_between_vectors(v1, v2):\n",
    "    \"\"\"\n",
    "    Calculate the angle between two vectors.\n",
    "\n",
    "    Args:\n",
    "        v1 (list): The first vector.\n",
    "        v2 (list): The second vector.\n",
    "\n",
    "    Returns:\n",
    "        float: The angle between the two vectors in degrees.\n",
    "    \"\"\"\n",
    "\n",
    "    v1_norm = math.sqrt(sum([x**2 for x in v1]))\n",
    "    v2_norm = math.sqrt(sum([x**2 for x in v2]))\n",
    "    dot_product = sum([x * y for x, y in zip(v1, v2)])\n",
    "    angle = math.acos(dot_product / (v1_norm * v2_norm))\n",
    "    return angle * 180 / math.pi\n",
    "\n",
    "\n",
    "if __name__ == \"__main__\":\n",
    "    v1 = [1, 2, 3]\n",
    "    v2 = [4, 5, 6]\n",
    "    angle = angle_between_vectors(v2, v1)\n",
    "    print(\"The angle between the two vectors is\", angle, \"degrees.\")\n"
   ]
  },
  {
   "cell_type": "code",
   "execution_count": 177,
   "id": "a0de8225-8a39-4123-a35b-5f6bf9c49abe",
   "metadata": {
    "execution": {
     "iopub.execute_input": "2023-08-28T09:04:58.346274Z",
     "iopub.status.busy": "2023-08-28T09:04:58.346274Z",
     "iopub.status.idle": "2023-08-28T09:04:58.353846Z",
     "shell.execute_reply": "2023-08-28T09:04:58.353350Z",
     "shell.execute_reply.started": "2023-08-28T09:04:58.346274Z"
    }
   },
   "outputs": [
    {
     "name": "stdout",
     "output_type": "stream",
     "text": [
      "The angle between the two vectors is 12.933154491899135 degrees.\n"
     ]
    }
   ],
   "source": [
    "import math\n",
    "\n",
    "def angle_between_vectors(v1, v2):\n",
    "    \"\"\"\n",
    "    Calculate the angle between two vectors for 0 to 360 range.\n",
    "\n",
    "    Args:\n",
    "        v1 (list): The first vector.\n",
    "        v2 (list): The second vector.\n",
    "\n",
    "    Returns:\n",
    "        float: The angle between the two vectors in degrees.\n",
    "    \"\"\"\n",
    "\n",
    "    v1_norm = math.sqrt(sum([x**2 for x in v1]))\n",
    "    v2_norm = math.sqrt(sum([x**2 for x in v2]))\n",
    "    dot_product = sum([x * y for x, y in zip(v1, v2)])\n",
    "    angle = math.acos(dot_product / (v1_norm * v2_norm))\n",
    "\n",
    "    # Make sure the angle is between 0 and 360 degrees.\n",
    "\n",
    "    if angle < 0:\n",
    "        angle += 2 * math.pi\n",
    "\n",
    "    return angle * 180 / math.pi\n",
    "\n",
    "\n",
    "if __name__ == \"__main__\":\n",
    "    v1 = [1, 2, 3]\n",
    "    v2 = [4, 5, 6]\n",
    "    angle = angle_between_vectors(v1, v2)\n",
    "    print(\"The angle between the two vectors is\", angle, \"degrees.\")\n"
   ]
  },
  {
   "cell_type": "code",
   "execution_count": 180,
   "id": "0c2beb62-8365-4559-970e-71a56cefccf9",
   "metadata": {
    "execution": {
     "iopub.execute_input": "2023-08-28T09:09:48.453824Z",
     "iopub.status.busy": "2023-08-28T09:09:48.453824Z",
     "iopub.status.idle": "2023-08-28T09:09:48.476700Z",
     "shell.execute_reply": "2023-08-28T09:09:48.475095Z",
     "shell.execute_reply.started": "2023-08-28T09:09:48.453824Z"
    }
   },
   "outputs": [
    {
     "name": "stdout",
     "output_type": "stream",
     "text": [
      "309.23152048359225\n"
     ]
    }
   ],
   "source": [
    "import math\n",
    "\n",
    "def angle_between_vectors(v1, v2):\n",
    "    dot_product = sum(a * b for a, b in zip(v1, v2))\n",
    "    magnitude_v1 = math.sqrt(sum(a * a for a in v1))\n",
    "    magnitude_v2 = math.sqrt(sum(b * b for b in v2))\n",
    "    \n",
    "    cos_theta = dot_product / (magnitude_v1 * magnitude_v2)\n",
    "    angle_rad = math.acos(max(-1, min(1, cos_theta)))  # To handle precision issues\n",
    "    \n",
    "    angle_deg = math.degrees(angle_rad)\n",
    "    if v1[0] * v2[1] - v1[1] * v2[0] < 0:\n",
    "        angle_deg = 360 - angle_deg\n",
    "    \n",
    "    return angle_deg\n",
    "\n",
    "# Example usage\n",
    "vector1 = (1, 0, 1)\n",
    "vector2 = (0, 1, 2)\n",
    "angle = angle_between_vectors(vector2, vector1)\n",
    "print(angle)  # Output will be 90.0\n"
   ]
  },
  {
   "cell_type": "code",
   "execution_count": 193,
   "id": "c47805c7-9754-465c-b435-1980cf0fad93",
   "metadata": {
    "execution": {
     "iopub.execute_input": "2023-08-28T10:42:17.352585Z",
     "iopub.status.busy": "2023-08-28T10:42:17.351475Z",
     "iopub.status.idle": "2023-08-28T10:42:17.368551Z",
     "shell.execute_reply": "2023-08-28T10:42:17.367959Z",
     "shell.execute_reply.started": "2023-08-28T10:42:17.352585Z"
    }
   },
   "outputs": [
    {
     "name": "stdout",
     "output_type": "stream",
     "text": [
      "[-4  4  0]\n",
      "[ 4 -4  0]\n",
      "38.94244126898138\n",
      "38.94244126898138\n"
     ]
    }
   ],
   "source": [
    "import numpy as np\n",
    "\n",
    "def angle_between_vectors_3d(v1, v2):\n",
    "    v1_norm = np.linalg.norm(v1)\n",
    "    v2_norm = np.linalg.norm(v2)\n",
    "    cos_theta = np.dot(v1, v2) / (v1_norm * v2_norm)\n",
    "    \n",
    "    angle_rad = np.arccos(np.clip(cos_theta, -1.0, 1.0))\n",
    "    angle_deg = np.degrees(angle_rad)\n",
    "    \n",
    "    cross_product = np.cross(v1, v2)\n",
    "    print(cross_product)\n",
    "    if cross_product[2] < 0:\n",
    "        angle_deg = 360 - angle_deg\n",
    "    \n",
    "    return angle_deg\n",
    "\n",
    "# Example usage\n",
    "vector1 = np.array([1, 1, 5])\n",
    "vector2 = np.array([1, 1, 1])\n",
    "angle1 = angle_between_vectors_3d(vector1, vector2)\n",
    "angle2 = angle_between_vectors_3d(vector2, vector1)\n",
    "print(angle1)  # Output will be 90.0\n",
    "print(angle2)"
   ]
  },
  {
   "cell_type": "code",
   "execution_count": null,
   "id": "ccb27ff6-c1af-47a7-9ddd-6bd4da3fef77",
   "metadata": {},
   "outputs": [],
   "source": []
  }
 ],
 "metadata": {
  "kernelspec": {
   "display_name": "Python 3 (ipykernel)",
   "language": "python",
   "name": "python3"
  },
  "language_info": {
   "codemirror_mode": {
    "name": "ipython",
    "version": 3
   },
   "file_extension": ".py",
   "mimetype": "text/x-python",
   "name": "python",
   "nbconvert_exporter": "python",
   "pygments_lexer": "ipython3",
   "version": "3.9.1"
  }
 },
 "nbformat": 4,
 "nbformat_minor": 5
}
