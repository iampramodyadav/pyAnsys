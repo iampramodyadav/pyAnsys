{
 "cells": [
  {
   "cell_type": "code",
   "execution_count": 1,
   "id": "285a30df",
   "metadata": {
    "ExecuteTime": {
     "end_time": "2023-08-04T09:48:27.815976Z",
     "start_time": "2023-08-04T09:48:27.810655Z"
    }
   },
   "outputs": [],
   "source": [
    "# import ansys.mapdl.core as pymapdl\n",
    "# pymapdl.close_all_local_instances()"
   ]
  },
  {
   "cell_type": "code",
   "execution_count": 1,
   "id": "3b5831ea",
   "metadata": {
    "ExecuteTime": {
     "end_time": "2023-08-04T09:48:30.530174Z",
     "start_time": "2023-08-04T09:48:28.951302Z"
    }
   },
   "outputs": [],
   "source": [
    "import sys\n",
    "PYTHONTOOLSDIR = r'C:\\Users\\pramod.kumar\\OneDrive - SIEMENSGAMESA\\Work\\ProjectPyAnsys'\n",
    "sys.path.append(PYTHONTOOLSDIR)\n",
    "import py_apdl_pre as pre"
   ]
  },
  {
   "cell_type": "code",
   "execution_count": 2,
   "id": "82c8fbc1",
   "metadata": {
    "ExecuteTime": {
     "end_time": "2023-08-04T09:48:32.213003Z",
     "start_time": "2023-08-04T09:48:32.206006Z"
    }
   },
   "outputs": [
    {
     "name": "stdout",
     "output_type": "stream",
     "text": [
      "\n",
      "    import parasolid\n",
      "    \n",
      "    \n"
     ]
    }
   ],
   "source": [
    "print(pre.paraimport.__doc__)"
   ]
  },
  {
   "cell_type": "code",
   "execution_count": 4,
   "id": "15f2a7bd",
   "metadata": {
    "ExecuteTime": {
     "end_time": "2023-08-04T09:50:15.569819Z",
     "start_time": "2023-08-04T09:48:35.243893Z"
    },
    "run_control": {
     "marked": false
    }
   },
   "outputs": [
    {
     "name": "stdout",
     "output_type": "stream",
     "text": [
      "PyMAPDL is taking longer than expected to connect to an MAPDL session.\n",
      "Checking if there are any available licenses...\n",
      "Product:             Ansys Mechanical Enterprise\n",
      "MAPDL Version:       22.2\n",
      "ansys.mapdl Version: 0.64.1\n",
      "\n"
     ]
    }
   ],
   "source": [
    "from ansys.mapdl.core import launch_mapdl\n",
    "\n",
    "mapdl = launch_mapdl(exec_file=None,\n",
    "                     run_location=\"K:\\\\Users\\\\pramod.kumar\\\\Sandbox\\\\PyAnsys\\\\01\", \n",
    "                     jobname='MDT',\n",
    "                     start_timeout=120,\n",
    "                     override=True\n",
    "                    )\n",
    "print(mapdl)"
   ]
  },
  {
   "cell_type": "code",
   "execution_count": 5,
   "id": "dc7d70d3",
   "metadata": {
    "ExecuteTime": {
     "end_time": "2023-07-26T08:52:39.371498Z",
     "start_time": "2023-07-26T08:52:14.513221Z"
    }
   },
   "outputs": [
    {
     "data": {
      "text/plain": [
       "RESUME ANSYS DATA FROM FILE NAME=K:\\Groups\\ONGDSGE1\\MDT\\TR01\\GR02\\MSBH\\Bond_Fmmin\\04a\\MDT.db                                                                                                                                                                                                         \n",
       "\n",
       " *** NOTE ***                            CP =       3.453   TIME= 15:28:44\n",
       " The initial memory allocation (-m) has been exceeded.                   \n",
       "  Supplemental memory allocations are being used.                        \n",
       "\n",
       " Memory resident data base increased from      1024 MB to      2048 MB.\n",
       "\n",
       " Memory resident data base increased from      2048 MB to      4096 MB.\n",
       "\n",
       " *** MAPDL GLOBAL STATUS *** \n",
       "\n",
       " TITLE = SG5X PT3 TR01 GR02 GI04 MSBH                                          \n",
       " NUMBER OF ELEMENT TYPES =     45\n",
       "   3074420 ELEMENTS CURRENTLY SELECTED.  MAX ELEMENT NUMBER =     3534658\n",
       "   4981678 NODES CURRENTLY SELECTED.     MAX NODE NUMBER =        4982124\n",
       "     16768 KEYPOINTS CURRENTLY SELECTED. MAX KEYPOINT NUMBER =     132012\n",
       "     20808 LINES CURRENTLY SELECTED.     MAX LINE NUMBER =         132030\n",
       "      4553 AREAS CURRENTLY SELECTED.     MAX AREA NUMBER =         132012\n",
       "       278 VOLUMES CURRENTLY SELECTED.   MAX VOL. NUMBER =         126008\n",
       "       120 COMPONENTS CURRENTLY DEFINED\n",
       " MAXIMUM LINEAR PROPERTY NUMBER        =      36\n",
       " MAXIMUM REAL CONSTANT SET NUMBER      =       5\n",
       " ACTIVE COORDINATE SYSTEM              =       0  (CARTESIAN)  \n",
       "\n",
       " INITIAL JOBNAME = MDT\n",
       " CURRENT JOBNAME = MDT"
      ]
     },
     "execution_count": 5,
     "metadata": {},
     "output_type": "execute_result"
    }
   ],
   "source": [
    "pathdb =r'K:\\Groups\\ONGDSGE1\\MDT\\TR01\\GR02\\MSBH\\Bond_Fmmin\\04a\\MDT.db'\n",
    "mapdl.db.load(pathdb, progress_bar=True)"
   ]
  },
  {
   "cell_type": "code",
   "execution_count": 16,
   "id": "7b6af896",
   "metadata": {
    "ExecuteTime": {
     "end_time": "2023-07-26T06:32:43.206162Z",
     "start_time": "2023-07-26T06:32:43.202160Z"
    },
    "code_folding": [],
    "slideshow": {
     "slide_type": ""
    },
    "tags": []
   },
   "outputs": [
    {
     "ename": "KeyboardInterrupt",
     "evalue": "",
     "output_type": "error",
     "traceback": [
      "\u001b[1;31m---------------------------------------------------------------------------\u001b[0m",
      "\u001b[1;31mKeyboardInterrupt\u001b[0m                         Traceback (most recent call last)",
      "Cell \u001b[1;32mIn[16], line 1\u001b[0m\n\u001b[1;32m----> 1\u001b[0m \u001b[43mmapdl\u001b[49m\u001b[38;5;241;43m.\u001b[39;49m\u001b[43mlplot\u001b[49m\u001b[43m(\u001b[49m\u001b[43mvtk\u001b[49m\u001b[38;5;241;43m=\u001b[39;49m\u001b[38;5;28;43;01mTrue\u001b[39;49;00m\u001b[43m,\u001b[49m\u001b[43m                                        \u001b[49m\u001b[38;5;66;43;03m#issue\u001b[39;49;00m\n\u001b[0;32m      2\u001b[0m \u001b[43m                  \u001b[49m\u001b[43mshow_line_numbering\u001b[49m\u001b[38;5;241;43m=\u001b[39;49m\u001b[38;5;28;43;01mFalse\u001b[39;49;00m\u001b[43m,\u001b[49m\n\u001b[0;32m      3\u001b[0m \u001b[43m                  \u001b[49m\u001b[43mshow_keypoint_numbering\u001b[49m\u001b[38;5;241;43m=\u001b[39;49m\u001b[38;5;28;43;01mFalse\u001b[39;49;00m\u001b[43m,\u001b[49m\u001b[43m \u001b[49m\n\u001b[0;32m      4\u001b[0m \u001b[43m                  \u001b[49m\u001b[43mcolor_lines\u001b[49m\u001b[38;5;241;43m=\u001b[39;49m\u001b[38;5;28;43;01mTrue\u001b[39;49;00m\u001b[43m)\u001b[49m\n",
      "File \u001b[1;32m~\\PythonEnv\\myenv\\lib\\site-packages\\ansys\\mapdl\\core\\mapdl.py:1890\u001b[0m, in \u001b[0;36m_MapdlCore.lplot\u001b[1;34m(self, nl1, nl2, ninc, vtk, show_line_numbering, show_keypoint_numbering, color_lines, **kwargs)\u001b[0m\n\u001b[0;32m   1885\u001b[0m     warnings\u001b[38;5;241m.\u001b[39mwarn(\n\u001b[0;32m   1886\u001b[0m         \u001b[38;5;124m\"\u001b[39m\u001b[38;5;124mEither no lines have been selected or there is nothing to plot.\u001b[39m\u001b[38;5;124m\"\u001b[39m\n\u001b[0;32m   1887\u001b[0m     )\n\u001b[0;32m   1888\u001b[0m     \u001b[38;5;28;01mreturn\u001b[39;00m general_plotter([], [], [], \u001b[38;5;241m*\u001b[39m\u001b[38;5;241m*\u001b[39mkwargs)\n\u001b[1;32m-> 1890\u001b[0m lines \u001b[38;5;241m=\u001b[39m \u001b[38;5;28;43mself\u001b[39;49m\u001b[38;5;241;43m.\u001b[39;49m\u001b[43mgeometry\u001b[49m\u001b[38;5;241;43m.\u001b[39;49m\u001b[43mlines\u001b[49m\n\u001b[0;32m   1891\u001b[0m meshes \u001b[38;5;241m=\u001b[39m [{\u001b[38;5;124m\"\u001b[39m\u001b[38;5;124mmesh\u001b[39m\u001b[38;5;124m\"\u001b[39m: lines}]\n\u001b[0;32m   1892\u001b[0m \u001b[38;5;28;01mif\u001b[39;00m color_lines:\n",
      "File \u001b[1;32m~\\PythonEnv\\myenv\\lib\\site-packages\\ansys\\mapdl\\core\\mapdl_geometry.py:150\u001b[0m, in \u001b[0;36mGeometry.lines\u001b[1;34m(self)\u001b[0m\n\u001b[0;32m    147\u001b[0m \u001b[38;5;129m@property\u001b[39m\n\u001b[0;32m    148\u001b[0m \u001b[38;5;28;01mdef\u001b[39;00m \u001b[38;5;21mlines\u001b[39m(\u001b[38;5;28mself\u001b[39m):\n\u001b[0;32m    149\u001b[0m \u001b[38;5;250m    \u001b[39m\u001b[38;5;124;03m\"\"\"Active lines as a pyvista.PolyData\"\"\"\u001b[39;00m\n\u001b[1;32m--> 150\u001b[0m     \u001b[38;5;28;01mreturn\u001b[39;00m \u001b[38;5;28;43mself\u001b[39;49m\u001b[38;5;241;43m.\u001b[39;49m\u001b[43m_lines\u001b[49m\n",
      "File \u001b[1;32m~\\PythonEnv\\myenv\\lib\\site-packages\\ansys\\mapdl\\core\\mapdl_geometry.py:144\u001b[0m, in \u001b[0;36mGeometry._lines\u001b[1;34m(self)\u001b[0m\n\u001b[0;32m    142\u001b[0m \u001b[38;5;250m\u001b[39m\u001b[38;5;124;03m\"\"\"Returns lines cache\"\"\"\u001b[39;00m\n\u001b[0;32m    143\u001b[0m \u001b[38;5;28;01mif\u001b[39;00m \u001b[38;5;28mself\u001b[39m\u001b[38;5;241m.\u001b[39m_lines_cache \u001b[38;5;129;01mis\u001b[39;00m \u001b[38;5;28;01mNone\u001b[39;00m:\n\u001b[1;32m--> 144\u001b[0m     \u001b[38;5;28mself\u001b[39m\u001b[38;5;241m.\u001b[39m_lines_cache \u001b[38;5;241m=\u001b[39m \u001b[38;5;28;43mself\u001b[39;49m\u001b[38;5;241;43m.\u001b[39;49m\u001b[43m_load_lines\u001b[49m\u001b[43m(\u001b[49m\u001b[43m)\u001b[49m\n\u001b[0;32m    145\u001b[0m \u001b[38;5;28;01mreturn\u001b[39;00m \u001b[38;5;28mself\u001b[39m\u001b[38;5;241m.\u001b[39m_lines_cache\n",
      "File \u001b[1;32m~\\PythonEnv\\myenv\\lib\\site-packages\\ansys\\mapdl\\core\\misc.py:408\u001b[0m, in \u001b[0;36msupress_logging.<locals>.wrapper\u001b[1;34m(*args, **kwargs)\u001b[0m\n\u001b[0;32m    405\u001b[0m \u001b[38;5;28;01mif\u001b[39;00m prior_log_level \u001b[38;5;241m!=\u001b[39m \u001b[38;5;124m\"\u001b[39m\u001b[38;5;124mCRITICAL\u001b[39m\u001b[38;5;124m\"\u001b[39m:\n\u001b[0;32m    406\u001b[0m     mapdl\u001b[38;5;241m.\u001b[39m_set_log_level(\u001b[38;5;124m\"\u001b[39m\u001b[38;5;124mCRITICAL\u001b[39m\u001b[38;5;124m\"\u001b[39m)\n\u001b[1;32m--> 408\u001b[0m out \u001b[38;5;241m=\u001b[39m \u001b[43mfunc\u001b[49m\u001b[43m(\u001b[49m\u001b[38;5;241;43m*\u001b[39;49m\u001b[43margs\u001b[49m\u001b[43m,\u001b[49m\u001b[43m \u001b[49m\u001b[38;5;241;43m*\u001b[39;49m\u001b[38;5;241;43m*\u001b[39;49m\u001b[43mkwargs\u001b[49m\u001b[43m)\u001b[49m\n\u001b[0;32m    410\u001b[0m \u001b[38;5;28;01mif\u001b[39;00m prior_log_level \u001b[38;5;241m!=\u001b[39m \u001b[38;5;124m\"\u001b[39m\u001b[38;5;124mCRITICAL\u001b[39m\u001b[38;5;124m\"\u001b[39m:\n\u001b[0;32m    411\u001b[0m     mapdl\u001b[38;5;241m.\u001b[39m_set_log_level(prior_log_level)\n",
      "File \u001b[1;32m~\\PythonEnv\\myenv\\lib\\site-packages\\ansys\\mapdl\\core\\mapdl_geometry.py:480\u001b[0m, in \u001b[0;36mGeometry._load_lines\u001b[1;34m(self)\u001b[0m\n\u001b[0;32m    478\u001b[0m entity_num \u001b[38;5;241m=\u001b[39m \u001b[38;5;28mint\u001b[39m(bspline\u001b[38;5;241m.\u001b[39md[\u001b[38;5;124m\"\u001b[39m\u001b[38;5;124mentity_subs_num\u001b[39m\u001b[38;5;124m\"\u001b[39m])\n\u001b[0;32m    479\u001b[0m \u001b[38;5;28;01mif\u001b[39;00m entity_num \u001b[38;5;129;01mnot\u001b[39;00m \u001b[38;5;129;01min\u001b[39;00m entity_nums \u001b[38;5;129;01mand\u001b[39;00m entity_num \u001b[38;5;129;01min\u001b[39;00m selected_lnum:\n\u001b[1;32m--> 480\u001b[0m     \u001b[43mentity_nums\u001b[49m\u001b[38;5;241;43m.\u001b[39;49m\u001b[43mappend\u001b[49m(entity_num)\n\u001b[0;32m    481\u001b[0m     line \u001b[38;5;241m=\u001b[39m bspline\u001b[38;5;241m.\u001b[39mto_vtk()\n\u001b[0;32m    482\u001b[0m     line\u001b[38;5;241m.\u001b[39mcell_data[\u001b[38;5;124m\"\u001b[39m\u001b[38;5;124mentity_num\u001b[39m\u001b[38;5;124m\"\u001b[39m] \u001b[38;5;241m=\u001b[39m entity_num\n",
      "\u001b[1;31mKeyboardInterrupt\u001b[0m: "
     ]
    }
   ],
   "source": [
    "# mapdl.lplot(vtk=True,                                        #issue\n",
    "#                   show_line_numbering=False,\n",
    "#                   show_keypoint_numbering=False, \n",
    "#                   color_lines=True)"
   ]
  },
  {
   "cell_type": "code",
   "execution_count": null,
   "id": "1d8a5d0b",
   "metadata": {
    "ExecuteTime": {
     "end_time": "2023-07-26T09:07:50.914187Z",
     "start_time": "2023-07-26T09:07:50.909181Z"
    }
   },
   "outputs": [],
   "source": [
    "mapdl.aplot(show_area_numbering=False, color_areas=True)"
   ]
  },
  {
   "cell_type": "code",
   "execution_count": 6,
   "id": "3890fc09",
   "metadata": {
    "ExecuteTime": {
     "end_time": "2023-07-26T09:07:54.923221Z",
     "start_time": "2023-07-26T09:07:54.880223Z"
    }
   },
   "outputs": [],
   "source": [
    "alist=mapdl.geometry.anum"
   ]
  },
  {
   "cell_type": "code",
   "execution_count": 7,
   "id": "8b9c4dd3-e689-4793-8bce-31efddb84a02",
   "metadata": {},
   "outputs": [
    {
     "data": {
      "text/plain": [
       "array([ 20001,  20002,  20003, ..., 132010, 132011, 132012])"
      ]
     },
     "execution_count": 7,
     "metadata": {},
     "output_type": "execute_result"
    }
   ],
   "source": [
    "alist"
   ]
  },
  {
   "cell_type": "code",
   "execution_count": 8,
   "id": "1ab755f3",
   "metadata": {
    "ExecuteTime": {
     "end_time": "2023-07-26T09:07:55.751235Z",
     "start_time": "2023-07-26T09:07:55.744236Z"
    }
   },
   "outputs": [
    {
     "data": {
      "text/plain": [
       "4553"
      ]
     },
     "execution_count": 8,
     "metadata": {},
     "output_type": "execute_result"
    }
   ],
   "source": [
    "len(alist)"
   ]
  },
  {
   "cell_type": "code",
   "execution_count": 7,
   "id": "13825536",
   "metadata": {
    "ExecuteTime": {
     "end_time": "2023-07-26T09:07:57.727251Z",
     "start_time": "2023-07-26T09:07:57.720249Z"
    }
   },
   "outputs": [
    {
     "data": {
      "text/plain": [
       "20002"
      ]
     },
     "execution_count": 7,
     "metadata": {},
     "output_type": "execute_result"
    }
   ],
   "source": [
    "list(alist)[1]"
   ]
  },
  {
   "cell_type": "code",
   "execution_count": 8,
   "id": "875f8f62",
   "metadata": {
    "ExecuteTime": {
     "end_time": "2023-07-26T09:07:58.541258Z",
     "start_time": "2023-07-26T09:07:58.504263Z"
    }
   },
   "outputs": [
    {
     "data": {
      "text/plain": [
       "4553"
      ]
     },
     "execution_count": 8,
     "metadata": {},
     "output_type": "execute_result"
    }
   ],
   "source": [
    "mapdl.geometry.n_area"
   ]
  },
  {
   "cell_type": "code",
   "execution_count": null,
   "id": "75fcfb12",
   "metadata": {},
   "outputs": [],
   "source": []
  },
  {
   "cell_type": "code",
   "execution_count": 11,
   "id": "7ef1520c",
   "metadata": {
    "ExecuteTime": {
     "end_time": "2023-07-26T04:50:31.882950Z",
     "start_time": "2023-07-26T04:50:31.827953Z"
    }
   },
   "outputs": [],
   "source": [
    "vlist=mapdl.geometry.vnum"
   ]
  },
  {
   "cell_type": "code",
   "execution_count": 12,
   "id": "a8971d5d",
   "metadata": {
    "ExecuteTime": {
     "end_time": "2023-07-26T04:50:33.260950Z",
     "start_time": "2023-07-26T04:50:33.216942Z"
    }
   },
   "outputs": [
    {
     "data": {
      "text/plain": [
       "278"
      ]
     },
     "execution_count": 12,
     "metadata": {},
     "output_type": "execute_result"
    }
   ],
   "source": [
    "mapdl.geometry.n_volu"
   ]
  },
  {
   "cell_type": "code",
   "execution_count": 11,
   "id": "2bc104b7",
   "metadata": {
    "ExecuteTime": {
     "end_time": "2023-07-26T04:50:35.497955Z",
     "start_time": "2023-07-26T04:50:35.489950Z"
    }
   },
   "outputs": [
    {
     "data": {
      "text/plain": [
       "278"
      ]
     },
     "execution_count": 11,
     "metadata": {},
     "output_type": "execute_result"
    }
   ],
   "source": [
    "len(vlist)"
   ]
  },
  {
   "cell_type": "code",
   "execution_count": 12,
   "id": "9e52673a",
   "metadata": {
    "ExecuteTime": {
     "end_time": "2023-07-26T04:50:36.892954Z",
     "start_time": "2023-07-26T04:50:36.883957Z"
    }
   },
   "outputs": [
    {
     "data": {
      "text/plain": [
       "array([ 20001,  30001,  30002,  30003,  40001,  40002,  40003,  50001,\n",
       "        50002,  50003,  51001,  52001,  53001,  60001,  60002,  60081,\n",
       "        60082,  60083,  60084,  60085,  60086,  60087,  60088,  60089,\n",
       "        60090,  60091,  60092,  60093,  60094,  60095,  60096,  60097,\n",
       "        60098,  60099,  60100,  60101,  60102,  60103,  60104,  60105,\n",
       "        60106,  60107,  60108,  60109,  60110,  60111,  60112,  60113,\n",
       "        60114,  60115,  60116,  60117,  60118,  60119,  60120,  60121,\n",
       "        60122,  60123,  60124,  60125,  60126,  60127,  60128,  60129,\n",
       "        60130,  60131,  60132,  60133,  60134,  60135,  60136,  60137,\n",
       "        60138,  60139,  60140,  60141,  60142,  60143,  60144,  60145,\n",
       "        60146,  60147,  60148,  60149,  60150,  60151,  60152,  60153,\n",
       "        60154,  60155,  60156,  60157,  60158,  70001,  70002,  70081,\n",
       "        70082,  70083,  70084,  70085,  70086,  70087,  70088,  70089,\n",
       "        70090,  70091,  70092,  70093,  70094,  70095,  70096,  70097,\n",
       "        70098,  70099,  70100,  70101,  70102,  70103,  70104,  70105,\n",
       "        70106,  70107,  70108,  70109,  70110,  70111,  70112,  70113,\n",
       "        70114,  70115,  70116,  70117,  70118,  70119,  70120,  70121,\n",
       "        70122,  70123,  70124,  70125,  70126,  70127,  70128,  70129,\n",
       "        70130,  70131,  70132,  70133,  70134,  70135,  70136,  70137,\n",
       "        70138,  70139,  70140,  70141,  70142,  70143,  70144,  70145,\n",
       "        70146,  70147,  70148,  70149,  70150,  70151,  70152,  70153,\n",
       "        70154,  70155,  70156,  70157,  70158,  80001,  80002,  80081,\n",
       "        80082,  80083,  80084,  80085,  80086,  80087,  80088,  80089,\n",
       "        80090,  80091,  80092,  80093,  80094,  80095,  80096,  80097,\n",
       "        80098,  80099,  80100,  80101,  80102,  80103,  80104,  80105,\n",
       "        80106,  80107,  80108,  80109,  80110,  80111,  80112,  80113,\n",
       "        80114,  80115,  80116,  80117,  80118,  80119,  80120,  80121,\n",
       "        80122,  80123,  80124,  80125,  80126,  80127,  80128,  80129,\n",
       "        80130,  80131,  80132,  80133,  80134,  80135,  80136,  80137,\n",
       "        80138,  80139,  80140,  80141,  80142,  80143,  80144,  80145,\n",
       "        80146,  80147,  80148,  80149,  80150,  80151,  80152,  80153,\n",
       "        80154,  80155,  80156,  80157,  80158,  90001, 104001, 104002,\n",
       "       104003, 104004, 104005, 104006, 104007, 104008, 115001, 115002,\n",
       "       115003, 115004, 115005, 115006, 115007, 115008, 126001, 126002,\n",
       "       126003, 126004, 126005, 126006, 126007, 126008])"
      ]
     },
     "execution_count": 12,
     "metadata": {},
     "output_type": "execute_result"
    }
   ],
   "source": [
    "vlist"
   ]
  },
  {
   "cell_type": "code",
   "execution_count": 13,
   "id": "3a78cdfa",
   "metadata": {
    "ExecuteTime": {
     "end_time": "2023-07-26T09:10:03.190514Z",
     "start_time": "2023-07-26T09:09:41.800305Z"
    }
   },
   "outputs": [],
   "source": [
    "mapdl.eplot(background='w', show_edges=True, smooth_shading=True,\n",
    "                window_size=[1920, 1080], savefig='screenshot.png',\n",
    "                off_screen=True)"
   ]
  },
  {
   "cell_type": "code",
   "execution_count": 14,
   "id": "2364f55a",
   "metadata": {
    "ExecuteTime": {
     "end_time": "2023-07-26T09:26:32.961006Z",
     "start_time": "2023-07-26T09:26:11.969819Z"
    }
   },
   "outputs": [],
   "source": [
    "mapdl.eplot(background='w', show_edges=True, smooth_shading=False,\n",
    "                window_size=[1920, 1080], savefig='screenshot2.png',\n",
    "                off_screen=False)"
   ]
  },
  {
   "cell_type": "code",
   "execution_count": 13,
   "id": "b06e10a3",
   "metadata": {
    "ExecuteTime": {
     "end_time": "2023-07-26T11:50:50.783825Z",
     "start_time": "2023-07-26T11:50:35.413761Z"
    },
    "slideshow": {
     "slide_type": ""
    },
    "tags": []
   },
   "outputs": [
    {
     "data": {
      "application/vnd.jupyter.widget-view+json": {
       "model_id": "031b7d52d59b40a387f31e08208b9f46",
       "version_major": 2,
       "version_minor": 0
      },
      "text/plain": [
       "Widget(value=\"<iframe src='http://localhost:51333/index.html?ui=P_0x1b8cc3b40a0_0&reconnect=auto' style='width…"
      ]
     },
     "metadata": {},
     "output_type": "display_data"
    }
   ],
   "source": [
    "mapdl.eplot(background='w', show_edges=True, smooth_shading=True,\n",
    "                window_size=[1920, 1080],\n",
    "                off_screen=False)"
   ]
  },
  {
   "cell_type": "code",
   "execution_count": null,
   "id": "d4cd702b",
   "metadata": {},
   "outputs": [],
   "source": []
  },
  {
   "cell_type": "code",
   "execution_count": 6,
   "id": "5efc8d7f",
   "metadata": {
    "ExecuteTime": {
     "end_time": "2023-05-26T12:31:45.167504Z",
     "start_time": "2023-05-26T12:31:45.156499Z"
    }
   },
   "outputs": [
    {
     "name": "stderr",
     "output_type": "stream",
     "text": [
      "C:\\Users\\pramod.kumar\\PythonEnv\\myenv\\lib\\site-packages\\ansys\\mapdl\\core\\mapdl.py:1123: UserWarning: MAPDL GUI has been opened using 'inplace' kwarg. The changes you make will overwrite the files in K:\\Users\\pramod.kumar\\Sandbox\\PyAnsys\\01.\n",
      "  warn(\n"
     ]
    }
   ],
   "source": [
    "mapdl.open_gui(inplace=True)"
   ]
  },
  {
   "cell_type": "code",
   "execution_count": 14,
   "id": "4309758a",
   "metadata": {
    "ExecuteTime": {
     "end_time": "2023-05-26T12:39:14.076289Z",
     "start_time": "2023-05-26T12:39:14.019284Z"
    }
   },
   "outputs": [
    {
     "data": {
      "text/plain": [
       "LIST SELECTED COMPONENTS\n",
       " ENTITY TYPE = VOLU\n",
       "\n",
       " *** MAPDL - ENGINEERING ANALYSIS SYSTEM  RELEASE 2022 R2          22.2     ***\n",
       " Ansys Mechanical Enterprise                       \n",
       " 00000000  VERSION=WINDOWS x64   15:37:14  AUG 04, 2023 CP=     17.297\n",
       "\n",
       " SG5X PT3 TR01 GR02 GI04 MSBH                                                  \n",
       "\n",
       "\n",
       "\n",
       "    NAME                            SELE TYPE      SUBCOMPONENTS\n",
       "\n",
       "  BB1IR                             NO   VOLU\n",
       "  BB1IRRFIB                         NO   VOLU\n",
       "  BB1IRRFOB                         NO   VOLU\n",
       "  BB1OR                             NO   VOLU\n",
       "  BB1SPACERS                        NO   VOLU\n",
       "  BB1URR                            NO   VOLU\n",
       "  BB2IR                             NO   VOLU\n",
       "  BB2IRRFIB                         NO   VOLU\n",
       "  BB2IRRFOB                         NO   VOLU\n",
       "  BB2OR                             NO   VOLU\n",
       "  BB2SPACERS                        NO   VOLU\n",
       "  BB2URR                            NO   VOLU\n",
       "  BB3IR                             NO   VOLU\n",
       "  BB3IRRFIB                         NO   VOLU\n",
       "  BB3IRRFOB                         NO   VOLU\n",
       "  BB3OR                             NO   VOLU\n",
       "  BB3SPACERS                        NO   VOLU\n",
       "  BB3URR                            NO   VOLU\n",
       "  BR1                               NO   VOLU\n",
       "  BR1_UD_CONICAL                    NO   VOLU\n",
       "  BR1_UD_INSIDE                     NO   VOLU\n",
       "  BR1_UD_INSIDEINBOARD              NO   VOLU\n",
       "  BR1_UD_INSIDEOUTBOARD             NO   VOLU\n",
       "  BR1_UD_OUTSIDE                    NO   VOLU\n",
       "  BR2                               NO   VOLU\n",
       "  BR2_UD_CONICAL                    NO   VOLU\n",
       "  BR2_UD_INSIDE                     NO   VOLU\n",
       "  BR2_UD_INSIDEINBOARD              NO   VOLU\n",
       "  BR2_UD_INSIDEOUTBOARD             NO   VOLU\n",
       "  BR2_UD_OUTSIDE                    NO   VOLU\n",
       "  BR3                               NO   VOLU\n",
       "  BR3_UD_CONICAL                    NO   VOLU\n",
       "  BR3_UD_INSIDE                     NO   VOLU\n",
       "  BR3_UD_INSIDEINBOARD              NO   VOLU\n",
       "  BR3_UD_INSIDEOUTBOARD             NO   VOLU\n",
       "  BR3_UD_OUTSIDE                    NO   VOLU\n",
       "  HU                                NO   VOLU\n",
       "  HU_ASSY                           NO   VOLU\n",
       "  MS                                NO   VOLU"
      ]
     },
     "execution_count": 14,
     "metadata": {},
     "output_type": "execute_result"
    }
   ],
   "source": [
    "mapdl.cmlist(name='ALL',key=0, entity= 'VOLU')"
   ]
  },
  {
   "cell_type": "code",
   "execution_count": 15,
   "id": "c4d1f1d7",
   "metadata": {
    "ExecuteTime": {
     "end_time": "2023-05-26T12:39:22.327061Z",
     "start_time": "2023-05-26T12:39:22.276076Z"
    }
   },
   "outputs": [
    {
     "data": {
      "text/plain": [
       "LIST SELECTED COMPONENTS\n",
       " ENTITY TYPE = ELEM"
      ]
     },
     "execution_count": 15,
     "metadata": {},
     "output_type": "execute_result"
    }
   ],
   "source": [
    "mapdl.cmlist(name='ALL',key=1, entity= 'ELEM' )"
   ]
  },
  {
   "cell_type": "code",
   "execution_count": 28,
   "id": "ba4f8ec4",
   "metadata": {
    "ExecuteTime": {
     "end_time": "2023-05-26T12:39:58.712208Z",
     "start_time": "2023-05-26T12:39:58.673207Z"
    }
   },
   "outputs": [
    {
     "data": {
      "text/plain": [
       "LIST SELECTED COMPONENTS\n",
       " ENTITY TYPE = NODE\n",
       "\n",
       " *** MAPDL - ENGINEERING ANALYSIS SYSTEM  RELEASE 2022 R2          22.2     ***\n",
       " Ansys Mechanical Enterprise                       \n",
       " 00000000  VERSION=WINDOWS x64   18:09:58  MAY 26, 2023 CP=      9.734\n",
       "\n",
       " SG5X PT3 TR01 GR02 GI02 MSBH                                                  \n",
       "\n",
       "\n",
       "\n",
       "    NAME                            SELE TYPE      SUBCOMPONENTS\n",
       "\n",
       "  BC_BLROOT1_LOADAPP_NODES          NO   NODE\n",
       "  BC_BLROOT2_LOADAPP_NODES          NO   NODE\n",
       "  BC_BLROOT3_LOADAPP_NODES          YES  NODE\n",
       "  BC_MASHAFT_D_LOADAPP_NODES        NO   NODE\n",
       "  BC_MASHAFT_U_LOADAPP_NODES        NO   NODE\n",
       "  BLBEARING1_I_INT_NODES            NO   NODE\n",
       "  BLBEARING1_O_EXT_NODES            NO   NODE\n",
       "  BLBEARING2_I_INT_NODES            NO   NODE\n",
       "  BLBEARING2_O_EXT_NODES            NO   NODE\n",
       "  BLBEARING3_I_INT_NODES            NO   NODE\n",
       "  BLBEARING3_O_EXT_NODES            NO   NODE"
      ]
     },
     "execution_count": 28,
     "metadata": {},
     "output_type": "execute_result"
    }
   ],
   "source": [
    "mapdl.cmlist(name='ALL',key=0, entity= 'NODE' )"
   ]
  },
  {
   "cell_type": "code",
   "execution_count": 45,
   "id": "bfe35d1b",
   "metadata": {
    "ExecuteTime": {
     "end_time": "2023-05-26T13:08:35.118131Z",
     "start_time": "2023-05-26T13:08:34.728169Z"
    }
   },
   "outputs": [
    {
     "data": {
      "text/plain": [
       "LIST SELECTED COMPONENTS\n",
       " ENTITY TYPE = AREA\n",
       "\n",
       " *** MAPDL - ENGINEERING ANALYSIS SYSTEM  RELEASE 2022 R2          22.2     ***\n",
       " Ansys Mechanical Enterprise                       \n",
       " 00000000  VERSION=WINDOWS x64   18:38:35  MAY 26, 2023 CP=      9.938\n",
       "\n",
       " SG5X PT3 TR01 GR02 GI02 MSBH                                                  \n",
       "\n",
       "\n",
       "\n",
       "    NAME                            SELE TYPE      SUBCOMPONENTS\n",
       "\n",
       "  AREA_FINE_1                       NO   AREA\n",
       "  AREA_FINE_2                       NO   AREA\n",
       "  AREA_FINE_3                       NO   AREA\n",
       "  AREA_FINE_4                       NO   AREA\n",
       "  AREA_FINE_5                       NO   AREA\n",
       "  AREA_FINE_6                       NO   AREA\n",
       "  AREA_FINE_7                       NO   AREA\n",
       "  BB1IR_BASECS                      NO   AREA\n",
       "  BB1OR_BASECS                      NO   AREA\n",
       "  BB2IR_BASECS                      NO   AREA\n",
       "  BB2OR_BASECS                      NO   AREA\n",
       "  BB3IR_BASECS                      NO   AREA\n",
       "  BB3OR_BASECS                      NO   AREA\n",
       "  CONTA_BB1IRIB                     NO   AREA\n",
       "  CONTA_BB1IROB                     NO   AREA\n",
       "  CONTA_BB1IRRFIBOB                 NO   AREA\n",
       "  CONTA_BB1IRRFIBSP                 NO   AREA\n",
       "  CONTA_BB1IRRFOBIB                 NO   AREA\n",
       "  CONTA_BB1IRRFOBOB                 NO   AREA\n",
       "  CONTA_BB1IRRFOBSP                 NO   AREA\n",
       "  CONTA_BB1IRSPIB                   NO   AREA\n",
       "  CONTA_BB1IRSPOB                   NO   AREA\n",
       "  CONTA_BB1ORIB                     NO   AREA\n",
       "  CONTA_BB1OROB                     NO   AREA\n",
       "  CONTA_BB1ORRFOBIB                 NO   AREA\n",
       "  CONTA_BB2IRIB                     NO   AREA\n",
       "  CONTA_BB2IROB                     NO   AREA\n",
       "  CONTA_BB2IRRFIBOB                 NO   AREA\n",
       "  CONTA_BB2IRRFIBSP                 NO   AREA\n",
       "  CONTA_BB2IRRFOBIB                 NO   AREA\n",
       "  CONTA_BB2IRRFOBOB                 NO   AREA\n",
       "  CONTA_BB2IRRFOBSP                 NO   AREA\n",
       "  CONTA_BB2IRSPIB                   NO   AREA\n",
       "  CONTA_BB2IRSPOB                   NO   AREA\n",
       "  CONTA_BB2ORIB                     NO   AREA\n",
       "  CONTA_BB2OROB                     NO   AREA\n",
       "  CONTA_BB2ORRFOBIB                 NO   AREA\n",
       "  CONTA_BB3IRIB                     NO   AREA\n",
       "  CONTA_BB3IROB                     NO   AREA\n",
       "  CONTA_BB3IRRFIBOB                 NO   AREA\n",
       "  CONTA_BB3IRRFIBSP                 NO   AREA\n",
       "  CONTA_BB3IRRFOBIB                 NO   AREA\n",
       "  CONTA_BB3IRRFOBOB                 NO   AREA\n",
       "  CONTA_BB3IRRFOBSP                 NO   AREA\n",
       "  CONTA_BB3IRSPIB                   NO   AREA\n",
       "  CONTA_BB3IRSPOB                   NO   AREA\n",
       "  CONTA_BB3ORIB                     NO   AREA\n",
       "  CONTA_BB3OROB                     NO   AREA\n",
       "  CONTA_BB3ORRFOBIB                 NO   AREA\n",
       "  CONTA_BR1IB                       NO   AREA\n",
       "\n",
       " *** MAPDL - ENGINEERING ANALYSIS SYSTEM  RELEASE 2022 R2          22.2     ***\n",
       " Ansys Mechanical Enterprise                       \n",
       " 00000000  VERSION=WINDOWS x64   18:38:35  MAY 26, 2023 CP=      9.938\n",
       "\n",
       " SG5X PT3 TR01 GR02 GI02 MSBH                                                  \n",
       "\n",
       "\n",
       "\n",
       "    NAME                            SELE TYPE      SUBCOMPONENTS\n",
       "\n",
       "  CONTA_BR2IB                       NO   AREA\n",
       "  CONTA_BR3IB                       NO   AREA\n",
       "  CONTA_HUBF1                       NO   AREA\n",
       "  CONTA_HUBF2                       NO   AREA\n",
       "  CONTA_HUBF3                       NO   AREA\n",
       "  CONTA_HUSF                        NO   AREA\n",
       "  CONTA_MSSF                        NO   AREA\n",
       "  MS_1_2_WASHTARGAREAS              NO   AREA\n",
       "  MS_1_HOLEAREAS                    NO   AREA\n",
       "  MS_2_2_WASHTARGAREAS              NO   AREA\n",
       "  MS_2_HOLEAREAS                    NO   AREA\n",
       "  MS_3_1_WASHTARGAREAS              NO   AREA\n",
       "  MS_3_HOLEAREAS                    NO   AREA"
      ]
     },
     "execution_count": 45,
     "metadata": {},
     "output_type": "execute_result"
    }
   ],
   "source": [
    "mapdl.cmlist(name='ALL',key=0, entity= 'AREA' ) #.to_dataframe()"
   ]
  },
  {
   "cell_type": "code",
   "execution_count": null,
   "id": "aaac3747",
   "metadata": {},
   "outputs": [],
   "source": []
  },
  {
   "cell_type": "code",
   "execution_count": null,
   "id": "0ee3ee8e",
   "metadata": {},
   "outputs": [],
   "source": []
  },
  {
   "cell_type": "code",
   "execution_count": null,
   "id": "16a579c9",
   "metadata": {},
   "outputs": [],
   "source": []
  },
  {
   "cell_type": "code",
   "execution_count": 42,
   "id": "6a3eef31",
   "metadata": {
    "ExecuteTime": {
     "end_time": "2023-07-27T04:21:38.653640Z",
     "start_time": "2023-07-27T04:20:41.900222Z"
    }
   },
   "outputs": [],
   "source": [
    "mapdl.exit()"
   ]
  },
  {
   "cell_type": "code",
   "execution_count": null,
   "id": "0cd4a5cc",
   "metadata": {},
   "outputs": [],
   "source": []
  }
 ],
 "metadata": {
  "kernelspec": {
   "display_name": "Python 3 (ipykernel)",
   "language": "python",
   "name": "python3"
  },
  "language_info": {
   "codemirror_mode": {
    "name": "ipython",
    "version": 3
   },
   "file_extension": ".py",
   "mimetype": "text/x-python",
   "name": "python",
   "nbconvert_exporter": "python",
   "pygments_lexer": "ipython3",
   "version": "3.8.1"
  },
  "toc": {
   "base_numbering": 1,
   "nav_menu": {},
   "number_sections": true,
   "sideBar": true,
   "skip_h1_title": false,
   "title_cell": "Table of Contents",
   "title_sidebar": "Contents",
   "toc_cell": false,
   "toc_position": {},
   "toc_section_display": true,
   "toc_window_display": false
  },
  "varInspector": {
   "cols": {
    "lenName": 16,
    "lenType": 16,
    "lenVar": 40
   },
   "kernels_config": {
    "python": {
     "delete_cmd_postfix": "",
     "delete_cmd_prefix": "del ",
     "library": "var_list.py",
     "varRefreshCmd": "print(var_dic_list())"
    },
    "r": {
     "delete_cmd_postfix": ") ",
     "delete_cmd_prefix": "rm(",
     "library": "var_list.r",
     "varRefreshCmd": "cat(var_dic_list()) "
    }
   },
   "types_to_exclude": [
    "module",
    "function",
    "builtin_function_or_method",
    "instance",
    "_Feature"
   ],
   "window_display": false
  }
 },
 "nbformat": 4,
 "nbformat_minor": 5
}
