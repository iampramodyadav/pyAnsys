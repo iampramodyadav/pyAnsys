{
 "cells": [
  {
   "cell_type": "markdown",
   "id": "3b12134b",
   "metadata": {},
   "source": [
    "`Pramod Kumar Yadav`"
   ]
  },
  {
   "cell_type": "markdown",
   "id": "b81047a5",
   "metadata": {
    "toc": true
   },
   "source": [
    "<h1>Table of Contents<span class=\"tocSkip\"></span></h1>\n",
    "<div class=\"toc\"><ul class=\"toc-item\"><li><span><a href=\"#MAPDL\" data-toc-modified-id=\"MAPDL-1\"><span class=\"toc-item-num\">1&nbsp;&nbsp;</span>MAPDL</a></span><ul class=\"toc-item\"><li><span><a href=\"#Important-links\" data-toc-modified-id=\"Important-links-1.1\"><span class=\"toc-item-num\">1.1&nbsp;&nbsp;</span>Important links</a></span></li><li><span><a href=\"#Helper-functions\" data-toc-modified-id=\"Helper-functions-1.2\"><span class=\"toc-item-num\">1.2&nbsp;&nbsp;</span>Helper functions</a></span></li><li><span><a href=\"#Launcher\" data-toc-modified-id=\"Launcher-1.3\"><span class=\"toc-item-num\">1.3&nbsp;&nbsp;</span>Launcher</a></span></li><li><span><a href=\"#Commands-output\" data-toc-modified-id=\"Commands-output-1.4\"><span class=\"toc-item-num\">1.4&nbsp;&nbsp;</span>Commands output</a></span></li><li><span><a href=\"#Database-(.db)\" data-toc-modified-id=\"Database-(.db)-1.5\"><span class=\"toc-item-num\">1.5&nbsp;&nbsp;</span>Database (.db)</a></span><ul class=\"toc-item\"><li><span><a href=\"#MapdlDb\" data-toc-modified-id=\"MapdlDb-1.5.1\"><span class=\"toc-item-num\">1.5.1&nbsp;&nbsp;</span>MapdlDb</a></span></li></ul></li><li><span><a href=\"#Geometry\" data-toc-modified-id=\"Geometry-1.6\"><span class=\"toc-item-num\">1.6&nbsp;&nbsp;</span>Geometry</a></span></li><li><span><a href=\"#Inline-functions\" data-toc-modified-id=\"Inline-functions-1.7\"><span class=\"toc-item-num\">1.7&nbsp;&nbsp;</span>Inline functions</a></span></li><li><span><a href=\"#Logging\" data-toc-modified-id=\"Logging-1.8\"><span class=\"toc-item-num\">1.8&nbsp;&nbsp;</span>Logging</a></span></li><li><span><a href=\"#Mapdl-module\" data-toc-modified-id=\"Mapdl-module-1.9\"><span class=\"toc-item-num\">1.9&nbsp;&nbsp;</span><code>Mapdl</code> module</a></span></li></ul></li><li><span><a href=\"#PyDPF-Post\" data-toc-modified-id=\"PyDPF-Post-2\"><span class=\"toc-item-num\">2&nbsp;&nbsp;</span>PyDPF-Post</a></span><ul class=\"toc-item\"><li><span><a href=\"#Load-the-result-file\" data-toc-modified-id=\"Load-the-result-file-2.1\"><span class=\"toc-item-num\">2.1&nbsp;&nbsp;</span>Load the result file</a></span><ul class=\"toc-item\"><li><span><a href=\"#Common\" data-toc-modified-id=\"Common-2.1.1\"><span class=\"toc-item-num\">2.1.1&nbsp;&nbsp;</span>Common</a></span></li></ul></li><li><span><a href=\"#Structural-result-files\" data-toc-modified-id=\"Structural-result-files-2.2\"><span class=\"toc-item-num\">2.2&nbsp;&nbsp;</span>Structural result files</a></span></li><li><span><a href=\"#DataFrame\" data-toc-modified-id=\"DataFrame-2.3\"><span class=\"toc-item-num\">2.3&nbsp;&nbsp;</span>DataFrame</a></span></li><li><span><a href=\"#Mesh\" data-toc-modified-id=\"Mesh-2.4\"><span class=\"toc-item-num\">2.4&nbsp;&nbsp;</span>Mesh</a></span></li></ul></li><li><span><a href=\"#PyMAPDL-Reader-[not-recommended]\" data-toc-modified-id=\"PyMAPDL-Reader-[not-recommended]-3\"><span class=\"toc-item-num\">3&nbsp;&nbsp;</span>PyMAPDL Reader [not recommended]</a></span></li></ul></div>"
   ]
  },
  {
   "cell_type": "markdown",
   "id": "ceb1f35e",
   "metadata": {},
   "source": [
    "# PyAnsys"
   ]
  },
  {
   "cell_type": "markdown",
   "id": "d4bf36d9",
   "metadata": {},
   "source": [
    "[PyAnsys](https://docs.pyansys.com/version/dev/index.html)\n",
    "\n",
    "[YouTube:Intro to Python Scripting – Ansys Innovation Course](https://www.youtube.com/playlist?list=PLtt6-ZgUFmMLqQ56aVUoIKkf_HREeh5QE)"
   ]
  },
  {
   "cell_type": "markdown",
   "id": "aeb4b7c0",
   "metadata": {},
   "source": [
    "**Create a virtual environment:**\n",
    "\n",
    "- Install virtualenv using\n",
    "\n",
    "    >`> pip install virtualenv`\n",
    "\n",
    "- Go to library where you want to create virtual environment e.g \n",
    "\n",
    "    >`> cd C:\\Users\\pramod.kumar\\PythonEnv\\`\n",
    "\n",
    "- Create a virtualenv there:\n",
    "\n",
    "    >`> virtualenv myenv`\n",
    "\n",
    "- Activate virtual env: \n",
    "\n",
    "    >`> C:\\Users\\pramod.kumar\\PythonEnv\\myenv\\Scripts\\activate.bat`\n",
    "\n",
    "- if you are in same directory\n",
    "\n",
    "     > `> myenv\\Scripts\\activate`\n",
    "\n",
    "\n",
    "**Installing all required libray:**\n",
    "\n",
    "- activate virtualenv and copy requirements file in folder and run\n",
    "\n",
    "    >`> pip install -r Requirement.txt`"
   ]
  },
  {
   "cell_type": "markdown",
   "id": "d1b758fb",
   "metadata": {},
   "source": [
    "## MAPDL "
   ]
  },
  {
   "cell_type": "markdown",
   "id": "b4879e28",
   "metadata": {},
   "source": [
    "`pip install ansys-mapdl-core`"
   ]
  },
  {
   "cell_type": "markdown",
   "id": "bb7a451e",
   "metadata": {},
   "source": [
    "### Important links\n",
    "\n",
    "- [PyMAPDL documentation](https://mapdl.docs.pyansys.com/version/stable/index.html)\n",
    "\n",
    "- [YouTube: Getting Started with Ansys PyMAPDL](https://www.youtube.com/playlist?list=PLtt6-ZgUFmMIUaSgXjA1sw2VrPy9SAbbD)\n",
    "\n",
    "- [Youtube:Developing WebApps Utilizing PyMAPDL](https://www.youtube.com/playlist?list=PLtt6-ZgUFmMKNAQkU2gXCfL80bH_kAkYe)"
   ]
  },
  {
   "cell_type": "markdown",
   "id": "9631588a",
   "metadata": {},
   "source": [
    "### Helper functions\n",
    "\n",
    "These methods simplify launching MAPDL, converting existing scripts, or automating other tasks.\n",
    "\n",
    "[Source: Helper Functions](https://mapdl.docs.pyansys.com/version/stable/api/helper.html)"
   ]
  },
  {
   "cell_type": "markdown",
   "id": "78ad3ca2",
   "metadata": {},
   "source": [
    "| Functions                                          |  Use                                                                 |\n",
    "|:---------------------------------------------------|:---------------------------------------------------------------------|\n",
    "| `launch_mapdl([exec_file, run_location, ...])`      | Start MAPDL locally.                                                                                     |\n",
    "| `convert_apdl_block(apdl_strings[, loglevel, ...])` | Converts an ANSYS input string to a python PyMAPDL string.                                               |\n",
    "| `convert_script(filename_in[, filename_out, ...]`)  | Converts an ANSYS input file to a python PyMAPDL script.                                                 |\n",
    "| `Information(mapdl)`                                | This class provide some MAPDL information from /STATUS MAPDL command.                                    |\n",
    "| `change_default_ansys_path(exe_loc)`                | Change your default ansys path.                                                                          |\n",
    "| `find_ansys([version])`                             | Searches for ansys path within the standard install location and returns the path of the latest version. |\n",
    "| `close_all_local_instances([port_range])`           | Close all MAPDL instances within a port_range.                                                           |\n",
    "| `save_ansys_path([exe_loc])`                        | Find MAPDL's path or query user.                                                                         |"
   ]
  },
  {
   "cell_type": "markdown",
   "id": "895a2ded",
   "metadata": {},
   "source": [
    "**launch_mapdl**\n",
    "\n",
    "[API Ref: launch_mapdl](https://mapdl.docs.pyansys.com/version/stable/api/_autosummary/ansys.mapdl.core.launch_mapdl.html#ansys.mapdl.core.launch_mapdl)\n",
    "\n",
    "\n",
    "\n",
    "```python\n",
    "from ansys.mapdl.core import launch_mapdl\n",
    "\n",
    "mapdl = launch_mapdl(exec_file=None,\n",
    "                     run_location=None, \n",
    "                     jobname='file', \n",
    "                     nproc=2,\n",
    "                     ram=None, \n",
    "                     mode=None, \n",
    "                     override=False, \n",
    "                     loglevel='ERROR', \n",
    "                     additional_switches='', \n",
    "                     start_timeout=45, \n",
    "                     port=None, \n",
    "                     cleanup_on_exit=True, \n",
    "                     start_instance=None, \n",
    "                     ip=None, \n",
    "                     clear_on_connect=True, \n",
    "                     log_apdl=None, \n",
    "                     remove_temp_files=None, \n",
    "                     remove_temp_dir_on_exit=False, \n",
    "                     verbose_mapdl=None, \n",
    "                     license_server_check=True, \n",
    "                     license_type=None, \n",
    "                     print_com=False, \n",
    "                     add_env_vars=None, \n",
    "                     replace_env_vars=None, \n",
    "                     version=None, **kwargs)\n",
    "```\n",
    "- `exec_file` : `str`, `optional`\n",
    "The location of the MAPDL executable. Will use the cached location when left at the default None and no environment variable is set.\n",
    "\n",
    "- `run_location` : `str`, `optional` \n",
    "MAPDL working directory. Defaults to a temporary working directory. If directory doesn’t exist, one is created.\n",
    "\n",
    "- `jobname` : `str`, `optional` \n",
    "MAPDL jobname. Defaults to 'file'.\n",
    "\n",
    "- `override` : `bool`, `optional`\n",
    "Attempts to delete the lock file at the run_location. Useful when a prior MAPDL session has exited prematurely and the lock file has not been deleted.\n",
    "\n",
    "- `verbose_mapdl` : `bool`, `optional`\n",
    "Enable printing of all output when launching and running MAPDL. This should be used for debugging only as output can be tracked within pymapdl. Default False."
   ]
  },
  {
   "cell_type": "code",
   "execution_count": 1,
   "id": "f928b219",
   "metadata": {
    "ExecuteTime": {
     "end_time": "2023-05-25T13:12:29.600432Z",
     "start_time": "2023-05-25T13:12:26.122784Z"
    }
   },
   "outputs": [],
   "source": [
    "import ansys.mapdl.core as pymapdl\n",
    "pymapdl.close_all_local_instances()"
   ]
  },
  {
   "cell_type": "code",
   "execution_count": null,
   "id": "98f83210",
   "metadata": {},
   "outputs": [],
   "source": []
  },
  {
   "cell_type": "code",
   "execution_count": null,
   "id": "325e6dca",
   "metadata": {},
   "outputs": [],
   "source": []
  },
  {
   "cell_type": "markdown",
   "id": "b2051927",
   "metadata": {},
   "source": [
    "### Launcher"
   ]
  },
  {
   "cell_type": "markdown",
   "id": "271fb9e3",
   "metadata": {},
   "source": [
    "| Function                                     | Use                                                                                                                                  |\n",
    "|:----------------------------------------------|:--------------------------------------------------------------------------------------------------------------------------------------|\n",
    "| `launcher.change_default_ansys_path(exe_loc)`  | Change your default ansys path.                                                                                                      |\n",
    "| `launcher.get_available_ansys_installations()` | Return a dictionary of available Ansys versions with their base paths.                                                               |\n",
    "| `launcher.get_default_ansys()`                 | Searches for ansys path within the standard install location and returns the path and version of the latest MAPDL version installed. |\n",
    "| `launcher.get_default_ansys_path()`            | Searches for ansys path within the standard install location and returns the path of the latest MAPDL version installed.             |\n",
    "| `launcher.get_default_ansys_version()`         | Searches for ansys path within the standard install location and returns the version of the latest MAPDL version installed.          |\n",
    "| `launcher.save_ansys_path([exe_loc])`          | Find MAPDL's path or query user.                                                                                                     |\n",
    "|                                              |                                                                                                                                      |"
   ]
  },
  {
   "cell_type": "code",
   "execution_count": 1,
   "id": "19588e74",
   "metadata": {
    "ExecuteTime": {
     "end_time": "2023-05-26T05:45:55.752782Z",
     "start_time": "2023-05-26T05:45:53.720726Z"
    }
   },
   "outputs": [
    {
     "data": {
      "text/plain": [
       "{222: 'C:\\\\Program Files\\\\ANSYS Inc\\\\v222',\n",
       " 212: 'C:\\\\Program Files\\\\ANSYS Inc\\\\v212',\n",
       " 195: 'C:\\\\Program Files\\\\ANSYS Inc\\\\v195'}"
      ]
     },
     "execution_count": 1,
     "metadata": {},
     "output_type": "execute_result"
    }
   ],
   "source": [
    "from ansys.mapdl.core import get_available_ansys_installations\n",
    "get_available_ansys_installations()"
   ]
  },
  {
   "cell_type": "code",
   "execution_count": 2,
   "id": "cc01464f",
   "metadata": {
    "ExecuteTime": {
     "end_time": "2023-05-26T05:45:57.575868Z",
     "start_time": "2023-05-26T05:45:57.566878Z"
    }
   },
   "outputs": [
    {
     "data": {
      "text/plain": [
       "('C:\\\\Program Files\\\\ANSYS Inc\\\\v222\\\\ansys\\\\bin\\\\winx64\\\\ansys222.exe', 22.2)"
      ]
     },
     "execution_count": 2,
     "metadata": {},
     "output_type": "execute_result"
    }
   ],
   "source": [
    "from ansys.mapdl.core.launcher import get_default_ansys\n",
    "get_default_ansys()"
   ]
  },
  {
   "cell_type": "code",
   "execution_count": 3,
   "id": "848e7598",
   "metadata": {
    "ExecuteTime": {
     "end_time": "2023-05-26T05:46:10.757931Z",
     "start_time": "2023-05-26T05:46:10.742935Z"
    }
   },
   "outputs": [
    {
     "data": {
      "text/plain": [
       "'C:\\\\Program Files\\\\ANSYS Inc\\\\v222\\\\ansys\\\\bin\\\\winx64\\\\ansys222.exe'"
      ]
     },
     "execution_count": 3,
     "metadata": {},
     "output_type": "execute_result"
    }
   ],
   "source": [
    "from ansys.mapdl.core.launcher import get_default_ansys_path\n",
    "get_default_ansys_path()"
   ]
  },
  {
   "cell_type": "code",
   "execution_count": 4,
   "id": "20a5b63b",
   "metadata": {
    "ExecuteTime": {
     "end_time": "2023-05-26T05:46:11.900697Z",
     "start_time": "2023-05-26T05:46:11.878703Z"
    }
   },
   "outputs": [
    {
     "data": {
      "text/plain": [
       "('C:\\\\Program Files\\\\ANSYS Inc\\\\v222\\\\ansys\\\\bin\\\\winx64\\\\ansys222.exe', 22.2)"
      ]
     },
     "execution_count": 4,
     "metadata": {},
     "output_type": "execute_result"
    }
   ],
   "source": [
    "from ansys.mapdl.core.launcher import find_ansys\n",
    "find_ansys()"
   ]
  },
  {
   "cell_type": "code",
   "execution_count": 5,
   "id": "5c6b5c17",
   "metadata": {
    "ExecuteTime": {
     "end_time": "2023-05-26T05:46:12.845686Z",
     "start_time": "2023-05-26T05:46:12.832693Z"
    }
   },
   "outputs": [
    {
     "data": {
      "text/plain": [
       "22.2"
      ]
     },
     "execution_count": 5,
     "metadata": {},
     "output_type": "execute_result"
    }
   ],
   "source": [
    "from ansys.mapdl.core.launcher import get_default_ansys_version\n",
    "get_default_ansys_version()"
   ]
  },
  {
   "cell_type": "markdown",
   "id": "0954507b",
   "metadata": {},
   "source": [
    "### Commands output"
   ]
  },
  {
   "cell_type": "markdown",
   "id": "836ec09e",
   "metadata": {},
   "source": [
    "Various PyMAPDL classes and commands which helps in data post-processing.\n",
    "\n",
    "[Source:Commands output](https://mapdl.docs.pyansys.com/version/stable/api/commands.html)"
   ]
  },
  {
   "cell_type": "markdown",
   "id": "42087f5d",
   "metadata": {},
   "source": []
  },
  {
   "cell_type": "code",
   "execution_count": null,
   "id": "f1b62ac8",
   "metadata": {},
   "outputs": [],
   "source": []
  },
  {
   "cell_type": "code",
   "execution_count": null,
   "id": "de7370ae",
   "metadata": {},
   "outputs": [],
   "source": []
  },
  {
   "cell_type": "markdown",
   "id": "53d9fa42",
   "metadata": {},
   "source": [
    "### Database (.db)"
   ]
  },
  {
   "cell_type": "markdown",
   "id": "07f23e8e",
   "metadata": {},
   "source": [
    "[Source: Database](https://mapdl.docs.pyansys.com/version/stable/api/database.html)"
   ]
  },
  {
   "cell_type": "markdown",
   "id": "36e07870",
   "metadata": {},
   "source": [
    "| Function          | Use                                    |\n",
    "|:-------------------|:----------------------------------------|\n",
    "| `MapdlDb`(mapdl)    | Abstract mapdl database class.         |\n",
    "| `elems.DbElems`(db) | Abstract mapdl database element class. |\n",
    "| `nodes.DbNodes`(db) | Abstract mapdl db nodes class.         |"
   ]
  },
  {
   "cell_type": "markdown",
   "id": "6df472e7",
   "metadata": {},
   "source": [
    "#### MapdlDb"
   ]
  },
  {
   "cell_type": "markdown",
   "id": "00e264ac",
   "metadata": {},
   "source": [
    "**Methods**\n",
    "\n",
    "| Function                            | Use                                                           |\n",
    "|:-------------------------------------|:---------------------------------------------------------------|\n",
    "| `MapdlDb.clear(**kwargs)`             | Delete everything in the MAPDL database.                      |\n",
    "| `MapdlDb.load(fname[, progress_bar])` | Load a MAPDL database file in memory.                         |\n",
    "| `MapdlDb.save(fname[, option])`       | Save the MAPDL database to disk.                              |\n",
    "| `MapdlDb.start([timeout])`            | Start the gRPC MAPDL database server.                         |\n",
    "| `MapdlDb.stop()`                      | Shutdown the MAPDL database service and close the connection. |"
   ]
  },
  {
   "cell_type": "markdown",
   "id": "7de18a27",
   "metadata": {},
   "source": [
    "- `mapdl.db.clear()`\n",
    "\n",
    "- `mapdl.db.load('file.db')`\n"
   ]
  },
  {
   "cell_type": "markdown",
   "id": "be0f69e6",
   "metadata": {},
   "source": [
    "**`MapdlDb.save(fname, option='ALL')`**\n",
    "\n",
    "Save the MAPDL database to disk.\n",
    "\n",
    "Parameters:\n",
    "- `fname: str` (Filename to save the database to.)\n",
    "\n",
    "optionstr\n",
    "\n",
    " The mode for saving the database, either:\n",
    "\n",
    "- “ALL” - Both the model and the solution\n",
    "\n",
    "- “MODEL” - Just the model\n",
    "\n",
    "- “SOLU” - Just the solution\n",
    "\n",
    "Example:\n",
    "\n",
    "- `mapdl.db.save('model.db', option=)`\n"
   ]
  },
  {
   "cell_type": "markdown",
   "id": "ff520783",
   "metadata": {},
   "source": [
    "**Attributes**\n",
    "\n",
    "| Func           | Use                                      |\n",
    "|:----------------|:------------------------------------------|\n",
    "| `MapdlDb.active` | Return if the database server is active. |\n",
    "| `MapdlDb.elems`  | MAPDL database element interface.        |\n",
    "| `MapdlDb.nodes`  | MAPDL database nodes interface.          |\n",
    "\n",
    "- [MapdlDb.elems](https://mapdl.docs.pyansys.com/version/stable/api/_autosummary/ansys.mapdl.core.database.MapdlDb.elems.html)\n",
    "\n",
    "- [MapdlDb.nodes](https://mapdl.docs.pyansys.com/version/stable/api/_autosummary/ansys.mapdl.core.database.MapdlDb.nodes.html)"
   ]
  },
  {
   "cell_type": "markdown",
   "id": "ccf02888",
   "metadata": {},
   "source": [
    "### Geometry"
   ]
  },
  {
   "cell_type": "markdown",
   "id": "4c30d2a0",
   "metadata": {},
   "source": [
    "Pythonic representation of MAPDL CAD geometry\n",
    "\n",
    "Contains advanced methods to extend geometry building and selection within MAPDL."
   ]
  },
  {
   "cell_type": "markdown",
   "id": "4e72bc65",
   "metadata": {},
   "source": [
    "**Methods**\n",
    "\n",
    "| Func                                             | Use                                                        |\n",
    "|:--------------------------------------------------|:------------------------------------------------------------|\n",
    "| `Geometry.area_select(items[, sel_type, ...])`     | Select areas using a sequence of items.                    |\n",
    "| `Geometry.areas([quality, merge])`                 | List of areas from MAPDL represented as pyvista.PolyData.  |\n",
    "| `Geometry.generate_surface([density, amin, ...])`  | Generate an all-triangular surface of the active surfaces. |\n",
    "| `Geometry.keypoint_select(items[, sel_type, ...])` | Select keypoints using a sequence of items.                |\n",
    "| `Geometry.line_select(items[, sel_type, ...])`     | Select lines using a sequence of items.                    |\n",
    "| `Geometry.volume_select(items[, sel_type, ...])`   | Select volumes using a sequence of items.                  |"
   ]
  },
  {
   "cell_type": "markdown",
   "id": "77c5584c",
   "metadata": {},
   "source": [
    "**area_select**\n",
    "\n",
    "`Geometry.area_select(items, sel_type='S', return_selected=False)`\n",
    "Select areas using a sequence of items.\n",
    "\n",
    "*Parameters:*\n",
    "\n",
    "`items: sequence, str, None`\n",
    "\n",
    "List, range, or sequence of integers of the areas you want to select. If None or 'NONE', no areas will be selected. If ‘ALL’, selects all areas.\n",
    "\n",
    "`sel_type: str, optional`\n",
    "\n",
    "Selection type. May be one of the following:\n",
    "\n",
    "'S': Select a new set (default)\n",
    "\n",
    "'R': Reselect a set from the current set.\n",
    "\n",
    "'A': Additionally select a set and extend the current set.\n",
    "\n",
    "'U': Unselect a set from the current set.\n",
    "\n",
    "return_selected: bool, optional\n",
    "\n",
    "Return the area numbers selected. Optional, and can be disabled for performance. Default False.\n",
    "\n",
    "*Returns:*\n",
    "list\n",
    "\n",
    "Example:\n",
    "\n",
    "```python\n",
    "\n",
    "mapdl.geometry.area_select(range(1, 21), sel_type='U')\n",
    "\n",
    "mapdl.geometry.area_select([1, 2, 3], sel_type='A')\n",
    "\n",
    "```"
   ]
  },
  {
   "cell_type": "markdown",
   "id": "184489ba",
   "metadata": {},
   "source": [
    "**Attributes**\n",
    "\n",
    "| Func                | Use                                     |\n",
    "|:---------------------|:-----------------------------------------|\n",
    "| `Geometry.anum`       | Array of area numbers.                  |\n",
    "|`Geometry.keypoints`  | Keypoint coordinates                    |\n",
    "| `Geometry.knum`       | Array of keypoint numbers.              |\n",
    "| `Geometry.lines`      | Active lines as a pyvista.PolyData      |\n",
    "| `Geometry.lnum`       | Array of line numbers.                  |\n",
    "| `Geometry.n_area`     | Number of areas currently selected.     |\n",
    "| `Geometry.n_keypoint` | Number of keypoints currently selected. |\n",
    "| `Geometry.n_line`     | Number of lines currently selected.     |\n",
    "| `Geometry.n_volu`     | Number of volumes currently selected.   |\n",
    "| `Geometry.vnum`       | Array of volume numbers.                |\n",
    "\n",
    "```python\n",
    "mapdl.block(0, 1, 0, 1, 0, 1)\n",
    "mapdl.anum\n",
    "#array([1, 2, 3, 4, 5, 6], dtype=int32)\n",
    "\n",
    "mapdl.block(0, 1, 0, 1, 0, 1)\n",
    "mapdl.vnum\n",
    "#array([1], dtype=int32)\n",
    "\n",
    "```"
   ]
  },
  {
   "cell_type": "markdown",
   "id": "35e094d8",
   "metadata": {},
   "source": [
    "### Inline functions\n",
    "\n",
    "These are wrapped versions of inline APDL functions that perform operations like finding the x-coordinate of a node given its number (Query.nx).\n",
    "\n",
    "Most of the results of these methods are shortcuts for specific combinations of arguments supplied to [ansys.mapdl.core.Mapdl.get()](https://mapdl.docs.pyansys.com/version/stable/api/_autosummary/ansys.mapdl.core.Mapdl.get.html#ansys.mapdl.core.Mapdl.get)."
   ]
  },
  {
   "cell_type": "markdown",
   "id": "3287d526",
   "metadata": {},
   "source": [
    "Currently implemented functions:\n",
    "\n",
    "centrx(e) - get the centroid x-coordinate of element e\n",
    "\n",
    "centry(e) - get the centroid y-coordinate of element e\n",
    "\n",
    "centrz(e) - get the centroid z-coordinate of element e\n",
    "\n",
    "nx(n) - get the x-coordinate of node n\n",
    "\n",
    "ny(n) - get the y-coordinate of node n\n",
    "\n",
    "nz(n) - get the z-coordinate of node n\n",
    "\n",
    "kx(k) - get the x-coordinate of keypoint k\n",
    "\n",
    "ky(k) - get the y-coordinate of keypoint k\n",
    "\n",
    "kz(k) - get the z-coordinate of keypoint k\n",
    "\n",
    "lx(n, lfrac) - X-coordinate of line n at length fraction lfrac\n",
    "\n",
    "ly(n, lfrac) - Y-coordinate of line n at length fraction lfrac\n",
    "\n",
    "lz(n, lfrac) - Z-coordinate of line n at length fraction lfrac\n",
    "\n",
    "lsx(n, lfrac) - X-slope of line n at length fraction lfrac\n",
    "\n",
    "lsy(n, lfrac) - Y-slope of line n at length fraction lfrac\n",
    "\n",
    "lsz(n, lfrac) - Z-slope of line n at length fraction lfrac\n",
    "\n",
    "ux(n) - get the structural displacement at node n in x\n",
    "\n",
    "uy(n) - get the structural displacement at node n in y\n",
    "\n",
    "uz(n) - get the structural displacement at node n in z\n",
    "\n",
    "rotx(n) - get the rotational displacement at node n in x\n",
    "\n",
    "roty(n) - get the rotational displacement at node n in y\n",
    "\n",
    "rotz(n) - get the rotational displacement at node n in z\n",
    "\n",
    "nsel(n) - get the selection status of node n\n",
    "\n",
    "ksel(k) - get the selection status of keypoint k\n",
    "\n",
    "lsel(n) - get the selection status of line n\n",
    "\n",
    "asel(a) - get the selection status of area a\n",
    "\n",
    "esel(n) - get the selection status of element e\n",
    "\n",
    "vsel(v) - get the selection status of volume v\n",
    "\n",
    "ndnext(n) - get the next selected node with a number greater than n.\n",
    "\n",
    "kpnext(k) - get the next selected keypoint with a number greater than k.\n",
    "\n",
    "lsnext(n) - get the next selected line with a number greater than n.\n",
    "\n",
    "arnext(a) - get the next selected area with a number greater than a.\n",
    "\n",
    "elnext(e) - get the next selected element with a number greater than e.\n",
    "\n",
    "vlnext(v) - get the next selected volume with a number greater than v.\n",
    "\n",
    "nnear(n) - get the selected node nearest node n.\n",
    "\n",
    "knear(k) - get the selected keypoint nearest keypoint k.\n",
    "\n",
    "enearn(n) - get the selected element nearest node n.\n",
    "\n",
    "node(x, y, z) - get the node closest to coordinate (x, y, z)\n",
    "\n",
    "kp(x, y, z) - get the keypoint closest to coordinate (x, y, z)"
   ]
  },
  {
   "cell_type": "markdown",
   "id": "99017cdb",
   "metadata": {},
   "source": [
    "*example*\n",
    "\n",
    "```python\n",
    "from ansys.mapdl.core import launch_mapdl\n",
    "mapdl = launch_mapdl()\n",
    "mapdl.prep7()\n",
    "mapdl.et(1, 'SOLID5')\n",
    "mapdl.block(0, 10, 0, 20, 0, 30)\n",
    "mapdl.esize(2)\n",
    "mapdl.vmesh('ALL')\n",
    "q = mapdl.queries\n",
    "q.nx(1), q.ny(1), q.nz(1)\n",
    "#0.0 20.0 0.0\n",
    "```"
   ]
  },
  {
   "cell_type": "markdown",
   "id": "93516609",
   "metadata": {},
   "source": [
    "| Func                | Use                                                       |\n",
    "|:---------------------|:-----------------------------------------------------------|\n",
    "| Query.node(x, y, z) | Return node closest to coordinate (x, y, z).              |\n",
    "| Query.kp(x, y, z)   | Return keypoint closest to coordinate (x, y, z).          |\n",
    "| Query.centrx(e)     | Return the x coordinate of the element centroid.          |\n",
    "| Query.centry(e)     | Return the y coordinate of the element centroid.          |\n",
    "| Query.centrz(e)     | Return the z coordinate of the element centroid.          |\n",
    "| Query.kx(k)         | Return the x coordinate of a keypont.                     |\n",
    "| Query.ky(k)         | Return the y coordinate of a keypont.                     |\n",
    "| Query.kz(k)         | Return the z coordinate of a keypont.                     |\n",
    "| Query.nx(n)         | Return the x coordinate of a node.                        |\n",
    "| Query.ny(n)         | Return the y coordinate of a node.                        |\n",
    "| Query.nz(n)         | Return the z coordinate of a node.                        |\n",
    "| Query.ux(n)         | Returns x-component of structural displacement at a node. |\n",
    "| Query.uy(n)         | Returns y-component of structural displacement at a node. |\n",
    "| Query.uz(n)         | Returns z-component of structural displacement at a node. |\n",
    "| Query.rotx(n)       | Returns x-component of rotational displacement at a node. |\n",
    "| Query.roty(n)       | Returns y-component of rotational displacement at a node. |\n",
    "| Query.rotz(n)       | Returns z-component of rotational displacement at a node. |\n",
    "| Query.lx(n, lfrac)  | X-coordinate of line n at length fraction lfrac.          |\n",
    "| Query.ly(n, lfrac)  | Y-coordinate of line n at length fraction lfrac.          |\n",
    "| Query.lz(n, lfrac)  | Z-coordinate of line n at length fraction lfrac.          |\n",
    "| Query.lsx(n, lfrac) | X-slope of line n at length fraction lfrac.               |\n",
    "| Query.lsy(n, lfrac) | Y-slope of line n at length fraction lfrac.               |\n",
    "| Query.lsz(n, lfrac) | Z-slope of line n at length fraction lfrac.               |\n",
    "| Query.nsel(n)       | Returns selection status of a node.                       |\n",
    "| Query.ksel(k)       | Returns selection status of a keypoint.                   |\n",
    "| Query.lsel(n)       | Returns selection status of a line.                       |\n",
    "| Query.asel(a)       | Returns selection status of an area.                      |\n",
    "| Query.esel(e)       | Returns selection status of an element.                   |\n",
    "| Query.vsel(v)       | Returns selection status of a volume.                     |\n",
    "\n",
    "\n",
    "\n",
    "*Example*\n",
    "```python\n",
    "from ansys.mapdl.core import launch_mapdl\n",
    "mapdl = launch_mapdl()\n",
    "mapdl.prep7()\n",
    "mapdl.k(1, 0, 1, 2)\n",
    "mapdl.queries.kx(1)\n",
    "#0.0\n",
    "```"
   ]
  },
  {
   "cell_type": "code",
   "execution_count": null,
   "id": "e992f7f9",
   "metadata": {},
   "outputs": [],
   "source": []
  },
  {
   "cell_type": "markdown",
   "id": "c16c268c",
   "metadata": {},
   "source": [
    "### Logging"
   ]
  },
  {
   "cell_type": "markdown",
   "id": "2f1a8915",
   "metadata": {},
   "source": [
    "[source](https://mapdl.docs.pyansys.com/version/stable/api/logging.html)"
   ]
  },
  {
   "cell_type": "markdown",
   "id": "4930375f",
   "metadata": {},
   "source": [
    "```python\n",
    "from ansys.mapdl.core import launch_mapdl\n",
    "mapdl = launch_mapdl()\n",
    "mapdl._log.info(\"This is an useful message\")\n",
    "  #LEVEL - INSTANCE NAME - MODULE - FUNCTION - MESSAGE\n",
    "  #INFO - GRPC_127.0.0.1:50052 -  test - <module> - This is an useful message\n",
    "    \n",
    "```"
   ]
  },
  {
   "cell_type": "markdown",
   "id": "3c306ec3",
   "metadata": {},
   "source": [
    "### `Mapdl` module"
   ]
  },
  {
   "cell_type": "markdown",
   "id": "3de1ae3b",
   "metadata": {},
   "source": [
    "**`Mapdl` methods and attributes**\n",
    "\n",
    "| Func                                              | Use                                                                                  |\n",
    "|:---------------------------------------------------|:--------------------------------------------------------------------------------------|\n",
    "| `Mapdl.add_file_handler(filepath[, append, level])` | Add a file handler to the mapdl log.                                                 |\n",
    "| `Mapdl.chain_commands`                              | Chain several mapdl commands.                                                        |\n",
    "| `Mapdl.directory`                                   | Current MAPDL directory.                                                             |\n",
    "| `Mapdl.get([par, entity, entnum, item1, ...])`      | Retrieves a value and stores it as a scalar parameter or part of an array parameter. |\n",
    "| `Mapdl.get_array([entity, entnum, item1, ...])`     | Uses the *VGET command to Return an array from ANSYS as a Python array.              |\n",
    "| `Mapdl.get_value([entity, entnum, item1, ...])`     | Runs the MAPDL GET command and returns a Python value.                               |\n",
    "| `Mapdl.ignore_errors`                               | Invalid commands will be ignored rather than exceptions                              |\n",
    "| `Mapdl.jobname`                                     | MAPDL job name.                                                                      |\n",
    "| `Mapdl.last_response`                               | Returns the last response from MAPDL.                                                |\n",
    "| `Mapdl.load_table(name, array[, var1, var2, ...])`  | Load a table from Python to into MAPDL.                                              |\n",
    "| `Mapdl.mesh`                                        | Mesh information.                                                                    |\n",
    "| `Mapdl.modal_analysis([method, nmode, freqb, ...])` | Run a modal with basic settings analysis                                             |\n",
    "| `Mapdl.non_interactive`                             | Non-interactive context manager.                                                     |\n",
    "| `Mapdl.open_apdl_log(filename[, mode])`             | Start writing all APDL commands to an MAPDL input file.                              |\n",
    "| `Mapdl.open_gui([include_result, inplace])`         | Save the existing database and open it up in the MAPDL GUI.                          |\n",
    "| `Mapdl.parameters`                                  | Collection of MAPDL parameters.                                                      |\n",
    "| `Mapdl.result`                                      | Binary interface to the result file using pyansys.Result                             |\n",
    "| `Mapdl.run(command[, write_to_log, mute])`          | Run single APDL command.                                                             |\n",
    "| `Mapdl.run_multiline(commands)`                     | Run several commands as a single block :rtype: str                                   |\n",
    "| `Mapdl.input_strings(commands)`                     | Run several commands as a single block.                                              |\n",
    "| `Mapdl.set_log_level(loglevel)`                     | Sets log level                                                                       |\n",
    "| `Mapdl.version`                                     | MAPDL build version.                                                                 |"
   ]
  },
  {
   "cell_type": "code",
   "execution_count": null,
   "id": "ce6667a9",
   "metadata": {},
   "outputs": [],
   "source": []
  },
  {
   "cell_type": "code",
   "execution_count": null,
   "id": "3666d3f3",
   "metadata": {},
   "outputs": [],
   "source": []
  },
  {
   "cell_type": "code",
   "execution_count": null,
   "id": "1d9f0af2",
   "metadata": {},
   "outputs": [],
   "source": []
  },
  {
   "cell_type": "code",
   "execution_count": null,
   "id": "2926bef9",
   "metadata": {},
   "outputs": [],
   "source": []
  },
  {
   "cell_type": "code",
   "execution_count": null,
   "id": "b167320c",
   "metadata": {},
   "outputs": [],
   "source": []
  },
  {
   "cell_type": "markdown",
   "id": "6f3a2cd3",
   "metadata": {},
   "source": [
    "## PyDPF-Post"
   ]
  },
  {
   "cell_type": "markdown",
   "id": "78a70fe6",
   "metadata": {},
   "source": [
    "`pip install ansys-dpf-post`\n",
    "\n",
    "`pip install ansys-dpf-post[plotting]`"
   ]
  },
  {
   "cell_type": "markdown",
   "id": "47eac5d5",
   "metadata": {},
   "source": [
    "[PyDPF-Post](https://post.docs.pyansys.com/version/stable/#)\n",
    "\n",
    "[DPF-Post-github](https://github.com/ansys/pydpf-post)"
   ]
  },
  {
   "cell_type": "markdown",
   "id": "5c1724df",
   "metadata": {},
   "source": [
    "PyDPF-Post supports four different analysis types for mechanical results:\n",
    "\n",
    "- Static analysis\n",
    "\n",
    "- Modal analysis\n",
    "\n",
    "- Harmonic analysis\n",
    "\n",
    "- Transient analysis"
   ]
  },
  {
   "cell_type": "markdown",
   "id": "3658fc0a",
   "metadata": {},
   "source": [
    "### Load the result file\n",
    "\n",
    "* `load_simulation()`"
   ]
  },
  {
   "cell_type": "markdown",
   "id": "05e1c1d5",
   "metadata": {},
   "source": [
    "#### Common"
   ]
  },
  {
   "cell_type": "code",
   "execution_count": 2,
   "id": "e9111cd0",
   "metadata": {
    "ExecuteTime": {
     "end_time": "2023-07-27T08:43:19.491462Z",
     "start_time": "2023-07-27T08:42:45.168620Z"
    }
   },
   "outputs": [],
   "source": [
    "from ansys.dpf import post\n",
    "from ansys.dpf.post import examples"
   ]
  },
  {
   "cell_type": "code",
   "execution_count": 3,
   "id": "9f42653d",
   "metadata": {
    "ExecuteTime": {
     "end_time": "2023-07-27T08:43:44.164018Z",
     "start_time": "2023-07-27T08:43:41.075830Z"
    }
   },
   "outputs": [],
   "source": [
    "rstpath='C:\\\\Users\\\\pramod.kumar\\\\PythonEnv\\\\myenv\\\\lib\\\\site-packages\\\\ansys\\\\dpf\\\\core\\\\examples\\\\static.rst'\n",
    "simulation = post.load_simulation(rstpath)"
   ]
  },
  {
   "cell_type": "code",
   "execution_count": 4,
   "id": "ccac871e",
   "metadata": {
    "ExecuteTime": {
     "end_time": "2023-07-27T08:43:44.177015Z",
     "start_time": "2023-07-27T08:43:44.167018Z"
    }
   },
   "outputs": [
    {
     "name": "stdout",
     "output_type": "stream",
     "text": [
      "Static Mechanical Simulation.\n",
      "\n",
      "\n",
      "Data Sources\n",
      "------------------------------\n",
      "DPF  DataSources: \n",
      "  Result files:\n",
      "     result key: rst and path: C:\\Users\\pramod.kumar\\PythonEnv\\myenv\\lib\\site-packages\\ansys\\dpf\\core\\examples\\static.rst \n",
      "  Secondary files:\n",
      "\n",
      "\n",
      "DPF Model\n",
      "------------------------------\n",
      "Static analysis\n",
      "Unit system: MKS: m, kg, N, s, V, A, degC\n",
      "Physics Type: Mecanic\n",
      "Available results:\n",
      "     -  displacement: Nodal Displacement\n",
      "     -  reaction_force: Nodal Force   \n",
      "     -  stress: ElementalNodal Stress \n",
      "     -  elemental_volume: Elemental Volume\n",
      "     -  stiffness_matrix_energy: Elemental Energy-stiffness matrix\n",
      "     -  artificial_hourglass_energy: Elemental Hourglass Energy\n",
      "     -  thermal_dissipation_energy: Elemental thermal dissipation energy\n",
      "     -  kinetic_energy: Elemental Kinetic Energy\n",
      "     -  co_energy: Elemental co-energy\n",
      "     -  incremental_energy: Elemental incremental energy\n",
      "     -  elastic_strain: ElementalNodal Strain\n",
      "     -  structural_temperature: ElementalNodal Temperature\n",
      "------------------------------\n",
      "DPF  Meshed Region: \n",
      "  81 nodes \n",
      "  8 elements \n",
      "  Unit: m \n",
      "  With solid (3D) elements\n",
      "------------------------------\n",
      "DPF  Time/Freq Support: \n",
      "  Number of sets: 1 \n",
      "Cumulative     Time (s)       LoadStep       Substep         \n",
      "1              1.000000       1              1               \n",
      "\n"
     ]
    }
   ],
   "source": [
    "print(simulation)"
   ]
  },
  {
   "cell_type": "markdown",
   "id": "fa101a64",
   "metadata": {},
   "source": [
    "### Structural result files\n",
    "\n",
    "After loading a Solution object from a structural analysis result (RST) file, you can query these Result objects:\n",
    "\n",
    "- `displacement`\n",
    "- `stress`\n",
    "- `elastic_strain`\n",
    "- `plastic_strain`\n",
    "- `structural_temperature`\n",
    "\n",
    "Miscellaneous results: The Solution object might contain other miscellaneous result objects that you can access"
   ]
  },
  {
   "cell_type": "code",
   "execution_count": 5,
   "id": "1f778899",
   "metadata": {
    "ExecuteTime": {
     "end_time": "2023-07-27T08:44:39.897623Z",
     "start_time": "2023-07-27T08:44:39.880626Z"
    }
   },
   "outputs": [
    {
     "name": "stdout",
     "output_type": "stream",
     "text": [
      "\n",
      "                 results      S (Pa)\n",
      "                 set_ids           1\n",
      " element_ids  components            \n",
      "           5      XX (1) -3.7836e+03\n",
      "                  YY (1) -1.2110e+05\n",
      "                  ZZ (1) -3.7836e+03\n",
      "                  XY (1)  5.3318e+02\n",
      "                  YZ (1) -5.3318e+02\n",
      "                  XZ (1) -1.4540e+02\n",
      "         ...\n",
      "\n"
     ]
    }
   ],
   "source": [
    "# stress \n",
    "\n",
    "stress=simulation.stress(all_sets=True)\n",
    "print(stress)"
   ]
  },
  {
   "cell_type": "code",
   "execution_count": 6,
   "id": "7ba29136",
   "metadata": {
    "ExecuteTime": {
     "end_time": "2023-07-27T08:44:40.932658Z",
     "start_time": "2023-07-27T08:44:40.916658Z"
    }
   },
   "outputs": [
    {
     "name": "stdout",
     "output_type": "stream",
     "text": [
      "\n",
      "                 results        EPEL\n",
      "                 set_ids           1\n",
      " element_ids  components            \n",
      "           5      XX (1)  1.6841e-07\n",
      "                  YY (1) -5.9415e-07\n",
      "                  ZZ (1)  1.6841e-07\n",
      "                  XY (1)  6.9314e-09\n",
      "                  YZ (1) -6.9314e-09\n",
      "                  XZ (1) -1.8902e-09\n",
      "         ...\n",
      "\n"
     ]
    }
   ],
   "source": [
    "# elastic_strain\n",
    "\n",
    "elastic_strains=simulation.elastic_strain(all_sets=True)\n",
    "print(elastic_strains)"
   ]
  },
  {
   "cell_type": "code",
   "execution_count": 7,
   "id": "9dba4bea",
   "metadata": {
    "ExecuteTime": {
     "end_time": "2023-07-27T08:44:41.751689Z",
     "start_time": "2023-07-27T08:44:41.736682Z"
    }
   },
   "outputs": [
    {
     "name": "stdout",
     "output_type": "stream",
     "text": [
      "\n",
      "                 results      RF (N)\n",
      "                 set_ids           1\n",
      "    node_ids  components            \n",
      "           1           X  0.0000e+00\n",
      "                       Y  0.0000e+00\n",
      "                       Z  0.0000e+00\n",
      "          26           X  0.0000e+00\n",
      "                       Y  0.0000e+00\n",
      "                       Z  0.0000e+00\n",
      "         ...\n",
      "\n"
     ]
    }
   ],
   "source": [
    "# reaction_force\n",
    "\n",
    "reaction_forces=simulation.reaction_force(all_sets=True)\n",
    "print(reaction_forces)"
   ]
  },
  {
   "cell_type": "code",
   "execution_count": null,
   "id": "0c50f985",
   "metadata": {},
   "outputs": [],
   "source": []
  },
  {
   "cell_type": "code",
   "execution_count": null,
   "id": "ad672e6d",
   "metadata": {},
   "outputs": [],
   "source": []
  },
  {
   "cell_type": "markdown",
   "id": "ceb700da",
   "metadata": {},
   "source": [
    "### DataFrame\n",
    "\n",
    "A DataFrame style API to manipulate DPF data.\n",
    "\n"
   ]
  },
  {
   "cell_type": "markdown",
   "id": "7a2c892f",
   "metadata": {},
   "source": [
    "* `DataFrame.animate()`\n",
    "* `DataFrame.array`\n",
    "* `DataFrame.axes`\n",
    "* `DataFrame.columns`\n",
    "* `DataFrame.index`\n",
    "* `DataFrame.iselect()`\n",
    "* `DataFrame.labels`\n",
    "* `DataFrame.max()`\n",
    "* `DataFrame.mesh_index`\n",
    "* `DataFrame.min()`\n",
    "* `DataFrame.plot()`\n",
    "* `DataFrame.results_index`\n",
    "* `DataFrame.select()`"
   ]
  },
  {
   "cell_type": "code",
   "execution_count": 8,
   "id": "24d81833",
   "metadata": {
    "ExecuteTime": {
     "end_time": "2023-07-27T08:44:43.687751Z",
     "start_time": "2023-07-27T08:44:43.669748Z"
    }
   },
   "outputs": [
    {
     "name": "stdout",
     "output_type": "stream",
     "text": [
      "\n",
      "                 results       U (m)\n",
      "                 set_ids           1\n",
      "    node_ids  components            \n",
      "           1           X -3.3190e-22\n",
      "                       Y -6.9357e-09\n",
      "                       Z -3.2862e-22\n",
      "          26           X  2.2303e-09\n",
      "                       Y -7.1421e-09\n",
      "                       Z -2.9208e-22\n",
      "         ...\n",
      "\n"
     ]
    }
   ],
   "source": [
    "displacement = simulation.displacement(all_sets=True)\n",
    "print(displacement)"
   ]
  },
  {
   "cell_type": "code",
   "execution_count": 9,
   "id": "807e8dd9",
   "metadata": {
    "ExecuteTime": {
     "end_time": "2023-07-27T08:44:43.888762Z",
     "start_time": "2023-07-27T08:44:43.883756Z"
    },
    "editable": true,
    "slideshow": {
     "slide_type": ""
    },
    "tags": []
   },
   "outputs": [
    {
     "name": "stdout",
     "output_type": "stream",
     "text": [
      "Orient the view, then press \"a\" to produce an animation\n"
     ]
    },
    {
     "data": {
      "application/vnd.jupyter.widget-view+json": {
       "model_id": "b6f735a49cfa43b686072ab1311f1d10",
       "version_major": 2,
       "version_minor": 0
      },
      "text/plain": [
       "Widget(value=\"<iframe src='http://localhost:50094/index.html?ui=P_0x243a3ea91c0_0&reconnect=auto' style='width…"
      ]
     },
     "metadata": {},
     "output_type": "display_data"
    }
   ],
   "source": [
    "displacement.animate()  #issue"
   ]
  },
  {
   "cell_type": "markdown",
   "id": "32a1446a",
   "metadata": {},
   "source": [
    "**array**: Returns the data as a np.ndarray for a single combination of column label values."
   ]
  },
  {
   "cell_type": "code",
   "execution_count": 9,
   "id": "75c52f40",
   "metadata": {
    "ExecuteTime": {
     "end_time": "2023-07-27T08:44:44.305771Z",
     "start_time": "2023-07-27T08:44:44.274786Z"
    }
   },
   "outputs": [
    {
     "name": "stdout",
     "output_type": "stream",
     "text": [
      "[[-3.31904602e-22 -6.93565975e-09 -3.28617350e-22]\n",
      " [ 2.23026491e-09 -7.14214033e-09 -2.92077883e-22]\n",
      " [ 0.00000000e+00  0.00000000e+00  0.00000000e+00]\n",
      " [ 0.00000000e+00  0.00000000e+00  0.00000000e+00]\n",
      " [-3.01173895e-22 -7.14214033e-09 -2.23026491e-09]]\n"
     ]
    }
   ],
   "source": [
    "print(displacement.array[0:5,:])"
   ]
  },
  {
   "cell_type": "markdown",
   "id": "7fb96842",
   "metadata": {},
   "source": [
    "**axes**: \n",
    "\n",
    "Returns a list with the row MultiIndex first and the columns MultiIndex second."
   ]
  },
  {
   "cell_type": "code",
   "execution_count": 10,
   "id": "f29e9a5b",
   "metadata": {
    "ExecuteTime": {
     "end_time": "2023-07-27T08:44:44.692792Z",
     "start_time": "2023-07-27T08:44:44.687783Z"
    }
   },
   "outputs": [
    {
     "name": "stdout",
     "output_type": "stream",
     "text": [
      "[MultiIndex<[MeshIndex<name=\"node_ids\", dtype=<class 'int'>>, Index<name=\"components\", dtype=<class 'str'>>]>, MultiIndex<[ResultIndex<['U (m)']>, SetIndex<values=[1]>]>]\n"
     ]
    }
   ],
   "source": [
    "print(displacement.axes)"
   ]
  },
  {
   "cell_type": "markdown",
   "id": "8bb520c8",
   "metadata": {},
   "source": [
    "**columns**:\n",
    "\n",
    "Returns the MultiIndex for the columns of the DataFrame."
   ]
  },
  {
   "cell_type": "code",
   "execution_count": 11,
   "id": "d66ed3fd",
   "metadata": {
    "ExecuteTime": {
     "end_time": "2023-07-27T08:44:45.105804Z",
     "start_time": "2023-07-27T08:44:45.101794Z"
    }
   },
   "outputs": [
    {
     "name": "stdout",
     "output_type": "stream",
     "text": [
      "MultiIndex<[ResultIndex<['U (m)']>, SetIndex<values=[1]>]>\n"
     ]
    }
   ],
   "source": [
    "print(displacement.columns)"
   ]
  },
  {
   "cell_type": "markdown",
   "id": "32132f40",
   "metadata": {},
   "source": [
    "**`index`:**\n",
    "\n",
    "Returns the MultiIndex for the rows of the DataFrame"
   ]
  },
  {
   "cell_type": "code",
   "execution_count": 12,
   "id": "295036ce",
   "metadata": {
    "ExecuteTime": {
     "end_time": "2023-07-27T08:44:45.812823Z",
     "start_time": "2023-07-27T08:44:45.805820Z"
    }
   },
   "outputs": [
    {
     "name": "stdout",
     "output_type": "stream",
     "text": [
      "MultiIndex<[MeshIndex<name=\"node_ids\", dtype=<class 'int'>>, Index<name=\"components\", dtype=<class 'str'>>]>\n"
     ]
    }
   ],
   "source": [
    "print(displacement.index)"
   ]
  },
  {
   "cell_type": "markdown",
   "id": "55f4d19b",
   "metadata": {},
   "source": [
    "**property**:\n",
    "\n",
    "Returns the MultiIndex for the rows of the DataFrame."
   ]
  },
  {
   "cell_type": "code",
   "execution_count": 13,
   "id": "d4cb0ed0",
   "metadata": {
    "ExecuteTime": {
     "end_time": "2023-07-27T08:44:46.206834Z",
     "start_time": "2023-07-27T08:44:46.200830Z"
    }
   },
   "outputs": [
    {
     "name": "stdout",
     "output_type": "stream",
     "text": [
      "MultiIndex<[MeshIndex<name=\"node_ids\", dtype=<class 'int'>>, Index<name=\"components\", dtype=<class 'str'>>]>\n"
     ]
    }
   ],
   "source": [
    "print(displacement.index)"
   ]
  },
  {
   "cell_type": "markdown",
   "id": "74c84ccf",
   "metadata": {},
   "source": [
    "**`iselect(**kwargs)`**: \n",
    "\n",
    "Returns a new DataFrame based on selection criteria (index-based)."
   ]
  },
  {
   "cell_type": "code",
   "execution_count": 14,
   "id": "b250ddb1",
   "metadata": {
    "ExecuteTime": {
     "end_time": "2023-07-27T08:44:46.601853Z",
     "start_time": "2023-07-27T08:44:46.590845Z"
    }
   },
   "outputs": [
    {
     "name": "stdout",
     "output_type": "stream",
     "text": [
      "\n",
      "                 results       U (m)\n",
      "                 set_ids           1\n",
      "    node_ids  components            \n",
      "           1           X -3.3190e-22\n",
      "                       Y -6.9357e-09\n",
      "                       Z -3.2862e-22\n",
      "\n"
     ]
    }
   ],
   "source": [
    "print(displacement.iselect(node_ids =0)) # 1st node in data frame"
   ]
  },
  {
   "cell_type": "code",
   "execution_count": 15,
   "id": "4e3d86d3",
   "metadata": {
    "ExecuteTime": {
     "end_time": "2023-07-27T08:44:46.799855Z",
     "start_time": "2023-07-27T08:44:46.783852Z"
    }
   },
   "outputs": [
    {
     "name": "stdout",
     "output_type": "stream",
     "text": [
      "\n",
      "                 results       U (m)\n",
      "                 set_ids           1\n",
      "    node_ids  components            \n",
      "           1           X -3.3190e-22\n",
      "          26              2.2303e-09\n",
      "          14              0.0000e+00\n",
      "          12              0.0000e+00\n",
      "           2             -3.0117e-22\n",
      "          27              2.0908e-09\n",
      "         ...\n",
      "\n",
      "\n",
      "                 results       U (m)\n",
      "                 set_ids           1\n",
      "    node_ids  components            \n",
      "           1           Y -6.9357e-09\n",
      "\n",
      "\n",
      "                 results       U (m)\n",
      "                 set_ids           1\n",
      "    node_ids  components            \n",
      "          26           Z -2.9208e-22\n",
      "\n"
     ]
    }
   ],
   "source": [
    "print(displacement.iselect(components=0))              #displacement x values all nodes\n",
    "print(displacement.iselect(components=1,node_ids =0))  #displacement y values, for 1st node\n",
    "print(displacement.iselect(components=2,node_ids =1))  #displacement z values, for 2nd node"
   ]
  },
  {
   "cell_type": "markdown",
   "id": "06df393a",
   "metadata": {
    "ExecuteTime": {
     "end_time": "2023-05-30T07:13:59.355102Z",
     "start_time": "2023-05-30T07:13:59.346102Z"
    }
   },
   "source": [
    "**`labels:`**\n",
    "    \n",
    "Returns a list of the names of available LabelIndex indexes."
   ]
  },
  {
   "cell_type": "code",
   "execution_count": 10,
   "id": "3bbd37bf",
   "metadata": {
    "ExecuteTime": {
     "end_time": "2023-07-27T08:44:47.218881Z",
     "start_time": "2023-07-27T08:44:47.213865Z"
    }
   },
   "outputs": [
    {
     "name": "stdout",
     "output_type": "stream",
     "text": [
      "['set_ids']\n"
     ]
    }
   ],
   "source": [
    "print(displacement.labels)"
   ]
  },
  {
   "cell_type": "markdown",
   "id": "03344c8f",
   "metadata": {},
   "source": [
    "**`max(axis=0)`:**\n",
    "\n",
    "\n",
    "Return the maximum value over the requested axis."
   ]
  },
  {
   "cell_type": "code",
   "execution_count": 11,
   "id": "d0ceeab2",
   "metadata": {
    "ExecuteTime": {
     "end_time": "2023-07-27T08:44:48.952931Z",
     "start_time": "2023-07-27T08:44:48.941929Z"
    }
   },
   "outputs": [
    {
     "name": "stdout",
     "output_type": "stream",
     "text": [
      "\n",
      "     results       U (m)\n",
      "     set_ids           1\n",
      "  components            \n",
      "           X  2.2936e-09\n",
      "           Y  0.0000e+00\n",
      "           Z  2.2936e-09\n",
      "\n"
     ]
    }
   ],
   "source": [
    "maximum_over_mesh = displacement.max(axis=\"node_ids\")\n",
    "print(maximum_over_mesh)"
   ]
  },
  {
   "cell_type": "code",
   "execution_count": 12,
   "id": "955fd2ba",
   "metadata": {
    "ExecuteTime": {
     "end_time": "2023-07-27T08:44:50.132969Z",
     "start_time": "2023-07-27T08:44:50.123968Z"
    }
   },
   "outputs": [
    {
     "name": "stdout",
     "output_type": "stream",
     "text": [
      "\n",
      "                 results       U (m)\n",
      "    node_ids  components            \n",
      "           1           X -3.3190e-22\n",
      "                       Y -6.9357e-09\n",
      "                       Z -3.2862e-22\n",
      "          26           X  2.2303e-09\n",
      "                       Y -7.1421e-09\n",
      "                       Z -2.9208e-22\n",
      "         ...\n",
      "\n"
     ]
    }
   ],
   "source": [
    "# Compute the maximum displacement for each node and component across time\n",
    "maximum_over_time = displacement.max(axis=\"set_ids\")\n",
    "print(maximum_over_time) "
   ]
  },
  {
   "cell_type": "code",
   "execution_count": 13,
   "id": "5e0c0642",
   "metadata": {
    "ExecuteTime": {
     "end_time": "2023-07-27T08:44:50.993002Z",
     "start_time": "2023-07-27T08:44:50.982992Z"
    }
   },
   "outputs": [
    {
     "name": "stdout",
     "output_type": "stream",
     "text": [
      "\n",
      "     results       U (m)\n",
      "  components            \n",
      "           X  2.2936e-09\n",
      "           Y  0.0000e+00\n",
      "           Z  2.2936e-09\n",
      "\n"
     ]
    }
   ],
   "source": [
    "# Compute the maximum displacement overall\n",
    "maximum_overall = maximum_over_time.max()\n",
    "print(maximum_overall)"
   ]
  },
  {
   "cell_type": "markdown",
   "id": "02262c11",
   "metadata": {},
   "source": [
    "**`mesh_index`:**\n",
    "\n",
    "Returns the available MeshIndex is present."
   ]
  },
  {
   "cell_type": "code",
   "execution_count": 14,
   "id": "04d6629c",
   "metadata": {
    "ExecuteTime": {
     "end_time": "2023-07-27T08:44:52.574052Z",
     "start_time": "2023-07-27T08:44:52.568048Z"
    }
   },
   "outputs": [
    {
     "name": "stdout",
     "output_type": "stream",
     "text": [
      "Index \"node_ids\" with uncounted values of undetermined type\n"
     ]
    }
   ],
   "source": [
    "print(displacement.mesh_index)"
   ]
  },
  {
   "cell_type": "markdown",
   "id": "039fc596",
   "metadata": {
    "ExecuteTime": {
     "end_time": "2023-05-30T07:17:41.531288Z",
     "start_time": "2023-05-30T07:17:41.517287Z"
    }
   },
   "source": [
    "**`min(axis=0)`**:\n",
    "    \n",
    "Return the minimum value over the requested axis."
   ]
  },
  {
   "cell_type": "code",
   "execution_count": 15,
   "id": "700adef3",
   "metadata": {
    "ExecuteTime": {
     "end_time": "2023-07-27T08:44:52.969054Z",
     "start_time": "2023-07-27T08:44:52.957060Z"
    }
   },
   "outputs": [
    {
     "name": "stdout",
     "output_type": "stream",
     "text": [
      "\n",
      "     results       U (m)\n",
      "     set_ids           1\n",
      "  components            \n",
      "           X -2.2936e-09\n",
      "           Y -1.4472e-08\n",
      "           Z -2.2936e-09\n",
      "\n"
     ]
    }
   ],
   "source": [
    "# Compute the maximum displacement value for each component at each time-step\n",
    "minimum_over_mesh = displacement.min(axis=\"node_ids\")\n",
    "print(minimum_over_mesh)"
   ]
  },
  {
   "cell_type": "code",
   "execution_count": 16,
   "id": "f3150b69",
   "metadata": {
    "ExecuteTime": {
     "end_time": "2023-07-27T08:44:53.180073Z",
     "start_time": "2023-07-27T08:44:53.173072Z"
    }
   },
   "outputs": [
    {
     "name": "stdout",
     "output_type": "stream",
     "text": [
      "\n",
      "                 results       U (m)\n",
      "    node_ids  components            \n",
      "           1           X -3.3190e-22\n",
      "                       Y -6.9357e-09\n",
      "                       Z -3.2862e-22\n",
      "          26           X  2.2303e-09\n",
      "                       Y -7.1421e-09\n",
      "                       Z -2.9208e-22\n",
      "         ...\n",
      "\n"
     ]
    }
   ],
   "source": [
    "# Compute the maximum displacement for each node and component across time\n",
    "minimum_over_time = displacement.min(axis=\"set_ids\")\n",
    "print(minimum_over_time) "
   ]
  },
  {
   "cell_type": "code",
   "execution_count": 17,
   "id": "2935665f",
   "metadata": {
    "ExecuteTime": {
     "end_time": "2023-07-27T08:44:54.038093Z",
     "start_time": "2023-07-27T08:44:54.028094Z"
    }
   },
   "outputs": [
    {
     "name": "stdout",
     "output_type": "stream",
     "text": [
      "\n",
      "     results       U (m)\n",
      "  components            \n",
      "           X -2.2936e-09\n",
      "           Y -1.4472e-08\n",
      "           Z -2.2936e-09\n",
      "\n"
     ]
    }
   ],
   "source": [
    "# Compute the maximum displacement overall\n",
    "minimum_overall = minimum_over_time.min()\n",
    "print(minimum_overall) "
   ]
  },
  {
   "cell_type": "markdown",
   "id": "f822fbe4",
   "metadata": {
    "ExecuteTime": {
     "end_time": "2023-05-30T07:20:12.177142Z",
     "start_time": "2023-05-30T07:20:12.163153Z"
    }
   },
   "source": [
    "**`plot()`**:\n",
    "    \n",
    "Plot the result."
   ]
  },
  {
   "cell_type": "code",
   "execution_count": 18,
   "id": "dd495122",
   "metadata": {
    "ExecuteTime": {
     "end_time": "2023-07-27T08:45:19.195127Z",
     "start_time": "2023-07-27T08:44:55.469144Z"
    },
    "editable": true,
    "slideshow": {
     "slide_type": ""
    },
    "tags": []
   },
   "outputs": [
    {
     "data": {
      "application/vnd.jupyter.widget-view+json": {
       "model_id": "5655263971124b56b286d0e8bab4a0f8",
       "version_major": 2,
       "version_minor": 0
      },
      "text/plain": [
       "Widget(value=\"<iframe src='http://localhost:50094/index.html?ui=P_0x243a98f7ee0_0&reconnect=auto' style='width…"
      ]
     },
     "metadata": {},
     "output_type": "display_data"
    }
   ],
   "source": [
    "displacement.plot() #issue"
   ]
  },
  {
   "cell_type": "markdown",
   "id": "e364c234",
   "metadata": {
    "ExecuteTime": {
     "end_time": "2023-05-30T07:28:53.250086Z",
     "start_time": "2023-05-30T07:28:53.239070Z"
    },
    "editable": true,
    "slideshow": {
     "slide_type": ""
    },
    "tags": []
   },
   "source": [
    "**`results_index`**\n",
    "        \n",
    "Returns the available ResultsIndex is present."
   ]
  },
  {
   "cell_type": "code",
   "execution_count": 25,
   "id": "376768df",
   "metadata": {
    "ExecuteTime": {
     "end_time": "2023-05-30T07:27:36.694259Z",
     "start_time": "2023-05-30T07:27:36.687260Z"
    }
   },
   "outputs": [
    {
     "name": "stdout",
     "output_type": "stream",
     "text": [
      "Index \"results\" with 1 values of <class 'str'> type\n"
     ]
    }
   ],
   "source": [
    "print(displacement.results_index)"
   ]
  },
  {
   "cell_type": "markdown",
   "id": "1c2a47b6",
   "metadata": {},
   "source": [
    "**`select(**kwargs)`**:\n",
    "\n",
    "Returns a new DataFrame based on selection criteria (value-based)."
   ]
  },
  {
   "cell_type": "code",
   "execution_count": 26,
   "id": "c28b5eeb",
   "metadata": {
    "ExecuteTime": {
     "end_time": "2023-05-30T07:33:46.025424Z",
     "start_time": "2023-05-30T07:33:46.018421Z"
    }
   },
   "outputs": [
    {
     "name": "stdout",
     "output_type": "stream",
     "text": [
      "\n",
      "                 results       U (m)\n",
      "                 set_ids           1\n",
      "    node_ids  components            \n",
      "           1           X -3.3190e-22\n",
      "                       Y -6.9357e-09\n",
      "                       Z -3.2862e-22\n",
      "          26           X  2.2303e-09\n",
      "                       Y -7.1421e-09\n",
      "                       Z -2.9208e-22\n",
      "         ...\n",
      "\n"
     ]
    }
   ],
   "source": [
    "print(displacement)"
   ]
  },
  {
   "cell_type": "code",
   "execution_count": 27,
   "id": "ae8044aa",
   "metadata": {
    "ExecuteTime": {
     "end_time": "2023-05-30T07:34:24.520700Z",
     "start_time": "2023-05-30T07:34:24.507698Z"
    }
   },
   "outputs": [
    {
     "name": "stdout",
     "output_type": "stream",
     "text": [
      "\n",
      "                 results       U (m)\n",
      "                 set_ids           1\n",
      "    node_ids  components            \n",
      "          26           X  2.2303e-09\n",
      "\n"
     ]
    }
   ],
   "source": [
    "print(displacement.select(components=\"X\",node_ids=26))"
   ]
  },
  {
   "cell_type": "code",
   "execution_count": 28,
   "id": "6b2cf82e",
   "metadata": {
    "ExecuteTime": {
     "end_time": "2023-05-30T07:35:02.304579Z",
     "start_time": "2023-05-30T07:35:02.282566Z"
    }
   },
   "outputs": [
    {
     "name": "stdout",
     "output_type": "stream",
     "text": [
      "\n",
      "                 results       U (m)\n",
      "                 set_ids           1\n",
      "    node_ids  components            \n",
      "           1           Y -6.9357e-09\n",
      "\n"
     ]
    }
   ],
   "source": [
    "print(displacement.select(components=\"Y\",node_ids=1))"
   ]
  },
  {
   "cell_type": "markdown",
   "id": "f2e5c009",
   "metadata": {
    "ExecuteTime": {
     "end_time": "2023-05-30T07:51:23.538272Z",
     "start_time": "2023-05-30T07:51:23.516276Z"
    }
   },
   "source": [
    "### Mesh\n",
    "From the Simulation object, you can also access the mesh:"
   ]
  },
  {
   "cell_type": "code",
   "execution_count": 29,
   "id": "1dc7e5ac",
   "metadata": {
    "ExecuteTime": {
     "end_time": "2023-05-30T07:52:28.382272Z",
     "start_time": "2023-05-30T07:52:28.363271Z"
    }
   },
   "outputs": [
    {
     "name": "stdout",
     "output_type": "stream",
     "text": [
      "DPF  Mesh: \n",
      "  81 nodes \n",
      "  8 elements \n",
      "  Unit: m \n",
      "  With solid (3D) elements\n"
     ]
    }
   ],
   "source": [
    "mesh = simulation.mesh\n",
    "print(mesh)"
   ]
  },
  {
   "cell_type": "code",
   "execution_count": 30,
   "id": "20e77edc",
   "metadata": {
    "ExecuteTime": {
     "end_time": "2023-05-30T08:56:39.742197Z",
     "start_time": "2023-05-30T08:56:39.713194Z"
    }
   },
   "outputs": [
    {
     "ename": "AttributeError",
     "evalue": "'StaticMechanicalSimulation' object has no attribute 'index'",
     "output_type": "error",
     "traceback": [
      "\u001b[1;31m---------------------------------------------------------------------------\u001b[0m",
      "\u001b[1;31mAttributeError\u001b[0m                            Traceback (most recent call last)",
      "Cell \u001b[1;32mIn[30], line 1\u001b[0m\n\u001b[1;32m----> 1\u001b[0m \u001b[43msimulation\u001b[49m\u001b[38;5;241;43m.\u001b[39;49m\u001b[43mindex\u001b[49m\u001b[38;5;241m.\u001b[39mname\n",
      "\u001b[1;31mAttributeError\u001b[0m: 'StaticMechanicalSimulation' object has no attribute 'index'"
     ]
    }
   ],
   "source": [
    "simulation.index.name"
   ]
  },
  {
   "cell_type": "code",
   "execution_count": null,
   "id": "1d8532aa",
   "metadata": {},
   "outputs": [],
   "source": []
  },
  {
   "cell_type": "code",
   "execution_count": null,
   "id": "0a9d180b",
   "metadata": {},
   "outputs": [],
   "source": []
  },
  {
   "cell_type": "code",
   "execution_count": null,
   "id": "6706328c",
   "metadata": {},
   "outputs": [],
   "source": []
  },
  {
   "cell_type": "markdown",
   "id": "27f65644",
   "metadata": {},
   "source": [
    "---"
   ]
  },
  {
   "cell_type": "markdown",
   "id": "864fe137",
   "metadata": {},
   "source": [
    " ## PyMAPDL Reader [not recommended]"
   ]
  },
  {
   "cell_type": "markdown",
   "id": "3ce17822",
   "metadata": {},
   "source": [
    "`pip install ansys-mapdl-reader`\n"
   ]
  },
  {
   "cell_type": "markdown",
   "id": "bbac94d0",
   "metadata": {
    "ExecuteTime": {
     "end_time": "2023-05-20T17:29:23.239931Z",
     "start_time": "2023-05-20T17:29:23.233808Z"
    }
   },
   "source": [
    "[PyMAPDL Reader](https://reader.docs.pyansys.com/index.html)\n",
    "\n",
    "- ***This module will likely change or be depreciated in the future.***\n",
    "\n",
    "- You are **encouraged to use the new Data Processing Framework (DPF) modules** at `DPF-Core` and `DPF-Post` as they provide a modern interface to ANSYS result files using a client/server interface using the same software used within ANSYS Workbench, but via a Python client."
   ]
  },
  {
   "cell_type": "code",
   "execution_count": null,
   "id": "5ce718cd",
   "metadata": {},
   "outputs": [],
   "source": [
    "pip install notebook --upgrade"
   ]
  },
  {
   "cell_type": "markdown",
   "id": "f7bdd2e4",
   "metadata": {},
   "source": [
    "---"
   ]
  }
 ],
 "metadata": {
  "kernelspec": {
   "display_name": "Python 3 (ipykernel)",
   "language": "python",
   "name": "python3"
  },
  "language_info": {
   "codemirror_mode": {
    "name": "ipython",
    "version": 3
   },
   "file_extension": ".py",
   "mimetype": "text/x-python",
   "name": "python",
   "nbconvert_exporter": "python",
   "pygments_lexer": "ipython3",
   "version": "3.8.1"
  },
  "toc": {
   "base_numbering": 1,
   "nav_menu": {},
   "number_sections": true,
   "sideBar": true,
   "skip_h1_title": true,
   "title_cell": "Table of Contents",
   "title_sidebar": "Contents",
   "toc_cell": true,
   "toc_position": {
    "height": "calc(100% - 180px)",
    "left": "10px",
    "top": "150px",
    "width": "333px"
   },
   "toc_section_display": true,
   "toc_window_display": true
  },
  "varInspector": {
   "cols": {
    "lenName": 16,
    "lenType": 16,
    "lenVar": 40
   },
   "kernels_config": {
    "python": {
     "delete_cmd_postfix": "",
     "delete_cmd_prefix": "del ",
     "library": "var_list.py",
     "varRefreshCmd": "print(var_dic_list())"
    },
    "r": {
     "delete_cmd_postfix": ") ",
     "delete_cmd_prefix": "rm(",
     "library": "var_list.r",
     "varRefreshCmd": "cat(var_dic_list()) "
    }
   },
   "types_to_exclude": [
    "module",
    "function",
    "builtin_function_or_method",
    "instance",
    "_Feature"
   ],
   "window_display": false
  }
 },
 "nbformat": 4,
 "nbformat_minor": 5
}
