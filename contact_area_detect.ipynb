{
 "cells": [
  {
   "cell_type": "markdown",
   "id": "9b6b5f50-bd93-4e9b-b5b1-64acd59596d8",
   "metadata": {},
   "source": [
    "# Contact Detection- user script"
   ]
  },
  {
   "cell_type": "markdown",
   "id": "6e4499af-9ee2-4d93-8e5e-91bb6255c535",
   "metadata": {},
   "source": [
    "## Library module import"
   ]
  },
  {
   "cell_type": "code",
   "execution_count": 1,
   "id": "faeef5a0-8438-4c3f-8258-dc4ba6701602",
   "metadata": {
    "execution": {
     "iopub.execute_input": "2023-09-05T10:37:40.476141Z",
     "iopub.status.busy": "2023-09-05T10:37:40.476141Z",
     "iopub.status.idle": "2023-09-05T10:37:40.609172Z",
     "shell.execute_reply": "2023-09-05T10:37:40.608584Z",
     "shell.execute_reply.started": "2023-09-05T10:37:40.476141Z"
    }
   },
   "outputs": [],
   "source": [
    "import sys\n",
    "\n",
    "import numpy as np"
   ]
  },
  {
   "cell_type": "code",
   "execution_count": 2,
   "id": "cd137fc4-2be6-4229-ad8b-831d1a9ae560",
   "metadata": {
    "execution": {
     "iopub.execute_input": "2023-09-05T10:37:42.770602Z",
     "iopub.status.busy": "2023-09-05T10:37:42.769601Z",
     "iopub.status.idle": "2023-09-05T10:37:42.782031Z",
     "shell.execute_reply": "2023-09-05T10:37:42.781603Z",
     "shell.execute_reply.started": "2023-09-05T10:37:42.770602Z"
    }
   },
   "outputs": [
    {
     "data": {
      "text/plain": [
       "{'divide': 'warn', 'over': 'warn', 'under': 'ignore', 'invalid': 'warn'}"
      ]
     },
     "execution_count": 2,
     "metadata": {},
     "output_type": "execute_result"
    }
   ],
   "source": [
    "np.seterr(all=\"ignore\")"
   ]
  },
  {
   "cell_type": "code",
   "execution_count": 3,
   "id": "719997d8-248c-47b1-b95c-07e0a371db8d",
   "metadata": {
    "execution": {
     "iopub.execute_input": "2023-09-05T10:37:43.295932Z",
     "iopub.status.busy": "2023-09-05T10:37:43.295932Z",
     "iopub.status.idle": "2023-09-05T10:37:56.391443Z",
     "shell.execute_reply": "2023-09-05T10:37:56.390445Z",
     "shell.execute_reply.started": "2023-09-05T10:37:43.295932Z"
    }
   },
   "outputs": [
    {
     "name": "stdout",
     "output_type": "stream",
     "text": [
      "PyMAPDL is taking longer than expected to connect to an MAPDL session.\n",
      "Checking if there are any available licenses...\n",
      "Product:             Ansys Mechanical Enterprise\n",
      "MAPDL Version:       22.2\n",
      "ansys.mapdl Version: 0.65.2\n",
      "\n"
     ]
    }
   ],
   "source": [
    "PYTHONTOOLSDIR = r\"C:\\Users\\pramod.kumar\\OneDrive - SIEMENSGAMESA\\Work\\ProjectPyAnsys\"\n",
    "sys.path.append(PYTHONTOOLSDIR)\n",
    "import py_apdl_pre as pre"
   ]
  },
  {
   "cell_type": "code",
   "execution_count": 4,
   "id": "919d8dbb-c0f6-49d8-9a13-925070f1ae2a",
   "metadata": {
    "execution": {
     "iopub.execute_input": "2023-09-05T10:37:56.392448Z",
     "iopub.status.busy": "2023-09-05T10:37:56.392448Z",
     "iopub.status.idle": "2023-09-05T10:37:56.407723Z",
     "shell.execute_reply": "2023-09-05T10:37:56.406171Z",
     "shell.execute_reply.started": "2023-09-05T10:37:56.392448Z"
    }
   },
   "outputs": [],
   "source": [
    "PYTHONTOOLSDIR = r\"C:\\Users\\pramod.kumar\\OneDrive - SIEMENSGAMESA\\Work\\ContactDetect\"\n",
    "sys.path.append(PYTHONTOOLSDIR)\n",
    "import ContactDetection as cd"
   ]
  },
  {
   "cell_type": "code",
   "execution_count": 5,
   "id": "fdad99e9-3f66-4661-9d6f-9bc02da84ac2",
   "metadata": {
    "execution": {
     "iopub.execute_input": "2023-09-05T10:37:56.408905Z",
     "iopub.status.busy": "2023-09-05T10:37:56.408905Z",
     "iopub.status.idle": "2023-09-05T10:37:56.422698Z",
     "shell.execute_reply": "2023-09-05T10:37:56.421198Z",
     "shell.execute_reply.started": "2023-09-05T10:37:56.408905Z"
    }
   },
   "outputs": [],
   "source": [
    "mapdl = pre.mapdl"
   ]
  },
  {
   "cell_type": "markdown",
   "id": "38638eb6-2e3b-4c34-8c7a-5c4b846f9679",
   "metadata": {},
   "source": [
    "## Working directory setup"
   ]
  },
  {
   "cell_type": "code",
   "execution_count": null,
   "id": "e788d9ca-8928-471b-ac7c-d8aa3026797d",
   "metadata": {},
   "outputs": [],
   "source": []
  },
  {
   "cell_type": "code",
   "execution_count": 6,
   "id": "557b2146-c7f2-4efe-a2a2-f2554b6663da",
   "metadata": {
    "execution": {
     "iopub.execute_input": "2023-09-05T10:37:56.478298Z",
     "iopub.status.busy": "2023-09-05T10:37:56.477299Z",
     "iopub.status.idle": "2023-09-05T10:37:57.373945Z",
     "shell.execute_reply": "2023-09-05T10:37:57.372946Z",
     "shell.execute_reply.started": "2023-09-05T10:37:56.478298Z"
    }
   },
   "outputs": [
    {
     "data": {
      "text/plain": [
       "*** MAPDL - ENGINEERING ANALYSIS SYSTEM  RELEASE 2022 R2          22.2     ***\n",
       " Ansys Mechanical Enterprise                       \n",
       " 00000000  VERSION=WINDOWS x64   16:07:57  SEP 05, 2023 CP=      0.656\n",
       "\n",
       " Contact Detect Trial                                                          \n",
       "\n",
       "\n",
       "\n",
       "          ***** MAPDL ANALYSIS DEFINITION (PREP7) *****"
      ]
     },
     "execution_count": 6,
     "metadata": {},
     "output_type": "execute_result"
    }
   ],
   "source": [
    "mapdl.db.clear()\n",
    "dirpath = r\"C:\\Users\\pramod.kumar\\Music\\contct_detect\"\n",
    "jobname = \"MDT\"\n",
    "pre.mapdl.cwd(dirpath=dirpath)\n",
    "pre.mapdl.filname(fname=jobname, key=1)\n",
    "mapdl.title(title=\"Contact Detect Trial\")\n",
    "mapdl.prep7()"
   ]
  },
  {
   "cell_type": "code",
   "execution_count": 7,
   "id": "d838218f-d35c-4e6f-a249-376e02bbfbe8",
   "metadata": {
    "execution": {
     "iopub.execute_input": "2023-09-05T10:37:57.374951Z",
     "iopub.status.busy": "2023-09-05T10:37:57.374951Z",
     "iopub.status.idle": "2023-09-05T10:37:57.404857Z",
     "shell.execute_reply": "2023-09-05T10:37:57.403856Z",
     "shell.execute_reply.started": "2023-09-05T10:37:57.374951Z"
    }
   },
   "outputs": [
    {
     "name": "stdout",
     "output_type": "stream",
     "text": [
      "22.2\n",
      "C:/Users/pramod.kumar/Music/contct_detect\n",
      "MDT\n"
     ]
    }
   ],
   "source": [
    "print(mapdl.version)\n",
    "print(mapdl.directory)\n",
    "print(mapdl.jobname)"
   ]
  },
  {
   "cell_type": "markdown",
   "id": "6ebb6939-88d6-4f05-a8d8-a309f440cc65",
   "metadata": {},
   "source": [
    "## Parasolid import and component creation"
   ]
  },
  {
   "cell_type": "code",
   "execution_count": 8,
   "id": "859afbd0-c32f-4d41-95b5-25c8622ed0b3",
   "metadata": {
    "execution": {
     "iopub.execute_input": "2023-09-05T10:37:57.406985Z",
     "iopub.status.busy": "2023-09-05T10:37:57.405859Z",
     "iopub.status.idle": "2023-09-05T10:37:57.420530Z",
     "shell.execute_reply": "2023-09-05T10:37:57.419522Z",
     "shell.execute_reply.started": "2023-09-05T10:37:57.406985Z"
    }
   },
   "outputs": [],
   "source": [
    "parapath = (\n",
    "    r\"C:\\Users\\pramod.kumar\\OneDrive - SIEMENSGAMESA\\Work\\ContactDetect\\pyAnsysMAPDL\"\n",
    ")"
   ]
  },
  {
   "cell_type": "code",
   "execution_count": 9,
   "id": "e8722a35-f03e-4c3d-9720-bd43f889fd64",
   "metadata": {
    "execution": {
     "iopub.execute_input": "2023-09-05T10:37:57.421508Z",
     "iopub.status.busy": "2023-09-05T10:37:57.421508Z",
     "iopub.status.idle": "2023-09-05T10:38:00.914433Z",
     "shell.execute_reply": "2023-09-05T10:38:00.913427Z",
     "shell.execute_reply.started": "2023-09-05T10:37:57.421508Z"
    }
   },
   "outputs": [
    {
     "name": "stdout",
     "output_type": "stream",
     "text": [
      "Body1 imported as component part1 with vlum num [1]\n"
     ]
    }
   ],
   "source": [
    "cmname = \"part1\"\n",
    "paraname = \"Body1\"\n",
    "pre.paraimport(paraname, parapath, cmname)"
   ]
  },
  {
   "cell_type": "code",
   "execution_count": 10,
   "id": "1e5e6c73-1f88-4635-be49-e1fc0a08b983",
   "metadata": {
    "execution": {
     "iopub.execute_input": "2023-09-05T10:38:00.919050Z",
     "iopub.status.busy": "2023-09-05T10:38:00.916451Z",
     "iopub.status.idle": "2023-09-05T10:38:04.640128Z",
     "shell.execute_reply": "2023-09-05T10:38:04.638629Z",
     "shell.execute_reply.started": "2023-09-05T10:38:00.919050Z"
    }
   },
   "outputs": [
    {
     "name": "stdout",
     "output_type": "stream",
     "text": [
      "Body2 imported as component part2 with vlum num [2]\n"
     ]
    }
   ],
   "source": [
    "cmname = \"part2\"\n",
    "paraname = \"Body2\"\n",
    "pre.paraimport(paraname, parapath, cmname)"
   ]
  },
  {
   "cell_type": "code",
   "execution_count": 11,
   "id": "d8f65e14-36e7-4b0f-a522-b57a3d3dee18",
   "metadata": {
    "execution": {
     "iopub.execute_input": "2023-09-05T10:38:04.642185Z",
     "iopub.status.busy": "2023-09-05T10:38:04.642185Z",
     "iopub.status.idle": "2023-09-05T10:38:07.963349Z",
     "shell.execute_reply": "2023-09-05T10:38:07.962206Z",
     "shell.execute_reply.started": "2023-09-05T10:38:04.642185Z"
    }
   },
   "outputs": [
    {
     "name": "stdout",
     "output_type": "stream",
     "text": [
      "Body3 imported as component part3 with vlum num [3]\n"
     ]
    }
   ],
   "source": [
    "cmname = \"part3\"\n",
    "paraname = \"Body3\"\n",
    "pre.paraimport(paraname, parapath, cmname)"
   ]
  },
  {
   "cell_type": "code",
   "execution_count": 12,
   "id": "67dfaf43-36c2-4f66-9ab4-76e287d23966",
   "metadata": {
    "execution": {
     "iopub.execute_input": "2023-09-05T10:38:07.964355Z",
     "iopub.status.busy": "2023-09-05T10:38:07.964355Z",
     "iopub.status.idle": "2023-09-05T10:38:11.453709Z",
     "shell.execute_reply": "2023-09-05T10:38:11.452709Z",
     "shell.execute_reply.started": "2023-09-05T10:38:07.964355Z"
    }
   },
   "outputs": [
    {
     "name": "stdout",
     "output_type": "stream",
     "text": [
      "Body4 imported as component part4 with vlum num [4]\n"
     ]
    }
   ],
   "source": [
    "cmname = \"part4\"\n",
    "paraname = \"Body4\"\n",
    "pre.paraimport(paraname, parapath, cmname)"
   ]
  },
  {
   "cell_type": "code",
   "execution_count": 13,
   "id": "e6cd6cc1-901f-47da-be75-0dc734c6e023",
   "metadata": {
    "execution": {
     "iopub.execute_input": "2023-09-05T10:38:11.454721Z",
     "iopub.status.busy": "2023-09-05T10:38:11.454721Z",
     "iopub.status.idle": "2023-09-05T10:38:14.780790Z",
     "shell.execute_reply": "2023-09-05T10:38:14.780291Z",
     "shell.execute_reply.started": "2023-09-05T10:38:11.454721Z"
    }
   },
   "outputs": [
    {
     "name": "stdout",
     "output_type": "stream",
     "text": [
      "Body5 imported as component part5 with vlum num [5]\n"
     ]
    }
   ],
   "source": [
    "cmname = \"part5\"\n",
    "paraname = \"Body5\"\n",
    "pre.paraimport(paraname, parapath, cmname)"
   ]
  },
  {
   "cell_type": "code",
   "execution_count": 14,
   "id": "3342663a-5649-46d2-a977-192f77d93a28",
   "metadata": {
    "execution": {
     "iopub.execute_input": "2023-09-05T10:38:14.782554Z",
     "iopub.status.busy": "2023-09-05T10:38:14.782053Z",
     "iopub.status.idle": "2023-09-05T10:38:18.715764Z",
     "shell.execute_reply": "2023-09-05T10:38:18.715190Z",
     "shell.execute_reply.started": "2023-09-05T10:38:14.782554Z"
    }
   },
   "outputs": [
    {
     "name": "stdout",
     "output_type": "stream",
     "text": [
      "Body6 imported as component part6 with vlum num [6]\n"
     ]
    }
   ],
   "source": [
    "cmname = \"part6\"\n",
    "paraname = \"Body6\"\n",
    "pre.paraimport(paraname, parapath, cmname)"
   ]
  },
  {
   "cell_type": "code",
   "execution_count": 15,
   "id": "ca68c3e4-a3f1-4112-9c00-67d4f8b5111a",
   "metadata": {
    "execution": {
     "iopub.execute_input": "2023-09-05T10:38:18.717424Z",
     "iopub.status.busy": "2023-09-05T10:38:18.716921Z",
     "iopub.status.idle": "2023-09-05T10:38:18.746328Z",
     "shell.execute_reply": "2023-09-05T10:38:18.745328Z",
     "shell.execute_reply.started": "2023-09-05T10:38:18.717424Z"
    }
   },
   "outputs": [
    {
     "data": {
      "text/plain": [
       "You have already entered the general preprocessor (PREP7)."
      ]
     },
     "execution_count": 15,
     "metadata": {},
     "output_type": "execute_result"
    }
   ],
   "source": [
    "mapdl.reset()\n",
    "mapdl.replot()\n",
    "mapdl.prep7()"
   ]
  },
  {
   "cell_type": "code",
   "execution_count": 16,
   "id": "0f9d57b0-4582-40aa-9003-c836a6c307ed",
   "metadata": {
    "execution": {
     "iopub.execute_input": "2023-09-05T10:38:18.754492Z",
     "iopub.status.busy": "2023-09-05T10:38:18.753504Z",
     "iopub.status.idle": "2023-09-05T10:38:18.762474Z",
     "shell.execute_reply": "2023-09-05T10:38:18.761366Z",
     "shell.execute_reply.started": "2023-09-05T10:38:18.754492Z"
    }
   },
   "outputs": [
    {
     "data": {
      "text/plain": [
       "LIST SELECTED COMPONENTS\n",
       " ENTITY TYPE = VOLU\n",
       "\n",
       " *** MAPDL - ENGINEERING ANALYSIS SYSTEM  RELEASE 2022 R2          22.2     ***\n",
       " Ansys Mechanical Enterprise                       \n",
       " 00000000  VERSION=WINDOWS x64   16:08:18  SEP 05, 2023 CP=      2.906\n",
       "\n",
       "  File: C:\\Users\\pramod.kumar\\OneDrive - SIEMENSGAMESA\\Work\\ContactDetect\\pyAns\n",
       "\n",
       "\n",
       "\n",
       "    NAME                            SELE TYPE      SUBCOMPONENTS\n",
       "\n",
       "  PART1                             NO   VOLU\n",
       "                                               1\n",
       "  PART2                             NO   VOLU\n",
       "                                               2\n",
       "  PART3                             NO   VOLU\n",
       "                                               3\n",
       "  PART4                             NO   VOLU\n",
       "                                               4\n",
       "  PART5                             NO   VOLU\n",
       "                                               5\n",
       "  PART6                             YES  VOLU\n",
       "                                               6"
      ]
     },
     "execution_count": 16,
     "metadata": {},
     "output_type": "execute_result"
    }
   ],
   "source": [
    "mapdl.cmlist(name=\"ALL\", key=1, entity=\"VOLU\")"
   ]
  },
  {
   "cell_type": "code",
   "execution_count": 17,
   "id": "1df88f31-b2dc-4e5f-9985-9af5286a3e43",
   "metadata": {
    "execution": {
     "iopub.execute_input": "2023-09-05T10:38:18.772869Z",
     "iopub.status.busy": "2023-09-05T10:38:18.772370Z",
     "iopub.status.idle": "2023-09-05T10:38:18.794925Z",
     "shell.execute_reply": "2023-09-05T10:38:18.792398Z",
     "shell.execute_reply.started": "2023-09-05T10:38:18.772869Z"
    }
   },
   "outputs": [
    {
     "data": {
      "text/plain": [
       "ALSO SELECT ALL COMPONENTS"
      ]
     },
     "execution_count": 17,
     "metadata": {},
     "output_type": "execute_result"
    }
   ],
   "source": [
    "mapdl.cmsel(\"ALL\")"
   ]
  },
  {
   "cell_type": "code",
   "execution_count": 18,
   "id": "8bd540c0-c237-44f6-84c1-76b6fa18f8e4",
   "metadata": {
    "execution": {
     "iopub.execute_input": "2023-09-05T10:38:18.988694Z",
     "iopub.status.busy": "2023-09-05T10:38:18.985510Z",
     "iopub.status.idle": "2023-09-05T10:38:19.023906Z",
     "shell.execute_reply": "2023-09-05T10:38:19.022908Z",
     "shell.execute_reply.started": "2023-09-05T10:38:18.988240Z"
    }
   },
   "outputs": [],
   "source": [
    "mapdl.reset()\n",
    "mapdl.replot()"
   ]
  },
  {
   "cell_type": "code",
   "execution_count": 19,
   "id": "ac338b24-b0a7-43c5-b25c-d96dd41b7da3",
   "metadata": {
    "execution": {
     "iopub.execute_input": "2023-09-05T10:39:00.536527Z",
     "iopub.status.busy": "2023-09-05T10:39:00.536036Z",
     "iopub.status.idle": "2023-09-05T10:39:00.543872Z",
     "shell.execute_reply": "2023-09-05T10:39:00.542835Z",
     "shell.execute_reply.started": "2023-09-05T10:39:00.536527Z"
    }
   },
   "outputs": [],
   "source": [
    "# mapdl.view(wn=\"\", xv=\"1\", yv=\"1\", zv=\"0\")"
   ]
  },
  {
   "cell_type": "code",
   "execution_count": 20,
   "id": "b7380496-f985-4908-bf45-deff0a88a20a",
   "metadata": {
    "execution": {
     "iopub.execute_input": "2023-09-05T10:39:05.250951Z",
     "iopub.status.busy": "2023-09-05T10:39:05.250951Z",
     "iopub.status.idle": "2023-09-05T10:39:07.298926Z",
     "shell.execute_reply": "2023-09-05T10:39:07.298425Z",
     "shell.execute_reply.started": "2023-09-05T10:39:05.250951Z"
    }
   },
   "outputs": [
    {
     "name": "stderr",
     "output_type": "stream",
     "text": [
      "\n",
      "--------------------------------------------------------------------------------\n",
      "   !!! You are currently using trame@3 which may break your application !!!\n",
      "--------------------------------------------------------------------------------\n",
      "\n",
      " 1. trame@3 only provides by default trame.widgets.[html,client] and remove\n",
      "    everything else as implicit dependency. Those other widgets will still\n",
      "    exist and will be supported, but they will need to be defined as a\n",
      "    dependency of your application.\n",
      "\n",
      "       $ pip install trame-vtk trame-vuetify trame-plotly\n",
      "\n",
      "    Import paths are remaining the same.\n",
      "\n",
      "    For libraries like vuetify since they offer different API between\n",
      "    their vue2 and vue3 implementation, the widget name will reflect\n",
      "    which vue version they are referencing. But original naming will remain.\n",
      "\n",
      "       from trame.widgets import vuetify2, vuetify3\n",
      "\n",
      "\n",
      " 2. trame@3 aims to use vue3 as a new default. But to smooth the transition\n",
      "    we will maintain the server.client_type = 'vue2' default until\n",
      "    December 2023 which is the vue2 EOL.\n",
      "\n",
      "    After that time, the new default will be switched to 'vue3'.\n",
      "    Vue2 will still work 'forever' and many of the new widgets will be\n",
      "    written to support both versions.\n",
      "\n",
      "    If you have a 'vue2' application and don't need or want to update your code,\n",
      "    you can still use trame@3 with vue2 by setting `server.client_type='vue2'.\n",
      "\n",
      " Actions items\n",
      " ~~~~~~~~~~~~~\n",
      "   a. Make sure you set `server.client_type` to either 'vue2' or 'vue3'.\n",
      "   b. List the expected dependencies or have a 'trame<3' dependency\n",
      "\n",
      "--------------------------------------------------------------------------------\n",
      " => Current client_type default: vue2\n",
      "--------------------------------------------------------------------------------\n",
      "\n"
     ]
    },
    {
     "data": {
      "application/vnd.jupyter.widget-view+json": {
       "model_id": "ec6ee255443549ca98fbcaf3478d98fa",
       "version_major": 2,
       "version_minor": 0
      },
      "text/plain": [
       "Widget(value=\"<iframe src='http://localhost:55961/index.html?ui=P_0x1eea8aa34c0_0&reconnect=auto' style='width…"
      ]
     },
     "metadata": {},
     "output_type": "display_data"
    }
   ],
   "source": [
    "mapdl.cmsel(\"ALL\")\n",
    "mapdl.vplot(color_areas=False, vtk=True, show_line_numbering=False, quality=2)"
   ]
  },
  {
   "cell_type": "markdown",
   "id": "2ebf7517-0555-4dd6-a88c-83ebcad92ddc",
   "metadata": {},
   "source": [
    "## Contact area detect"
   ]
  },
  {
   "cell_type": "code",
   "execution_count": 21,
   "id": "0fd43eda-7d3e-428d-a506-c198af9a5b6e",
   "metadata": {
    "execution": {
     "iopub.execute_input": "2023-09-05T10:39:10.523316Z",
     "iopub.status.busy": "2023-09-05T10:39:10.523316Z",
     "iopub.status.idle": "2023-09-05T10:39:10.541902Z",
     "shell.execute_reply": "2023-09-05T10:39:10.540683Z",
     "shell.execute_reply.started": "2023-09-05T10:39:10.523316Z"
    }
   },
   "outputs": [],
   "source": [
    "def find_contact_area(cm1, cm2):\n",
    "    conta_targ = pre.contact_between_cm(cm1, cm2)\n",
    "    print(conta_targ)\n",
    "    area1 = list(conta_targ.keys())\n",
    "    # print(area1)\n",
    "    for area_1 in area1:\n",
    "        for area_2 in conta_targ[area_1]:\n",
    "            print(area_1, area_2)\n",
    "            overlap, eq_area = pre.check_overlap(area_1, area_2)\n",
    "\n",
    "            if overlap == 1:\n",
    "                if eq_area == 1:\n",
    "                    print(f\"Complete overlap {area_1}, {area_2}\")\n",
    "                    break\n",
    "                    # pass\n",
    "                else:\n",
    "                    print(f\"centroid overlap ,(not area value) {area_1}, {area_2}\")\n",
    "\n",
    "            else:\n",
    "                vect21, max_ind = pre.area21_kp_vector(area_1, area_2)\n",
    "                l1, l2, l3, l4 = cd.vector_spred(vect21, max_ind)\n",
    "                case1 = l1 * l2 * l3 * l4\n",
    "                print(l1, l2, l3, l4 )\n",
    "\n",
    "                vect21, max_ind = pre.area21_kp_vector(area_2, area_1)\n",
    "                l1, l2, l3, l4 = cd.vector_spred(vect21, max_ind)\n",
    "                case2 = l1 * l2 * l3 * l4\n",
    "                print(l1, l2, l3, l4 )\n",
    "                \n",
    "                if case1 == 0 and case2 == 0:\n",
    "                    print(f\"no overlap {area_1}, {area_2}\")\n",
    "\n",
    "                if case1 != 0 and case2 == 0:\n",
    "                    print(f\"enclosed overlap {area_1}, {area_2}\")\n",
    "\n",
    "                if case1 == 0 and case2 != 0:\n",
    "                    print(f\"enclosed overlap {area_1}, {area_2}\")\n",
    "\n",
    "                if case1 != 0 and case2 != 0:\n",
    "                    print(f\"partial overlap {area_1}, {area_2}\")"
   ]
  },
  {
   "cell_type": "markdown",
   "id": "ff5c30e6-8250-4273-b871-67235a5a3a5d",
   "metadata": {},
   "source": [
    "---"
   ]
  },
  {
   "cell_type": "markdown",
   "id": "6f5da279-de12-48ac-8cac-98949827a3be",
   "metadata": {},
   "source": [
    "complete overlap"
   ]
  },
  {
   "cell_type": "code",
   "execution_count": 28,
   "id": "bf45c168-5437-43a4-9ae9-241df6c25371",
   "metadata": {
    "execution": {
     "iopub.execute_input": "2023-09-05T10:53:25.660356Z",
     "iopub.status.busy": "2023-09-05T10:53:25.660356Z",
     "iopub.status.idle": "2023-09-05T10:54:00.550579Z",
     "shell.execute_reply": "2023-09-05T10:54:00.549290Z",
     "shell.execute_reply.started": "2023-09-05T10:53:25.660356Z"
    }
   },
   "outputs": [
    {
     "data": {
      "application/vnd.jupyter.widget-view+json": {
       "model_id": "fbded66f2fe94a2e861762f2e874e5f0",
       "version_major": 2,
       "version_minor": 0
      },
      "text/plain": [
       "Widget(value=\"<iframe src='http://localhost:55961/index.html?ui=P_0x1eed18061c0_4&reconnect=auto' style='width…"
      ]
     },
     "metadata": {},
     "output_type": "display_data"
    }
   ],
   "source": [
    "mapdl.cmsel(type_=\"S\", name=\"PART3\", entity=\"VOLU\")\n",
    "mapdl.cmsel(type_=\"A\", name=\"PART4\", entity=\"VOLU\")\n",
    "mapdl.allsel(labt=\"BELOW \", entity=\"VOLU\")\n",
    "mapdl.vplot(show_area_numbering=True,)"
   ]
  },
  {
   "cell_type": "code",
   "execution_count": 29,
   "id": "8388b7a3-516a-44ca-8add-28a301ff55e0",
   "metadata": {
    "execution": {
     "iopub.execute_input": "2023-09-05T10:54:14.108555Z",
     "iopub.status.busy": "2023-09-05T10:54:14.107557Z",
     "iopub.status.idle": "2023-09-05T10:54:52.477343Z",
     "shell.execute_reply": "2023-09-05T10:54:52.476844Z",
     "shell.execute_reply.started": "2023-09-05T10:54:14.108555Z"
    }
   },
   "outputs": [
    {
     "name": "stdout",
     "output_type": "stream",
     "text": [
      "{12: array([18]), 13: array([21]), 14: array([20]), 15: array([19]), 16: array([], dtype=int32), 17: array([22])}\n",
      "12 18\n",
      "4 33 0 4\n",
      "3 0 65 15\n",
      "no overlap 12, 18\n",
      "13 21\n",
      "56 0 0 93\n",
      "15 9 0 16\n",
      "no overlap 13, 21\n",
      "14 20\n",
      "164 139 0 130\n",
      "69 263 0 8\n",
      "no overlap 14, 20\n",
      "15 19\n",
      "50 31 8 202\n",
      "5 72 0 246\n",
      "enclosed overlap 15, 19\n",
      "17 22\n",
      "Complete overlap 17, 22\n"
     ]
    }
   ],
   "source": [
    "cm1 = \"PART3\"\n",
    "cm2 = \"PART4\"\n",
    "find_contact_area(cm1, cm2)"
   ]
  },
  {
   "cell_type": "code",
   "execution_count": 27,
   "id": "d093d91d-dba7-4dd4-b12e-ca2a1ae75859",
   "metadata": {
    "execution": {
     "iopub.execute_input": "2023-09-05T10:53:14.128244Z",
     "iopub.status.busy": "2023-09-05T10:53:14.128244Z",
     "iopub.status.idle": "2023-09-05T10:53:16.057082Z",
     "shell.execute_reply": "2023-09-05T10:53:16.055901Z",
     "shell.execute_reply.started": "2023-09-05T10:53:14.128244Z"
    }
   },
   "outputs": [
    {
     "data": {
      "application/vnd.jupyter.widget-view+json": {
       "model_id": "511659d0ac9549c983e67d1c454afafe",
       "version_major": 2,
       "version_minor": 0
      },
      "text/plain": [
       "Widget(value=\"<iframe src='http://localhost:55961/index.html?ui=P_0x1eec592b7c0_3&reconnect=auto' style='width…"
      ]
     },
     "metadata": {},
     "output_type": "display_data"
    }
   ],
   "source": [
    "mapdl.cmsel(type_=\"S\", name=\"PART2\", entity=\"VOLU\")\n",
    "mapdl.cmsel(type_=\"A\", name=\"PART1\", entity=\"VOLU\")\n",
    "mapdl.allsel(labt=\"BELOW \", entity=\"VOLU\")\n",
    "mapdl.vplot()"
   ]
  },
  {
   "cell_type": "code",
   "execution_count": 26,
   "id": "c03734cb-8b23-439f-bfd3-0e38a795764d",
   "metadata": {
    "execution": {
     "iopub.execute_input": "2023-09-05T10:52:46.942819Z",
     "iopub.status.busy": "2023-09-05T10:52:46.942819Z",
     "iopub.status.idle": "2023-09-05T10:52:47.849904Z",
     "shell.execute_reply": "2023-09-05T10:52:47.849401Z",
     "shell.execute_reply.started": "2023-09-05T10:52:46.942819Z"
    }
   },
   "outputs": [
    {
     "name": "stdout",
     "output_type": "stream",
     "text": [
      "{1: array([], dtype=int32), 2: array([], dtype=int32), 3: array([], dtype=int32), 4: array([ 5, 10])}\n",
      "4 5\n",
      "Complete overlap 4, 5\n"
     ]
    }
   ],
   "source": [
    "cm1 = \"PART1\"\n",
    "cm2 = \"PART2\"\n",
    "find_contact_area(cm1, cm2)"
   ]
  },
  {
   "cell_type": "markdown",
   "id": "6d9893e1-e61a-480e-8beb-b5d75bfb249d",
   "metadata": {},
   "source": [
    "---"
   ]
  },
  {
   "cell_type": "markdown",
   "id": "5986d3cd-adce-4c78-b4fc-d616d3114f68",
   "metadata": {},
   "source": [
    "no overlap"
   ]
  },
  {
   "cell_type": "code",
   "execution_count": 26,
   "id": "a293fef4-8d13-44d8-85c0-bddc6d35043c",
   "metadata": {
    "execution": {
     "iopub.execute_input": "2023-09-05T08:48:43.203489Z",
     "iopub.status.busy": "2023-09-05T08:48:43.202483Z",
     "iopub.status.idle": "2023-09-05T08:48:45.750795Z",
     "shell.execute_reply": "2023-09-05T08:48:45.749796Z",
     "shell.execute_reply.started": "2023-09-05T08:48:43.203489Z"
    }
   },
   "outputs": [
    {
     "data": {
      "application/vnd.jupyter.widget-view+json": {
       "model_id": "4abf2d9631e247de98b64f830e2e4777",
       "version_major": 2,
       "version_minor": 0
      },
      "text/plain": [
       "Widget(value=\"<iframe src='http://localhost:62507/index.html?ui=P_0x20dd796e5e0_3&reconnect=auto' style='width…"
      ]
     },
     "metadata": {},
     "output_type": "display_data"
    }
   ],
   "source": [
    "mapdl.cmsel(type_=\"S\", name=\"PART5\", entity=\"VOLU\")\n",
    "mapdl.cmsel(type_=\"A\", name=\"PART6\", entity=\"VOLU\")\n",
    "mapdl.allsel(labt=\"BELOW \", entity=\"VOLU\")\n",
    "mapdl.vplot(color_areas=True, vtk=True)"
   ]
  },
  {
   "cell_type": "code",
   "execution_count": 27,
   "id": "e08ceb28-9a22-41bb-b670-1b48e1c4a293",
   "metadata": {
    "execution": {
     "iopub.execute_input": "2023-09-05T08:48:50.423406Z",
     "iopub.status.busy": "2023-09-05T08:48:50.423406Z",
     "iopub.status.idle": "2023-09-05T08:48:52.157336Z",
     "shell.execute_reply": "2023-09-05T08:48:52.156908Z",
     "shell.execute_reply.started": "2023-09-05T08:48:50.423406Z"
    }
   },
   "outputs": [
    {
     "name": "stdout",
     "output_type": "stream",
     "text": [
      "{31: array([], dtype=int32), 32: array([], dtype=int32), 33: array([], dtype=int32), 34: array([], dtype=int32), 35: array([], dtype=int32), 36: array([], dtype=int32), 37: array([], dtype=int32)}\n"
     ]
    }
   ],
   "source": [
    "cm1 = \"PART6\"\n",
    "cm2 = \"PART5\"\n",
    "find_contact_area(cm1, cm2)"
   ]
  },
  {
   "cell_type": "markdown",
   "id": "5f230a4b-0d9b-40bf-8d62-a47c943063ef",
   "metadata": {},
   "source": [
    "---"
   ]
  },
  {
   "cell_type": "markdown",
   "id": "b3528b81-031f-4bb7-8240-4e852bdd85c8",
   "metadata": {},
   "source": [
    "Partial overlap"
   ]
  },
  {
   "cell_type": "code",
   "execution_count": 19,
   "id": "e5c13dca-22a9-47c7-a61a-005d0beb13c0",
   "metadata": {
    "execution": {
     "iopub.execute_input": "2023-09-05T10:29:01.175094Z",
     "iopub.status.busy": "2023-09-05T10:29:01.174094Z",
     "iopub.status.idle": "2023-09-05T10:29:01.947572Z",
     "shell.execute_reply": "2023-09-05T10:29:01.945474Z",
     "shell.execute_reply.started": "2023-09-05T10:29:01.175094Z"
    }
   },
   "outputs": [
    {
     "data": {
      "application/vnd.jupyter.widget-view+json": {
       "model_id": "dc7b89b0efcb42a5a192e2b3cb848d77",
       "version_major": 2,
       "version_minor": 0
      },
      "text/plain": [
       "Widget(value=\"<iframe src='http://localhost:53572/index.html?ui=P_0x2ebef83b670_1&reconnect=auto' style='width…"
      ]
     },
     "metadata": {},
     "output_type": "display_data"
    }
   ],
   "source": [
    "mapdl.cmsel(type_=\"S\", name=\"PART3\", entity=\"VOLU\")\n",
    "mapdl.cmsel(type_=\"A\", name=\"PART5\", entity=\"VOLU\")\n",
    "mapdl.allsel(labt=\"BELOW \", entity=\"VOLU\")\n",
    "# mapdl.vplot(color_areas=True, vtk=True)\n",
    "mapdl.vplot(show_area_numbering=True,\n",
    "            show_line_numbering=True\n",
    "           )"
   ]
  },
  {
   "cell_type": "code",
   "execution_count": 25,
   "id": "5fff774e-ad53-4613-9e3b-028087a0ec3f",
   "metadata": {
    "execution": {
     "iopub.execute_input": "2023-09-05T10:41:41.987431Z",
     "iopub.status.busy": "2023-09-05T10:41:41.987431Z",
     "iopub.status.idle": "2023-09-05T10:41:56.944217Z",
     "shell.execute_reply": "2023-09-05T10:41:56.943119Z",
     "shell.execute_reply.started": "2023-09-05T10:41:41.987431Z"
    },
    "scrolled": true
   },
   "outputs": [
    {
     "name": "stdout",
     "output_type": "stream",
     "text": [
      "{24: array([], dtype=int32), 25: array([], dtype=int32), 26: array([], dtype=int32), 27: array([14]), 28: array([], dtype=int32), 29: array([], dtype=int32), 30: array([15])}\n",
      "27 14\n",
      "51 0 64 24\n",
      "30 0 9 86\n",
      "no overlap 27, 14\n",
      "30 15\n",
      "73 2 20 8\n",
      "10 261 1 7\n",
      "partial overlap 30, 15\n"
     ]
    }
   ],
   "source": [
    "cm1 = \"PART5\"\n",
    "cm2 = \"PART3\"\n",
    "find_contact_area(cm1, cm2)"
   ]
  },
  {
   "cell_type": "code",
   "execution_count": 22,
   "id": "5dc009b0-b988-47c9-a9be-120d6ffdaf71",
   "metadata": {
    "execution": {
     "iopub.execute_input": "2023-09-05T10:39:31.181561Z",
     "iopub.status.busy": "2023-09-05T10:39:31.181561Z",
     "iopub.status.idle": "2023-09-05T10:39:31.907492Z",
     "shell.execute_reply": "2023-09-05T10:39:31.907492Z",
     "shell.execute_reply.started": "2023-09-05T10:39:31.181561Z"
    }
   },
   "outputs": [
    {
     "data": {
      "application/vnd.jupyter.widget-view+json": {
       "model_id": "3abc9cbbfa944f3c9110ae8fb4b59a76",
       "version_major": 2,
       "version_minor": 0
      },
      "text/plain": [
       "Widget(value=\"<iframe src='http://localhost:55961/index.html?ui=P_0x1eeb40ec7f0_1&reconnect=auto' style='width…"
      ]
     },
     "metadata": {},
     "output_type": "display_data"
    }
   ],
   "source": [
    "mapdl.cmsel(type_=\"S\", name=\"PART5\", entity=\"VOLU\")\n",
    "mapdl.cmsel(type_=\"A\", name=\"PART4\", entity=\"VOLU\")\n",
    "# mapdl.cmsel(type_=\"A\", name=\"PART4\", entity=\"VOLU\")\n",
    "mapdl.allsel(labt=\"BELOW \", entity=\"VOLU\")\n",
    "# mapdl.vplot(color_areas=True, vtk=True)\n",
    "mapdl.vplot(\n",
    "    # show_area_numbering=True,\n",
    "            show_line_numbering=True\n",
    "           )"
   ]
  },
  {
   "cell_type": "code",
   "execution_count": 24,
   "id": "fef8d620-6247-467f-8b34-2d39c948cbbe",
   "metadata": {
    "execution": {
     "iopub.execute_input": "2023-09-05T10:40:06.108470Z",
     "iopub.status.busy": "2023-09-05T10:40:06.107497Z",
     "iopub.status.idle": "2023-09-05T10:40:11.551831Z",
     "shell.execute_reply": "2023-09-05T10:40:11.550121Z",
     "shell.execute_reply.started": "2023-09-05T10:40:06.108470Z"
    }
   },
   "outputs": [
    {
     "data": {
      "application/vnd.jupyter.widget-view+json": {
       "model_id": "c01efe22c57d4775876c489396919620",
       "version_major": 2,
       "version_minor": 0
      },
      "text/plain": [
       "Widget(value=\"<iframe src='http://localhost:55961/index.html?ui=P_0x1eec3fdf250_2&reconnect=auto' style='width…"
      ]
     },
     "metadata": {},
     "output_type": "display_data"
    }
   ],
   "source": [
    "mapdl.cmsel(type_=\"S\", name=\"PART5\", entity=\"VOLU\")\n",
    "mapdl.cmsel(type_=\"A\", name=\"PART4\", entity=\"VOLU\")\n",
    "# mapdl.cmsel(type_=\"A\", name=\"PART4\", entity=\"VOLU\")\n",
    "mapdl.allsel(labt=\"BELOW \", entity=\"VOLU\")\n",
    "# mapdl.vplot(color_areas=True, vtk=True)\n",
    "mapdl.vplot(\n",
    "    # show_area_numbering=True,\n",
    "            show_line_numbering=True\n",
    "           )"
   ]
  },
  {
   "cell_type": "code",
   "execution_count": 35,
   "id": "c33a542e-b8ec-4cf8-8565-261bcac8a7f1",
   "metadata": {
    "execution": {
     "iopub.execute_input": "2023-09-05T10:21:31.219858Z",
     "iopub.status.busy": "2023-09-05T10:21:31.218854Z",
     "iopub.status.idle": "2023-09-05T10:21:31.239470Z",
     "shell.execute_reply": "2023-09-05T10:21:31.238970Z",
     "shell.execute_reply.started": "2023-09-05T10:21:31.219858Z"
    }
   },
   "outputs": [
    {
     "data": {
      "text/plain": [
       "DIVIDE LINE    732 INTO      10 LINES\n",
       "\n",
       " NUMBER OF LINES DIVIDED =      1"
      ]
     },
     "execution_count": 35,
     "metadata": {},
     "output_type": "execute_result"
    }
   ],
   "source": [
    "# mapdl.ldiv(732, ndiv=10)"
   ]
  },
  {
   "cell_type": "code",
   "execution_count": 33,
   "id": "32e8d49a-1905-4ee3-80da-41aef782e5c8",
   "metadata": {
    "execution": {
     "iopub.execute_input": "2023-09-05T10:17:52.801061Z",
     "iopub.status.busy": "2023-09-05T10:17:52.800561Z",
     "iopub.status.idle": "2023-09-05T10:17:52.816593Z",
     "shell.execute_reply": "2023-09-05T10:17:52.815360Z",
     "shell.execute_reply.started": "2023-09-05T10:17:52.801061Z"
    }
   },
   "outputs": [
    {
     "data": {
      "text/plain": [
       "SET DIVISIONS ON LINE   732 (IF SELECTED)\n",
       "      FOR ELEMENT SIZE =  0.12500E-03    SPACING RATIO =     1.0000"
      ]
     },
     "execution_count": 33,
     "metadata": {},
     "output_type": "execute_result"
    }
   ],
   "source": [
    "# mapdl.lesize(nl1=732, size=0.1250E-03)"
   ]
  },
  {
   "cell_type": "code",
   "execution_count": 23,
   "id": "777c17ff-8987-48b8-a769-622436a4596e",
   "metadata": {
    "execution": {
     "iopub.execute_input": "2023-09-05T10:39:46.890433Z",
     "iopub.status.busy": "2023-09-05T10:39:46.890433Z",
     "iopub.status.idle": "2023-09-05T10:39:59.397611Z",
     "shell.execute_reply": "2023-09-05T10:39:59.396398Z",
     "shell.execute_reply.started": "2023-09-05T10:39:46.890433Z"
    },
    "scrolled": true
   },
   "outputs": [
    {
     "name": "stdout",
     "output_type": "stream",
     "text": [
      "{24: array([], dtype=int32), 25: array([], dtype=int32), 26: array([], dtype=int32), 27: array([20]), 28: array([], dtype=int32), 29: array([], dtype=int32), 30: array([19])}\n",
      "27 20\n",
      "27 0 34 18\n",
      "88 10 0 27\n",
      "no overlap 27, 20\n",
      "30 19\n",
      "73 2 20 8\n",
      "15 205 57 2\n",
      "partial overlap 30, 19\n"
     ]
    }
   ],
   "source": [
    "cm1 = \"PART5\"\n",
    "cm2 = \"PART4\"\n",
    "find_contact_area(cm1, cm2)"
   ]
  },
  {
   "cell_type": "code",
   "execution_count": null,
   "id": "570268be-e171-40e2-8c8d-8d35e8a6d92e",
   "metadata": {},
   "outputs": [],
   "source": []
  },
  {
   "cell_type": "markdown",
   "id": "466f7b25-e8c1-432d-afee-56d67207d821",
   "metadata": {},
   "source": [
    "---"
   ]
  },
  {
   "cell_type": "code",
   "execution_count": null,
   "id": "578547cf-abe5-414d-a4b9-6ffd893b1c9d",
   "metadata": {},
   "outputs": [],
   "source": []
  },
  {
   "cell_type": "code",
   "execution_count": null,
   "id": "9eba63bf-0e75-41b6-87ba-b93f0b7c504e",
   "metadata": {},
   "outputs": [],
   "source": []
  },
  {
   "cell_type": "code",
   "execution_count": null,
   "id": "47bcc21d-9767-455e-8f8a-a578e10142b2",
   "metadata": {},
   "outputs": [],
   "source": []
  },
  {
   "cell_type": "code",
   "execution_count": 25,
   "id": "db45228c-fbbc-4899-ba92-ce16e734b427",
   "metadata": {
    "execution": {
     "iopub.execute_input": "2023-09-05T10:37:16.791359Z",
     "iopub.status.busy": "2023-09-05T10:37:16.791359Z",
     "iopub.status.idle": "2023-09-05T10:37:21.105565Z",
     "shell.execute_reply": "2023-09-05T10:37:21.104566Z",
     "shell.execute_reply.started": "2023-09-05T10:37:16.791359Z"
    }
   },
   "outputs": [],
   "source": [
    "mapdl.exit()"
   ]
  },
  {
   "cell_type": "code",
   "execution_count": null,
   "id": "3f28cfc0-bb05-41bb-aa12-297ca7bb4b39",
   "metadata": {},
   "outputs": [],
   "source": []
  },
  {
   "cell_type": "code",
   "execution_count": null,
   "id": "2414eea0-4e75-4fee-988c-5f933bc14536",
   "metadata": {},
   "outputs": [],
   "source": []
  }
 ],
 "metadata": {
  "kernelspec": {
   "display_name": "Python 3 (ipykernel)",
   "language": "python",
   "name": "python3"
  },
  "language_info": {
   "codemirror_mode": {
    "name": "ipython",
    "version": 3
   },
   "file_extension": ".py",
   "mimetype": "text/x-python",
   "name": "python",
   "nbconvert_exporter": "python",
   "pygments_lexer": "ipython3",
   "version": "3.9.1"
  }
 },
 "nbformat": 4,
 "nbformat_minor": 5
}
