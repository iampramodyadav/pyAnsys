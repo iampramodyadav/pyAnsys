{
 "cells": [
  {
   "cell_type": "code",
   "execution_count": 1,
   "metadata": {
    "ExecuteTime": {
     "end_time": "2023-05-26T06:49:44.094371Z",
     "start_time": "2023-05-26T06:49:43.110598Z"
    },
    "editable": true,
    "slideshow": {
     "slide_type": ""
    },
    "tags": []
   },
   "outputs": [],
   "source": [
    "%matplotlib inline"
   ]
  },
  {
   "cell_type": "code",
   "execution_count": 2,
   "metadata": {
    "ExecuteTime": {
     "end_time": "2023-05-26T06:49:45.684409Z",
     "start_time": "2023-05-26T06:49:44.829399Z"
    }
   },
   "outputs": [],
   "source": [
    "import pyvista"
   ]
  },
  {
   "cell_type": "markdown",
   "metadata": {},
   "source": [
    "Static Simulation {#ref_static_example}\n",
    "=================\n",
    "\n",
    "In this script static simulation is processed to extract results like\n",
    "stress, displacement. Selecting sub parts of the results by scoping on\n",
    "specific nodes or elements is also displayed here.\n"
   ]
  },
  {
   "cell_type": "markdown",
   "metadata": {},
   "source": [
    "Perform required imports\n",
    "========================\n",
    "\n",
    "Perform required imports. \\# This example uses a supplied file that you\n",
    "can get by importing the DPF `examples` package.\n"
   ]
  },
  {
   "cell_type": "code",
   "execution_count": 3,
   "metadata": {
    "ExecuteTime": {
     "end_time": "2023-07-26T11:10:45.845249Z",
     "start_time": "2023-07-26T11:10:42.417233Z"
    }
   },
   "outputs": [],
   "source": [
    "from ansys.dpf import post\n",
    "from ansys.dpf.post import examples"
   ]
  },
  {
   "cell_type": "markdown",
   "metadata": {},
   "source": [
    "Get `Simulation` object\n",
    "=======================\n",
    "\n",
    "Get the `Simulation` object that allows access to the result. The\n",
    "`Simulation` object must be instantiated with the path for the result\n",
    "file. For example, `\"C:/Users/user/my_result.rst\"` on Windows or\n",
    "`\"/home/user/my_result.rst\"` on Linux.\n"
   ]
  },
  {
   "cell_type": "code",
   "execution_count": 4,
   "metadata": {
    "ExecuteTime": {
     "end_time": "2023-07-26T11:11:05.151346Z",
     "start_time": "2023-07-26T11:11:04.753347Z"
    },
    "editable": true,
    "slideshow": {
     "slide_type": ""
    },
    "tags": []
   },
   "outputs": [
    {
     "name": "stdout",
     "output_type": "stream",
     "text": [
      "Static Mechanical Simulation.\n",
      "\n",
      "\n",
      "Data Sources\n",
      "------------------------------\n",
      "C:\\Users\\pramod.kumar\\PythonEnv\\myenv\\lib\\site-packages\\ansys\\dpf\\core\\examples\\static.rst\n",
      "\n",
      "DPF Model\n",
      "------------------------------\n",
      "Static analysis\n",
      "Unit system: MKS: m, kg, N, s, V, A, degC\n",
      "Physics Type: Mecanic\n",
      "Available results:\n",
      "     -  displacement: Nodal Displacement\n",
      "     -  reaction_force: Nodal Force   \n",
      "     -  stress: ElementalNodal Stress \n",
      "     -  elemental_volume: Elemental Volume\n",
      "     -  stiffness_matrix_energy: Elemental Energy-stiffness matrix\n",
      "     -  artificial_hourglass_energy: Elemental Hourglass Energy\n",
      "     -  thermal_dissipation_energy: Elemental thermal dissipation energy\n",
      "     -  kinetic_energy: Elemental Kinetic Energy\n",
      "     -  co_energy: Elemental co-energy\n",
      "     -  incremental_energy: Elemental incremental energy\n",
      "     -  elastic_strain: ElementalNodal Strain\n",
      "     -  structural_temperature: ElementalNodal Temperature\n",
      "------------------------------\n",
      "DPF  Meshed Region: \n",
      "  81 nodes \n",
      "  8 elements \n",
      "  Unit: m \n",
      "  With solid (3D) elements\n",
      "------------------------------\n",
      "DPF  Time/Freq Support: \n",
      "  Number of sets: 1 \n",
      "Cumulative     Time (s)       LoadStep       Substep         \n",
      "1              1.000000       1              1               \n",
      "\n",
      "\n",
      "                 results       U (m)\n",
      "                 set_ids           1\n",
      "    node_ids  components            \n",
      "           1           X -3.3190e-22\n",
      "                       Y -6.9357e-09\n",
      "                       Z -3.2862e-22\n",
      "          26           X  2.2303e-09\n",
      "                       Y -7.1421e-09\n",
      "                       Z -2.9208e-22\n",
      "         ...\n",
      "\n"
     ]
    }
   ],
   "source": [
    "example_path = examples.find_static_rst()\n",
    "simulation = post.load_simulation(example_path)\n",
    "\n",
    "# for no autocompletion, this line is equivalent to:\n",
    "simulation = post.StaticMechanicalSimulation(example_path)\n",
    "\n",
    "# print the simulation to get an overview of what's available\n",
    "print(simulation)\n",
    "\n",
    "displacement = simulation.displacement()\n",
    "print(displacement)"
   ]
  },
  {
   "cell_type": "markdown",
   "metadata": {},
   "source": [
    "Select sub parts of displacement\n",
    "================================\n"
   ]
  },
  {
   "cell_type": "code",
   "execution_count": 5,
   "metadata": {
    "ExecuteTime": {
     "end_time": "2023-07-26T11:11:15.126398Z",
     "start_time": "2023-07-26T11:11:08.396364Z"
    }
   },
   "outputs": [
    {
     "name": "stdout",
     "output_type": "stream",
     "text": [
      "\n",
      "                 results       U (m)\n",
      "                 set_ids           1\n",
      "    node_ids  components            \n",
      "           1           X -3.3190e-22\n",
      "          26              2.2303e-09\n",
      "          14              0.0000e+00\n",
      "          12              0.0000e+00\n",
      "           2             -3.0117e-22\n",
      "          27              2.0908e-09\n",
      "         ...\n",
      "\n",
      "\n",
      "     results     U_X (m)\n",
      "     set_ids           1\n",
      "    node_ids            \n",
      "           1 -3.3190e-22\n",
      "          26  2.2303e-09\n",
      "          14  0.0000e+00\n",
      "          12  0.0000e+00\n",
      "           2 -3.0117e-22\n",
      "          27  2.0908e-09\n",
      "         ...\n",
      "\n"
     ]
    },
    {
     "data": {
      "application/vnd.jupyter.widget-view+json": {
       "model_id": "dc5e70c21a524b099d66e4a83dd18462",
       "version_major": 2,
       "version_minor": 0
      },
      "text/plain": [
       "Widget(value=\"<iframe src='http://localhost:52149/index.html?ui=P_0x20f1bd74f10_0&reconnect=auto' style='width…"
      ]
     },
     "metadata": {},
     "output_type": "display_data"
    },
    {
     "data": {
      "application/vnd.jupyter.widget-view+json": {
       "model_id": "602740ad68744b839bf5c0556850faf2",
       "version_major": 2,
       "version_minor": 0
      },
      "text/plain": [
       "Widget(value=\"<iframe src='http://localhost:52149/index.html?ui=P_0x20f16b3ffa0_1&reconnect=auto' style='width…"
      ]
     },
     "metadata": {},
     "output_type": "display_data"
    },
    {
     "name": "stdout",
     "output_type": "stream",
     "text": [
      "\n",
      "                 results       U (m)\n",
      "                 set_ids           1\n",
      "    node_ids  components            \n",
      "           1           X -3.3190e-22\n",
      "                       Y -6.9357e-09\n",
      "                       Z -3.2862e-22\n",
      "          10           X  0.0000e+00\n",
      "                       Y  0.0000e+00\n",
      "                       Z  0.0000e+00\n",
      "\n"
     ]
    }
   ],
   "source": [
    "# To get X displacements\n",
    "x_displacement = displacement.select(components=\"X\")\n",
    "print(x_displacement)\n",
    "\n",
    "\n",
    "# equivalent to\n",
    "x_displacement = simulation.displacement(components=[\"X\"])\n",
    "print(x_displacement)\n",
    "\n",
    "# plot\n",
    "x_displacement.plot()\n",
    "\n",
    "# extract displacement on specific nodes\n",
    "nodes_displacement = displacement.select(node_ids=[1, 10, 100])\n",
    "nodes_displacement.plot()\n",
    "\n",
    "# equivalent to:\n",
    "nodes_displacement = simulation.displacement(node_ids=[1, 10, 100])\n",
    "print(nodes_displacement)"
   ]
  },
  {
   "cell_type": "markdown",
   "metadata": {},
   "source": [
    "Compute total displacement (norm)\n",
    "=================================\n",
    "\n",
    "Compute the norm of displacement on a selection of nodes\n"
   ]
  },
  {
   "cell_type": "code",
   "execution_count": 6,
   "metadata": {
    "ExecuteTime": {
     "end_time": "2023-07-26T11:11:32.208488Z",
     "start_time": "2023-07-26T11:11:31.617481Z"
    }
   },
   "outputs": [
    {
     "name": "stdout",
     "output_type": "stream",
     "text": [
      "\n",
      "     results     U_N (m)\n",
      "     set_ids           1\n",
      "    node_ids            \n",
      "          11  0.0000e+00\n",
      "          12  0.0000e+00\n",
      "          13  0.0000e+00\n",
      "          14  0.0000e+00\n",
      "          15  0.0000e+00\n",
      "          16  0.0000e+00\n",
      "         ...\n",
      "\n"
     ]
    },
    {
     "data": {
      "application/vnd.jupyter.widget-view+json": {
       "model_id": "990f6d33d9a844b4b0a9186aa3947914",
       "version_major": 2,
       "version_minor": 0
      },
      "text/plain": [
       "Widget(value=\"<iframe src='http://localhost:52149/index.html?ui=P_0x20f1bd74670_2&reconnect=auto' style='width…"
      ]
     },
     "metadata": {},
     "output_type": "display_data"
    }
   ],
   "source": [
    "nodes_displacement = simulation.displacement(\n",
    "    node_ids=simulation.mesh.node_ids[10:], norm=True\n",
    ")\n",
    "print(nodes_displacement)\n",
    "nodes_displacement.plot()"
   ]
  },
  {
   "cell_type": "markdown",
   "metadata": {},
   "source": [
    "Extract tensor stress, apply averaging, compute equivalent\n",
    "==========================================================\n",
    "\n",
    "Extract raw elemental nodal stresses from the rst file\n"
   ]
  },
  {
   "cell_type": "code",
   "execution_count": 6,
   "metadata": {
    "ExecuteTime": {
     "end_time": "2023-07-26T11:11:41.300535Z",
     "start_time": "2023-07-26T11:11:40.077528Z"
    }
   },
   "outputs": [
    {
     "name": "stdout",
     "output_type": "stream",
     "text": [
      "\n",
      "                 results      S (Pa)\n",
      "                 set_ids           1\n",
      " element_ids  components            \n",
      "           5      XX (1) -3.7836e+03\n",
      "                  YY (1) -1.2110e+05\n",
      "                  ZZ (1) -3.7836e+03\n",
      "                  XY (1)  5.3318e+02\n",
      "                  YZ (1) -5.3318e+02\n",
      "                  XZ (1) -1.4540e+02\n",
      "         ...\n",
      "\n",
      "\n",
      "                 results      S (Pa)\n",
      "                 set_ids           1\n",
      "    node_ids  components            \n",
      "           1          XX -4.8113e+03\n",
      "                      YY -1.1280e+05\n",
      "                      ZZ -4.8113e+03\n",
      "                      XY  0.0000e+00\n",
      "                      YZ  0.0000e+00\n",
      "                      XZ  0.0000e+00\n",
      "         ...\n",
      "\n",
      "\n",
      "                 results      S (Pa)\n",
      "                 set_ids           1\n",
      " element_ids  components            \n",
      "           5          XX -1.2071e+04\n",
      "                      YY -1.0000e+05\n",
      "                      ZZ -1.2071e+04\n",
      "                      XY  3.8006e+03\n",
      "                      YZ -3.8006e+03\n",
      "                      XZ  4.1885e+01\n",
      "         ...\n",
      "\n"
     ]
    },
    {
     "data": {
      "application/vnd.jupyter.widget-view+json": {
       "model_id": "e34455f129d74bcba774473717e93293",
       "version_major": 2,
       "version_minor": 0
      },
      "text/plain": [
       "Widget(value=\"<iframe src='http://localhost:58769/index.html?ui=P_0x1f0543679a0_3&reconnect=auto' style='width…"
      ]
     },
     "metadata": {},
     "output_type": "display_data"
    },
    {
     "name": "stdout",
     "output_type": "stream",
     "text": [
      "\n",
      "     results   S_VM (Pa)\n",
      "     set_ids           1\n",
      "    node_ids            \n",
      "           1  1.0799e+05\n",
      "          26  1.0460e+05\n",
      "          14  8.1283e+04\n",
      "          12  5.2324e+04\n",
      "           2  1.0460e+05\n",
      "          27  1.0006e+05\n",
      "         ...\n",
      "\n"
     ]
    },
    {
     "data": {
      "application/vnd.jupyter.widget-view+json": {
       "model_id": "c10779a70409406da7f5e1e7e605fa76",
       "version_major": 2,
       "version_minor": 0
      },
      "text/plain": [
       "Widget(value=\"<iframe src='http://localhost:58769/index.html?ui=P_0x1f05436cf40_4&reconnect=auto' style='width…"
      ]
     },
     "metadata": {},
     "output_type": "display_data"
    }
   ],
   "source": [
    "elem_nodal_stress = simulation.stress()\n",
    "print(elem_nodal_stress)\n",
    "\n",
    "# Compute nodal stresses from the result file\n",
    "nodal_stress = simulation.stress_nodal()\n",
    "print(nodal_stress)\n",
    "\n",
    "# Compute elemental stresses from the result file\n",
    "elemental_stress = simulation.stress_elemental()\n",
    "print(elemental_stress)\n",
    "\n",
    "# Extract elemental stresses on specific elements\n",
    "elemental_stress = elemental_stress.select(element_ids=[5, 6, 7])\n",
    "elemental_stress.plot()\n",
    "\n",
    "# Compute nodal eqv stresses from the result file\n",
    "eqv_stress = simulation.stress_eqv_von_mises_nodal()\n",
    "print(eqv_stress)\n",
    "eqv_stress.plot()"
   ]
  },
  {
   "cell_type": "code",
   "execution_count": null,
   "metadata": {},
   "outputs": [],
   "source": []
  }
 ],
 "metadata": {
  "kernelspec": {
   "display_name": "Python 3 (ipykernel)",
   "language": "python",
   "name": "python3"
  },
  "language_info": {
   "codemirror_mode": {
    "name": "ipython",
    "version": 3
   },
   "file_extension": ".py",
   "mimetype": "text/x-python",
   "name": "python",
   "nbconvert_exporter": "python",
   "pygments_lexer": "ipython3",
   "version": "3.8.1"
  },
  "toc": {
   "base_numbering": 1,
   "nav_menu": {},
   "number_sections": true,
   "sideBar": true,
   "skip_h1_title": false,
   "title_cell": "Table of Contents",
   "title_sidebar": "Contents",
   "toc_cell": false,
   "toc_position": {},
   "toc_section_display": true,
   "toc_window_display": false
  }
 },
 "nbformat": 4,
 "nbformat_minor": 4
}
